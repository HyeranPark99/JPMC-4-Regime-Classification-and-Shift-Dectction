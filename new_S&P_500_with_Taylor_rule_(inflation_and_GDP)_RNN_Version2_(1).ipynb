{
  "cells": [
    {
      "cell_type": "markdown",
      "id": "2f1c1266",
      "metadata": {
        "id": "2f1c1266"
      },
      "source": [
        "## Questions List \n",
        "#### corelation between btc and sp500\n",
        "#### k_regeime parameter setting ( Negative number result)\n",
        "#### Additional Model Trying \n"
      ]
    },
    {
      "cell_type": "code",
      "execution_count": null,
      "id": "0d02c3b1",
      "metadata": {
        "id": "0d02c3b1"
      },
      "outputs": [],
      "source": [
        "\n",
        "import pandas as pd\n",
        "import numpy as np\n",
        "import statsmodels.api as sm\n",
        "import matplotlib.pyplot as plt\n",
        "\n",
        "from pandas_datareader.data import DataReader\n",
        "from datetime import datetime\n",
        "\n",
        "import requests\n",
        "from io import StringIO\n",
        "from io import BytesIO\n",
        "\n",
        "from matplotlib.pyplot import figure"
      ]
    },
    {
      "cell_type": "code",
      "execution_count": null,
      "id": "a73a2871",
      "metadata": {
        "id": "a73a2871",
        "outputId": "56c11b83-019a-4824-c211-f7b7a9f09bce",
        "colab": {
          "base_uri": "https://localhost:8080/"
        }
      },
      "outputs": [
        {
          "output_type": "stream",
          "name": "stdout",
          "text": [
            "Looking in indexes: https://pypi.org/simple, https://us-python.pkg.dev/colab-wheels/public/simple/\n",
            "Requirement already satisfied: statsmodels in /usr/local/lib/python3.8/dist-packages (0.12.2)\n",
            "Requirement already satisfied: numpy>=1.15 in /usr/local/lib/python3.8/dist-packages (from statsmodels) (1.21.6)\n",
            "Requirement already satisfied: pandas>=0.21 in /usr/local/lib/python3.8/dist-packages (from statsmodels) (1.3.5)\n",
            "Requirement already satisfied: scipy>=1.1 in /usr/local/lib/python3.8/dist-packages (from statsmodels) (1.7.3)\n",
            "Requirement already satisfied: patsy>=0.5 in /usr/local/lib/python3.8/dist-packages (from statsmodels) (0.5.3)\n",
            "Requirement already satisfied: pytz>=2017.3 in /usr/local/lib/python3.8/dist-packages (from pandas>=0.21->statsmodels) (2022.6)\n",
            "Requirement already satisfied: python-dateutil>=2.7.3 in /usr/local/lib/python3.8/dist-packages (from pandas>=0.21->statsmodels) (2.8.2)\n",
            "Requirement already satisfied: six in /usr/local/lib/python3.8/dist-packages (from patsy>=0.5->statsmodels) (1.15.0)\n"
          ]
        }
      ],
      "source": [
        "pip install statsmodels "
      ]
    },
    {
      "cell_type": "markdown",
      "id": "6yaAKHM6jjrZ",
      "metadata": {
        "id": "6yaAKHM6jjrZ"
      },
      "source": [
        "## **Bitcoin Data:**"
      ]
    },
    {
      "cell_type": "code",
      "execution_count": null,
      "id": "de4e2f16",
      "metadata": {
        "colab": {
          "base_uri": "https://localhost:8080/"
        },
        "id": "de4e2f16",
        "outputId": "1ed5e9b8-bfda-4be4-f3d4-906f8344fdcd"
      },
      "outputs": [
        {
          "output_type": "stream",
          "name": "stdout",
          "text": [
            "(1794, 6)\n"
          ]
        }
      ],
      "source": [
        "#import dataset\n",
        "response_btc = requests.get('https://docs.google.com/spreadsheets/d/1J3F1-OjCNr28bSjr4eBw3ywQaAAImKeFC2Kd-wNgBYo/export?format=csv')\n",
        "assert response_btc.status_code == 200, 'Wrong status code'\n",
        "data = response_btc.content\n",
        "df_btc = pd.read_csv(BytesIO(data))\n",
        "print(df_btc.shape)"
      ]
    },
    {
      "cell_type": "code",
      "execution_count": null,
      "id": "e813ff97",
      "metadata": {
        "colab": {
          "base_uri": "https://localhost:8080/"
        },
        "id": "e813ff97",
        "outputId": "2314816c-edae-476e-feb7-9cc96f1adcb3"
      },
      "outputs": [
        {
          "output_type": "execute_result",
          "data": {
            "text/plain": [
              "0"
            ]
          },
          "metadata": {},
          "execution_count": 3
        }
      ],
      "source": [
        "df_btc['Date'] = pd.to_datetime(df_btc['Date'])\n",
        "\n",
        "#Check null value:\n",
        "df_btc['Date'].isna().sum()"
      ]
    },
    {
      "cell_type": "code",
      "source": [
        "df_btc"
      ],
      "metadata": {
        "colab": {
          "base_uri": "https://localhost:8080/",
          "height": 424
        },
        "id": "yAMd59Jjcz_R",
        "outputId": "999dc795-f13d-487c-fb87-598fa703e08f"
      },
      "id": "yAMd59Jjcz_R",
      "execution_count": null,
      "outputs": [
        {
          "output_type": "execute_result",
          "data": {
            "text/plain": [
              "                    Date  Open  High  Low     Close  Volume\n",
              "0    2018-01-01 23:58:00   NaN   NaN  NaN  13480.01     NaN\n",
              "1    2018-01-02 23:58:00   NaN   NaN  NaN  14781.51     NaN\n",
              "2    2018-01-03 23:58:00   NaN   NaN  NaN  15098.14     NaN\n",
              "3    2018-01-04 23:58:00   NaN   NaN  NaN  15144.99     NaN\n",
              "4    2018-01-05 23:58:00   NaN   NaN  NaN  16960.01     NaN\n",
              "...                  ...   ...   ...  ...       ...     ...\n",
              "1789 2022-11-25 23:58:00   NaN   NaN  NaN  16498.40     NaN\n",
              "1790 2022-11-26 23:58:00   NaN   NaN  NaN  16452.20     NaN\n",
              "1791 2022-11-27 23:58:00   NaN   NaN  NaN  16420.90     NaN\n",
              "1792 2022-11-28 23:58:00   NaN   NaN  NaN  16206.20     NaN\n",
              "1793 2022-11-29 23:58:00   NaN   NaN  NaN  16432.40     NaN\n",
              "\n",
              "[1794 rows x 6 columns]"
            ],
            "text/html": [
              "\n",
              "  <div id=\"df-4e01b247-b302-4b28-8d81-4369dc1b1f1a\">\n",
              "    <div class=\"colab-df-container\">\n",
              "      <div>\n",
              "<style scoped>\n",
              "    .dataframe tbody tr th:only-of-type {\n",
              "        vertical-align: middle;\n",
              "    }\n",
              "\n",
              "    .dataframe tbody tr th {\n",
              "        vertical-align: top;\n",
              "    }\n",
              "\n",
              "    .dataframe thead th {\n",
              "        text-align: right;\n",
              "    }\n",
              "</style>\n",
              "<table border=\"1\" class=\"dataframe\">\n",
              "  <thead>\n",
              "    <tr style=\"text-align: right;\">\n",
              "      <th></th>\n",
              "      <th>Date</th>\n",
              "      <th>Open</th>\n",
              "      <th>High</th>\n",
              "      <th>Low</th>\n",
              "      <th>Close</th>\n",
              "      <th>Volume</th>\n",
              "    </tr>\n",
              "  </thead>\n",
              "  <tbody>\n",
              "    <tr>\n",
              "      <th>0</th>\n",
              "      <td>2018-01-01 23:58:00</td>\n",
              "      <td>NaN</td>\n",
              "      <td>NaN</td>\n",
              "      <td>NaN</td>\n",
              "      <td>13480.01</td>\n",
              "      <td>NaN</td>\n",
              "    </tr>\n",
              "    <tr>\n",
              "      <th>1</th>\n",
              "      <td>2018-01-02 23:58:00</td>\n",
              "      <td>NaN</td>\n",
              "      <td>NaN</td>\n",
              "      <td>NaN</td>\n",
              "      <td>14781.51</td>\n",
              "      <td>NaN</td>\n",
              "    </tr>\n",
              "    <tr>\n",
              "      <th>2</th>\n",
              "      <td>2018-01-03 23:58:00</td>\n",
              "      <td>NaN</td>\n",
              "      <td>NaN</td>\n",
              "      <td>NaN</td>\n",
              "      <td>15098.14</td>\n",
              "      <td>NaN</td>\n",
              "    </tr>\n",
              "    <tr>\n",
              "      <th>3</th>\n",
              "      <td>2018-01-04 23:58:00</td>\n",
              "      <td>NaN</td>\n",
              "      <td>NaN</td>\n",
              "      <td>NaN</td>\n",
              "      <td>15144.99</td>\n",
              "      <td>NaN</td>\n",
              "    </tr>\n",
              "    <tr>\n",
              "      <th>4</th>\n",
              "      <td>2018-01-05 23:58:00</td>\n",
              "      <td>NaN</td>\n",
              "      <td>NaN</td>\n",
              "      <td>NaN</td>\n",
              "      <td>16960.01</td>\n",
              "      <td>NaN</td>\n",
              "    </tr>\n",
              "    <tr>\n",
              "      <th>...</th>\n",
              "      <td>...</td>\n",
              "      <td>...</td>\n",
              "      <td>...</td>\n",
              "      <td>...</td>\n",
              "      <td>...</td>\n",
              "      <td>...</td>\n",
              "    </tr>\n",
              "    <tr>\n",
              "      <th>1789</th>\n",
              "      <td>2022-11-25 23:58:00</td>\n",
              "      <td>NaN</td>\n",
              "      <td>NaN</td>\n",
              "      <td>NaN</td>\n",
              "      <td>16498.40</td>\n",
              "      <td>NaN</td>\n",
              "    </tr>\n",
              "    <tr>\n",
              "      <th>1790</th>\n",
              "      <td>2022-11-26 23:58:00</td>\n",
              "      <td>NaN</td>\n",
              "      <td>NaN</td>\n",
              "      <td>NaN</td>\n",
              "      <td>16452.20</td>\n",
              "      <td>NaN</td>\n",
              "    </tr>\n",
              "    <tr>\n",
              "      <th>1791</th>\n",
              "      <td>2022-11-27 23:58:00</td>\n",
              "      <td>NaN</td>\n",
              "      <td>NaN</td>\n",
              "      <td>NaN</td>\n",
              "      <td>16420.90</td>\n",
              "      <td>NaN</td>\n",
              "    </tr>\n",
              "    <tr>\n",
              "      <th>1792</th>\n",
              "      <td>2022-11-28 23:58:00</td>\n",
              "      <td>NaN</td>\n",
              "      <td>NaN</td>\n",
              "      <td>NaN</td>\n",
              "      <td>16206.20</td>\n",
              "      <td>NaN</td>\n",
              "    </tr>\n",
              "    <tr>\n",
              "      <th>1793</th>\n",
              "      <td>2022-11-29 23:58:00</td>\n",
              "      <td>NaN</td>\n",
              "      <td>NaN</td>\n",
              "      <td>NaN</td>\n",
              "      <td>16432.40</td>\n",
              "      <td>NaN</td>\n",
              "    </tr>\n",
              "  </tbody>\n",
              "</table>\n",
              "<p>1794 rows × 6 columns</p>\n",
              "</div>\n",
              "      <button class=\"colab-df-convert\" onclick=\"convertToInteractive('df-4e01b247-b302-4b28-8d81-4369dc1b1f1a')\"\n",
              "              title=\"Convert this dataframe to an interactive table.\"\n",
              "              style=\"display:none;\">\n",
              "        \n",
              "  <svg xmlns=\"http://www.w3.org/2000/svg\" height=\"24px\"viewBox=\"0 0 24 24\"\n",
              "       width=\"24px\">\n",
              "    <path d=\"M0 0h24v24H0V0z\" fill=\"none\"/>\n",
              "    <path d=\"M18.56 5.44l.94 2.06.94-2.06 2.06-.94-2.06-.94-.94-2.06-.94 2.06-2.06.94zm-11 1L8.5 8.5l.94-2.06 2.06-.94-2.06-.94L8.5 2.5l-.94 2.06-2.06.94zm10 10l.94 2.06.94-2.06 2.06-.94-2.06-.94-.94-2.06-.94 2.06-2.06.94z\"/><path d=\"M17.41 7.96l-1.37-1.37c-.4-.4-.92-.59-1.43-.59-.52 0-1.04.2-1.43.59L10.3 9.45l-7.72 7.72c-.78.78-.78 2.05 0 2.83L4 21.41c.39.39.9.59 1.41.59.51 0 1.02-.2 1.41-.59l7.78-7.78 2.81-2.81c.8-.78.8-2.07 0-2.86zM5.41 20L4 18.59l7.72-7.72 1.47 1.35L5.41 20z\"/>\n",
              "  </svg>\n",
              "      </button>\n",
              "      \n",
              "  <style>\n",
              "    .colab-df-container {\n",
              "      display:flex;\n",
              "      flex-wrap:wrap;\n",
              "      gap: 12px;\n",
              "    }\n",
              "\n",
              "    .colab-df-convert {\n",
              "      background-color: #E8F0FE;\n",
              "      border: none;\n",
              "      border-radius: 50%;\n",
              "      cursor: pointer;\n",
              "      display: none;\n",
              "      fill: #1967D2;\n",
              "      height: 32px;\n",
              "      padding: 0 0 0 0;\n",
              "      width: 32px;\n",
              "    }\n",
              "\n",
              "    .colab-df-convert:hover {\n",
              "      background-color: #E2EBFA;\n",
              "      box-shadow: 0px 1px 2px rgba(60, 64, 67, 0.3), 0px 1px 3px 1px rgba(60, 64, 67, 0.15);\n",
              "      fill: #174EA6;\n",
              "    }\n",
              "\n",
              "    [theme=dark] .colab-df-convert {\n",
              "      background-color: #3B4455;\n",
              "      fill: #D2E3FC;\n",
              "    }\n",
              "\n",
              "    [theme=dark] .colab-df-convert:hover {\n",
              "      background-color: #434B5C;\n",
              "      box-shadow: 0px 1px 3px 1px rgba(0, 0, 0, 0.15);\n",
              "      filter: drop-shadow(0px 1px 2px rgba(0, 0, 0, 0.3));\n",
              "      fill: #FFFFFF;\n",
              "    }\n",
              "  </style>\n",
              "\n",
              "      <script>\n",
              "        const buttonEl =\n",
              "          document.querySelector('#df-4e01b247-b302-4b28-8d81-4369dc1b1f1a button.colab-df-convert');\n",
              "        buttonEl.style.display =\n",
              "          google.colab.kernel.accessAllowed ? 'block' : 'none';\n",
              "\n",
              "        async function convertToInteractive(key) {\n",
              "          const element = document.querySelector('#df-4e01b247-b302-4b28-8d81-4369dc1b1f1a');\n",
              "          const dataTable =\n",
              "            await google.colab.kernel.invokeFunction('convertToInteractive',\n",
              "                                                     [key], {});\n",
              "          if (!dataTable) return;\n",
              "\n",
              "          const docLinkHtml = 'Like what you see? Visit the ' +\n",
              "            '<a target=\"_blank\" href=https://colab.research.google.com/notebooks/data_table.ipynb>data table notebook</a>'\n",
              "            + ' to learn more about interactive tables.';\n",
              "          element.innerHTML = '';\n",
              "          dataTable['output_type'] = 'display_data';\n",
              "          await google.colab.output.renderOutput(dataTable, element);\n",
              "          const docLink = document.createElement('div');\n",
              "          docLink.innerHTML = docLinkHtml;\n",
              "          element.appendChild(docLink);\n",
              "        }\n",
              "      </script>\n",
              "    </div>\n",
              "  </div>\n",
              "  "
            ]
          },
          "metadata": {},
          "execution_count": 5
        }
      ]
    },
    {
      "cell_type": "code",
      "execution_count": null,
      "id": "f206ed29",
      "metadata": {
        "id": "f206ed29",
        "outputId": "f20578c5-1d11-48a7-bcf8-3d1cccf35bb5",
        "colab": {
          "base_uri": "https://localhost:8080/",
          "height": 424
        }
      },
      "outputs": [
        {
          "output_type": "execute_result",
          "data": {
            "text/plain": [
              "          Date  Open  High  Low      Close  Volume\n",
              "0   2018-01-07   0.0   0.0  0.0  108737.87     0.0\n",
              "1   2018-01-14   0.0   0.0  0.0   99322.15     0.0\n",
              "2   2018-01-21   0.0   0.0  0.0   83445.51     0.0\n",
              "3   2018-01-28   0.0   0.0  0.0   78008.32     0.0\n",
              "4   2018-02-04   0.0   0.0  0.0   66427.66     0.0\n",
              "..         ...   ...   ...  ...        ...     ...\n",
              "252 2022-11-06   0.0   0.0  0.0  144684.40     0.0\n",
              "253 2022-11-13   0.0   0.0  0.0  122488.00     0.0\n",
              "254 2022-11-20   0.0   0.0  0.0  116412.90     0.0\n",
              "255 2022-11-27   0.0   0.0  0.0  114465.50     0.0\n",
              "256 2022-12-04   0.0   0.0  0.0   32638.60     0.0\n",
              "\n",
              "[257 rows x 6 columns]"
            ],
            "text/html": [
              "\n",
              "  <div id=\"df-1b8c5ba7-9d1b-41db-b30a-54d058f65ea1\">\n",
              "    <div class=\"colab-df-container\">\n",
              "      <div>\n",
              "<style scoped>\n",
              "    .dataframe tbody tr th:only-of-type {\n",
              "        vertical-align: middle;\n",
              "    }\n",
              "\n",
              "    .dataframe tbody tr th {\n",
              "        vertical-align: top;\n",
              "    }\n",
              "\n",
              "    .dataframe thead th {\n",
              "        text-align: right;\n",
              "    }\n",
              "</style>\n",
              "<table border=\"1\" class=\"dataframe\">\n",
              "  <thead>\n",
              "    <tr style=\"text-align: right;\">\n",
              "      <th></th>\n",
              "      <th>Date</th>\n",
              "      <th>Open</th>\n",
              "      <th>High</th>\n",
              "      <th>Low</th>\n",
              "      <th>Close</th>\n",
              "      <th>Volume</th>\n",
              "    </tr>\n",
              "  </thead>\n",
              "  <tbody>\n",
              "    <tr>\n",
              "      <th>0</th>\n",
              "      <td>2018-01-07</td>\n",
              "      <td>0.0</td>\n",
              "      <td>0.0</td>\n",
              "      <td>0.0</td>\n",
              "      <td>108737.87</td>\n",
              "      <td>0.0</td>\n",
              "    </tr>\n",
              "    <tr>\n",
              "      <th>1</th>\n",
              "      <td>2018-01-14</td>\n",
              "      <td>0.0</td>\n",
              "      <td>0.0</td>\n",
              "      <td>0.0</td>\n",
              "      <td>99322.15</td>\n",
              "      <td>0.0</td>\n",
              "    </tr>\n",
              "    <tr>\n",
              "      <th>2</th>\n",
              "      <td>2018-01-21</td>\n",
              "      <td>0.0</td>\n",
              "      <td>0.0</td>\n",
              "      <td>0.0</td>\n",
              "      <td>83445.51</td>\n",
              "      <td>0.0</td>\n",
              "    </tr>\n",
              "    <tr>\n",
              "      <th>3</th>\n",
              "      <td>2018-01-28</td>\n",
              "      <td>0.0</td>\n",
              "      <td>0.0</td>\n",
              "      <td>0.0</td>\n",
              "      <td>78008.32</td>\n",
              "      <td>0.0</td>\n",
              "    </tr>\n",
              "    <tr>\n",
              "      <th>4</th>\n",
              "      <td>2018-02-04</td>\n",
              "      <td>0.0</td>\n",
              "      <td>0.0</td>\n",
              "      <td>0.0</td>\n",
              "      <td>66427.66</td>\n",
              "      <td>0.0</td>\n",
              "    </tr>\n",
              "    <tr>\n",
              "      <th>...</th>\n",
              "      <td>...</td>\n",
              "      <td>...</td>\n",
              "      <td>...</td>\n",
              "      <td>...</td>\n",
              "      <td>...</td>\n",
              "      <td>...</td>\n",
              "    </tr>\n",
              "    <tr>\n",
              "      <th>252</th>\n",
              "      <td>2022-11-06</td>\n",
              "      <td>0.0</td>\n",
              "      <td>0.0</td>\n",
              "      <td>0.0</td>\n",
              "      <td>144684.40</td>\n",
              "      <td>0.0</td>\n",
              "    </tr>\n",
              "    <tr>\n",
              "      <th>253</th>\n",
              "      <td>2022-11-13</td>\n",
              "      <td>0.0</td>\n",
              "      <td>0.0</td>\n",
              "      <td>0.0</td>\n",
              "      <td>122488.00</td>\n",
              "      <td>0.0</td>\n",
              "    </tr>\n",
              "    <tr>\n",
              "      <th>254</th>\n",
              "      <td>2022-11-20</td>\n",
              "      <td>0.0</td>\n",
              "      <td>0.0</td>\n",
              "      <td>0.0</td>\n",
              "      <td>116412.90</td>\n",
              "      <td>0.0</td>\n",
              "    </tr>\n",
              "    <tr>\n",
              "      <th>255</th>\n",
              "      <td>2022-11-27</td>\n",
              "      <td>0.0</td>\n",
              "      <td>0.0</td>\n",
              "      <td>0.0</td>\n",
              "      <td>114465.50</td>\n",
              "      <td>0.0</td>\n",
              "    </tr>\n",
              "    <tr>\n",
              "      <th>256</th>\n",
              "      <td>2022-12-04</td>\n",
              "      <td>0.0</td>\n",
              "      <td>0.0</td>\n",
              "      <td>0.0</td>\n",
              "      <td>32638.60</td>\n",
              "      <td>0.0</td>\n",
              "    </tr>\n",
              "  </tbody>\n",
              "</table>\n",
              "<p>257 rows × 6 columns</p>\n",
              "</div>\n",
              "      <button class=\"colab-df-convert\" onclick=\"convertToInteractive('df-1b8c5ba7-9d1b-41db-b30a-54d058f65ea1')\"\n",
              "              title=\"Convert this dataframe to an interactive table.\"\n",
              "              style=\"display:none;\">\n",
              "        \n",
              "  <svg xmlns=\"http://www.w3.org/2000/svg\" height=\"24px\"viewBox=\"0 0 24 24\"\n",
              "       width=\"24px\">\n",
              "    <path d=\"M0 0h24v24H0V0z\" fill=\"none\"/>\n",
              "    <path d=\"M18.56 5.44l.94 2.06.94-2.06 2.06-.94-2.06-.94-.94-2.06-.94 2.06-2.06.94zm-11 1L8.5 8.5l.94-2.06 2.06-.94-2.06-.94L8.5 2.5l-.94 2.06-2.06.94zm10 10l.94 2.06.94-2.06 2.06-.94-2.06-.94-.94-2.06-.94 2.06-2.06.94z\"/><path d=\"M17.41 7.96l-1.37-1.37c-.4-.4-.92-.59-1.43-.59-.52 0-1.04.2-1.43.59L10.3 9.45l-7.72 7.72c-.78.78-.78 2.05 0 2.83L4 21.41c.39.39.9.59 1.41.59.51 0 1.02-.2 1.41-.59l7.78-7.78 2.81-2.81c.8-.78.8-2.07 0-2.86zM5.41 20L4 18.59l7.72-7.72 1.47 1.35L5.41 20z\"/>\n",
              "  </svg>\n",
              "      </button>\n",
              "      \n",
              "  <style>\n",
              "    .colab-df-container {\n",
              "      display:flex;\n",
              "      flex-wrap:wrap;\n",
              "      gap: 12px;\n",
              "    }\n",
              "\n",
              "    .colab-df-convert {\n",
              "      background-color: #E8F0FE;\n",
              "      border: none;\n",
              "      border-radius: 50%;\n",
              "      cursor: pointer;\n",
              "      display: none;\n",
              "      fill: #1967D2;\n",
              "      height: 32px;\n",
              "      padding: 0 0 0 0;\n",
              "      width: 32px;\n",
              "    }\n",
              "\n",
              "    .colab-df-convert:hover {\n",
              "      background-color: #E2EBFA;\n",
              "      box-shadow: 0px 1px 2px rgba(60, 64, 67, 0.3), 0px 1px 3px 1px rgba(60, 64, 67, 0.15);\n",
              "      fill: #174EA6;\n",
              "    }\n",
              "\n",
              "    [theme=dark] .colab-df-convert {\n",
              "      background-color: #3B4455;\n",
              "      fill: #D2E3FC;\n",
              "    }\n",
              "\n",
              "    [theme=dark] .colab-df-convert:hover {\n",
              "      background-color: #434B5C;\n",
              "      box-shadow: 0px 1px 3px 1px rgba(0, 0, 0, 0.15);\n",
              "      filter: drop-shadow(0px 1px 2px rgba(0, 0, 0, 0.3));\n",
              "      fill: #FFFFFF;\n",
              "    }\n",
              "  </style>\n",
              "\n",
              "      <script>\n",
              "        const buttonEl =\n",
              "          document.querySelector('#df-1b8c5ba7-9d1b-41db-b30a-54d058f65ea1 button.colab-df-convert');\n",
              "        buttonEl.style.display =\n",
              "          google.colab.kernel.accessAllowed ? 'block' : 'none';\n",
              "\n",
              "        async function convertToInteractive(key) {\n",
              "          const element = document.querySelector('#df-1b8c5ba7-9d1b-41db-b30a-54d058f65ea1');\n",
              "          const dataTable =\n",
              "            await google.colab.kernel.invokeFunction('convertToInteractive',\n",
              "                                                     [key], {});\n",
              "          if (!dataTable) return;\n",
              "\n",
              "          const docLinkHtml = 'Like what you see? Visit the ' +\n",
              "            '<a target=\"_blank\" href=https://colab.research.google.com/notebooks/data_table.ipynb>data table notebook</a>'\n",
              "            + ' to learn more about interactive tables.';\n",
              "          element.innerHTML = '';\n",
              "          dataTable['output_type'] = 'display_data';\n",
              "          await google.colab.output.renderOutput(dataTable, element);\n",
              "          const docLink = document.createElement('div');\n",
              "          docLink.innerHTML = docLinkHtml;\n",
              "          element.appendChild(docLink);\n",
              "        }\n",
              "      </script>\n",
              "    </div>\n",
              "  </div>\n",
              "  "
            ]
          },
          "metadata": {},
          "execution_count": 4
        }
      ],
      "source": [
        "monthly_btc = df_btc.resample('W', label='right', \n",
        "                            closed='right', on='Date').sum().reset_index().sort_values(by='Date')\n",
        "monthly_btc"
      ]
    },
    {
      "cell_type": "code",
      "execution_count": null,
      "id": "ab7785cf",
      "metadata": {
        "id": "ab7785cf",
        "outputId": "1b075ef0-1002-424d-dd81-095b113aa72a",
        "colab": {
          "base_uri": "https://localhost:8080/",
          "height": 244
        }
      },
      "outputs": [
        {
          "output_type": "execute_result",
          "data": {
            "text/plain": [
              "<matplotlib.axes._subplots.AxesSubplot at 0x7fb6bd2371f0>"
            ]
          },
          "metadata": {},
          "execution_count": 84
        },
        {
          "output_type": "display_data",
          "data": {
            "text/plain": [
              "<Figure size 864x216 with 1 Axes>"
            ],
            "image/png": "[encoded data removed]"
          },
          "metadata": {
            "needs_background": "light"
          }
        }
      ],
      "source": [
        "from datetime import date, timedelta\n",
        "import calendar\n",
        "btc_list = monthly_btc['Close'].tolist()\n",
        "\n",
        "#Draw the graph for S&P 500\n",
        "date = datetime.now()\n",
        "month = date.replace(day = calendar.monthrange(date.year, date.month)[1])\n",
        "#d1 = today.strftime(\"%m/%d/%y\")\n",
        "btc_m = pd.Series(btc_list, index= pd.date_range(\"1/1/2018\",\"11/30/2022\", freq = \"M\"))\n",
        "btc_m.plot(title=\"BTC rate\", figsize= (12,3))\n"
      ]
    },
    {
      "cell_type": "code",
      "execution_count": null,
      "id": "L5kSCQQJfkeX",
      "metadata": {
        "colab": {
          "base_uri": "https://localhost:8080/",
          "height": 690
        },
        "id": "L5kSCQQJfkeX",
        "outputId": "d1c32665-d60e-4a39-df19-421229af2d6b"
      },
      "outputs": [
        {
          "output_type": "execute_result",
          "data": {
            "text/plain": [
              "<class 'statsmodels.iolib.summary.Summary'>\n",
              "\"\"\"\n",
              "                        Markov Switching Model Results                        \n",
              "==============================================================================\n",
              "Dep. Variable:                      y   No. Observations:                   59\n",
              "Model:               MarkovRegression   Log Likelihood                -817.725\n",
              "Date:                Fri, 02 Dec 2022   AIC                           1655.450\n",
              "Time:                        22:33:03   BIC                           1676.225\n",
              "Sample:                    01-31-2018   HQIC                          1663.560\n",
              "                         - 11-30-2022                                         \n",
              "Covariance Type:               approx                                         \n",
              "                             Regime 0 parameters                              \n",
              "==============================================================================\n",
              "                 coef    std err          z      P>|z|      [0.025      0.975]\n",
              "------------------------------------------------------------------------------\n",
              "const       2.872e+05   9.54e-08   3.01e+12      0.000    2.87e+05    2.87e+05\n",
              "                             Regime 1 parameters                              \n",
              "==============================================================================\n",
              "                 coef    std err          z      P>|z|      [0.025      0.975]\n",
              "------------------------------------------------------------------------------\n",
              "const       3.202e+05   1.66e-07   1.93e+12      0.000     3.2e+05     3.2e+05\n",
              "                             Regime 2 parameters                              \n",
              "==============================================================================\n",
              "                 coef    std err          z      P>|z|      [0.025      0.975]\n",
              "------------------------------------------------------------------------------\n",
              "const       1.223e+06   1.89e-08   6.46e+13      0.000    1.22e+06    1.22e+06\n",
              "                           Non-switching parameters                           \n",
              "==============================================================================\n",
              "                 coef    std err          z      P>|z|      [0.025      0.975]\n",
              "------------------------------------------------------------------------------\n",
              "sigma2      7.433e+10   3.27e-14   2.27e+24      0.000    7.43e+10    7.43e+10\n",
              "                         Regime transition parameters                         \n",
              "==============================================================================\n",
              "                 coef    std err          z      P>|z|      [0.025      0.975]\n",
              "------------------------------------------------------------------------------\n",
              "p[0->0]        0.9751      0.034     28.535      0.000       0.908       1.042\n",
              "p[1->0]        0.0574      0.111      0.515      0.607      -0.161       0.276\n",
              "p[2->0]     1.523e-44        nan        nan        nan         nan         nan\n",
              "p[0->1]     1.231e-12        nan        nan        nan         nan         nan\n",
              "p[1->1]        0.9426      0.172      5.487      0.000       0.606       1.279\n",
              "p[2->1]        0.0669      0.058      1.161      0.246      -0.046       0.180\n",
              "==============================================================================\n",
              "\n",
              "Warnings:\n",
              "[1] Covariance matrix calculated using numerical (complex-step) differentiation.\n",
              "[2] Covariance matrix is singular or near-singular, with condition number 2.19e+40. Standard errors may be unstable.\n",
              "\"\"\""
            ],
            "text/html": [
              "<table class=\"simpletable\">\n",
              "<caption>Markov Switching Model Results</caption>\n",
              "<tr>\n",
              "  <th>Dep. Variable:</th>           <td>y</td>        <th>  No. Observations:  </th>    <td>59</td>   \n",
              "</tr>\n",
              "<tr>\n",
              "  <th>Model:</th>           <td>MarkovRegression</td> <th>  Log Likelihood     </th> <td>-817.725</td>\n",
              "</tr>\n",
              "<tr>\n",
              "  <th>Date:</th>            <td>Fri, 02 Dec 2022</td> <th>  AIC                </th> <td>1655.450</td>\n",
              "</tr>\n",
              "<tr>\n",
              "  <th>Time:</th>                <td>22:33:03</td>     <th>  BIC                </th> <td>1676.225</td>\n",
              "</tr>\n",
              "<tr>\n",
              "  <th>Sample:</th>             <td>01-31-2018</td>    <th>  HQIC               </th> <td>1663.560</td>\n",
              "</tr>\n",
              "<tr>\n",
              "  <th></th>                   <td>- 11-30-2022</td>   <th>                     </th>     <td> </td>   \n",
              "</tr>\n",
              "<tr>\n",
              "  <th>Covariance Type:</th>      <td>approx</td>      <th>                     </th>     <td> </td>   \n",
              "</tr>\n",
              "</table>\n",
              "<table class=\"simpletable\">\n",
              "<caption>Regime 0 parameters</caption>\n",
              "<tr>\n",
              "    <td></td>       <th>coef</th>     <th>std err</th>      <th>z</th>      <th>P>|z|</th>  <th>[0.025</th>    <th>0.975]</th>  \n",
              "</tr>\n",
              "<tr>\n",
              "  <th>const</th> <td> 2.872e+05</td> <td> 9.54e-08</td> <td> 3.01e+12</td> <td> 0.000</td> <td> 2.87e+05</td> <td> 2.87e+05</td>\n",
              "</tr>\n",
              "</table>\n",
              "<table class=\"simpletable\">\n",
              "<caption>Regime 1 parameters</caption>\n",
              "<tr>\n",
              "    <td></td>       <th>coef</th>     <th>std err</th>      <th>z</th>      <th>P>|z|</th>  <th>[0.025</th>    <th>0.975]</th>  \n",
              "</tr>\n",
              "<tr>\n",
              "  <th>const</th> <td> 3.202e+05</td> <td> 1.66e-07</td> <td> 1.93e+12</td> <td> 0.000</td> <td>  3.2e+05</td> <td>  3.2e+05</td>\n",
              "</tr>\n",
              "</table>\n",
              "<table class=\"simpletable\">\n",
              "<caption>Regime 2 parameters</caption>\n",
              "<tr>\n",
              "    <td></td>       <th>coef</th>     <th>std err</th>      <th>z</th>      <th>P>|z|</th>  <th>[0.025</th>    <th>0.975]</th>  \n",
              "</tr>\n",
              "<tr>\n",
              "  <th>const</th> <td> 1.223e+06</td> <td> 1.89e-08</td> <td> 6.46e+13</td> <td> 0.000</td> <td> 1.22e+06</td> <td> 1.22e+06</td>\n",
              "</tr>\n",
              "</table>\n",
              "<table class=\"simpletable\">\n",
              "<caption>Non-switching parameters</caption>\n",
              "<tr>\n",
              "     <td></td>       <th>coef</th>     <th>std err</th>      <th>z</th>      <th>P>|z|</th>  <th>[0.025</th>    <th>0.975]</th>  \n",
              "</tr>\n",
              "<tr>\n",
              "  <th>sigma2</th> <td> 7.433e+10</td> <td> 3.27e-14</td> <td> 2.27e+24</td> <td> 0.000</td> <td> 7.43e+10</td> <td> 7.43e+10</td>\n",
              "</tr>\n",
              "</table>\n",
              "<table class=\"simpletable\">\n",
              "<caption>Regime transition parameters</caption>\n",
              "<tr>\n",
              "     <td></td>        <th>coef</th>     <th>std err</th>      <th>z</th>      <th>P>|z|</th>  <th>[0.025</th>    <th>0.975]</th>  \n",
              "</tr>\n",
              "<tr>\n",
              "  <th>p[0->0]</th> <td>    0.9751</td> <td>    0.034</td> <td>   28.535</td> <td> 0.000</td> <td>    0.908</td> <td>    1.042</td>\n",
              "</tr>\n",
              "<tr>\n",
              "  <th>p[1->0]</th> <td>    0.0574</td> <td>    0.111</td> <td>    0.515</td> <td> 0.607</td> <td>   -0.161</td> <td>    0.276</td>\n",
              "</tr>\n",
              "<tr>\n",
              "  <th>p[2->0]</th> <td> 1.523e-44</td> <td>      nan</td> <td>      nan</td> <td>   nan</td> <td>      nan</td> <td>      nan</td>\n",
              "</tr>\n",
              "<tr>\n",
              "  <th>p[0->1]</th> <td> 1.231e-12</td> <td>      nan</td> <td>      nan</td> <td>   nan</td> <td>      nan</td> <td>      nan</td>\n",
              "</tr>\n",
              "<tr>\n",
              "  <th>p[1->1]</th> <td>    0.9426</td> <td>    0.172</td> <td>    5.487</td> <td> 0.000</td> <td>    0.606</td> <td>    1.279</td>\n",
              "</tr>\n",
              "<tr>\n",
              "  <th>p[2->1]</th> <td>    0.0669</td> <td>    0.058</td> <td>    1.161</td> <td> 0.246</td> <td>   -0.046</td> <td>    0.180</td>\n",
              "</tr>\n",
              "</table><br/><br/>Warnings:<br/>[1] Covariance matrix calculated using numerical (complex-step) differentiation.<br/>[2] Covariance matrix is singular or near-singular, with condition number 2.19e+40. Standard errors may be unstable."
            ]
          },
          "metadata": {},
          "execution_count": 85
        }
      ],
      "source": [
        "# Build up Markov Regression model:\n",
        "mod_btc = sm.tsa.MarkovRegression(btc_m, k_regimes = 3)\n",
        "res_btc = mod_btc.fit()\n",
        "res_btc.summary()"
      ]
    },
    {
      "cell_type": "code",
      "execution_count": null,
      "id": "ab2c7784",
      "metadata": {
        "id": "ab2c7784",
        "outputId": "fc56e3a2-c57b-4cc8-8242-479ce8e7c629",
        "colab": {
          "base_uri": "https://localhost:8080/",
          "height": 265
        }
      },
      "outputs": [
        {
          "output_type": "display_data",
          "data": {
            "text/plain": [
              "<Figure size 432x288 with 1 Axes>"
            ],
            "image/png": "[encoded data removed]"
          },
          "metadata": {
            "needs_background": "light"
          }
        }
      ],
      "source": [
        "# Show three regimes:\n",
        "for i in range(2):\n",
        "  res_btc.smoothed_marginal_probabilities[i].plot(\n",
        "      label = f'{i}'\n",
        "  )\n",
        "      \n",
        "  plt.legend()"
      ]
    },
    {
      "cell_type": "code",
      "execution_count": null,
      "id": "TfNPLNcgftIA",
      "metadata": {
        "colab": {
          "base_uri": "https://localhost:8080/",
          "height": 485
        },
        "id": "TfNPLNcgftIA",
        "outputId": "edb31ca5-77a4-4836-9ca0-7f83f36eef68"
      },
      "outputs": [
        {
          "output_type": "display_data",
          "data": {
            "text/plain": [
              "<Figure size 864x144 with 1 Axes>"
            ],
            "image/png": "[encoded data removed]"
          },
          "metadata": {
            "needs_background": "light"
          }
        },
        {
          "output_type": "display_data",
          "data": {
            "text/plain": [
              "<Figure size 864x144 with 1 Axes>"
            ],
            "image/png": "[encoded data removed]"
          },
          "metadata": {
            "needs_background": "light"
          }
        },
        {
          "output_type": "display_data",
          "data": {
            "text/plain": [
              "<Figure size 864x144 with 1 Axes>"
            ],
            "image/png": "[encoded data removed]"
          },
          "metadata": {
            "needs_background": "light"
          }
        }
      ],
      "source": [
        "# Show three regimes using smoothed marginal probabilities\n",
        "for i in range(3):\n",
        "  f, ax = plt.subplots(figsize=(12,2))\n",
        "  res_btc.smoothed_marginal_probabilities[i].plot(\n",
        "      label = f'{i}'\n",
        "  )\n",
        "  ax.set_title(f\"{i}th regime\")\n",
        "  plt.legend()\n",
        "  plt.show()"
      ]
    },
    {
      "cell_type": "code",
      "execution_count": null,
      "id": "-W8mbD7Wf43l",
      "metadata": {
        "colab": {
          "base_uri": "https://localhost:8080/"
        },
        "id": "-W8mbD7Wf43l",
        "outputId": "d0d7e769-7455-49ea-9866-277187fe9550"
      },
      "outputs": [
        {
          "output_type": "stream",
          "name": "stdout",
          "text": [
            "[40.1389645  17.41000053 14.9425508 ]\n"
          ]
        }
      ],
      "source": [
        "print(res_btc.expected_durations)"
      ]
    },
    {
      "cell_type": "code",
      "source": [
        "for i in res_btc.expected_durations:\n",
        " print(f\"{i/12} Year\")"
      ],
      "metadata": {
        "id": "cSoGO8DWOvQU",
        "outputId": "61f7d5ee-3f9f-43fc-f06f-7483b449d72a",
        "colab": {
          "base_uri": "https://localhost:8080/"
        }
      },
      "id": "cSoGO8DWOvQU",
      "execution_count": null,
      "outputs": [
        {
          "output_type": "stream",
          "name": "stdout",
          "text": [
            "3.3449137079954028 Year\n",
            "1.450833377321546 Year\n",
            "1.245212566340642 Year\n"
          ]
        }
      ]
    },
    {
      "cell_type": "markdown",
      "id": "iJ0vpcfjhAkz",
      "metadata": {
        "id": "iJ0vpcfjhAkz"
      },
      "source": [
        "## **S&P 500:**"
      ]
    },
    {
      "cell_type": "code",
      "execution_count": null,
      "id": "408c6897",
      "metadata": {
        "colab": {
          "base_uri": "https://localhost:8080/"
        },
        "id": "408c6897",
        "outputId": "526f28a0-d6af-490c-b322-b5c01071c733"
      },
      "outputs": [
        {
          "output_type": "stream",
          "name": "stdout",
          "text": [
            "(1237, 6)\n"
          ]
        }
      ],
      "source": [
        "# Import dataset\n",
        "response_sp = requests.get('https://docs.google.com/spreadsheets/d/1Y8Yv2qW5DH8gzkg8pRprBFRZ1asl1sXtT2Wkd6T0nzk/export?format=csv')\n",
        "assert response_sp.status_code == 200, 'Wrong status code'\n",
        "data = response_sp.content\n",
        "df_sp = pd.read_csv(BytesIO(data))\n",
        "print(df_sp.shape)"
      ]
    },
    {
      "cell_type": "code",
      "execution_count": null,
      "id": "2ef77585",
      "metadata": {
        "colab": {
          "base_uri": "https://localhost:8080/"
        },
        "id": "2ef77585",
        "outputId": "68e1a31b-ef4c-45e4-93fd-58c76126fce3"
      },
      "outputs": [
        {
          "output_type": "execute_result",
          "data": {
            "text/plain": [
              "0"
            ]
          },
          "metadata": {},
          "execution_count": 91
        }
      ],
      "source": [
        "#Convert to dataframe:\n",
        "df_sp['Date'] = pd.to_datetime(df_sp['Date'])\n",
        "\n",
        "#Check null value:\n",
        "df_sp['Date'].isna().sum()"
      ]
    },
    {
      "cell_type": "code",
      "execution_count": null,
      "id": "J-TBFOC-s9jL",
      "metadata": {
        "colab": {
          "base_uri": "https://localhost:8080/",
          "height": 424
        },
        "id": "J-TBFOC-s9jL",
        "outputId": "9a3abba6-e95a-4cf1-e515-73e4b034ac53"
      },
      "outputs": [
        {
          "output_type": "execute_result",
          "data": {
            "text/plain": [
              "          Date      Open      High       Low     Close  Volume\n",
              "0   2018-01-05  10832.22  10883.00  10827.12  10876.01       0\n",
              "1   2018-01-12  13762.52  13813.86  13743.94  13801.03       0\n",
              "2   2018-01-19  11188.95  11230.74  11137.66  11187.31       0\n",
              "3   2018-01-26  14183.35  14249.67  14140.64  14221.76       0\n",
              "4   2018-02-02  14157.75  14192.51  14055.46  14083.88       0\n",
              "..         ...       ...       ...       ...       ...     ...\n",
              "252 2022-11-04  19136.77  19246.89  18872.65  18978.21       0\n",
              "253 2022-11-11  19232.28  19451.36  19099.91  19332.78       0\n",
              "254 2022-11-18  19846.85  19955.12  19706.43  19819.67       0\n",
              "255 2022-11-25  15922.34  16035.68  15887.54  16006.90       0\n",
              "256 2022-12-02   7969.55   7989.04   7893.42   7921.57       0\n",
              "\n",
              "[257 rows x 6 columns]"
            ],
            "text/html": [
              "\n",
              "  <div id=\"df-f3f90875-e423-448a-b05c-ea2e2fe9a4fb\">\n",
              "    <div class=\"colab-df-container\">\n",
              "      <div>\n",
              "<style scoped>\n",
              "    .dataframe tbody tr th:only-of-type {\n",
              "        vertical-align: middle;\n",
              "    }\n",
              "\n",
              "    .dataframe tbody tr th {\n",
              "        vertical-align: top;\n",
              "    }\n",
              "\n",
              "    .dataframe thead th {\n",
              "        text-align: right;\n",
              "    }\n",
              "</style>\n",
              "<table border=\"1\" class=\"dataframe\">\n",
              "  <thead>\n",
              "    <tr style=\"text-align: right;\">\n",
              "      <th></th>\n",
              "      <th>Date</th>\n",
              "      <th>Open</th>\n",
              "      <th>High</th>\n",
              "      <th>Low</th>\n",
              "      <th>Close</th>\n",
              "      <th>Volume</th>\n",
              "    </tr>\n",
              "  </thead>\n",
              "  <tbody>\n",
              "    <tr>\n",
              "      <th>0</th>\n",
              "      <td>2018-01-05</td>\n",
              "      <td>10832.22</td>\n",
              "      <td>10883.00</td>\n",
              "      <td>10827.12</td>\n",
              "      <td>10876.01</td>\n",
              "      <td>0</td>\n",
              "    </tr>\n",
              "    <tr>\n",
              "      <th>1</th>\n",
              "      <td>2018-01-12</td>\n",
              "      <td>13762.52</td>\n",
              "      <td>13813.86</td>\n",
              "      <td>13743.94</td>\n",
              "      <td>13801.03</td>\n",
              "      <td>0</td>\n",
              "    </tr>\n",
              "    <tr>\n",
              "      <th>2</th>\n",
              "      <td>2018-01-19</td>\n",
              "      <td>11188.95</td>\n",
              "      <td>11230.74</td>\n",
              "      <td>11137.66</td>\n",
              "      <td>11187.31</td>\n",
              "      <td>0</td>\n",
              "    </tr>\n",
              "    <tr>\n",
              "      <th>3</th>\n",
              "      <td>2018-01-26</td>\n",
              "      <td>14183.35</td>\n",
              "      <td>14249.67</td>\n",
              "      <td>14140.64</td>\n",
              "      <td>14221.76</td>\n",
              "      <td>0</td>\n",
              "    </tr>\n",
              "    <tr>\n",
              "      <th>4</th>\n",
              "      <td>2018-02-02</td>\n",
              "      <td>14157.75</td>\n",
              "      <td>14192.51</td>\n",
              "      <td>14055.46</td>\n",
              "      <td>14083.88</td>\n",
              "      <td>0</td>\n",
              "    </tr>\n",
              "    <tr>\n",
              "      <th>...</th>\n",
              "      <td>...</td>\n",
              "      <td>...</td>\n",
              "      <td>...</td>\n",
              "      <td>...</td>\n",
              "      <td>...</td>\n",
              "      <td>...</td>\n",
              "    </tr>\n",
              "    <tr>\n",
              "      <th>252</th>\n",
              "      <td>2022-11-04</td>\n",
              "      <td>19136.77</td>\n",
              "      <td>19246.89</td>\n",
              "      <td>18872.65</td>\n",
              "      <td>18978.21</td>\n",
              "      <td>0</td>\n",
              "    </tr>\n",
              "    <tr>\n",
              "      <th>253</th>\n",
              "      <td>2022-11-11</td>\n",
              "      <td>19232.28</td>\n",
              "      <td>19451.36</td>\n",
              "      <td>19099.91</td>\n",
              "      <td>19332.78</td>\n",
              "      <td>0</td>\n",
              "    </tr>\n",
              "    <tr>\n",
              "      <th>254</th>\n",
              "      <td>2022-11-18</td>\n",
              "      <td>19846.85</td>\n",
              "      <td>19955.12</td>\n",
              "      <td>19706.43</td>\n",
              "      <td>19819.67</td>\n",
              "      <td>0</td>\n",
              "    </tr>\n",
              "    <tr>\n",
              "      <th>255</th>\n",
              "      <td>2022-11-25</td>\n",
              "      <td>15922.34</td>\n",
              "      <td>16035.68</td>\n",
              "      <td>15887.54</td>\n",
              "      <td>16006.90</td>\n",
              "      <td>0</td>\n",
              "    </tr>\n",
              "    <tr>\n",
              "      <th>256</th>\n",
              "      <td>2022-12-02</td>\n",
              "      <td>7969.55</td>\n",
              "      <td>7989.04</td>\n",
              "      <td>7893.42</td>\n",
              "      <td>7921.57</td>\n",
              "      <td>0</td>\n",
              "    </tr>\n",
              "  </tbody>\n",
              "</table>\n",
              "<p>257 rows × 6 columns</p>\n",
              "</div>\n",
              "      <button class=\"colab-df-convert\" onclick=\"convertToInteractive('df-f3f90875-e423-448a-b05c-ea2e2fe9a4fb')\"\n",
              "              title=\"Convert this dataframe to an interactive table.\"\n",
              "              style=\"display:none;\">\n",
              "        \n",
              "  <svg xmlns=\"http://www.w3.org/2000/svg\" height=\"24px\"viewBox=\"0 0 24 24\"\n",
              "       width=\"24px\">\n",
              "    <path d=\"M0 0h24v24H0V0z\" fill=\"none\"/>\n",
              "    <path d=\"M18.56 5.44l.94 2.06.94-2.06 2.06-.94-2.06-.94-.94-2.06-.94 2.06-2.06.94zm-11 1L8.5 8.5l.94-2.06 2.06-.94-2.06-.94L8.5 2.5l-.94 2.06-2.06.94zm10 10l.94 2.06.94-2.06 2.06-.94-2.06-.94-.94-2.06-.94 2.06-2.06.94z\"/><path d=\"M17.41 7.96l-1.37-1.37c-.4-.4-.92-.59-1.43-.59-.52 0-1.04.2-1.43.59L10.3 9.45l-7.72 7.72c-.78.78-.78 2.05 0 2.83L4 21.41c.39.39.9.59 1.41.59.51 0 1.02-.2 1.41-.59l7.78-7.78 2.81-2.81c.8-.78.8-2.07 0-2.86zM5.41 20L4 18.59l7.72-7.72 1.47 1.35L5.41 20z\"/>\n",
              "  </svg>\n",
              "      </button>\n",
              "      \n",
              "  <style>\n",
              "    .colab-df-container {\n",
              "      display:flex;\n",
              "      flex-wrap:wrap;\n",
              "      gap: 12px;\n",
              "    }\n",
              "\n",
              "    .colab-df-convert {\n",
              "      background-color: #E8F0FE;\n",
              "      border: none;\n",
              "      border-radius: 50%;\n",
              "      cursor: pointer;\n",
              "      display: none;\n",
              "      fill: #1967D2;\n",
              "      height: 32px;\n",
              "      padding: 0 0 0 0;\n",
              "      width: 32px;\n",
              "    }\n",
              "\n",
              "    .colab-df-convert:hover {\n",
              "      background-color: #E2EBFA;\n",
              "      box-shadow: 0px 1px 2px rgba(60, 64, 67, 0.3), 0px 1px 3px 1px rgba(60, 64, 67, 0.15);\n",
              "      fill: #174EA6;\n",
              "    }\n",
              "\n",
              "    [theme=dark] .colab-df-convert {\n",
              "      background-color: #3B4455;\n",
              "      fill: #D2E3FC;\n",
              "    }\n",
              "\n",
              "    [theme=dark] .colab-df-convert:hover {\n",
              "      background-color: #434B5C;\n",
              "      box-shadow: 0px 1px 3px 1px rgba(0, 0, 0, 0.15);\n",
              "      filter: drop-shadow(0px 1px 2px rgba(0, 0, 0, 0.3));\n",
              "      fill: #FFFFFF;\n",
              "    }\n",
              "  </style>\n",
              "\n",
              "      <script>\n",
              "        const buttonEl =\n",
              "          document.querySelector('#df-f3f90875-e423-448a-b05c-ea2e2fe9a4fb button.colab-df-convert');\n",
              "        buttonEl.style.display =\n",
              "          google.colab.kernel.accessAllowed ? 'block' : 'none';\n",
              "\n",
              "        async function convertToInteractive(key) {\n",
              "          const element = document.querySelector('#df-f3f90875-e423-448a-b05c-ea2e2fe9a4fb');\n",
              "          const dataTable =\n",
              "            await google.colab.kernel.invokeFunction('convertToInteractive',\n",
              "                                                     [key], {});\n",
              "          if (!dataTable) return;\n",
              "\n",
              "          const docLinkHtml = 'Like what you see? Visit the ' +\n",
              "            '<a target=\"_blank\" href=https://colab.research.google.com/notebooks/data_table.ipynb>data table notebook</a>'\n",
              "            + ' to learn more about interactive tables.';\n",
              "          element.innerHTML = '';\n",
              "          dataTable['output_type'] = 'display_data';\n",
              "          await google.colab.output.renderOutput(dataTable, element);\n",
              "          const docLink = document.createElement('div');\n",
              "          docLink.innerHTML = docLinkHtml;\n",
              "          element.appendChild(docLink);\n",
              "        }\n",
              "      </script>\n",
              "    </div>\n",
              "  </div>\n",
              "  "
            ]
          },
          "metadata": {},
          "execution_count": 92
        }
      ],
      "source": [
        "# Change data to weekly format\n",
        "weekly_sp = df_sp.resample('W-Fri', label='right', \n",
        "                            closed='right', on='Date').sum().reset_index().sort_values(by='Date')\n",
        "weekly_sp"
      ]
    },
    {
      "cell_type": "code",
      "execution_count": null,
      "id": "0060a3f1",
      "metadata": {
        "colab": {
          "base_uri": "https://localhost:8080/",
          "height": 1000
        },
        "id": "0060a3f1",
        "outputId": "449565d9-c53f-49e5-919f-c17021fc01ec"
      },
      "outputs": [
        {
          "output_type": "execute_result",
          "data": {
            "text/plain": [
              "         Date       Open       High        Low      Close      Volume\n",
              "0  2018-01-31   58499.42   58724.90   58332.15   58585.88           0\n",
              "1  2018-02-28   51495.12   51986.08   50953.47   51397.95           0\n",
              "2  2018-03-31   56865.06   57231.75   56386.29   56758.25           0\n",
              "3  2018-04-30   55803.01   56134.23   55368.99   55726.13           0\n",
              "4  2018-05-31   59355.84   59620.65   59102.58   59432.86           0\n",
              "5  2018-06-30   57854.40   58051.62   57627.77   57841.41           0\n",
              "6  2018-07-31   58577.24   58813.95   58420.45   58666.51           0\n",
              "7  2018-08-31   65655.29   65883.31   65514.37   65729.87           0\n",
              "8  2018-09-30   55129.83   55289.94   54981.17   55128.51           0\n",
              "9  2018-10-31   64309.74   64696.34   63619.23   64065.69           0\n",
              "10 2018-11-30   57112.69   57519.22   56742.77   57187.82           0\n",
              "11 2018-12-31   49033.35   49474.52   48250.40   48778.84           0\n",
              "12 2019-01-31   54555.87   54960.72   54284.89   54755.19           0\n",
              "13 2019-02-28   52252.70   52466.84   52106.51   52342.42           0\n",
              "14 2019-03-31   58875.50   59131.08   58586.70   58883.66           0\n",
              "15 2019-04-30   60916.62   61084.00   60745.61   60979.80           0\n",
              "16 2019-05-31   62817.76   63145.08   62452.61   62803.53           0\n",
              "17 2019-06-30   57753.72   58014.87   57571.51   57803.32           0\n",
              "18 2019-07-31   65901.26   66087.78   65651.19   65914.50           0\n",
              "19 2019-08-31   63826.84   64192.01   63288.67   63744.30           0\n",
              "20 2019-09-30   59641.66   59841.92   59372.39   59643.12           0\n",
              "21 2019-10-31   68469.94   68779.50   68194.29   68486.53  2207521396\n",
              "22 2019-11-30   62031.14   62191.76   61888.23   62098.09  1493045171\n",
              "23 2019-12-31   66678.78   66863.04   66512.24   66711.74  1890285078\n",
              "24 2020-01-31   68783.43   69083.67   68527.77   68842.26           0\n",
              "25 2020-02-29   62426.54   62742.00   61932.96   62268.97           0\n",
              "26 2020-03-31   58370.13   59710.41   56729.29   58352.66           0\n",
              "27 2020-04-30   57915.32   58617.11   57331.88   58001.48           0\n",
              "28 2020-05-31   58394.11   58842.43   57901.55   58392.30           0\n",
              "29 2020-06-30   68338.02   68871.99   67632.11   68302.54           0\n",
              "30 2020-07-31   70479.17   70923.30   70015.22   70567.62           0\n",
              "31 2020-08-31   71082.69   71397.55   70859.53   71225.91           0\n",
              "32 2020-09-30   70853.52   71375.18   70072.61   70675.85           0\n",
              "33 2020-10-31   75310.21   75790.52   74740.68   75211.43           0\n",
              "34 2020-11-30   70868.60   71386.83   70524.41   70979.71           0\n",
              "35 2020-12-31   81195.12   81567.66   80867.35   81296.82   814704870\n",
              "36 2021-01-31   72150.36   72544.58   71610.28   72081.22           0\n",
              "37 2021-02-28   73697.07   74120.82   73278.14   73785.21           0\n",
              "38 2021-03-31   89853.75   90521.40   89311.46   89941.69           0\n",
              "39 2021-04-30   86812.73   87192.03   86562.04   86964.70           0\n",
              "40 2021-05-31   83346.60   83741.43   82929.56   83356.99           0\n",
              "41 2021-06-30   93213.49   93486.50   92910.46   93246.77           0\n",
              "42 2021-07-31   91518.02   91888.54   91162.56   91637.97           0\n",
              "43 2021-08-31   97874.35   98218.94   97602.43   97992.54           0\n",
              "44 2021-09-30   93601.93   93942.93   93018.08   93356.41           0\n",
              "45 2021-10-31   93444.03   94009.16   93112.60   93674.85           0\n",
              "46 2021-11-30   98089.69   98451.88   97637.80   98015.12           0\n",
              "47 2021-12-31  102733.00  103434.80  102127.73  102845.00           0\n",
              "48 2022-01-31   91705.26   92391.52   90561.03   91476.31           0\n",
              "49 2022-02-28   84300.70   84998.54   83449.38   84283.63           0\n",
              "50 2022-03-31  100930.77  101772.28  100086.11  100999.10           0\n",
              "51 2022-04-30   88187.21   88785.29   87222.53   87825.92           0\n",
              "52 2022-05-31   84793.38   85725.95   83710.50   84847.56           0\n",
              "53 2022-06-30   82087.41   82790.51   81145.47   81877.88           0\n",
              "54 2022-07-31   77864.82   78621.16   77324.82   78234.59           0\n",
              "55 2022-08-31   95780.64   96365.70   95150.73   95646.95           0\n",
              "56 2022-09-30   81077.10   81694.80   80168.52   80860.93           0\n",
              "57 2022-10-31   77959.57   78994.26   77351.61   78247.07           0\n",
              "58 2022-11-30   78225.94   78784.36   77596.77   78187.15           0"
            ],
            "text/html": [
              "\n",
              "  <div id=\"df-0f25779c-6e09-4983-aef4-079030afc1af\">\n",
              "    <div class=\"colab-df-container\">\n",
              "      <div>\n",
              "<style scoped>\n",
              "    .dataframe tbody tr th:only-of-type {\n",
              "        vertical-align: middle;\n",
              "    }\n",
              "\n",
              "    .dataframe tbody tr th {\n",
              "        vertical-align: top;\n",
              "    }\n",
              "\n",
              "    .dataframe thead th {\n",
              "        text-align: right;\n",
              "    }\n",
              "</style>\n",
              "<table border=\"1\" class=\"dataframe\">\n",
              "  <thead>\n",
              "    <tr style=\"text-align: right;\">\n",
              "      <th></th>\n",
              "      <th>Date</th>\n",
              "      <th>Open</th>\n",
              "      <th>High</th>\n",
              "      <th>Low</th>\n",
              "      <th>Close</th>\n",
              "      <th>Volume</th>\n",
              "    </tr>\n",
              "  </thead>\n",
              "  <tbody>\n",
              "    <tr>\n",
              "      <th>0</th>\n",
              "      <td>2018-01-31</td>\n",
              "      <td>58499.42</td>\n",
              "      <td>58724.90</td>\n",
              "      <td>58332.15</td>\n",
              "      <td>58585.88</td>\n",
              "      <td>0</td>\n",
              "    </tr>\n",
              "    <tr>\n",
              "      <th>1</th>\n",
              "      <td>2018-02-28</td>\n",
              "      <td>51495.12</td>\n",
              "      <td>51986.08</td>\n",
              "      <td>50953.47</td>\n",
              "      <td>51397.95</td>\n",
              "      <td>0</td>\n",
              "    </tr>\n",
              "    <tr>\n",
              "      <th>2</th>\n",
              "      <td>2018-03-31</td>\n",
              "      <td>56865.06</td>\n",
              "      <td>57231.75</td>\n",
              "      <td>56386.29</td>\n",
              "      <td>56758.25</td>\n",
              "      <td>0</td>\n",
              "    </tr>\n",
              "    <tr>\n",
              "      <th>3</th>\n",
              "      <td>2018-04-30</td>\n",
              "      <td>55803.01</td>\n",
              "      <td>56134.23</td>\n",
              "      <td>55368.99</td>\n",
              "      <td>55726.13</td>\n",
              "      <td>0</td>\n",
              "    </tr>\n",
              "    <tr>\n",
              "      <th>4</th>\n",
              "      <td>2018-05-31</td>\n",
              "      <td>59355.84</td>\n",
              "      <td>59620.65</td>\n",
              "      <td>59102.58</td>\n",
              "      <td>59432.86</td>\n",
              "      <td>0</td>\n",
              "    </tr>\n",
              "    <tr>\n",
              "      <th>5</th>\n",
              "      <td>2018-06-30</td>\n",
              "      <td>57854.40</td>\n",
              "      <td>58051.62</td>\n",
              "      <td>57627.77</td>\n",
              "      <td>57841.41</td>\n",
              "      <td>0</td>\n",
              "    </tr>\n",
              "    <tr>\n",
              "      <th>6</th>\n",
              "      <td>2018-07-31</td>\n",
              "      <td>58577.24</td>\n",
              "      <td>58813.95</td>\n",
              "      <td>58420.45</td>\n",
              "      <td>58666.51</td>\n",
              "      <td>0</td>\n",
              "    </tr>\n",
              "    <tr>\n",
              "      <th>7</th>\n",
              "      <td>2018-08-31</td>\n",
              "      <td>65655.29</td>\n",
              "      <td>65883.31</td>\n",
              "      <td>65514.37</td>\n",
              "      <td>65729.87</td>\n",
              "      <td>0</td>\n",
              "    </tr>\n",
              "    <tr>\n",
              "      <th>8</th>\n",
              "      <td>2018-09-30</td>\n",
              "      <td>55129.83</td>\n",
              "      <td>55289.94</td>\n",
              "      <td>54981.17</td>\n",
              "      <td>55128.51</td>\n",
              "      <td>0</td>\n",
              "    </tr>\n",
              "    <tr>\n",
              "      <th>9</th>\n",
              "      <td>2018-10-31</td>\n",
              "      <td>64309.74</td>\n",
              "      <td>64696.34</td>\n",
              "      <td>63619.23</td>\n",
              "      <td>64065.69</td>\n",
              "      <td>0</td>\n",
              "    </tr>\n",
              "    <tr>\n",
              "      <th>10</th>\n",
              "      <td>2018-11-30</td>\n",
              "      <td>57112.69</td>\n",
              "      <td>57519.22</td>\n",
              "      <td>56742.77</td>\n",
              "      <td>57187.82</td>\n",
              "      <td>0</td>\n",
              "    </tr>\n",
              "    <tr>\n",
              "      <th>11</th>\n",
              "      <td>2018-12-31</td>\n",
              "      <td>49033.35</td>\n",
              "      <td>49474.52</td>\n",
              "      <td>48250.40</td>\n",
              "      <td>48778.84</td>\n",
              "      <td>0</td>\n",
              "    </tr>\n",
              "    <tr>\n",
              "      <th>12</th>\n",
              "      <td>2019-01-31</td>\n",
              "      <td>54555.87</td>\n",
              "      <td>54960.72</td>\n",
              "      <td>54284.89</td>\n",
              "      <td>54755.19</td>\n",
              "      <td>0</td>\n",
              "    </tr>\n",
              "    <tr>\n",
              "      <th>13</th>\n",
              "      <td>2019-02-28</td>\n",
              "      <td>52252.70</td>\n",
              "      <td>52466.84</td>\n",
              "      <td>52106.51</td>\n",
              "      <td>52342.42</td>\n",
              "      <td>0</td>\n",
              "    </tr>\n",
              "    <tr>\n",
              "      <th>14</th>\n",
              "      <td>2019-03-31</td>\n",
              "      <td>58875.50</td>\n",
              "      <td>59131.08</td>\n",
              "      <td>58586.70</td>\n",
              "      <td>58883.66</td>\n",
              "      <td>0</td>\n",
              "    </tr>\n",
              "    <tr>\n",
              "      <th>15</th>\n",
              "      <td>2019-04-30</td>\n",
              "      <td>60916.62</td>\n",
              "      <td>61084.00</td>\n",
              "      <td>60745.61</td>\n",
              "      <td>60979.80</td>\n",
              "      <td>0</td>\n",
              "    </tr>\n",
              "    <tr>\n",
              "      <th>16</th>\n",
              "      <td>2019-05-31</td>\n",
              "      <td>62817.76</td>\n",
              "      <td>63145.08</td>\n",
              "      <td>62452.61</td>\n",
              "      <td>62803.53</td>\n",
              "      <td>0</td>\n",
              "    </tr>\n",
              "    <tr>\n",
              "      <th>17</th>\n",
              "      <td>2019-06-30</td>\n",
              "      <td>57753.72</td>\n",
              "      <td>58014.87</td>\n",
              "      <td>57571.51</td>\n",
              "      <td>57803.32</td>\n",
              "      <td>0</td>\n",
              "    </tr>\n",
              "    <tr>\n",
              "      <th>18</th>\n",
              "      <td>2019-07-31</td>\n",
              "      <td>65901.26</td>\n",
              "      <td>66087.78</td>\n",
              "      <td>65651.19</td>\n",
              "      <td>65914.50</td>\n",
              "      <td>0</td>\n",
              "    </tr>\n",
              "    <tr>\n",
              "      <th>19</th>\n",
              "      <td>2019-08-31</td>\n",
              "      <td>63826.84</td>\n",
              "      <td>64192.01</td>\n",
              "      <td>63288.67</td>\n",
              "      <td>63744.30</td>\n",
              "      <td>0</td>\n",
              "    </tr>\n",
              "    <tr>\n",
              "      <th>20</th>\n",
              "      <td>2019-09-30</td>\n",
              "      <td>59641.66</td>\n",
              "      <td>59841.92</td>\n",
              "      <td>59372.39</td>\n",
              "      <td>59643.12</td>\n",
              "      <td>0</td>\n",
              "    </tr>\n",
              "    <tr>\n",
              "      <th>21</th>\n",
              "      <td>2019-10-31</td>\n",
              "      <td>68469.94</td>\n",
              "      <td>68779.50</td>\n",
              "      <td>68194.29</td>\n",
              "      <td>68486.53</td>\n",
              "      <td>2207521396</td>\n",
              "    </tr>\n",
              "    <tr>\n",
              "      <th>22</th>\n",
              "      <td>2019-11-30</td>\n",
              "      <td>62031.14</td>\n",
              "      <td>62191.76</td>\n",
              "      <td>61888.23</td>\n",
              "      <td>62098.09</td>\n",
              "      <td>1493045171</td>\n",
              "    </tr>\n",
              "    <tr>\n",
              "      <th>23</th>\n",
              "      <td>2019-12-31</td>\n",
              "      <td>66678.78</td>\n",
              "      <td>66863.04</td>\n",
              "      <td>66512.24</td>\n",
              "      <td>66711.74</td>\n",
              "      <td>1890285078</td>\n",
              "    </tr>\n",
              "    <tr>\n",
              "      <th>24</th>\n",
              "      <td>2020-01-31</td>\n",
              "      <td>68783.43</td>\n",
              "      <td>69083.67</td>\n",
              "      <td>68527.77</td>\n",
              "      <td>68842.26</td>\n",
              "      <td>0</td>\n",
              "    </tr>\n",
              "    <tr>\n",
              "      <th>25</th>\n",
              "      <td>2020-02-29</td>\n",
              "      <td>62426.54</td>\n",
              "      <td>62742.00</td>\n",
              "      <td>61932.96</td>\n",
              "      <td>62268.97</td>\n",
              "      <td>0</td>\n",
              "    </tr>\n",
              "    <tr>\n",
              "      <th>26</th>\n",
              "      <td>2020-03-31</td>\n",
              "      <td>58370.13</td>\n",
              "      <td>59710.41</td>\n",
              "      <td>56729.29</td>\n",
              "      <td>58352.66</td>\n",
              "      <td>0</td>\n",
              "    </tr>\n",
              "    <tr>\n",
              "      <th>27</th>\n",
              "      <td>2020-04-30</td>\n",
              "      <td>57915.32</td>\n",
              "      <td>58617.11</td>\n",
              "      <td>57331.88</td>\n",
              "      <td>58001.48</td>\n",
              "      <td>0</td>\n",
              "    </tr>\n",
              "    <tr>\n",
              "      <th>28</th>\n",
              "      <td>2020-05-31</td>\n",
              "      <td>58394.11</td>\n",
              "      <td>58842.43</td>\n",
              "      <td>57901.55</td>\n",
              "      <td>58392.30</td>\n",
              "      <td>0</td>\n",
              "    </tr>\n",
              "    <tr>\n",
              "      <th>29</th>\n",
              "      <td>2020-06-30</td>\n",
              "      <td>68338.02</td>\n",
              "      <td>68871.99</td>\n",
              "      <td>67632.11</td>\n",
              "      <td>68302.54</td>\n",
              "      <td>0</td>\n",
              "    </tr>\n",
              "    <tr>\n",
              "      <th>30</th>\n",
              "      <td>2020-07-31</td>\n",
              "      <td>70479.17</td>\n",
              "      <td>70923.30</td>\n",
              "      <td>70015.22</td>\n",
              "      <td>70567.62</td>\n",
              "      <td>0</td>\n",
              "    </tr>\n",
              "    <tr>\n",
              "      <th>31</th>\n",
              "      <td>2020-08-31</td>\n",
              "      <td>71082.69</td>\n",
              "      <td>71397.55</td>\n",
              "      <td>70859.53</td>\n",
              "      <td>71225.91</td>\n",
              "      <td>0</td>\n",
              "    </tr>\n",
              "    <tr>\n",
              "      <th>32</th>\n",
              "      <td>2020-09-30</td>\n",
              "      <td>70853.52</td>\n",
              "      <td>71375.18</td>\n",
              "      <td>70072.61</td>\n",
              "      <td>70675.85</td>\n",
              "      <td>0</td>\n",
              "    </tr>\n",
              "    <tr>\n",
              "      <th>33</th>\n",
              "      <td>2020-10-31</td>\n",
              "      <td>75310.21</td>\n",
              "      <td>75790.52</td>\n",
              "      <td>74740.68</td>\n",
              "      <td>75211.43</td>\n",
              "      <td>0</td>\n",
              "    </tr>\n",
              "    <tr>\n",
              "      <th>34</th>\n",
              "      <td>2020-11-30</td>\n",
              "      <td>70868.60</td>\n",
              "      <td>71386.83</td>\n",
              "      <td>70524.41</td>\n",
              "      <td>70979.71</td>\n",
              "      <td>0</td>\n",
              "    </tr>\n",
              "    <tr>\n",
              "      <th>35</th>\n",
              "      <td>2020-12-31</td>\n",
              "      <td>81195.12</td>\n",
              "      <td>81567.66</td>\n",
              "      <td>80867.35</td>\n",
              "      <td>81296.82</td>\n",
              "      <td>814704870</td>\n",
              "    </tr>\n",
              "    <tr>\n",
              "      <th>36</th>\n",
              "      <td>2021-01-31</td>\n",
              "      <td>72150.36</td>\n",
              "      <td>72544.58</td>\n",
              "      <td>71610.28</td>\n",
              "      <td>72081.22</td>\n",
              "      <td>0</td>\n",
              "    </tr>\n",
              "    <tr>\n",
              "      <th>37</th>\n",
              "      <td>2021-02-28</td>\n",
              "      <td>73697.07</td>\n",
              "      <td>74120.82</td>\n",
              "      <td>73278.14</td>\n",
              "      <td>73785.21</td>\n",
              "      <td>0</td>\n",
              "    </tr>\n",
              "    <tr>\n",
              "      <th>38</th>\n",
              "      <td>2021-03-31</td>\n",
              "      <td>89853.75</td>\n",
              "      <td>90521.40</td>\n",
              "      <td>89311.46</td>\n",
              "      <td>89941.69</td>\n",
              "      <td>0</td>\n",
              "    </tr>\n",
              "    <tr>\n",
              "      <th>39</th>\n",
              "      <td>2021-04-30</td>\n",
              "      <td>86812.73</td>\n",
              "      <td>87192.03</td>\n",
              "      <td>86562.04</td>\n",
              "      <td>86964.70</td>\n",
              "      <td>0</td>\n",
              "    </tr>\n",
              "    <tr>\n",
              "      <th>40</th>\n",
              "      <td>2021-05-31</td>\n",
              "      <td>83346.60</td>\n",
              "      <td>83741.43</td>\n",
              "      <td>82929.56</td>\n",
              "      <td>83356.99</td>\n",
              "      <td>0</td>\n",
              "    </tr>\n",
              "    <tr>\n",
              "      <th>41</th>\n",
              "      <td>2021-06-30</td>\n",
              "      <td>93213.49</td>\n",
              "      <td>93486.50</td>\n",
              "      <td>92910.46</td>\n",
              "      <td>93246.77</td>\n",
              "      <td>0</td>\n",
              "    </tr>\n",
              "    <tr>\n",
              "      <th>42</th>\n",
              "      <td>2021-07-31</td>\n",
              "      <td>91518.02</td>\n",
              "      <td>91888.54</td>\n",
              "      <td>91162.56</td>\n",
              "      <td>91637.97</td>\n",
              "      <td>0</td>\n",
              "    </tr>\n",
              "    <tr>\n",
              "      <th>43</th>\n",
              "      <td>2021-08-31</td>\n",
              "      <td>97874.35</td>\n",
              "      <td>98218.94</td>\n",
              "      <td>97602.43</td>\n",
              "      <td>97992.54</td>\n",
              "      <td>0</td>\n",
              "    </tr>\n",
              "    <tr>\n",
              "      <th>44</th>\n",
              "      <td>2021-09-30</td>\n",
              "      <td>93601.93</td>\n",
              "      <td>93942.93</td>\n",
              "      <td>93018.08</td>\n",
              "      <td>93356.41</td>\n",
              "      <td>0</td>\n",
              "    </tr>\n",
              "    <tr>\n",
              "      <th>45</th>\n",
              "      <td>2021-10-31</td>\n",
              "      <td>93444.03</td>\n",
              "      <td>94009.16</td>\n",
              "      <td>93112.60</td>\n",
              "      <td>93674.85</td>\n",
              "      <td>0</td>\n",
              "    </tr>\n",
              "    <tr>\n",
              "      <th>46</th>\n",
              "      <td>2021-11-30</td>\n",
              "      <td>98089.69</td>\n",
              "      <td>98451.88</td>\n",
              "      <td>97637.80</td>\n",
              "      <td>98015.12</td>\n",
              "      <td>0</td>\n",
              "    </tr>\n",
              "    <tr>\n",
              "      <th>47</th>\n",
              "      <td>2021-12-31</td>\n",
              "      <td>102733.00</td>\n",
              "      <td>103434.80</td>\n",
              "      <td>102127.73</td>\n",
              "      <td>102845.00</td>\n",
              "      <td>0</td>\n",
              "    </tr>\n",
              "    <tr>\n",
              "      <th>48</th>\n",
              "      <td>2022-01-31</td>\n",
              "      <td>91705.26</td>\n",
              "      <td>92391.52</td>\n",
              "      <td>90561.03</td>\n",
              "      <td>91476.31</td>\n",
              "      <td>0</td>\n",
              "    </tr>\n",
              "    <tr>\n",
              "      <th>49</th>\n",
              "      <td>2022-02-28</td>\n",
              "      <td>84300.70</td>\n",
              "      <td>84998.54</td>\n",
              "      <td>83449.38</td>\n",
              "      <td>84283.63</td>\n",
              "      <td>0</td>\n",
              "    </tr>\n",
              "    <tr>\n",
              "      <th>50</th>\n",
              "      <td>2022-03-31</td>\n",
              "      <td>100930.77</td>\n",
              "      <td>101772.28</td>\n",
              "      <td>100086.11</td>\n",
              "      <td>100999.10</td>\n",
              "      <td>0</td>\n",
              "    </tr>\n",
              "    <tr>\n",
              "      <th>51</th>\n",
              "      <td>2022-04-30</td>\n",
              "      <td>88187.21</td>\n",
              "      <td>88785.29</td>\n",
              "      <td>87222.53</td>\n",
              "      <td>87825.92</td>\n",
              "      <td>0</td>\n",
              "    </tr>\n",
              "    <tr>\n",
              "      <th>52</th>\n",
              "      <td>2022-05-31</td>\n",
              "      <td>84793.38</td>\n",
              "      <td>85725.95</td>\n",
              "      <td>83710.50</td>\n",
              "      <td>84847.56</td>\n",
              "      <td>0</td>\n",
              "    </tr>\n",
              "    <tr>\n",
              "      <th>53</th>\n",
              "      <td>2022-06-30</td>\n",
              "      <td>82087.41</td>\n",
              "      <td>82790.51</td>\n",
              "      <td>81145.47</td>\n",
              "      <td>81877.88</td>\n",
              "      <td>0</td>\n",
              "    </tr>\n",
              "    <tr>\n",
              "      <th>54</th>\n",
              "      <td>2022-07-31</td>\n",
              "      <td>77864.82</td>\n",
              "      <td>78621.16</td>\n",
              "      <td>77324.82</td>\n",
              "      <td>78234.59</td>\n",
              "      <td>0</td>\n",
              "    </tr>\n",
              "    <tr>\n",
              "      <th>55</th>\n",
              "      <td>2022-08-31</td>\n",
              "      <td>95780.64</td>\n",
              "      <td>96365.70</td>\n",
              "      <td>95150.73</td>\n",
              "      <td>95646.95</td>\n",
              "      <td>0</td>\n",
              "    </tr>\n",
              "    <tr>\n",
              "      <th>56</th>\n",
              "      <td>2022-09-30</td>\n",
              "      <td>81077.10</td>\n",
              "      <td>81694.80</td>\n",
              "      <td>80168.52</td>\n",
              "      <td>80860.93</td>\n",
              "      <td>0</td>\n",
              "    </tr>\n",
              "    <tr>\n",
              "      <th>57</th>\n",
              "      <td>2022-10-31</td>\n",
              "      <td>77959.57</td>\n",
              "      <td>78994.26</td>\n",
              "      <td>77351.61</td>\n",
              "      <td>78247.07</td>\n",
              "      <td>0</td>\n",
              "    </tr>\n",
              "    <tr>\n",
              "      <th>58</th>\n",
              "      <td>2022-11-30</td>\n",
              "      <td>78225.94</td>\n",
              "      <td>78784.36</td>\n",
              "      <td>77596.77</td>\n",
              "      <td>78187.15</td>\n",
              "      <td>0</td>\n",
              "    </tr>\n",
              "  </tbody>\n",
              "</table>\n",
              "</div>\n",
              "      <button class=\"colab-df-convert\" onclick=\"convertToInteractive('df-0f25779c-6e09-4983-aef4-079030afc1af')\"\n",
              "              title=\"Convert this dataframe to an interactive table.\"\n",
              "              style=\"display:none;\">\n",
              "        \n",
              "  <svg xmlns=\"http://www.w3.org/2000/svg\" height=\"24px\"viewBox=\"0 0 24 24\"\n",
              "       width=\"24px\">\n",
              "    <path d=\"M0 0h24v24H0V0z\" fill=\"none\"/>\n",
              "    <path d=\"M18.56 5.44l.94 2.06.94-2.06 2.06-.94-2.06-.94-.94-2.06-.94 2.06-2.06.94zm-11 1L8.5 8.5l.94-2.06 2.06-.94-2.06-.94L8.5 2.5l-.94 2.06-2.06.94zm10 10l.94 2.06.94-2.06 2.06-.94-2.06-.94-.94-2.06-.94 2.06-2.06.94z\"/><path d=\"M17.41 7.96l-1.37-1.37c-.4-.4-.92-.59-1.43-.59-.52 0-1.04.2-1.43.59L10.3 9.45l-7.72 7.72c-.78.78-.78 2.05 0 2.83L4 21.41c.39.39.9.59 1.41.59.51 0 1.02-.2 1.41-.59l7.78-7.78 2.81-2.81c.8-.78.8-2.07 0-2.86zM5.41 20L4 18.59l7.72-7.72 1.47 1.35L5.41 20z\"/>\n",
              "  </svg>\n",
              "      </button>\n",
              "      \n",
              "  <style>\n",
              "    .colab-df-container {\n",
              "      display:flex;\n",
              "      flex-wrap:wrap;\n",
              "      gap: 12px;\n",
              "    }\n",
              "\n",
              "    .colab-df-convert {\n",
              "      background-color: #E8F0FE;\n",
              "      border: none;\n",
              "      border-radius: 50%;\n",
              "      cursor: pointer;\n",
              "      display: none;\n",
              "      fill: #1967D2;\n",
              "      height: 32px;\n",
              "      padding: 0 0 0 0;\n",
              "      width: 32px;\n",
              "    }\n",
              "\n",
              "    .colab-df-convert:hover {\n",
              "      background-color: #E2EBFA;\n",
              "      box-shadow: 0px 1px 2px rgba(60, 64, 67, 0.3), 0px 1px 3px 1px rgba(60, 64, 67, 0.15);\n",
              "      fill: #174EA6;\n",
              "    }\n",
              "\n",
              "    [theme=dark] .colab-df-convert {\n",
              "      background-color: #3B4455;\n",
              "      fill: #D2E3FC;\n",
              "    }\n",
              "\n",
              "    [theme=dark] .colab-df-convert:hover {\n",
              "      background-color: #434B5C;\n",
              "      box-shadow: 0px 1px 3px 1px rgba(0, 0, 0, 0.15);\n",
              "      filter: drop-shadow(0px 1px 2px rgba(0, 0, 0, 0.3));\n",
              "      fill: #FFFFFF;\n",
              "    }\n",
              "  </style>\n",
              "\n",
              "      <script>\n",
              "        const buttonEl =\n",
              "          document.querySelector('#df-0f25779c-6e09-4983-aef4-079030afc1af button.colab-df-convert');\n",
              "        buttonEl.style.display =\n",
              "          google.colab.kernel.accessAllowed ? 'block' : 'none';\n",
              "\n",
              "        async function convertToInteractive(key) {\n",
              "          const element = document.querySelector('#df-0f25779c-6e09-4983-aef4-079030afc1af');\n",
              "          const dataTable =\n",
              "            await google.colab.kernel.invokeFunction('convertToInteractive',\n",
              "                                                     [key], {});\n",
              "          if (!dataTable) return;\n",
              "\n",
              "          const docLinkHtml = 'Like what you see? Visit the ' +\n",
              "            '<a target=\"_blank\" href=https://colab.research.google.com/notebooks/data_table.ipynb>data table notebook</a>'\n",
              "            + ' to learn more about interactive tables.';\n",
              "          element.innerHTML = '';\n",
              "          dataTable['output_type'] = 'display_data';\n",
              "          await google.colab.output.renderOutput(dataTable, element);\n",
              "          const docLink = document.createElement('div');\n",
              "          docLink.innerHTML = docLinkHtml;\n",
              "          element.appendChild(docLink);\n",
              "        }\n",
              "      </script>\n",
              "    </div>\n",
              "  </div>\n",
              "  "
            ]
          },
          "metadata": {},
          "execution_count": 93
        }
      ],
      "source": [
        "# Change data to Monthly format\n",
        "monthly_sp = df_sp.resample('M', label='right', \n",
        "                            closed='right', on='Date').sum().reset_index().sort_values(by='Date')\n",
        "monthly_sp"
      ]
    },
    {
      "cell_type": "code",
      "execution_count": null,
      "id": "_XmEOx08kZwT",
      "metadata": {
        "colab": {
          "base_uri": "https://localhost:8080/",
          "height": 244
        },
        "id": "_XmEOx08kZwT",
        "outputId": "601ef3f7-702a-427a-80a7-091e593a58a2"
      },
      "outputs": [
        {
          "output_type": "execute_result",
          "data": {
            "text/plain": [
              "<matplotlib.axes._subplots.AxesSubplot at 0x7fb6ba927d90>"
            ]
          },
          "metadata": {},
          "execution_count": 108
        },
        {
          "output_type": "display_data",
          "data": {
            "text/plain": [
              "<Figure size 864x216 with 1 Axes>"
            ],
            "image/png": "[encoded data removed]"
          },
          "metadata": {
            "needs_background": "light"
          }
        }
      ],
      "source": [
        "from datetime import date, timedelta\n",
        "import calendar\n",
        "sp_list = monthly_sp['Close'].tolist()\n",
        "\n",
        "#Draw the graph for S&P 500\n",
        "date = datetime.now()\n",
        "month = date.replace(day = calendar.monthrange(date.year, date.month)[1])\n",
        "#d1 = today.strftime(\"%m/%d/%y\")\n",
        "sp_m = pd.Series(sp_list, index= pd.date_range(\"1/1/2018\",\"11/30/2022\", freq = \"M\"))\n",
        "sp_m.plot(title=\"S&P 500 rate\", figsize= (12,3))\n"
      ]
    },
    {
      "cell_type": "code",
      "source": [
        "# print(55.85400626/4) \n",
        "# print(19.85506546/4)"
      ],
      "metadata": {
        "id": "A5uwOoIN9uik"
      },
      "id": "A5uwOoIN9uik",
      "execution_count": null,
      "outputs": []
    },
    {
      "cell_type": "code",
      "execution_count": null,
      "id": "3BIFEbSymNJd",
      "metadata": {
        "colab": {
          "base_uri": "https://localhost:8080/",
          "height": 918
        },
        "id": "3BIFEbSymNJd",
        "outputId": "97aaa460-4d19-4709-a961-324a3dfc2bf9"
      },
      "outputs": [
        {
          "output_type": "stream",
          "name": "stderr",
          "text": [
            "/usr/local/lib/python3.8/dist-packages/statsmodels/tsa/regime_switching/markov_switching.py:1283: EstimationWarning: Invalid regime transition probabilities estimated in EM iteration; probabilities have been re-scaled to continue estimation.\n",
            "  warnings.warn('Invalid regime transition probabilities'\n",
            "/usr/local/lib/python3.8/dist-packages/statsmodels/tsa/regime_switching/markov_switching.py:1283: EstimationWarning: Invalid regime transition probabilities estimated in EM iteration; probabilities have been re-scaled to continue estimation.\n",
            "  warnings.warn('Invalid regime transition probabilities'\n",
            "/usr/local/lib/python3.8/dist-packages/statsmodels/tsa/regime_switching/markov_switching.py:1283: EstimationWarning: Invalid regime transition probabilities estimated in EM iteration; probabilities have been re-scaled to continue estimation.\n",
            "  warnings.warn('Invalid regime transition probabilities'\n",
            "/usr/local/lib/python3.8/dist-packages/statsmodels/tsa/regime_switching/markov_switching.py:1283: EstimationWarning: Invalid regime transition probabilities estimated in EM iteration; probabilities have been re-scaled to continue estimation.\n",
            "  warnings.warn('Invalid regime transition probabilities'\n",
            "/usr/local/lib/python3.8/dist-packages/statsmodels/tsa/regime_switching/markov_switching.py:1283: EstimationWarning: Invalid regime transition probabilities estimated in EM iteration; probabilities have been re-scaled to continue estimation.\n",
            "  warnings.warn('Invalid regime transition probabilities'\n",
            "/usr/local/lib/python3.8/dist-packages/statsmodels/base/model.py:566: ConvergenceWarning: Maximum Likelihood optimization failed to converge. Check mle_retvals\n",
            "  warnings.warn(\"Maximum Likelihood optimization failed to \"\n"
          ]
        },
        {
          "output_type": "execute_result",
          "data": {
            "text/plain": [
              "<class 'statsmodels.iolib.summary.Summary'>\n",
              "\"\"\"\n",
              "                        Markov Switching Model Results                        \n",
              "==============================================================================\n",
              "Dep. Variable:                      y   No. Observations:                   59\n",
              "Model:               MarkovRegression   Log Likelihood                -619.047\n",
              "Date:                Fri, 02 Dec 2022   AIC                           1258.094\n",
              "Time:                        22:42:51   BIC                           1278.869\n",
              "Sample:                    01-31-2018   HQIC                          1266.204\n",
              "                         - 11-30-2022                                         \n",
              "Covariance Type:               approx                                         \n",
              "                             Regime 0 parameters                              \n",
              "==============================================================================\n",
              "                 coef    std err          z      P>|z|      [0.025      0.975]\n",
              "------------------------------------------------------------------------------\n",
              "const       5.893e+04   1837.262     32.072      0.000    5.53e+04    6.25e+04\n",
              "                             Regime 1 parameters                              \n",
              "==============================================================================\n",
              "                 coef    std err          z      P>|z|      [0.025      0.975]\n",
              "------------------------------------------------------------------------------\n",
              "const       6.091e+04   2382.297     25.568      0.000    5.62e+04    6.56e+04\n",
              "                             Regime 2 parameters                              \n",
              "==============================================================================\n",
              "                 coef    std err          z      P>|z|      [0.025      0.975]\n",
              "------------------------------------------------------------------------------\n",
              "const       8.183e+04   1494.033     54.773      0.000    7.89e+04    8.48e+04\n",
              "                           Non-switching parameters                           \n",
              "==============================================================================\n",
              "                 coef    std err          z      P>|z|      [0.025      0.975]\n",
              "------------------------------------------------------------------------------\n",
              "sigma2      4.895e+07      0.187   2.62e+08      0.000     4.9e+07     4.9e+07\n",
              "                         Regime transition parameters                         \n",
              "==============================================================================\n",
              "                 coef    std err          z      P>|z|      [0.025      0.975]\n",
              "------------------------------------------------------------------------------\n",
              "p[0->0]        0.4152      0.000    844.740      0.000       0.414       0.416\n",
              "p[1->0]        0.9557      0.053     18.176      0.000       0.853       1.059\n",
              "p[2->0]     1.034e-96        nan        nan        nan         nan         nan\n",
              "p[0->1]        0.5848   3.28e-06   1.79e+05      0.000       0.585       0.585\n",
              "p[1->1]             0        nan        nan        nan         nan         nan\n",
              "p[2->1]        0.0179      0.022      0.811      0.417      -0.025       0.061\n",
              "==============================================================================\n",
              "\n",
              "Warnings:\n",
              "[1] Covariance matrix calculated using numerical (complex-step) differentiation.\n",
              "[2] Covariance matrix is singular or near-singular, with condition number 6.4e+23. Standard errors may be unstable.\n",
              "\"\"\""
            ],
            "text/html": [
              "<table class=\"simpletable\">\n",
              "<caption>Markov Switching Model Results</caption>\n",
              "<tr>\n",
              "  <th>Dep. Variable:</th>           <td>y</td>        <th>  No. Observations:  </th>    <td>59</td>   \n",
              "</tr>\n",
              "<tr>\n",
              "  <th>Model:</th>           <td>MarkovRegression</td> <th>  Log Likelihood     </th> <td>-619.047</td>\n",
              "</tr>\n",
              "<tr>\n",
              "  <th>Date:</th>            <td>Fri, 02 Dec 2022</td> <th>  AIC                </th> <td>1258.094</td>\n",
              "</tr>\n",
              "<tr>\n",
              "  <th>Time:</th>                <td>22:42:51</td>     <th>  BIC                </th> <td>1278.869</td>\n",
              "</tr>\n",
              "<tr>\n",
              "  <th>Sample:</th>             <td>01-31-2018</td>    <th>  HQIC               </th> <td>1266.204</td>\n",
              "</tr>\n",
              "<tr>\n",
              "  <th></th>                   <td>- 11-30-2022</td>   <th>                     </th>     <td> </td>   \n",
              "</tr>\n",
              "<tr>\n",
              "  <th>Covariance Type:</th>      <td>approx</td>      <th>                     </th>     <td> </td>   \n",
              "</tr>\n",
              "</table>\n",
              "<table class=\"simpletable\">\n",
              "<caption>Regime 0 parameters</caption>\n",
              "<tr>\n",
              "    <td></td>       <th>coef</th>     <th>std err</th>      <th>z</th>      <th>P>|z|</th>  <th>[0.025</th>    <th>0.975]</th>  \n",
              "</tr>\n",
              "<tr>\n",
              "  <th>const</th> <td> 5.893e+04</td> <td> 1837.262</td> <td>   32.072</td> <td> 0.000</td> <td> 5.53e+04</td> <td> 6.25e+04</td>\n",
              "</tr>\n",
              "</table>\n",
              "<table class=\"simpletable\">\n",
              "<caption>Regime 1 parameters</caption>\n",
              "<tr>\n",
              "    <td></td>       <th>coef</th>     <th>std err</th>      <th>z</th>      <th>P>|z|</th>  <th>[0.025</th>    <th>0.975]</th>  \n",
              "</tr>\n",
              "<tr>\n",
              "  <th>const</th> <td> 6.091e+04</td> <td> 2382.297</td> <td>   25.568</td> <td> 0.000</td> <td> 5.62e+04</td> <td> 6.56e+04</td>\n",
              "</tr>\n",
              "</table>\n",
              "<table class=\"simpletable\">\n",
              "<caption>Regime 2 parameters</caption>\n",
              "<tr>\n",
              "    <td></td>       <th>coef</th>     <th>std err</th>      <th>z</th>      <th>P>|z|</th>  <th>[0.025</th>    <th>0.975]</th>  \n",
              "</tr>\n",
              "<tr>\n",
              "  <th>const</th> <td> 8.183e+04</td> <td> 1494.033</td> <td>   54.773</td> <td> 0.000</td> <td> 7.89e+04</td> <td> 8.48e+04</td>\n",
              "</tr>\n",
              "</table>\n",
              "<table class=\"simpletable\">\n",
              "<caption>Non-switching parameters</caption>\n",
              "<tr>\n",
              "     <td></td>       <th>coef</th>     <th>std err</th>      <th>z</th>      <th>P>|z|</th>  <th>[0.025</th>    <th>0.975]</th>  \n",
              "</tr>\n",
              "<tr>\n",
              "  <th>sigma2</th> <td> 4.895e+07</td> <td>    0.187</td> <td> 2.62e+08</td> <td> 0.000</td> <td>  4.9e+07</td> <td>  4.9e+07</td>\n",
              "</tr>\n",
              "</table>\n",
              "<table class=\"simpletable\">\n",
              "<caption>Regime transition parameters</caption>\n",
              "<tr>\n",
              "     <td></td>        <th>coef</th>     <th>std err</th>      <th>z</th>      <th>P>|z|</th>  <th>[0.025</th>    <th>0.975]</th>  \n",
              "</tr>\n",
              "<tr>\n",
              "  <th>p[0->0]</th> <td>    0.4152</td> <td>    0.000</td> <td>  844.740</td> <td> 0.000</td> <td>    0.414</td> <td>    0.416</td>\n",
              "</tr>\n",
              "<tr>\n",
              "  <th>p[1->0]</th> <td>    0.9557</td> <td>    0.053</td> <td>   18.176</td> <td> 0.000</td> <td>    0.853</td> <td>    1.059</td>\n",
              "</tr>\n",
              "<tr>\n",
              "  <th>p[2->0]</th> <td> 1.034e-96</td> <td>      nan</td> <td>      nan</td> <td>   nan</td> <td>      nan</td> <td>      nan</td>\n",
              "</tr>\n",
              "<tr>\n",
              "  <th>p[0->1]</th> <td>    0.5848</td> <td> 3.28e-06</td> <td> 1.79e+05</td> <td> 0.000</td> <td>    0.585</td> <td>    0.585</td>\n",
              "</tr>\n",
              "<tr>\n",
              "  <th>p[1->1]</th> <td>         0</td> <td>      nan</td> <td>      nan</td> <td>   nan</td> <td>      nan</td> <td>      nan</td>\n",
              "</tr>\n",
              "<tr>\n",
              "  <th>p[2->1]</th> <td>    0.0179</td> <td>    0.022</td> <td>    0.811</td> <td> 0.417</td> <td>   -0.025</td> <td>    0.061</td>\n",
              "</tr>\n",
              "</table><br/><br/>Warnings:<br/>[1] Covariance matrix calculated using numerical (complex-step) differentiation.<br/>[2] Covariance matrix is singular or near-singular, with condition number 6.4e+23. Standard errors may be unstable."
            ]
          },
          "metadata": {},
          "execution_count": 110
        }
      ],
      "source": [
        "# Build up Markov model:\n",
        "mod_sp = sm.tsa.MarkovRegression(sp_m, k_regimes = 3)\n",
        "res_sp = mod_sp.fit()\n",
        "res_sp.summary()"
      ]
    },
    {
      "cell_type": "code",
      "execution_count": null,
      "metadata": {
        "colab": {
          "base_uri": "https://localhost:8080/",
          "height": 265
        },
        "outputId": "1a6b2f83-b985-4bf9-af3a-4fde65b3a99a",
        "id": "xUOLFCJCCOPL"
      },
      "outputs": [
        {
          "output_type": "display_data",
          "data": {
            "text/plain": [
              "<Figure size 432x288 with 1 Axes>"
            ],
            "image/png": "[encoded data removed]"
          },
          "metadata": {
            "needs_background": "light"
          }
        }
      ],
      "source": [
        "# Show three regimes:\n",
        "for i in range(3):\n",
        "  res_sp.filtered_marginal_probabilities[i].plot(\n",
        "      label = f'{i}'\n",
        "  )\n",
        "      \n",
        "  plt.legend()"
      ],
      "id": "xUOLFCJCCOPL"
    },
    {
      "cell_type": "code",
      "execution_count": null,
      "metadata": {
        "colab": {
          "base_uri": "https://localhost:8080/",
          "height": 265
        },
        "outputId": "c1757423-6680-4597-e253-008286c1cda2",
        "id": "s_8pB16WCBVQ"
      },
      "outputs": [
        {
          "output_type": "display_data",
          "data": {
            "text/plain": [
              "<Figure size 432x288 with 1 Axes>"
            ],
            "image/png": "[encoded data removed]"
          },
          "metadata": {
            "needs_background": "light"
          }
        }
      ],
      "source": [
        "# Show three regimes:\n",
        "for i in range(3):\n",
        "  res_sp.predicted_marginal_probabilities[i].plot(\n",
        "      label = f'{i}'\n",
        "  )\n",
        "      \n",
        "  plt.legend()"
      ],
      "id": "s_8pB16WCBVQ"
    },
    {
      "cell_type": "code",
      "execution_count": null,
      "id": "TEjVt7sLmkLu",
      "metadata": {
        "colab": {
          "base_uri": "https://localhost:8080/",
          "height": 265
        },
        "id": "TEjVt7sLmkLu",
        "outputId": "5d5018c4-4f39-46be-cfde-ed3eef356213"
      },
      "outputs": [
        {
          "output_type": "display_data",
          "data": {
            "text/plain": [
              "<Figure size 432x288 with 1 Axes>"
            ],
            "image/png": "[encoded data removed]"
          },
          "metadata": {
            "needs_background": "light"
          }
        }
      ],
      "source": [
        "# Show three regimes:\n",
        "for i in range(3):\n",
        "  res_sp.smoothed_marginal_probabilities[i].plot(\n",
        "      label = f'{i}'\n",
        "  )\n",
        "      \n",
        "  plt.legend()"
      ]
    },
    {
      "cell_type": "code",
      "execution_count": null,
      "id": "YtBhFDgpmnex",
      "metadata": {
        "colab": {
          "base_uri": "https://localhost:8080/",
          "height": 485
        },
        "id": "YtBhFDgpmnex",
        "outputId": "ae250496-99c6-448f-fb24-80bdfa2ad312"
      },
      "outputs": [
        {
          "output_type": "display_data",
          "data": {
            "text/plain": [
              "<Figure size 864x144 with 1 Axes>"
            ],
            "image/png": "[encoded data removed]"
          },
          "metadata": {
            "needs_background": "light"
          }
        },
        {
          "output_type": "display_data",
          "data": {
            "text/plain": [
              "<Figure size 864x144 with 1 Axes>"
            ],
            "image/png": "[encoded data removed]"
          },
          "metadata": {
            "needs_background": "light"
          }
        },
        {
          "output_type": "display_data",
          "data": {
            "text/plain": [
              "<Figure size 864x144 with 1 Axes>"
            ],
            "image/png": "[encoded data removed]"
          },
          "metadata": {
            "needs_background": "light"
          }
        }
      ],
      "source": [
        "for i in range(3):\n",
        "  f, ax = plt.subplots(figsize=(12,2))\n",
        "  res_sp.smoothed_marginal_probabilities[i].plot(\n",
        "      label = f'{i}'\n",
        "  )\n",
        "  ax.set_title(f\"{i}th regime\")\n",
        "  plt.legend()\n",
        "  plt.show()"
      ]
    },
    {
      "cell_type": "code",
      "execution_count": null,
      "id": "d5tTY41bnLfF",
      "metadata": {
        "colab": {
          "base_uri": "https://localhost:8080/"
        },
        "id": "d5tTY41bnLfF",
        "outputId": "494dcca4-6196-4621-d6a8-869836b03c07"
      },
      "outputs": [
        {
          "output_type": "stream",
          "name": "stdout",
          "text": [
            "[ 1.70999045  1.         55.76183427]\n"
          ]
        }
      ],
      "source": [
        "print(res_sp.expected_durations)"
      ]
    },
    {
      "cell_type": "code",
      "source": [
        "for i in res_sp.expected_durations:\n",
        " print(f\"{i/12} Year\")\n"
      ],
      "metadata": {
        "colab": {
          "base_uri": "https://localhost:8080/"
        },
        "id": "yOyItA5H-Fbl",
        "outputId": "7ccdac1a-6d74-4fc9-b602-ef685d0fa984"
      },
      "id": "yOyItA5H-Fbl",
      "execution_count": null,
      "outputs": [
        {
          "output_type": "stream",
          "name": "stdout",
          "text": [
            "0.14249920380593648 Year\n",
            "0.08333333333333333 Year\n",
            "4.646819522209639 Year\n"
          ]
        }
      ]
    },
    {
      "cell_type": "markdown",
      "id": "Zfrzle0knoEx",
      "metadata": {
        "id": "Zfrzle0knoEx"
      },
      "source": [
        "### ***Model with volatility:***"
      ]
    },
    {
      "cell_type": "code",
      "execution_count": null,
      "id": "N7L298dinfE8",
      "metadata": {
        "id": "N7L298dinfE8",
        "outputId": "660b7ad3-ee5c-4e3c-b24c-b580500bdab5",
        "colab": {
          "base_uri": "https://localhost:8080/"
        }
      },
      "outputs": [
        {
          "output_type": "stream",
          "name": "stderr",
          "text": [
            "/usr/local/lib/python3.8/dist-packages/statsmodels/tsa/regime_switching/markov_switching.py:1283: EstimationWarning: Invalid regime transition probabilities estimated in EM iteration; probabilities have been re-scaled to continue estimation.\n",
            "  warnings.warn('Invalid regime transition probabilities'\n",
            "/usr/local/lib/python3.8/dist-packages/statsmodels/tsa/regime_switching/markov_switching.py:1283: EstimationWarning: Invalid regime transition probabilities estimated in EM iteration; probabilities have been re-scaled to continue estimation.\n",
            "  warnings.warn('Invalid regime transition probabilities'\n",
            "/usr/local/lib/python3.8/dist-packages/statsmodels/tsa/regime_switching/markov_switching.py:1283: EstimationWarning: Invalid regime transition probabilities estimated in EM iteration; probabilities have been re-scaled to continue estimation.\n",
            "  warnings.warn('Invalid regime transition probabilities'\n",
            "/usr/local/lib/python3.8/dist-packages/statsmodels/tsa/regime_switching/markov_switching.py:1283: EstimationWarning: Invalid regime transition probabilities estimated in EM iteration; probabilities have been re-scaled to continue estimation.\n",
            "  warnings.warn('Invalid regime transition probabilities'\n",
            "/usr/local/lib/python3.8/dist-packages/statsmodels/tsa/regime_switching/markov_switching.py:1283: EstimationWarning: Invalid regime transition probabilities estimated in EM iteration; probabilities have been re-scaled to continue estimation.\n",
            "  warnings.warn('Invalid regime transition probabilities'\n"
          ]
        },
        {
          "output_type": "execute_result",
          "data": {
            "text/plain": [
              "<class 'statsmodels.iolib.summary.Summary'>\n",
              "\"\"\"\n",
              "                        Markov Switching Model Results                        \n",
              "==============================================================================\n",
              "Dep. Variable:                      y   No. Observations:                   59\n",
              "Model:               MarkovRegression   Log Likelihood                -744.910\n",
              "Date:                Fri, 02 Dec 2022   AIC                           1507.820\n",
              "Time:                        21:49:38   BIC                           1526.517\n",
              "Sample:                    01-31-2018   HQIC                          1515.119\n",
              "                         - 11-30-2022                                         \n",
              "Covariance Type:               approx                                         \n",
              "                             Regime 0 parameters                              \n",
              "==============================================================================\n",
              "                 coef    std err          z      P>|z|      [0.025      0.975]\n",
              "------------------------------------------------------------------------------\n",
              "sigma2      5.419e+09   1.37e-24   3.97e+33      0.000    5.42e+09    5.42e+09\n",
              "                             Regime 1 parameters                              \n",
              "==============================================================================\n",
              "                 coef    std err          z      P>|z|      [0.025      0.975]\n",
              "------------------------------------------------------------------------------\n",
              "sigma2      5.419e+09    1.2e-11   4.52e+20      0.000    5.42e+09    5.42e+09\n",
              "                             Regime 2 parameters                              \n",
              "==============================================================================\n",
              "                 coef    std err          z      P>|z|      [0.025      0.975]\n",
              "------------------------------------------------------------------------------\n",
              "sigma2       5.42e+09   2.76e-12   1.96e+21      0.000    5.42e+09    5.42e+09\n",
              "                         Regime transition parameters                         \n",
              "==============================================================================\n",
              "                 coef    std err          z      P>|z|      [0.025      0.975]\n",
              "------------------------------------------------------------------------------\n",
              "p[0->0]         1e-20    232.649    4.3e-23      1.000    -455.984     455.984\n",
              "p[1->0]         1e-20    1.5e-06   6.67e-15      1.000   -2.94e-06    2.94e-06\n",
              "p[2->0]         1e-20        nan        nan        nan         nan         nan\n",
              "p[0->1]        1.0000      3.181      0.314      0.753      -5.234       7.234\n",
              "p[1->1]        0.0110      0.015      0.739      0.460      -0.018       0.040\n",
              "p[2->1]        0.0011      3.845      0.000      1.000      -7.534       7.537\n",
              "==============================================================================\n",
              "\n",
              "Warnings:\n",
              "[1] Covariance matrix calculated using numerical (complex-step) differentiation.\n",
              "[2] Covariance matrix is singular or near-singular, with condition number 6.96e+58. Standard errors may be unstable.\n",
              "\"\"\""
            ],
            "text/html": [
              "<table class=\"simpletable\">\n",
              "<caption>Markov Switching Model Results</caption>\n",
              "<tr>\n",
              "  <th>Dep. Variable:</th>           <td>y</td>        <th>  No. Observations:  </th>    <td>59</td>   \n",
              "</tr>\n",
              "<tr>\n",
              "  <th>Model:</th>           <td>MarkovRegression</td> <th>  Log Likelihood     </th> <td>-744.910</td>\n",
              "</tr>\n",
              "<tr>\n",
              "  <th>Date:</th>            <td>Fri, 02 Dec 2022</td> <th>  AIC                </th> <td>1507.820</td>\n",
              "</tr>\n",
              "<tr>\n",
              "  <th>Time:</th>                <td>21:49:38</td>     <th>  BIC                </th> <td>1526.517</td>\n",
              "</tr>\n",
              "<tr>\n",
              "  <th>Sample:</th>             <td>01-31-2018</td>    <th>  HQIC               </th> <td>1515.119</td>\n",
              "</tr>\n",
              "<tr>\n",
              "  <th></th>                   <td>- 11-30-2022</td>   <th>                     </th>     <td> </td>   \n",
              "</tr>\n",
              "<tr>\n",
              "  <th>Covariance Type:</th>      <td>approx</td>      <th>                     </th>     <td> </td>   \n",
              "</tr>\n",
              "</table>\n",
              "<table class=\"simpletable\">\n",
              "<caption>Regime 0 parameters</caption>\n",
              "<tr>\n",
              "     <td></td>       <th>coef</th>     <th>std err</th>      <th>z</th>      <th>P>|z|</th>  <th>[0.025</th>    <th>0.975]</th>  \n",
              "</tr>\n",
              "<tr>\n",
              "  <th>sigma2</th> <td> 5.419e+09</td> <td> 1.37e-24</td> <td> 3.97e+33</td> <td> 0.000</td> <td> 5.42e+09</td> <td> 5.42e+09</td>\n",
              "</tr>\n",
              "</table>\n",
              "<table class=\"simpletable\">\n",
              "<caption>Regime 1 parameters</caption>\n",
              "<tr>\n",
              "     <td></td>       <th>coef</th>     <th>std err</th>      <th>z</th>      <th>P>|z|</th>  <th>[0.025</th>    <th>0.975]</th>  \n",
              "</tr>\n",
              "<tr>\n",
              "  <th>sigma2</th> <td> 5.419e+09</td> <td>  1.2e-11</td> <td> 4.52e+20</td> <td> 0.000</td> <td> 5.42e+09</td> <td> 5.42e+09</td>\n",
              "</tr>\n",
              "</table>\n",
              "<table class=\"simpletable\">\n",
              "<caption>Regime 2 parameters</caption>\n",
              "<tr>\n",
              "     <td></td>       <th>coef</th>     <th>std err</th>      <th>z</th>      <th>P>|z|</th>  <th>[0.025</th>    <th>0.975]</th>  \n",
              "</tr>\n",
              "<tr>\n",
              "  <th>sigma2</th> <td>  5.42e+09</td> <td> 2.76e-12</td> <td> 1.96e+21</td> <td> 0.000</td> <td> 5.42e+09</td> <td> 5.42e+09</td>\n",
              "</tr>\n",
              "</table>\n",
              "<table class=\"simpletable\">\n",
              "<caption>Regime transition parameters</caption>\n",
              "<tr>\n",
              "     <td></td>        <th>coef</th>     <th>std err</th>      <th>z</th>      <th>P>|z|</th>  <th>[0.025</th>    <th>0.975]</th>  \n",
              "</tr>\n",
              "<tr>\n",
              "  <th>p[0->0]</th> <td>     1e-20</td> <td>  232.649</td> <td>  4.3e-23</td> <td> 1.000</td> <td> -455.984</td> <td>  455.984</td>\n",
              "</tr>\n",
              "<tr>\n",
              "  <th>p[1->0]</th> <td>     1e-20</td> <td>  1.5e-06</td> <td> 6.67e-15</td> <td> 1.000</td> <td>-2.94e-06</td> <td> 2.94e-06</td>\n",
              "</tr>\n",
              "<tr>\n",
              "  <th>p[2->0]</th> <td>     1e-20</td> <td>      nan</td> <td>      nan</td> <td>   nan</td> <td>      nan</td> <td>      nan</td>\n",
              "</tr>\n",
              "<tr>\n",
              "  <th>p[0->1]</th> <td>    1.0000</td> <td>    3.181</td> <td>    0.314</td> <td> 0.753</td> <td>   -5.234</td> <td>    7.234</td>\n",
              "</tr>\n",
              "<tr>\n",
              "  <th>p[1->1]</th> <td>    0.0110</td> <td>    0.015</td> <td>    0.739</td> <td> 0.460</td> <td>   -0.018</td> <td>    0.040</td>\n",
              "</tr>\n",
              "<tr>\n",
              "  <th>p[2->1]</th> <td>    0.0011</td> <td>    3.845</td> <td>    0.000</td> <td> 1.000</td> <td>   -7.534</td> <td>    7.537</td>\n",
              "</tr>\n",
              "</table><br/><br/>Warnings:<br/>[1] Covariance matrix calculated using numerical (complex-step) differentiation.<br/>[2] Covariance matrix is singular or near-singular, with condition number 6.96e+58. Standard errors may be unstable."
            ]
          },
          "metadata": {},
          "execution_count": 22
        }
      ],
      "source": [
        "# Make trend='n' and switching_variance=True\n",
        "vola_sp = sm.tsa.MarkovRegression(sp_m, k_regimes = 3,trend='n', switching_trend=False, switching_exog=False, switching_variance=True)\n",
        "vola_res_sp = vola_sp.fit()\n",
        "vola_res_sp.summary()"
      ]
    },
    {
      "cell_type": "code",
      "execution_count": null,
      "id": "IhUlsEnvnuR5",
      "metadata": {
        "colab": {
          "base_uri": "https://localhost:8080/",
          "height": 485
        },
        "id": "IhUlsEnvnuR5",
        "outputId": "989f0e36-52d5-4674-c24e-138492f3ae33"
      },
      "outputs": [
        {
          "output_type": "display_data",
          "data": {
            "text/plain": [
              "<Figure size 864x144 with 1 Axes>"
            ],
            "image/png": "[encoded data removed]"
          },
          "metadata": {
            "needs_background": "light"
          }
        },
        {
          "output_type": "display_data",
          "data": {
            "text/plain": [
              "<Figure size 864x144 with 1 Axes>"
            ],
            "image/png": "[encoded data removed]"
          },
          "metadata": {
            "needs_background": "light"
          }
        },
        {
          "output_type": "display_data",
          "data": {
            "text/plain": [
              "<Figure size 864x144 with 1 Axes>"
            ],
            "image/png": "[encoded data removed]"
          },
          "metadata": {
            "needs_background": "light"
          }
        }
      ],
      "source": [
        "for i in range(3):\n",
        "  f, ax = plt.subplots(figsize=(12,2))\n",
        "  vola_res_sp.smoothed_marginal_probabilities[i].plot(\n",
        "      label = f'{i}'\n",
        "  )\n",
        "  ax.set_title(f\"{i}th regime\")\n",
        "  plt.legend()\n",
        "  plt.grid()\n",
        "  plt.show()"
      ]
    },
    {
      "cell_type": "code",
      "source": [
        "print(1e-8+9.988872e-1 )"
      ],
      "metadata": {
        "colab": {
          "base_uri": "https://localhost:8080/"
        },
        "id": "hrrMb5ySEuNY",
        "outputId": "171ffbce-5075-4cc0-e0d8-a5b8f59ec2eb"
      },
      "id": "hrrMb5ySEuNY",
      "execution_count": null,
      "outputs": [
        {
          "output_type": "stream",
          "name": "stdout",
          "text": [
            "0.99888721\n"
          ]
        }
      ]
    },
    {
      "cell_type": "code",
      "source": [
        "print(1e-8+1.1127e-3)"
      ],
      "metadata": {
        "colab": {
          "base_uri": "https://localhost:8080/"
        },
        "id": "RM2erPlXFNwR",
        "outputId": "ec052301-b0f9-4691-87d2-4fc1d7858a09"
      },
      "id": "RM2erPlXFNwR",
      "execution_count": null,
      "outputs": [
        {
          "output_type": "stream",
          "name": "stdout",
          "text": [
            "0.00111271\n"
          ]
        }
      ]
    },
    {
      "cell_type": "markdown",
      "source": [
        "0th regime's negative probability => could be numerical error \n",
        "covarience number could be huge\n"
      ],
      "metadata": {
        "id": "XCaArhXKFov9"
      },
      "id": "XCaArhXKFov9"
    },
    {
      "cell_type": "code",
      "source": [
        "fig, ax = plt.subplots(1, constrained_layout=True)\n",
        "data_ret = data.resample('W').last().pct_change().dropna() * 100 # Get weekly returns in percent change\n",
        "data_ret.plot(title='Excess returns', figsize=(12, 3), ax=ax)\n",
        "ax.fill_between(usrec.index, ax.get_ylim()[0], ax.get_ylim()[1], where=usrec[\"USREC\"].values, color=\"k\", alpha=0.1)\n",
        "# fig.tight_layout()"
      ],
      "metadata": {
        "id": "QXZ8JkrIFTky"
      },
      "id": "QXZ8JkrIFTky",
      "execution_count": null,
      "outputs": []
    },
    {
      "cell_type": "code",
      "execution_count": null,
      "id": "lHxZNIbxE8bj",
      "metadata": {
        "colab": {
          "base_uri": "https://localhost:8080/"
        },
        "id": "lHxZNIbxE8bj",
        "outputId": "2356d587-13e5-4d93-d4fa-dc173cabf52e"
      },
      "outputs": [
        {
          "output_type": "stream",
          "name": "stdout",
          "text": [
            "[  1.           1.01115803 907.65870486]\n"
          ]
        }
      ],
      "source": [
        "print(vola_res_sp.expected_durations)"
      ]
    },
    {
      "cell_type": "code",
      "source": [],
      "metadata": {
        "id": "eC0WfgVTOnXe"
      },
      "id": "eC0WfgVTOnXe",
      "execution_count": null,
      "outputs": []
    },
    {
      "cell_type": "markdown",
      "id": "PIAqFp0dehGG",
      "metadata": {
        "id": "PIAqFp0dehGG"
      },
      "source": [
        "It's good to use k_regimes = 3 at this point. \n",
        "Not actually classifying as regime right now. \n",
        "All the probability is in regime => labling regimes is the next step\n",
        "Labling Maximun probability Regime would be currently best idea. "
      ]
    },
    {
      "cell_type": "markdown",
      "id": "bkrxqqiblC7T",
      "metadata": {
        "id": "bkrxqqiblC7T"
      },
      "source": [
        "Probabilities time steps within the regime\n",
        "1th, 2nd All the y values are 0. ( above there were only 3 liines  even though regime where 5) => didn't evene shouw up. So the three regimes would be optimal number. None zero (0th, 3th, 4th)  1th even though there are movement, y value is so small.\n",
        "\n",
        " reuse plotting code and the ideas i shared for volatility regime fitting. the only difference is you're fitting based on variance instead of the raw value trends. everything else is the same (regime probabilities, etc.)\n",
        "\n"
      ]
    },
    {
      "cell_type": "markdown",
      "id": "JVbLYx5_mxA7",
      "metadata": {
        "id": "JVbLYx5_mxA7"
      },
      "source": [
        "This is fitting to local optimal.\n",
        "The result is not significantly different with 5. But randomize process is needed? \n",
        "\n",
        "*****Explore why it's different.(with k_regime = 5) *******\n",
        "ex) 4 or...3.. 5... \n",
        "\n",
        "Rerun multiple time to see if the results are different. (5 & 3) \n",
        "=> comes up with very different results. \n",
        "\n",
        "+ additionally we can figure it out, how they are different quantatively. \n",
        "(labeling...etc....) \n",
        "\n"
      ]
    },
    {
      "cell_type": "markdown",
      "id": "Jwje9rwIoOnX",
      "metadata": {
        "id": "Jwje9rwIoOnX"
      },
      "source": [
        "### *Model based on the volatility:* \n",
        "        #switching_trend=False, switching_exog=True, switching_variance=True,\n",
        "        Do the resampling \n",
        "        USD- > Percentage change \n",
        "  \n",
        "  \n",
        "  ****** trend=’n’, switching_variance=True *******\n",
        "  [link text](https://)"
      ]
    },
    {
      "cell_type": "markdown",
      "id": "eca8a924",
      "metadata": {
        "id": "eca8a924"
      },
      "source": [
        "Switching intercept and lagged dependent variable"
      ]
    },
    {
      "cell_type": "markdown",
      "id": "2381113a",
      "metadata": {
        "id": "2381113a"
      },
      "source": [
        "## **Taylor rule with 2 or 3 regimes**\n",
        "\n",
        "Taylor-type rule with both 2 and 3 regimes to see which fits the data better. \n",
        "We employ a search over starting parameters to improve results, specifying 20 random search repetitions. \n",
        "* Seems like we have only 1 regime."
      ]
    },
    {
      "cell_type": "markdown",
      "id": "ERIrK6dG_FaU",
      "metadata": {
        "id": "ERIrK6dG_FaU"
      },
      "source": [
        "We now include two additional exogenous variables - a measure of the gap and a measure of inflation - into the S&P 500 data to estimate a switching Taylor-type rule with 3 regimes (which is better to fit in the data)."
      ]
    },
    {
      "cell_type": "markdown",
      "id": "dfKC8LzYolCA",
      "metadata": {
        "id": "dfKC8LzYolCA"
      },
      "source": [
        "***Import inflation rate data csv file:***"
      ]
    },
    {
      "cell_type": "code",
      "execution_count": null,
      "id": "Xk1H3qXMF8eh",
      "metadata": {
        "colab": {
          "base_uri": "https://localhost:8080/"
        },
        "id": "Xk1H3qXMF8eh",
        "outputId": "ec639e22-59d4-4e69-d6a3-2b351bc899c6"
      },
      "outputs": [
        {
          "output_type": "stream",
          "name": "stdout",
          "text": [
            "(237, 2)\n"
          ]
        }
      ],
      "source": [
        "# Import inflation csv file\n",
        "response = requests.get('https://docs.google.com/spreadsheets/d/17v0th71AL_VSSZeIBlsSi2rHEY6R6t_Or8os5GUW260/export?format=csv')\n",
        "assert response.status_code == 200, 'Wrong status code'\n",
        "data = response.content\n",
        "inflation = pd.read_csv(BytesIO(data))\n",
        "print(inflation.shape)"
      ]
    },
    {
      "cell_type": "code",
      "execution_count": null,
      "id": "LeoBvNyRrsaP",
      "metadata": {
        "colab": {
          "base_uri": "https://localhost:8080/",
          "height": 206
        },
        "id": "LeoBvNyRrsaP",
        "outputId": "1aa3b2f2-3fb8-491d-b1e0-f36278dc9ded"
      },
      "outputs": [
        {
          "output_type": "execute_result",
          "data": {
            "text/plain": [
              "        DATE  T10YIEM\n",
              "0 2003-01-01     1.76\n",
              "1 2003-02-01     1.91\n",
              "2 2003-03-01     1.87\n",
              "3 2003-04-01     1.78\n",
              "4 2003-05-01     1.66"
            ],
            "text/html": [
              "\n",
              "  <div id=\"df-31dfa6e5-818f-4da4-a1e9-d4f3b62df7e6\">\n",
              "    <div class=\"colab-df-container\">\n",
              "      <div>\n",
              "<style scoped>\n",
              "    .dataframe tbody tr th:only-of-type {\n",
              "        vertical-align: middle;\n",
              "    }\n",
              "\n",
              "    .dataframe tbody tr th {\n",
              "        vertical-align: top;\n",
              "    }\n",
              "\n",
              "    .dataframe thead th {\n",
              "        text-align: right;\n",
              "    }\n",
              "</style>\n",
              "<table border=\"1\" class=\"dataframe\">\n",
              "  <thead>\n",
              "    <tr style=\"text-align: right;\">\n",
              "      <th></th>\n",
              "      <th>DATE</th>\n",
              "      <th>T10YIEM</th>\n",
              "    </tr>\n",
              "  </thead>\n",
              "  <tbody>\n",
              "    <tr>\n",
              "      <th>0</th>\n",
              "      <td>2003-01-01</td>\n",
              "      <td>1.76</td>\n",
              "    </tr>\n",
              "    <tr>\n",
              "      <th>1</th>\n",
              "      <td>2003-02-01</td>\n",
              "      <td>1.91</td>\n",
              "    </tr>\n",
              "    <tr>\n",
              "      <th>2</th>\n",
              "      <td>2003-03-01</td>\n",
              "      <td>1.87</td>\n",
              "    </tr>\n",
              "    <tr>\n",
              "      <th>3</th>\n",
              "      <td>2003-04-01</td>\n",
              "      <td>1.78</td>\n",
              "    </tr>\n",
              "    <tr>\n",
              "      <th>4</th>\n",
              "      <td>2003-05-01</td>\n",
              "      <td>1.66</td>\n",
              "    </tr>\n",
              "  </tbody>\n",
              "</table>\n",
              "</div>\n",
              "      <button class=\"colab-df-convert\" onclick=\"convertToInteractive('df-31dfa6e5-818f-4da4-a1e9-d4f3b62df7e6')\"\n",
              "              title=\"Convert this dataframe to an interactive table.\"\n",
              "              style=\"display:none;\">\n",
              "        \n",
              "  <svg xmlns=\"http://www.w3.org/2000/svg\" height=\"24px\"viewBox=\"0 0 24 24\"\n",
              "       width=\"24px\">\n",
              "    <path d=\"M0 0h24v24H0V0z\" fill=\"none\"/>\n",
              "    <path d=\"M18.56 5.44l.94 2.06.94-2.06 2.06-.94-2.06-.94-.94-2.06-.94 2.06-2.06.94zm-11 1L8.5 8.5l.94-2.06 2.06-.94-2.06-.94L8.5 2.5l-.94 2.06-2.06.94zm10 10l.94 2.06.94-2.06 2.06-.94-2.06-.94-.94-2.06-.94 2.06-2.06.94z\"/><path d=\"M17.41 7.96l-1.37-1.37c-.4-.4-.92-.59-1.43-.59-.52 0-1.04.2-1.43.59L10.3 9.45l-7.72 7.72c-.78.78-.78 2.05 0 2.83L4 21.41c.39.39.9.59 1.41.59.51 0 1.02-.2 1.41-.59l7.78-7.78 2.81-2.81c.8-.78.8-2.07 0-2.86zM5.41 20L4 18.59l7.72-7.72 1.47 1.35L5.41 20z\"/>\n",
              "  </svg>\n",
              "      </button>\n",
              "      \n",
              "  <style>\n",
              "    .colab-df-container {\n",
              "      display:flex;\n",
              "      flex-wrap:wrap;\n",
              "      gap: 12px;\n",
              "    }\n",
              "\n",
              "    .colab-df-convert {\n",
              "      background-color: #E8F0FE;\n",
              "      border: none;\n",
              "      border-radius: 50%;\n",
              "      cursor: pointer;\n",
              "      display: none;\n",
              "      fill: #1967D2;\n",
              "      height: 32px;\n",
              "      padding: 0 0 0 0;\n",
              "      width: 32px;\n",
              "    }\n",
              "\n",
              "    .colab-df-convert:hover {\n",
              "      background-color: #E2EBFA;\n",
              "      box-shadow: 0px 1px 2px rgba(60, 64, 67, 0.3), 0px 1px 3px 1px rgba(60, 64, 67, 0.15);\n",
              "      fill: #174EA6;\n",
              "    }\n",
              "\n",
              "    [theme=dark] .colab-df-convert {\n",
              "      background-color: #3B4455;\n",
              "      fill: #D2E3FC;\n",
              "    }\n",
              "\n",
              "    [theme=dark] .colab-df-convert:hover {\n",
              "      background-color: #434B5C;\n",
              "      box-shadow: 0px 1px 3px 1px rgba(0, 0, 0, 0.15);\n",
              "      filter: drop-shadow(0px 1px 2px rgba(0, 0, 0, 0.3));\n",
              "      fill: #FFFFFF;\n",
              "    }\n",
              "  </style>\n",
              "\n",
              "      <script>\n",
              "        const buttonEl =\n",
              "          document.querySelector('#df-31dfa6e5-818f-4da4-a1e9-d4f3b62df7e6 button.colab-df-convert');\n",
              "        buttonEl.style.display =\n",
              "          google.colab.kernel.accessAllowed ? 'block' : 'none';\n",
              "\n",
              "        async function convertToInteractive(key) {\n",
              "          const element = document.querySelector('#df-31dfa6e5-818f-4da4-a1e9-d4f3b62df7e6');\n",
              "          const dataTable =\n",
              "            await google.colab.kernel.invokeFunction('convertToInteractive',\n",
              "                                                     [key], {});\n",
              "          if (!dataTable) return;\n",
              "\n",
              "          const docLinkHtml = 'Like what you see? Visit the ' +\n",
              "            '<a target=\"_blank\" href=https://colab.research.google.com/notebooks/data_table.ipynb>data table notebook</a>'\n",
              "            + ' to learn more about interactive tables.';\n",
              "          element.innerHTML = '';\n",
              "          dataTable['output_type'] = 'display_data';\n",
              "          await google.colab.output.renderOutput(dataTable, element);\n",
              "          const docLink = document.createElement('div');\n",
              "          docLink.innerHTML = docLinkHtml;\n",
              "          element.appendChild(docLink);\n",
              "        }\n",
              "      </script>\n",
              "    </div>\n",
              "  </div>\n",
              "  "
            ]
          },
          "metadata": {},
          "execution_count": 26
        }
      ],
      "source": [
        "# Change date to formal format:\n",
        "inflation['DATE'] = pd.to_datetime(inflation['DATE'])\n",
        "inflation.head()"
      ]
    },
    {
      "cell_type": "code",
      "execution_count": null,
      "id": "M7v8mk2eqKni",
      "metadata": {
        "colab": {
          "base_uri": "https://localhost:8080/",
          "height": 241
        },
        "id": "M7v8mk2eqKni",
        "outputId": "4ec500a2-bef2-4a4c-807c-f7af5a60ae4d"
      },
      "outputs": [
        {
          "output_type": "stream",
          "name": "stderr",
          "text": [
            "<ipython-input-27-f553f05faf39>:2: UserWarning: Boolean Series key will be reindexed to match DataFrame index.\n",
            "  inflation_new = inflation.loc[inflation['DATE']>\"2017-12-01\"][inflation['DATE']<\"2022-8-01\"]\n"
          ]
        },
        {
          "output_type": "execute_result",
          "data": {
            "text/plain": [
              "          DATE  T10YIEM\n",
              "180 2018-01-01     2.04\n",
              "181 2018-02-01     2.10\n",
              "182 2018-03-01     2.09\n",
              "183 2018-04-01     2.13\n",
              "184 2018-05-01     2.14"
            ],
            "text/html": [
              "\n",
              "  <div id=\"df-67cd1fb0-20ce-4c76-91e4-6b27923a4cf8\">\n",
              "    <div class=\"colab-df-container\">\n",
              "      <div>\n",
              "<style scoped>\n",
              "    .dataframe tbody tr th:only-of-type {\n",
              "        vertical-align: middle;\n",
              "    }\n",
              "\n",
              "    .dataframe tbody tr th {\n",
              "        vertical-align: top;\n",
              "    }\n",
              "\n",
              "    .dataframe thead th {\n",
              "        text-align: right;\n",
              "    }\n",
              "</style>\n",
              "<table border=\"1\" class=\"dataframe\">\n",
              "  <thead>\n",
              "    <tr style=\"text-align: right;\">\n",
              "      <th></th>\n",
              "      <th>DATE</th>\n",
              "      <th>T10YIEM</th>\n",
              "    </tr>\n",
              "  </thead>\n",
              "  <tbody>\n",
              "    <tr>\n",
              "      <th>180</th>\n",
              "      <td>2018-01-01</td>\n",
              "      <td>2.04</td>\n",
              "    </tr>\n",
              "    <tr>\n",
              "      <th>181</th>\n",
              "      <td>2018-02-01</td>\n",
              "      <td>2.10</td>\n",
              "    </tr>\n",
              "    <tr>\n",
              "      <th>182</th>\n",
              "      <td>2018-03-01</td>\n",
              "      <td>2.09</td>\n",
              "    </tr>\n",
              "    <tr>\n",
              "      <th>183</th>\n",
              "      <td>2018-04-01</td>\n",
              "      <td>2.13</td>\n",
              "    </tr>\n",
              "    <tr>\n",
              "      <th>184</th>\n",
              "      <td>2018-05-01</td>\n",
              "      <td>2.14</td>\n",
              "    </tr>\n",
              "  </tbody>\n",
              "</table>\n",
              "</div>\n",
              "      <button class=\"colab-df-convert\" onclick=\"convertToInteractive('df-67cd1fb0-20ce-4c76-91e4-6b27923a4cf8')\"\n",
              "              title=\"Convert this dataframe to an interactive table.\"\n",
              "              style=\"display:none;\">\n",
              "        \n",
              "  <svg xmlns=\"http://www.w3.org/2000/svg\" height=\"24px\"viewBox=\"0 0 24 24\"\n",
              "       width=\"24px\">\n",
              "    <path d=\"M0 0h24v24H0V0z\" fill=\"none\"/>\n",
              "    <path d=\"M18.56 5.44l.94 2.06.94-2.06 2.06-.94-2.06-.94-.94-2.06-.94 2.06-2.06.94zm-11 1L8.5 8.5l.94-2.06 2.06-.94-2.06-.94L8.5 2.5l-.94 2.06-2.06.94zm10 10l.94 2.06.94-2.06 2.06-.94-2.06-.94-.94-2.06-.94 2.06-2.06.94z\"/><path d=\"M17.41 7.96l-1.37-1.37c-.4-.4-.92-.59-1.43-.59-.52 0-1.04.2-1.43.59L10.3 9.45l-7.72 7.72c-.78.78-.78 2.05 0 2.83L4 21.41c.39.39.9.59 1.41.59.51 0 1.02-.2 1.41-.59l7.78-7.78 2.81-2.81c.8-.78.8-2.07 0-2.86zM5.41 20L4 18.59l7.72-7.72 1.47 1.35L5.41 20z\"/>\n",
              "  </svg>\n",
              "      </button>\n",
              "      \n",
              "  <style>\n",
              "    .colab-df-container {\n",
              "      display:flex;\n",
              "      flex-wrap:wrap;\n",
              "      gap: 12px;\n",
              "    }\n",
              "\n",
              "    .colab-df-convert {\n",
              "      background-color: #E8F0FE;\n",
              "      border: none;\n",
              "      border-radius: 50%;\n",
              "      cursor: pointer;\n",
              "      display: none;\n",
              "      fill: #1967D2;\n",
              "      height: 32px;\n",
              "      padding: 0 0 0 0;\n",
              "      width: 32px;\n",
              "    }\n",
              "\n",
              "    .colab-df-convert:hover {\n",
              "      background-color: #E2EBFA;\n",
              "      box-shadow: 0px 1px 2px rgba(60, 64, 67, 0.3), 0px 1px 3px 1px rgba(60, 64, 67, 0.15);\n",
              "      fill: #174EA6;\n",
              "    }\n",
              "\n",
              "    [theme=dark] .colab-df-convert {\n",
              "      background-color: #3B4455;\n",
              "      fill: #D2E3FC;\n",
              "    }\n",
              "\n",
              "    [theme=dark] .colab-df-convert:hover {\n",
              "      background-color: #434B5C;\n",
              "      box-shadow: 0px 1px 3px 1px rgba(0, 0, 0, 0.15);\n",
              "      filter: drop-shadow(0px 1px 2px rgba(0, 0, 0, 0.3));\n",
              "      fill: #FFFFFF;\n",
              "    }\n",
              "  </style>\n",
              "\n",
              "      <script>\n",
              "        const buttonEl =\n",
              "          document.querySelector('#df-67cd1fb0-20ce-4c76-91e4-6b27923a4cf8 button.colab-df-convert');\n",
              "        buttonEl.style.display =\n",
              "          google.colab.kernel.accessAllowed ? 'block' : 'none';\n",
              "\n",
              "        async function convertToInteractive(key) {\n",
              "          const element = document.querySelector('#df-67cd1fb0-20ce-4c76-91e4-6b27923a4cf8');\n",
              "          const dataTable =\n",
              "            await google.colab.kernel.invokeFunction('convertToInteractive',\n",
              "                                                     [key], {});\n",
              "          if (!dataTable) return;\n",
              "\n",
              "          const docLinkHtml = 'Like what you see? Visit the ' +\n",
              "            '<a target=\"_blank\" href=https://colab.research.google.com/notebooks/data_table.ipynb>data table notebook</a>'\n",
              "            + ' to learn more about interactive tables.';\n",
              "          element.innerHTML = '';\n",
              "          dataTable['output_type'] = 'display_data';\n",
              "          await google.colab.output.renderOutput(dataTable, element);\n",
              "          const docLink = document.createElement('div');\n",
              "          docLink.innerHTML = docLinkHtml;\n",
              "          element.appendChild(docLink);\n",
              "        }\n",
              "      </script>\n",
              "    </div>\n",
              "  </div>\n",
              "  "
            ]
          },
          "metadata": {},
          "execution_count": 27
        }
      ],
      "source": [
        "# Select only inflation rate from January 2018 to June 2022:\n",
        "inflation_new = inflation.loc[inflation['DATE']>\"2017-12-01\"][inflation['DATE']<\"2022-8-01\"]\n",
        "inflation_new.head()"
      ]
    },
    {
      "cell_type": "markdown",
      "id": "dQRYDzsd_-mM",
      "metadata": {
        "id": "dQRYDzsd_-mM"
      },
      "source": [
        "***Change the S&P 500 data into monthly format:***"
      ]
    },
    {
      "cell_type": "code",
      "execution_count": null,
      "id": "SriW3F5xpnq1",
      "metadata": {
        "colab": {
          "base_uri": "https://localhost:8080/",
          "height": 206
        },
        "id": "SriW3F5xpnq1",
        "outputId": "515bda64-ad50-4fe7-cf6f-0348a4c432d8"
      },
      "outputs": [
        {
          "output_type": "execute_result",
          "data": {
            "text/plain": [
              "        Date      Open      High       Low     Close       Volume\n",
              "0 2018-01-31  58499.42  58724.90  58332.15  58585.88  47016764084\n",
              "1 2018-02-28  51495.12  51986.08  50952.92  51397.95  49680991803\n",
              "2 2018-03-31  56865.06  57231.75  56386.29  56758.25  49520702567\n",
              "3 2018-04-30  55803.01  56134.23  55368.99  55726.13  44339282806\n",
              "4 2018-05-31  59355.84  59620.65  59102.58  59432.86  44387501398"
            ],
            "text/html": [
              "\n",
              "  <div id=\"df-4a16ee86-9a70-490f-b6e2-032a1d798739\">\n",
              "    <div class=\"colab-df-container\">\n",
              "      <div>\n",
              "<style scoped>\n",
              "    .dataframe tbody tr th:only-of-type {\n",
              "        vertical-align: middle;\n",
              "    }\n",
              "\n",
              "    .dataframe tbody tr th {\n",
              "        vertical-align: top;\n",
              "    }\n",
              "\n",
              "    .dataframe thead th {\n",
              "        text-align: right;\n",
              "    }\n",
              "</style>\n",
              "<table border=\"1\" class=\"dataframe\">\n",
              "  <thead>\n",
              "    <tr style=\"text-align: right;\">\n",
              "      <th></th>\n",
              "      <th>Date</th>\n",
              "      <th>Open</th>\n",
              "      <th>High</th>\n",
              "      <th>Low</th>\n",
              "      <th>Close</th>\n",
              "      <th>Volume</th>\n",
              "    </tr>\n",
              "  </thead>\n",
              "  <tbody>\n",
              "    <tr>\n",
              "      <th>0</th>\n",
              "      <td>2018-01-31</td>\n",
              "      <td>58499.42</td>\n",
              "      <td>58724.90</td>\n",
              "      <td>58332.15</td>\n",
              "      <td>58585.88</td>\n",
              "      <td>47016764084</td>\n",
              "    </tr>\n",
              "    <tr>\n",
              "      <th>1</th>\n",
              "      <td>2018-02-28</td>\n",
              "      <td>51495.12</td>\n",
              "      <td>51986.08</td>\n",
              "      <td>50952.92</td>\n",
              "      <td>51397.95</td>\n",
              "      <td>49680991803</td>\n",
              "    </tr>\n",
              "    <tr>\n",
              "      <th>2</th>\n",
              "      <td>2018-03-31</td>\n",
              "      <td>56865.06</td>\n",
              "      <td>57231.75</td>\n",
              "      <td>56386.29</td>\n",
              "      <td>56758.25</td>\n",
              "      <td>49520702567</td>\n",
              "    </tr>\n",
              "    <tr>\n",
              "      <th>3</th>\n",
              "      <td>2018-04-30</td>\n",
              "      <td>55803.01</td>\n",
              "      <td>56134.23</td>\n",
              "      <td>55368.99</td>\n",
              "      <td>55726.13</td>\n",
              "      <td>44339282806</td>\n",
              "    </tr>\n",
              "    <tr>\n",
              "      <th>4</th>\n",
              "      <td>2018-05-31</td>\n",
              "      <td>59355.84</td>\n",
              "      <td>59620.65</td>\n",
              "      <td>59102.58</td>\n",
              "      <td>59432.86</td>\n",
              "      <td>44387501398</td>\n",
              "    </tr>\n",
              "  </tbody>\n",
              "</table>\n",
              "</div>\n",
              "      <button class=\"colab-df-convert\" onclick=\"convertToInteractive('df-4a16ee86-9a70-490f-b6e2-032a1d798739')\"\n",
              "              title=\"Convert this dataframe to an interactive table.\"\n",
              "              style=\"display:none;\">\n",
              "        \n",
              "  <svg xmlns=\"http://www.w3.org/2000/svg\" height=\"24px\"viewBox=\"0 0 24 24\"\n",
              "       width=\"24px\">\n",
              "    <path d=\"M0 0h24v24H0V0z\" fill=\"none\"/>\n",
              "    <path d=\"M18.56 5.44l.94 2.06.94-2.06 2.06-.94-2.06-.94-.94-2.06-.94 2.06-2.06.94zm-11 1L8.5 8.5l.94-2.06 2.06-.94-2.06-.94L8.5 2.5l-.94 2.06-2.06.94zm10 10l.94 2.06.94-2.06 2.06-.94-2.06-.94-.94-2.06-.94 2.06-2.06.94z\"/><path d=\"M17.41 7.96l-1.37-1.37c-.4-.4-.92-.59-1.43-.59-.52 0-1.04.2-1.43.59L10.3 9.45l-7.72 7.72c-.78.78-.78 2.05 0 2.83L4 21.41c.39.39.9.59 1.41.59.51 0 1.02-.2 1.41-.59l7.78-7.78 2.81-2.81c.8-.78.8-2.07 0-2.86zM5.41 20L4 18.59l7.72-7.72 1.47 1.35L5.41 20z\"/>\n",
              "  </svg>\n",
              "      </button>\n",
              "      \n",
              "  <style>\n",
              "    .colab-df-container {\n",
              "      display:flex;\n",
              "      flex-wrap:wrap;\n",
              "      gap: 12px;\n",
              "    }\n",
              "\n",
              "    .colab-df-convert {\n",
              "      background-color: #E8F0FE;\n",
              "      border: none;\n",
              "      border-radius: 50%;\n",
              "      cursor: pointer;\n",
              "      display: none;\n",
              "      fill: #1967D2;\n",
              "      height: 32px;\n",
              "      padding: 0 0 0 0;\n",
              "      width: 32px;\n",
              "    }\n",
              "\n",
              "    .colab-df-convert:hover {\n",
              "      background-color: #E2EBFA;\n",
              "      box-shadow: 0px 1px 2px rgba(60, 64, 67, 0.3), 0px 1px 3px 1px rgba(60, 64, 67, 0.15);\n",
              "      fill: #174EA6;\n",
              "    }\n",
              "\n",
              "    [theme=dark] .colab-df-convert {\n",
              "      background-color: #3B4455;\n",
              "      fill: #D2E3FC;\n",
              "    }\n",
              "\n",
              "    [theme=dark] .colab-df-convert:hover {\n",
              "      background-color: #434B5C;\n",
              "      box-shadow: 0px 1px 3px 1px rgba(0, 0, 0, 0.15);\n",
              "      filter: drop-shadow(0px 1px 2px rgba(0, 0, 0, 0.3));\n",
              "      fill: #FFFFFF;\n",
              "    }\n",
              "  </style>\n",
              "\n",
              "      <script>\n",
              "        const buttonEl =\n",
              "          document.querySelector('#df-4a16ee86-9a70-490f-b6e2-032a1d798739 button.colab-df-convert');\n",
              "        buttonEl.style.display =\n",
              "          google.colab.kernel.accessAllowed ? 'block' : 'none';\n",
              "\n",
              "        async function convertToInteractive(key) {\n",
              "          const element = document.querySelector('#df-4a16ee86-9a70-490f-b6e2-032a1d798739');\n",
              "          const dataTable =\n",
              "            await google.colab.kernel.invokeFunction('convertToInteractive',\n",
              "                                                     [key], {});\n",
              "          if (!dataTable) return;\n",
              "\n",
              "          const docLinkHtml = 'Like what you see? Visit the ' +\n",
              "            '<a target=\"_blank\" href=https://colab.research.google.com/notebooks/data_table.ipynb>data table notebook</a>'\n",
              "            + ' to learn more about interactive tables.';\n",
              "          element.innerHTML = '';\n",
              "          dataTable['output_type'] = 'display_data';\n",
              "          await google.colab.output.renderOutput(dataTable, element);\n",
              "          const docLink = document.createElement('div');\n",
              "          docLink.innerHTML = docLinkHtml;\n",
              "          element.appendChild(docLink);\n",
              "        }\n",
              "      </script>\n",
              "    </div>\n",
              "  </div>\n",
              "  "
            ]
          },
          "metadata": {},
          "execution_count": 28
        }
      ],
      "source": [
        "# Convert daily s&p data into monthly:\n",
        "monthly_sp = df_sp.resample('M', label='right', \n",
        "                            closed='right', on='Date').sum().reset_index().sort_values(by='Date')\n",
        "# Drop 2022-10-30 data because the inflation rate did not come out yet.\n",
        "monthly_sp = monthly_sp.drop(labels=[55,56,57,58],axis=0)\n",
        "monthly_sp.head()"
      ]
    },
    {
      "cell_type": "code",
      "execution_count": null,
      "id": "QK7VNCeMn3iF",
      "metadata": {
        "id": "QK7VNCeMn3iF"
      },
      "outputs": [],
      "source": [
        "#Make the monthly sp data into list\n",
        "sp_listm = monthly_sp['Close'].tolist()\n",
        "\n",
        "sp = pd.Series(sp_listm, index= pd.date_range(\"1/1/2018\",'07/31/2022', freq = \"M\"))"
      ]
    },
    {
      "cell_type": "markdown",
      "id": "4UCJERGcADn1",
      "metadata": {
        "id": "4UCJERGcADn1"
      },
      "source": [
        "***Import GDP csv file and change it to monthly format:***"
      ]
    },
    {
      "cell_type": "code",
      "execution_count": null,
      "id": "X_StWMDep27M",
      "metadata": {
        "colab": {
          "base_uri": "https://localhost:8080/"
        },
        "id": "X_StWMDep27M",
        "outputId": "d6c1d896-852e-4082-80c1-bb03690accce"
      },
      "outputs": [
        {
          "output_type": "stream",
          "name": "stdout",
          "text": [
            "(303, 2)\n"
          ]
        }
      ],
      "source": [
        "# Import GDP csv file\n",
        "response = requests.get('https://docs.google.com/spreadsheets/d/1tYgpA_dlxhMhbaRZ2wxuQA8TIox-h3vAPn_Yd01kgLA/export?format=csv')\n",
        "assert response.status_code == 200, 'Wrong status code'\n",
        "data = response.content\n",
        "gdp = pd.read_csv(BytesIO(data))\n",
        "print(gdp.shape)"
      ]
    },
    {
      "cell_type": "code",
      "execution_count": null,
      "id": "dioJv6PEzJFm",
      "metadata": {
        "colab": {
          "base_uri": "https://localhost:8080/",
          "height": 241
        },
        "id": "dioJv6PEzJFm",
        "outputId": "23a7f988-b00e-4f67-aaa1-c7e106c219e0"
      },
      "outputs": [
        {
          "output_type": "stream",
          "name": "stderr",
          "text": [
            "<ipython-input-31-291781a0acd0>:4: UserWarning: Boolean Series key will be reindexed to match DataFrame index.\n",
            "  gdp_new = gdp.loc[gdp['DATE']>\"2017-12-01\"][gdp['DATE']<\"2022-08-01\"]\n"
          ]
        },
        {
          "output_type": "execute_result",
          "data": {
            "text/plain": [
              "          DATE        GDP\n",
              "284 2018-01-01  20155.486\n",
              "285 2018-04-01  20470.197\n",
              "286 2018-07-01  20687.278\n",
              "287 2018-10-01  20819.269\n",
              "288 2019-01-01  21013.085"
            ],
            "text/html": [
              "\n",
              "  <div id=\"df-eb725daa-42a6-487c-b1f7-4cd8efa5832b\">\n",
              "    <div class=\"colab-df-container\">\n",
              "      <div>\n",
              "<style scoped>\n",
              "    .dataframe tbody tr th:only-of-type {\n",
              "        vertical-align: middle;\n",
              "    }\n",
              "\n",
              "    .dataframe tbody tr th {\n",
              "        vertical-align: top;\n",
              "    }\n",
              "\n",
              "    .dataframe thead th {\n",
              "        text-align: right;\n",
              "    }\n",
              "</style>\n",
              "<table border=\"1\" class=\"dataframe\">\n",
              "  <thead>\n",
              "    <tr style=\"text-align: right;\">\n",
              "      <th></th>\n",
              "      <th>DATE</th>\n",
              "      <th>GDP</th>\n",
              "    </tr>\n",
              "  </thead>\n",
              "  <tbody>\n",
              "    <tr>\n",
              "      <th>284</th>\n",
              "      <td>2018-01-01</td>\n",
              "      <td>20155.486</td>\n",
              "    </tr>\n",
              "    <tr>\n",
              "      <th>285</th>\n",
              "      <td>2018-04-01</td>\n",
              "      <td>20470.197</td>\n",
              "    </tr>\n",
              "    <tr>\n",
              "      <th>286</th>\n",
              "      <td>2018-07-01</td>\n",
              "      <td>20687.278</td>\n",
              "    </tr>\n",
              "    <tr>\n",
              "      <th>287</th>\n",
              "      <td>2018-10-01</td>\n",
              "      <td>20819.269</td>\n",
              "    </tr>\n",
              "    <tr>\n",
              "      <th>288</th>\n",
              "      <td>2019-01-01</td>\n",
              "      <td>21013.085</td>\n",
              "    </tr>\n",
              "  </tbody>\n",
              "</table>\n",
              "</div>\n",
              "      <button class=\"colab-df-convert\" onclick=\"convertToInteractive('df-eb725daa-42a6-487c-b1f7-4cd8efa5832b')\"\n",
              "              title=\"Convert this dataframe to an interactive table.\"\n",
              "              style=\"display:none;\">\n",
              "        \n",
              "  <svg xmlns=\"http://www.w3.org/2000/svg\" height=\"24px\"viewBox=\"0 0 24 24\"\n",
              "       width=\"24px\">\n",
              "    <path d=\"M0 0h24v24H0V0z\" fill=\"none\"/>\n",
              "    <path d=\"M18.56 5.44l.94 2.06.94-2.06 2.06-.94-2.06-.94-.94-2.06-.94 2.06-2.06.94zm-11 1L8.5 8.5l.94-2.06 2.06-.94-2.06-.94L8.5 2.5l-.94 2.06-2.06.94zm10 10l.94 2.06.94-2.06 2.06-.94-2.06-.94-.94-2.06-.94 2.06-2.06.94z\"/><path d=\"M17.41 7.96l-1.37-1.37c-.4-.4-.92-.59-1.43-.59-.52 0-1.04.2-1.43.59L10.3 9.45l-7.72 7.72c-.78.78-.78 2.05 0 2.83L4 21.41c.39.39.9.59 1.41.59.51 0 1.02-.2 1.41-.59l7.78-7.78 2.81-2.81c.8-.78.8-2.07 0-2.86zM5.41 20L4 18.59l7.72-7.72 1.47 1.35L5.41 20z\"/>\n",
              "  </svg>\n",
              "      </button>\n",
              "      \n",
              "  <style>\n",
              "    .colab-df-container {\n",
              "      display:flex;\n",
              "      flex-wrap:wrap;\n",
              "      gap: 12px;\n",
              "    }\n",
              "\n",
              "    .colab-df-convert {\n",
              "      background-color: #E8F0FE;\n",
              "      border: none;\n",
              "      border-radius: 50%;\n",
              "      cursor: pointer;\n",
              "      display: none;\n",
              "      fill: #1967D2;\n",
              "      height: 32px;\n",
              "      padding: 0 0 0 0;\n",
              "      width: 32px;\n",
              "    }\n",
              "\n",
              "    .colab-df-convert:hover {\n",
              "      background-color: #E2EBFA;\n",
              "      box-shadow: 0px 1px 2px rgba(60, 64, 67, 0.3), 0px 1px 3px 1px rgba(60, 64, 67, 0.15);\n",
              "      fill: #174EA6;\n",
              "    }\n",
              "\n",
              "    [theme=dark] .colab-df-convert {\n",
              "      background-color: #3B4455;\n",
              "      fill: #D2E3FC;\n",
              "    }\n",
              "\n",
              "    [theme=dark] .colab-df-convert:hover {\n",
              "      background-color: #434B5C;\n",
              "      box-shadow: 0px 1px 3px 1px rgba(0, 0, 0, 0.15);\n",
              "      filter: drop-shadow(0px 1px 2px rgba(0, 0, 0, 0.3));\n",
              "      fill: #FFFFFF;\n",
              "    }\n",
              "  </style>\n",
              "\n",
              "      <script>\n",
              "        const buttonEl =\n",
              "          document.querySelector('#df-eb725daa-42a6-487c-b1f7-4cd8efa5832b button.colab-df-convert');\n",
              "        buttonEl.style.display =\n",
              "          google.colab.kernel.accessAllowed ? 'block' : 'none';\n",
              "\n",
              "        async function convertToInteractive(key) {\n",
              "          const element = document.querySelector('#df-eb725daa-42a6-487c-b1f7-4cd8efa5832b');\n",
              "          const dataTable =\n",
              "            await google.colab.kernel.invokeFunction('convertToInteractive',\n",
              "                                                     [key], {});\n",
              "          if (!dataTable) return;\n",
              "\n",
              "          const docLinkHtml = 'Like what you see? Visit the ' +\n",
              "            '<a target=\"_blank\" href=https://colab.research.google.com/notebooks/data_table.ipynb>data table notebook</a>'\n",
              "            + ' to learn more about interactive tables.';\n",
              "          element.innerHTML = '';\n",
              "          dataTable['output_type'] = 'display_data';\n",
              "          await google.colab.output.renderOutput(dataTable, element);\n",
              "          const docLink = document.createElement('div');\n",
              "          docLink.innerHTML = docLinkHtml;\n",
              "          element.appendChild(docLink);\n",
              "        }\n",
              "      </script>\n",
              "    </div>\n",
              "  </div>\n",
              "  "
            ]
          },
          "metadata": {},
          "execution_count": 31
        }
      ],
      "source": [
        "gdp['DATE'] = pd.to_datetime(gdp['DATE'])\n",
        "\n",
        "# Select data from 2018 to 2022:\n",
        "gdp_new = gdp.loc[gdp['DATE']>\"2017-12-01\"][gdp['DATE']<\"2022-08-01\"]\n",
        "gdp_new.head()"
      ]
    },
    {
      "cell_type": "code",
      "execution_count": null,
      "id": "oDrPsLp0vjpa",
      "metadata": {
        "colab": {
          "base_uri": "https://localhost:8080/",
          "height": 206
        },
        "id": "oDrPsLp0vjpa",
        "outputId": "b2d6f85b-227e-44fc-f265-2703a8f84347"
      },
      "outputs": [
        {
          "output_type": "execute_result",
          "data": {
            "text/plain": [
              "      DATE           GDP\n",
              "0  2018-01  20155.486000\n",
              "1  2018-02  20260.389667\n",
              "2  2018-03  20365.293333\n",
              "3  2018-04  20470.197000\n",
              "4  2018-05  20542.557333"
            ],
            "text/html": [
              "\n",
              "  <div id=\"df-78dea27e-6abf-406d-bbf2-4c01aa20a402\">\n",
              "    <div class=\"colab-df-container\">\n",
              "      <div>\n",
              "<style scoped>\n",
              "    .dataframe tbody tr th:only-of-type {\n",
              "        vertical-align: middle;\n",
              "    }\n",
              "\n",
              "    .dataframe tbody tr th {\n",
              "        vertical-align: top;\n",
              "    }\n",
              "\n",
              "    .dataframe thead th {\n",
              "        text-align: right;\n",
              "    }\n",
              "</style>\n",
              "<table border=\"1\" class=\"dataframe\">\n",
              "  <thead>\n",
              "    <tr style=\"text-align: right;\">\n",
              "      <th></th>\n",
              "      <th>DATE</th>\n",
              "      <th>GDP</th>\n",
              "    </tr>\n",
              "  </thead>\n",
              "  <tbody>\n",
              "    <tr>\n",
              "      <th>0</th>\n",
              "      <td>2018-01</td>\n",
              "      <td>20155.486000</td>\n",
              "    </tr>\n",
              "    <tr>\n",
              "      <th>1</th>\n",
              "      <td>2018-02</td>\n",
              "      <td>20260.389667</td>\n",
              "    </tr>\n",
              "    <tr>\n",
              "      <th>2</th>\n",
              "      <td>2018-03</td>\n",
              "      <td>20365.293333</td>\n",
              "    </tr>\n",
              "    <tr>\n",
              "      <th>3</th>\n",
              "      <td>2018-04</td>\n",
              "      <td>20470.197000</td>\n",
              "    </tr>\n",
              "    <tr>\n",
              "      <th>4</th>\n",
              "      <td>2018-05</td>\n",
              "      <td>20542.557333</td>\n",
              "    </tr>\n",
              "  </tbody>\n",
              "</table>\n",
              "</div>\n",
              "      <button class=\"colab-df-convert\" onclick=\"convertToInteractive('df-78dea27e-6abf-406d-bbf2-4c01aa20a402')\"\n",
              "              title=\"Convert this dataframe to an interactive table.\"\n",
              "              style=\"display:none;\">\n",
              "        \n",
              "  <svg xmlns=\"http://www.w3.org/2000/svg\" height=\"24px\"viewBox=\"0 0 24 24\"\n",
              "       width=\"24px\">\n",
              "    <path d=\"M0 0h24v24H0V0z\" fill=\"none\"/>\n",
              "    <path d=\"M18.56 5.44l.94 2.06.94-2.06 2.06-.94-2.06-.94-.94-2.06-.94 2.06-2.06.94zm-11 1L8.5 8.5l.94-2.06 2.06-.94-2.06-.94L8.5 2.5l-.94 2.06-2.06.94zm10 10l.94 2.06.94-2.06 2.06-.94-2.06-.94-.94-2.06-.94 2.06-2.06.94z\"/><path d=\"M17.41 7.96l-1.37-1.37c-.4-.4-.92-.59-1.43-.59-.52 0-1.04.2-1.43.59L10.3 9.45l-7.72 7.72c-.78.78-.78 2.05 0 2.83L4 21.41c.39.39.9.59 1.41.59.51 0 1.02-.2 1.41-.59l7.78-7.78 2.81-2.81c.8-.78.8-2.07 0-2.86zM5.41 20L4 18.59l7.72-7.72 1.47 1.35L5.41 20z\"/>\n",
              "  </svg>\n",
              "      </button>\n",
              "      \n",
              "  <style>\n",
              "    .colab-df-container {\n",
              "      display:flex;\n",
              "      flex-wrap:wrap;\n",
              "      gap: 12px;\n",
              "    }\n",
              "\n",
              "    .colab-df-convert {\n",
              "      background-color: #E8F0FE;\n",
              "      border: none;\n",
              "      border-radius: 50%;\n",
              "      cursor: pointer;\n",
              "      display: none;\n",
              "      fill: #1967D2;\n",
              "      height: 32px;\n",
              "      padding: 0 0 0 0;\n",
              "      width: 32px;\n",
              "    }\n",
              "\n",
              "    .colab-df-convert:hover {\n",
              "      background-color: #E2EBFA;\n",
              "      box-shadow: 0px 1px 2px rgba(60, 64, 67, 0.3), 0px 1px 3px 1px rgba(60, 64, 67, 0.15);\n",
              "      fill: #174EA6;\n",
              "    }\n",
              "\n",
              "    [theme=dark] .colab-df-convert {\n",
              "      background-color: #3B4455;\n",
              "      fill: #D2E3FC;\n",
              "    }\n",
              "\n",
              "    [theme=dark] .colab-df-convert:hover {\n",
              "      background-color: #434B5C;\n",
              "      box-shadow: 0px 1px 3px 1px rgba(0, 0, 0, 0.15);\n",
              "      filter: drop-shadow(0px 1px 2px rgba(0, 0, 0, 0.3));\n",
              "      fill: #FFFFFF;\n",
              "    }\n",
              "  </style>\n",
              "\n",
              "      <script>\n",
              "        const buttonEl =\n",
              "          document.querySelector('#df-78dea27e-6abf-406d-bbf2-4c01aa20a402 button.colab-df-convert');\n",
              "        buttonEl.style.display =\n",
              "          google.colab.kernel.accessAllowed ? 'block' : 'none';\n",
              "\n",
              "        async function convertToInteractive(key) {\n",
              "          const element = document.querySelector('#df-78dea27e-6abf-406d-bbf2-4c01aa20a402');\n",
              "          const dataTable =\n",
              "            await google.colab.kernel.invokeFunction('convertToInteractive',\n",
              "                                                     [key], {});\n",
              "          if (!dataTable) return;\n",
              "\n",
              "          const docLinkHtml = 'Like what you see? Visit the ' +\n",
              "            '<a target=\"_blank\" href=https://colab.research.google.com/notebooks/data_table.ipynb>data table notebook</a>'\n",
              "            + ' to learn more about interactive tables.';\n",
              "          element.innerHTML = '';\n",
              "          dataTable['output_type'] = 'display_data';\n",
              "          await google.colab.output.renderOutput(dataTable, element);\n",
              "          const docLink = document.createElement('div');\n",
              "          docLink.innerHTML = docLinkHtml;\n",
              "          element.appendChild(docLink);\n",
              "        }\n",
              "      </script>\n",
              "    </div>\n",
              "  </div>\n",
              "  "
            ]
          },
          "metadata": {},
          "execution_count": 32
        }
      ],
      "source": [
        "gdp_new['DATE'] = pd.to_datetime(gdp['DATE']).dt.to_period('M')\n",
        "\n",
        "# Change the quarterly data to monthly and use interpolate method to fill in the null data using linear calculation method\n",
        "monthly_gdp = gdp_new.set_index('DATE').resample('M').interpolate(method='linear')\n",
        "monthly_gdp = monthly_gdp.reset_index()\n",
        "monthly_gdp.head()"
      ]
    },
    {
      "cell_type": "code",
      "execution_count": null,
      "id": "9E8yWiDH4-4W",
      "metadata": {
        "id": "9E8yWiDH4-4W"
      },
      "outputs": [],
      "source": [
        "gdp_list = monthly_gdp['GDP'].tolist()\n",
        "inflation_list = inflation_new['T10YIEM'].tolist()\n",
        "\n",
        "gdp = pd.Series(gdp_list, index= pd.date_range(\"1/1/2018\",'08/01/2022', freq = \"M\"))\n",
        "inflation = pd.Series(inflation_list, index= pd.date_range(\"1/1/2018\",'08/01/2022', freq = \"M\"))"
      ]
    },
    {
      "cell_type": "code",
      "execution_count": null,
      "id": "BSa8z5wzv48I",
      "metadata": {
        "colab": {
          "base_uri": "https://localhost:8080/",
          "height": 206
        },
        "id": "BSa8z5wzv48I",
        "outputId": "053f95d4-53c6-4be9-88a8-b042e91d134b"
      },
      "outputs": [
        {
          "output_type": "execute_result",
          "data": {
            "text/plain": [
              "                   0             1     2\n",
              "2018-02-28  58585.88  20260.389667  2.10\n",
              "2018-03-31  51397.95  20365.293333  2.09\n",
              "2018-04-30  56758.25  20470.197000  2.13\n",
              "2018-05-31  55726.13  20542.557333  2.14\n",
              "2018-06-30  59432.86  20614.917667  2.12"
            ],
            "text/html": [
              "\n",
              "  <div id=\"df-707c0652-2724-4e03-868d-ac10275f9e9b\">\n",
              "    <div class=\"colab-df-container\">\n",
              "      <div>\n",
              "<style scoped>\n",
              "    .dataframe tbody tr th:only-of-type {\n",
              "        vertical-align: middle;\n",
              "    }\n",
              "\n",
              "    .dataframe tbody tr th {\n",
              "        vertical-align: top;\n",
              "    }\n",
              "\n",
              "    .dataframe thead th {\n",
              "        text-align: right;\n",
              "    }\n",
              "</style>\n",
              "<table border=\"1\" class=\"dataframe\">\n",
              "  <thead>\n",
              "    <tr style=\"text-align: right;\">\n",
              "      <th></th>\n",
              "      <th>0</th>\n",
              "      <th>1</th>\n",
              "      <th>2</th>\n",
              "    </tr>\n",
              "  </thead>\n",
              "  <tbody>\n",
              "    <tr>\n",
              "      <th>2018-02-28</th>\n",
              "      <td>58585.88</td>\n",
              "      <td>20260.389667</td>\n",
              "      <td>2.10</td>\n",
              "    </tr>\n",
              "    <tr>\n",
              "      <th>2018-03-31</th>\n",
              "      <td>51397.95</td>\n",
              "      <td>20365.293333</td>\n",
              "      <td>2.09</td>\n",
              "    </tr>\n",
              "    <tr>\n",
              "      <th>2018-04-30</th>\n",
              "      <td>56758.25</td>\n",
              "      <td>20470.197000</td>\n",
              "      <td>2.13</td>\n",
              "    </tr>\n",
              "    <tr>\n",
              "      <th>2018-05-31</th>\n",
              "      <td>55726.13</td>\n",
              "      <td>20542.557333</td>\n",
              "      <td>2.14</td>\n",
              "    </tr>\n",
              "    <tr>\n",
              "      <th>2018-06-30</th>\n",
              "      <td>59432.86</td>\n",
              "      <td>20614.917667</td>\n",
              "      <td>2.12</td>\n",
              "    </tr>\n",
              "  </tbody>\n",
              "</table>\n",
              "</div>\n",
              "      <button class=\"colab-df-convert\" onclick=\"convertToInteractive('df-707c0652-2724-4e03-868d-ac10275f9e9b')\"\n",
              "              title=\"Convert this dataframe to an interactive table.\"\n",
              "              style=\"display:none;\">\n",
              "        \n",
              "  <svg xmlns=\"http://www.w3.org/2000/svg\" height=\"24px\"viewBox=\"0 0 24 24\"\n",
              "       width=\"24px\">\n",
              "    <path d=\"M0 0h24v24H0V0z\" fill=\"none\"/>\n",
              "    <path d=\"M18.56 5.44l.94 2.06.94-2.06 2.06-.94-2.06-.94-.94-2.06-.94 2.06-2.06.94zm-11 1L8.5 8.5l.94-2.06 2.06-.94-2.06-.94L8.5 2.5l-.94 2.06-2.06.94zm10 10l.94 2.06.94-2.06 2.06-.94-2.06-.94-.94-2.06-.94 2.06-2.06.94z\"/><path d=\"M17.41 7.96l-1.37-1.37c-.4-.4-.92-.59-1.43-.59-.52 0-1.04.2-1.43.59L10.3 9.45l-7.72 7.72c-.78.78-.78 2.05 0 2.83L4 21.41c.39.39.9.59 1.41.59.51 0 1.02-.2 1.41-.59l7.78-7.78 2.81-2.81c.8-.78.8-2.07 0-2.86zM5.41 20L4 18.59l7.72-7.72 1.47 1.35L5.41 20z\"/>\n",
              "  </svg>\n",
              "      </button>\n",
              "      \n",
              "  <style>\n",
              "    .colab-df-container {\n",
              "      display:flex;\n",
              "      flex-wrap:wrap;\n",
              "      gap: 12px;\n",
              "    }\n",
              "\n",
              "    .colab-df-convert {\n",
              "      background-color: #E8F0FE;\n",
              "      border: none;\n",
              "      border-radius: 50%;\n",
              "      cursor: pointer;\n",
              "      display: none;\n",
              "      fill: #1967D2;\n",
              "      height: 32px;\n",
              "      padding: 0 0 0 0;\n",
              "      width: 32px;\n",
              "    }\n",
              "\n",
              "    .colab-df-convert:hover {\n",
              "      background-color: #E2EBFA;\n",
              "      box-shadow: 0px 1px 2px rgba(60, 64, 67, 0.3), 0px 1px 3px 1px rgba(60, 64, 67, 0.15);\n",
              "      fill: #174EA6;\n",
              "    }\n",
              "\n",
              "    [theme=dark] .colab-df-convert {\n",
              "      background-color: #3B4455;\n",
              "      fill: #D2E3FC;\n",
              "    }\n",
              "\n",
              "    [theme=dark] .colab-df-convert:hover {\n",
              "      background-color: #434B5C;\n",
              "      box-shadow: 0px 1px 3px 1px rgba(0, 0, 0, 0.15);\n",
              "      filter: drop-shadow(0px 1px 2px rgba(0, 0, 0, 0.3));\n",
              "      fill: #FFFFFF;\n",
              "    }\n",
              "  </style>\n",
              "\n",
              "      <script>\n",
              "        const buttonEl =\n",
              "          document.querySelector('#df-707c0652-2724-4e03-868d-ac10275f9e9b button.colab-df-convert');\n",
              "        buttonEl.style.display =\n",
              "          google.colab.kernel.accessAllowed ? 'block' : 'none';\n",
              "\n",
              "        async function convertToInteractive(key) {\n",
              "          const element = document.querySelector('#df-707c0652-2724-4e03-868d-ac10275f9e9b');\n",
              "          const dataTable =\n",
              "            await google.colab.kernel.invokeFunction('convertToInteractive',\n",
              "                                                     [key], {});\n",
              "          if (!dataTable) return;\n",
              "\n",
              "          const docLinkHtml = 'Like what you see? Visit the ' +\n",
              "            '<a target=\"_blank\" href=https://colab.research.google.com/notebooks/data_table.ipynb>data table notebook</a>'\n",
              "            + ' to learn more about interactive tables.';\n",
              "          element.innerHTML = '';\n",
              "          dataTable['output_type'] = 'display_data';\n",
              "          await google.colab.output.renderOutput(dataTable, element);\n",
              "          const docLink = document.createElement('div');\n",
              "          docLink.innerHTML = docLinkHtml;\n",
              "          element.appendChild(docLink);\n",
              "        }\n",
              "      </script>\n",
              "    </div>\n",
              "  </div>\n",
              "  "
            ]
          },
          "metadata": {},
          "execution_count": 34
        }
      ],
      "source": [
        "# Combine s&p 500, gdp, and inflation data:\n",
        "exog = pd.concat((sp.shift(), gdp, inflation), axis=1).iloc[1:]\n",
        "exog.head()"
      ]
    },
    {
      "cell_type": "code",
      "execution_count": null,
      "id": "1aODNilSv32W",
      "metadata": {
        "id": "1aODNilSv32W",
        "outputId": "1c636451-b65d-4b5e-9066-fcc45605c083",
        "colab": {
          "base_uri": "https://localhost:8080/",
          "height": 1000
        }
      },
      "outputs": [
        {
          "output_type": "stream",
          "name": "stderr",
          "text": [
            "/usr/local/lib/python3.8/dist-packages/statsmodels/tsa/regime_switching/markov_switching.py:1283: EstimationWarning: Invalid regime transition probabilities estimated in EM iteration; probabilities have been re-scaled to continue estimation.\n",
            "  warnings.warn('Invalid regime transition probabilities'\n",
            "/usr/local/lib/python3.8/dist-packages/statsmodels/tsa/regime_switching/markov_switching.py:1283: EstimationWarning: Invalid regime transition probabilities estimated in EM iteration; probabilities have been re-scaled to continue estimation.\n",
            "  warnings.warn('Invalid regime transition probabilities'\n",
            "/usr/local/lib/python3.8/dist-packages/statsmodels/tsa/regime_switching/markov_switching.py:1283: EstimationWarning: Invalid regime transition probabilities estimated in EM iteration; probabilities have been re-scaled to continue estimation.\n",
            "  warnings.warn('Invalid regime transition probabilities'\n",
            "/usr/local/lib/python3.8/dist-packages/statsmodels/tsa/regime_switching/markov_switching.py:1283: EstimationWarning: Invalid regime transition probabilities estimated in EM iteration; probabilities have been re-scaled to continue estimation.\n",
            "  warnings.warn('Invalid regime transition probabilities'\n",
            "/usr/local/lib/python3.8/dist-packages/statsmodels/tsa/regime_switching/markov_switching.py:1283: EstimationWarning: Invalid regime transition probabilities estimated in EM iteration; probabilities have been re-scaled to continue estimation.\n",
            "  warnings.warn('Invalid regime transition probabilities'\n"
          ]
        },
        {
          "output_type": "execute_result",
          "data": {
            "text/plain": [
              "<class 'statsmodels.iolib.summary.Summary'>\n",
              "\"\"\"\n",
              "                        Markov Switching Model Results                        \n",
              "==============================================================================\n",
              "Dep. Variable:                      y   No. Observations:                   54\n",
              "Model:               MarkovRegression   Log Likelihood                -547.266\n",
              "Date:                Fri, 02 Dec 2022   AIC                           1132.532\n",
              "Time:                        22:58:05   BIC                           1170.323\n",
              "Sample:                    02-28-2018   HQIC                          1147.106\n",
              "                         - 07-31-2022                                         \n",
              "Covariance Type:               approx                                         \n",
              "                             Regime 0 parameters                              \n",
              "==============================================================================\n",
              "                 coef    std err          z      P>|z|      [0.025      0.975]\n",
              "------------------------------------------------------------------------------\n",
              "const       -4.97e+05      0.002  -2.24e+08      0.000   -4.97e+05   -4.97e+05\n",
              "x1            -0.1552    147.640     -0.001      0.999    -289.525     289.215\n",
              "x2            22.7162     48.257      0.471      0.638     -71.865     117.298\n",
              "x3          4.553e+04      0.003   1.33e+07      0.000    4.55e+04    4.55e+04\n",
              "                             Regime 1 parameters                              \n",
              "==============================================================================\n",
              "                 coef    std err          z      P>|z|      [0.025      0.975]\n",
              "------------------------------------------------------------------------------\n",
              "const      -2.524e+04      0.067  -3.77e+05      0.000   -2.52e+04   -2.52e+04\n",
              "x1             0.5355    294.064      0.002      0.999    -575.819     576.890\n",
              "x2             2.8635    997.819      0.003      0.998   -1952.825    1958.552\n",
              "x3         -4369.0729      0.025  -1.78e+05      0.000   -4369.121   -4369.025\n",
              "                             Regime 2 parameters                              \n",
              "==============================================================================\n",
              "                 coef    std err          z      P>|z|      [0.025      0.975]\n",
              "------------------------------------------------------------------------------\n",
              "const       -3.12e+04    188.124   -165.848      0.000   -3.16e+04   -3.08e+04\n",
              "x1             0.6355      0.087      7.266      0.000       0.464       0.807\n",
              "x2             2.5714      0.292      8.810      0.000       1.999       3.143\n",
              "x3           275.4024   2741.000      0.100      0.920   -5096.858    5647.663\n",
              "                           Non-switching parameters                           \n",
              "==============================================================================\n",
              "                 coef    std err          z      P>|z|      [0.025      0.975]\n",
              "------------------------------------------------------------------------------\n",
              "sigma2      3.718e+07   6.99e-06   5.32e+12      0.000    3.72e+07    3.72e+07\n",
              "                         Regime transition parameters                         \n",
              "==============================================================================\n",
              "                 coef    std err          z      P>|z|      [0.025      0.975]\n",
              "------------------------------------------------------------------------------\n",
              "p[0->0]     8.463e-10     32.470   2.61e-11      1.000     -63.640      63.640\n",
              "p[1->0]     1.321e-11      0.015   9.02e-10      1.000      -0.029       0.029\n",
              "p[2->0]      3.03e-17   3.71e-07   8.16e-11      1.000   -7.28e-07    7.28e-07\n",
              "p[0->1]        1.0000    113.869      0.009      0.993    -222.179     224.179\n",
              "p[1->1]        0.0339     19.301      0.002      0.999     -37.795      37.863\n",
              "p[2->1]     1.383e-07        nan        nan        nan         nan         nan\n",
              "==============================================================================\n",
              "\n",
              "Warnings:\n",
              "[1] Covariance matrix calculated using numerical (complex-step) differentiation.\n",
              "[2] Covariance matrix is singular or near-singular, with condition number  5e+32. Standard errors may be unstable.\n",
              "\"\"\""
            ],
            "text/html": [
              "<table class=\"simpletable\">\n",
              "<caption>Markov Switching Model Results</caption>\n",
              "<tr>\n",
              "  <th>Dep. Variable:</th>           <td>y</td>        <th>  No. Observations:  </th>    <td>54</td>   \n",
              "</tr>\n",
              "<tr>\n",
              "  <th>Model:</th>           <td>MarkovRegression</td> <th>  Log Likelihood     </th> <td>-547.266</td>\n",
              "</tr>\n",
              "<tr>\n",
              "  <th>Date:</th>            <td>Fri, 02 Dec 2022</td> <th>  AIC                </th> <td>1132.532</td>\n",
              "</tr>\n",
              "<tr>\n",
              "  <th>Time:</th>                <td>22:58:05</td>     <th>  BIC                </th> <td>1170.323</td>\n",
              "</tr>\n",
              "<tr>\n",
              "  <th>Sample:</th>             <td>02-28-2018</td>    <th>  HQIC               </th> <td>1147.106</td>\n",
              "</tr>\n",
              "<tr>\n",
              "  <th></th>                   <td>- 07-31-2022</td>   <th>                     </th>     <td> </td>   \n",
              "</tr>\n",
              "<tr>\n",
              "  <th>Covariance Type:</th>      <td>approx</td>      <th>                     </th>     <td> </td>   \n",
              "</tr>\n",
              "</table>\n",
              "<table class=\"simpletable\">\n",
              "<caption>Regime 0 parameters</caption>\n",
              "<tr>\n",
              "    <td></td>       <th>coef</th>     <th>std err</th>      <th>z</th>      <th>P>|z|</th>  <th>[0.025</th>    <th>0.975]</th>  \n",
              "</tr>\n",
              "<tr>\n",
              "  <th>const</th> <td> -4.97e+05</td> <td>    0.002</td> <td>-2.24e+08</td> <td> 0.000</td> <td>-4.97e+05</td> <td>-4.97e+05</td>\n",
              "</tr>\n",
              "<tr>\n",
              "  <th>x1</th>    <td>   -0.1552</td> <td>  147.640</td> <td>   -0.001</td> <td> 0.999</td> <td> -289.525</td> <td>  289.215</td>\n",
              "</tr>\n",
              "<tr>\n",
              "  <th>x2</th>    <td>   22.7162</td> <td>   48.257</td> <td>    0.471</td> <td> 0.638</td> <td>  -71.865</td> <td>  117.298</td>\n",
              "</tr>\n",
              "<tr>\n",
              "  <th>x3</th>    <td> 4.553e+04</td> <td>    0.003</td> <td> 1.33e+07</td> <td> 0.000</td> <td> 4.55e+04</td> <td> 4.55e+04</td>\n",
              "</tr>\n",
              "</table>\n",
              "<table class=\"simpletable\">\n",
              "<caption>Regime 1 parameters</caption>\n",
              "<tr>\n",
              "    <td></td>       <th>coef</th>     <th>std err</th>      <th>z</th>      <th>P>|z|</th>  <th>[0.025</th>    <th>0.975]</th>  \n",
              "</tr>\n",
              "<tr>\n",
              "  <th>const</th> <td>-2.524e+04</td> <td>    0.067</td> <td>-3.77e+05</td> <td> 0.000</td> <td>-2.52e+04</td> <td>-2.52e+04</td>\n",
              "</tr>\n",
              "<tr>\n",
              "  <th>x1</th>    <td>    0.5355</td> <td>  294.064</td> <td>    0.002</td> <td> 0.999</td> <td> -575.819</td> <td>  576.890</td>\n",
              "</tr>\n",
              "<tr>\n",
              "  <th>x2</th>    <td>    2.8635</td> <td>  997.819</td> <td>    0.003</td> <td> 0.998</td> <td>-1952.825</td> <td> 1958.552</td>\n",
              "</tr>\n",
              "<tr>\n",
              "  <th>x3</th>    <td>-4369.0729</td> <td>    0.025</td> <td>-1.78e+05</td> <td> 0.000</td> <td>-4369.121</td> <td>-4369.025</td>\n",
              "</tr>\n",
              "</table>\n",
              "<table class=\"simpletable\">\n",
              "<caption>Regime 2 parameters</caption>\n",
              "<tr>\n",
              "    <td></td>       <th>coef</th>     <th>std err</th>      <th>z</th>      <th>P>|z|</th>  <th>[0.025</th>    <th>0.975]</th>  \n",
              "</tr>\n",
              "<tr>\n",
              "  <th>const</th> <td> -3.12e+04</td> <td>  188.124</td> <td> -165.848</td> <td> 0.000</td> <td>-3.16e+04</td> <td>-3.08e+04</td>\n",
              "</tr>\n",
              "<tr>\n",
              "  <th>x1</th>    <td>    0.6355</td> <td>    0.087</td> <td>    7.266</td> <td> 0.000</td> <td>    0.464</td> <td>    0.807</td>\n",
              "</tr>\n",
              "<tr>\n",
              "  <th>x2</th>    <td>    2.5714</td> <td>    0.292</td> <td>    8.810</td> <td> 0.000</td> <td>    1.999</td> <td>    3.143</td>\n",
              "</tr>\n",
              "<tr>\n",
              "  <th>x3</th>    <td>  275.4024</td> <td> 2741.000</td> <td>    0.100</td> <td> 0.920</td> <td>-5096.858</td> <td> 5647.663</td>\n",
              "</tr>\n",
              "</table>\n",
              "<table class=\"simpletable\">\n",
              "<caption>Non-switching parameters</caption>\n",
              "<tr>\n",
              "     <td></td>       <th>coef</th>     <th>std err</th>      <th>z</th>      <th>P>|z|</th>  <th>[0.025</th>    <th>0.975]</th>  \n",
              "</tr>\n",
              "<tr>\n",
              "  <th>sigma2</th> <td> 3.718e+07</td> <td> 6.99e-06</td> <td> 5.32e+12</td> <td> 0.000</td> <td> 3.72e+07</td> <td> 3.72e+07</td>\n",
              "</tr>\n",
              "</table>\n",
              "<table class=\"simpletable\">\n",
              "<caption>Regime transition parameters</caption>\n",
              "<tr>\n",
              "     <td></td>        <th>coef</th>     <th>std err</th>      <th>z</th>      <th>P>|z|</th>  <th>[0.025</th>    <th>0.975]</th>  \n",
              "</tr>\n",
              "<tr>\n",
              "  <th>p[0->0]</th> <td> 8.463e-10</td> <td>   32.470</td> <td> 2.61e-11</td> <td> 1.000</td> <td>  -63.640</td> <td>   63.640</td>\n",
              "</tr>\n",
              "<tr>\n",
              "  <th>p[1->0]</th> <td> 1.321e-11</td> <td>    0.015</td> <td> 9.02e-10</td> <td> 1.000</td> <td>   -0.029</td> <td>    0.029</td>\n",
              "</tr>\n",
              "<tr>\n",
              "  <th>p[2->0]</th> <td>  3.03e-17</td> <td> 3.71e-07</td> <td> 8.16e-11</td> <td> 1.000</td> <td>-7.28e-07</td> <td> 7.28e-07</td>\n",
              "</tr>\n",
              "<tr>\n",
              "  <th>p[0->1]</th> <td>    1.0000</td> <td>  113.869</td> <td>    0.009</td> <td> 0.993</td> <td> -222.179</td> <td>  224.179</td>\n",
              "</tr>\n",
              "<tr>\n",
              "  <th>p[1->1]</th> <td>    0.0339</td> <td>   19.301</td> <td>    0.002</td> <td> 0.999</td> <td>  -37.795</td> <td>   37.863</td>\n",
              "</tr>\n",
              "<tr>\n",
              "  <th>p[2->1]</th> <td> 1.383e-07</td> <td>      nan</td> <td>      nan</td> <td>   nan</td> <td>      nan</td> <td>      nan</td>\n",
              "</tr>\n",
              "</table><br/><br/>Warnings:<br/>[1] Covariance matrix calculated using numerical (complex-step) differentiation.<br/>[2] Covariance matrix is singular or near-singular, with condition number  5e+32. Standard errors may be unstable."
            ]
          },
          "metadata": {},
          "execution_count": 114
        }
      ],
      "source": [
        "# Build up the model using taylor rule\n",
        "mod_taylor = sm.tsa.MarkovRegression(sp.iloc[1:], k_regimes=3, exog=exog)\n",
        "res_taylor = mod_taylor.fit()\n",
        "res_taylor.summary()"
      ]
    },
    {
      "cell_type": "code",
      "execution_count": null,
      "id": "roPBNiWVv348",
      "metadata": {
        "colab": {
          "base_uri": "https://localhost:8080/",
          "height": 485
        },
        "id": "roPBNiWVv348",
        "outputId": "2b5cfaef-05d1-4112-da0d-11189e7a18ab"
      },
      "outputs": [
        {
          "output_type": "display_data",
          "data": {
            "text/plain": [
              "<Figure size 864x144 with 1 Axes>"
            ],
            "image/png": "[encoded data removed]"
          },
          "metadata": {
            "needs_background": "light"
          }
        },
        {
          "output_type": "display_data",
          "data": {
            "text/plain": [
              "<Figure size 864x144 with 1 Axes>"
            ],
            "image/png": "[encoded data removed]"
          },
          "metadata": {
            "needs_background": "light"
          }
        },
        {
          "output_type": "display_data",
          "data": {
            "text/plain": [
              "<Figure size 864x144 with 1 Axes>"
            ],
            "image/png": "[encoded data removed]"
          },
          "metadata": {
            "needs_background": "light"
          }
        }
      ],
      "source": [
        "for i in range(3):\n",
        "  f, ax = plt.subplots(figsize=(12,2))\n",
        "  res_taylor.smoothed_marginal_probabilities[i].plot(\n",
        "      label = f'{i}'\n",
        "  )\n",
        "  ax.set_title(f\"{i}th regime\")\n",
        "  plt.legend()\n",
        "  plt.show()"
      ]
    },
    {
      "cell_type": "code",
      "execution_count": null,
      "id": "HxsM6uR5Aszh",
      "metadata": {
        "colab": {
          "base_uri": "https://localhost:8080/"
        },
        "id": "HxsM6uR5Aszh",
        "outputId": "02fd96b4-b8da-44a9-ae90-9c80f9526a73"
      },
      "outputs": [
        {
          "output_type": "stream",
          "name": "stdout",
          "text": [
            "[1.00000000e+00 1.03514144e+00 7.23182446e+06]\n"
          ]
        }
      ],
      "source": [
        "print(res_taylor.expected_durations)"
      ]
    },
    {
      "cell_type": "code",
      "execution_count": null,
      "id": "5fe6ca5b",
      "metadata": {
        "id": "5fe6ca5b",
        "outputId": "c06d8bbf-7c30-48f6-be4f-350d5dcdb393",
        "colab": {
          "base_uri": "https://localhost:8080/"
        }
      },
      "outputs": [
        {
          "output_type": "stream",
          "name": "stdout",
          "text": [
            "[8.33333334e-02 8.62617870e-02 6.02652038e+05]\n"
          ]
        }
      ],
      "source": [
        "print(res_taylor.expected_durations /12)"
      ]
    },
    {
      "cell_type": "markdown",
      "id": "71118271",
      "metadata": {
        "id": "71118271"
      },
      "source": [
        "## Using RNN Model"
      ]
    },
    {
      "cell_type": "markdown",
      "source": [
        "Making RNN model predicting S&P 500 Data \n"
      ],
      "metadata": {
        "id": "ReDXoKJZcX8e"
      },
      "id": "ReDXoKJZcX8e"
    },
    {
      "cell_type": "code",
      "source": [
        "weekkly_btc = df_btc.resample('W', label='right', \n",
        "                            closed='right', on='Date').sum().reset_index().sort_values(by='Date')\n",
        "weekly_btc"
      ],
      "metadata": {
        "id": "qPJJ2gkqcPAq"
      },
      "id": "qPJJ2gkqcPAq",
      "execution_count": null,
      "outputs": []
    },
    {
      "cell_type": "code",
      "execution_count": null,
      "id": "44f198f9",
      "metadata": {
        "id": "44f198f9",
        "outputId": "f2f97939-eaff-4b1d-8411-6dd04b7b5a2c",
        "colab": {
          "base_uri": "https://localhost:8080/",
          "height": 424
        }
      },
      "outputs": [
        {
          "output_type": "execute_result",
          "data": {
            "text/plain": [
              "          Date      Open      High       Low     Close       Volume\n",
              "0   2018-01-05  10832.22  10883.00  10827.12  10876.01   8348700144\n",
              "1   2018-01-12  13762.52  13813.86  13743.94  13801.03  10184949119\n",
              "2   2018-01-19  11188.95  11230.74  11137.66  11187.31   9766828877\n",
              "3   2018-01-26  14183.35  14249.67  14140.64  14221.76  11311257893\n",
              "4   2018-02-02  14157.75  14192.51  14055.46  14083.88  12592819297\n",
              "..         ...       ...       ...       ...       ...          ...\n",
              "252 2022-11-04  19136.77  19246.89  18872.65  18978.21  14423496557\n",
              "253 2022-11-11  19232.28  19451.36  19099.91  19332.78  14016474560\n",
              "254 2022-11-18  19846.85  19955.12  19706.43  19819.67  12248780417\n",
              "255 2022-11-25  15945.38  16035.68  15909.64  16006.90   6769708993\n",
              "256 2022-12-02   7969.55   7989.04   7893.42   7921.57   4002501959\n",
              "\n",
              "[257 rows x 6 columns]"
            ],
            "text/html": [
              "\n",
              "  <div id=\"df-b6f3b513-ae88-4542-ba2b-38bcbbdc4055\">\n",
              "    <div class=\"colab-df-container\">\n",
              "      <div>\n",
              "<style scoped>\n",
              "    .dataframe tbody tr th:only-of-type {\n",
              "        vertical-align: middle;\n",
              "    }\n",
              "\n",
              "    .dataframe tbody tr th {\n",
              "        vertical-align: top;\n",
              "    }\n",
              "\n",
              "    .dataframe thead th {\n",
              "        text-align: right;\n",
              "    }\n",
              "</style>\n",
              "<table border=\"1\" class=\"dataframe\">\n",
              "  <thead>\n",
              "    <tr style=\"text-align: right;\">\n",
              "      <th></th>\n",
              "      <th>Date</th>\n",
              "      <th>Open</th>\n",
              "      <th>High</th>\n",
              "      <th>Low</th>\n",
              "      <th>Close</th>\n",
              "      <th>Volume</th>\n",
              "    </tr>\n",
              "  </thead>\n",
              "  <tbody>\n",
              "    <tr>\n",
              "      <th>0</th>\n",
              "      <td>2018-01-05</td>\n",
              "      <td>10832.22</td>\n",
              "      <td>10883.00</td>\n",
              "      <td>10827.12</td>\n",
              "      <td>10876.01</td>\n",
              "      <td>8348700144</td>\n",
              "    </tr>\n",
              "    <tr>\n",
              "      <th>1</th>\n",
              "      <td>2018-01-12</td>\n",
              "      <td>13762.52</td>\n",
              "      <td>13813.86</td>\n",
              "      <td>13743.94</td>\n",
              "      <td>13801.03</td>\n",
              "      <td>10184949119</td>\n",
              "    </tr>\n",
              "    <tr>\n",
              "      <th>2</th>\n",
              "      <td>2018-01-19</td>\n",
              "      <td>11188.95</td>\n",
              "      <td>11230.74</td>\n",
              "      <td>11137.66</td>\n",
              "      <td>11187.31</td>\n",
              "      <td>9766828877</td>\n",
              "    </tr>\n",
              "    <tr>\n",
              "      <th>3</th>\n",
              "      <td>2018-01-26</td>\n",
              "      <td>14183.35</td>\n",
              "      <td>14249.67</td>\n",
              "      <td>14140.64</td>\n",
              "      <td>14221.76</td>\n",
              "      <td>11311257893</td>\n",
              "    </tr>\n",
              "    <tr>\n",
              "      <th>4</th>\n",
              "      <td>2018-02-02</td>\n",
              "      <td>14157.75</td>\n",
              "      <td>14192.51</td>\n",
              "      <td>14055.46</td>\n",
              "      <td>14083.88</td>\n",
              "      <td>12592819297</td>\n",
              "    </tr>\n",
              "    <tr>\n",
              "      <th>...</th>\n",
              "      <td>...</td>\n",
              "      <td>...</td>\n",
              "      <td>...</td>\n",
              "      <td>...</td>\n",
              "      <td>...</td>\n",
              "      <td>...</td>\n",
              "    </tr>\n",
              "    <tr>\n",
              "      <th>252</th>\n",
              "      <td>2022-11-04</td>\n",
              "      <td>19136.77</td>\n",
              "      <td>19246.89</td>\n",
              "      <td>18872.65</td>\n",
              "      <td>18978.21</td>\n",
              "      <td>14423496557</td>\n",
              "    </tr>\n",
              "    <tr>\n",
              "      <th>253</th>\n",
              "      <td>2022-11-11</td>\n",
              "      <td>19232.28</td>\n",
              "      <td>19451.36</td>\n",
              "      <td>19099.91</td>\n",
              "      <td>19332.78</td>\n",
              "      <td>14016474560</td>\n",
              "    </tr>\n",
              "    <tr>\n",
              "      <th>254</th>\n",
              "      <td>2022-11-18</td>\n",
              "      <td>19846.85</td>\n",
              "      <td>19955.12</td>\n",
              "      <td>19706.43</td>\n",
              "      <td>19819.67</td>\n",
              "      <td>12248780417</td>\n",
              "    </tr>\n",
              "    <tr>\n",
              "      <th>255</th>\n",
              "      <td>2022-11-25</td>\n",
              "      <td>15945.38</td>\n",
              "      <td>16035.68</td>\n",
              "      <td>15909.64</td>\n",
              "      <td>16006.90</td>\n",
              "      <td>6769708993</td>\n",
              "    </tr>\n",
              "    <tr>\n",
              "      <th>256</th>\n",
              "      <td>2022-12-02</td>\n",
              "      <td>7969.55</td>\n",
              "      <td>7989.04</td>\n",
              "      <td>7893.42</td>\n",
              "      <td>7921.57</td>\n",
              "      <td>4002501959</td>\n",
              "    </tr>\n",
              "  </tbody>\n",
              "</table>\n",
              "<p>257 rows × 6 columns</p>\n",
              "</div>\n",
              "      <button class=\"colab-df-convert\" onclick=\"convertToInteractive('df-b6f3b513-ae88-4542-ba2b-38bcbbdc4055')\"\n",
              "              title=\"Convert this dataframe to an interactive table.\"\n",
              "              style=\"display:none;\">\n",
              "        \n",
              "  <svg xmlns=\"http://www.w3.org/2000/svg\" height=\"24px\"viewBox=\"0 0 24 24\"\n",
              "       width=\"24px\">\n",
              "    <path d=\"M0 0h24v24H0V0z\" fill=\"none\"/>\n",
              "    <path d=\"M18.56 5.44l.94 2.06.94-2.06 2.06-.94-2.06-.94-.94-2.06-.94 2.06-2.06.94zm-11 1L8.5 8.5l.94-2.06 2.06-.94-2.06-.94L8.5 2.5l-.94 2.06-2.06.94zm10 10l.94 2.06.94-2.06 2.06-.94-2.06-.94-.94-2.06-.94 2.06-2.06.94z\"/><path d=\"M17.41 7.96l-1.37-1.37c-.4-.4-.92-.59-1.43-.59-.52 0-1.04.2-1.43.59L10.3 9.45l-7.72 7.72c-.78.78-.78 2.05 0 2.83L4 21.41c.39.39.9.59 1.41.59.51 0 1.02-.2 1.41-.59l7.78-7.78 2.81-2.81c.8-.78.8-2.07 0-2.86zM5.41 20L4 18.59l7.72-7.72 1.47 1.35L5.41 20z\"/>\n",
              "  </svg>\n",
              "      </button>\n",
              "      \n",
              "  <style>\n",
              "    .colab-df-container {\n",
              "      display:flex;\n",
              "      flex-wrap:wrap;\n",
              "      gap: 12px;\n",
              "    }\n",
              "\n",
              "    .colab-df-convert {\n",
              "      background-color: #E8F0FE;\n",
              "      border: none;\n",
              "      border-radius: 50%;\n",
              "      cursor: pointer;\n",
              "      display: none;\n",
              "      fill: #1967D2;\n",
              "      height: 32px;\n",
              "      padding: 0 0 0 0;\n",
              "      width: 32px;\n",
              "    }\n",
              "\n",
              "    .colab-df-convert:hover {\n",
              "      background-color: #E2EBFA;\n",
              "      box-shadow: 0px 1px 2px rgba(60, 64, 67, 0.3), 0px 1px 3px 1px rgba(60, 64, 67, 0.15);\n",
              "      fill: #174EA6;\n",
              "    }\n",
              "\n",
              "    [theme=dark] .colab-df-convert {\n",
              "      background-color: #3B4455;\n",
              "      fill: #D2E3FC;\n",
              "    }\n",
              "\n",
              "    [theme=dark] .colab-df-convert:hover {\n",
              "      background-color: #434B5C;\n",
              "      box-shadow: 0px 1px 3px 1px rgba(0, 0, 0, 0.15);\n",
              "      filter: drop-shadow(0px 1px 2px rgba(0, 0, 0, 0.3));\n",
              "      fill: #FFFFFF;\n",
              "    }\n",
              "  </style>\n",
              "\n",
              "      <script>\n",
              "        const buttonEl =\n",
              "          document.querySelector('#df-b6f3b513-ae88-4542-ba2b-38bcbbdc4055 button.colab-df-convert');\n",
              "        buttonEl.style.display =\n",
              "          google.colab.kernel.accessAllowed ? 'block' : 'none';\n",
              "\n",
              "        async function convertToInteractive(key) {\n",
              "          const element = document.querySelector('#df-b6f3b513-ae88-4542-ba2b-38bcbbdc4055');\n",
              "          const dataTable =\n",
              "            await google.colab.kernel.invokeFunction('convertToInteractive',\n",
              "                                                     [key], {});\n",
              "          if (!dataTable) return;\n",
              "\n",
              "          const docLinkHtml = 'Like what you see? Visit the ' +\n",
              "            '<a target=\"_blank\" href=https://colab.research.google.com/notebooks/data_table.ipynb>data table notebook</a>'\n",
              "            + ' to learn more about interactive tables.';\n",
              "          element.innerHTML = '';\n",
              "          dataTable['output_type'] = 'display_data';\n",
              "          await google.colab.output.renderOutput(dataTable, element);\n",
              "          const docLink = document.createElement('div');\n",
              "          docLink.innerHTML = docLinkHtml;\n",
              "          element.appendChild(docLink);\n",
              "        }\n",
              "      </script>\n",
              "    </div>\n",
              "  </div>\n",
              "  "
            ]
          },
          "metadata": {},
          "execution_count": 39
        }
      ],
      "source": [
        "weekkly_sp = df_sp.resample('W', label='right', \n",
        "                            closed='right', on='Date').sum().reset_index().sort_values(by='Date')\n",
        "weekly_sp"
      ]
    },
    {
      "cell_type": "code",
      "source": [
        "weekly_sp['Date'] = pd.to_datetime(weekly_sp['Date'])\n",
        "weekly_sp"
      ],
      "metadata": {
        "colab": {
          "base_uri": "https://localhost:8080/",
          "height": 424
        },
        "id": "vjc-fl0RRSOo",
        "outputId": "5d1d37ab-49a8-4b65-921c-26c740364b26"
      },
      "id": "vjc-fl0RRSOo",
      "execution_count": null,
      "outputs": [
        {
          "output_type": "execute_result",
          "data": {
            "text/plain": [
              "          Date      Open      High       Low     Close       Volume\n",
              "0   2018-01-05  10832.22  10883.00  10827.12  10876.01   8348700144\n",
              "1   2018-01-12  13762.52  13813.86  13743.94  13801.03  10184949119\n",
              "2   2018-01-19  11188.95  11230.74  11137.66  11187.31   9766828877\n",
              "3   2018-01-26  14183.35  14249.67  14140.64  14221.76  11311257893\n",
              "4   2018-02-02  14157.75  14192.51  14055.46  14083.88  12592819297\n",
              "..         ...       ...       ...       ...       ...          ...\n",
              "252 2022-11-04  19136.77  19246.89  18872.65  18978.21  14423496557\n",
              "253 2022-11-11  19232.28  19451.36  19099.91  19332.78  14016474560\n",
              "254 2022-11-18  19846.85  19955.12  19706.43  19819.67  12248780417\n",
              "255 2022-11-25  15945.38  16035.68  15909.64  16006.90   6769708993\n",
              "256 2022-12-02   7969.55   7989.04   7893.42   7921.57   4002501959\n",
              "\n",
              "[257 rows x 6 columns]"
            ],
            "text/html": [
              "\n",
              "  <div id=\"df-17b5a0f2-0343-422f-9070-6306bb9c11c7\">\n",
              "    <div class=\"colab-df-container\">\n",
              "      <div>\n",
              "<style scoped>\n",
              "    .dataframe tbody tr th:only-of-type {\n",
              "        vertical-align: middle;\n",
              "    }\n",
              "\n",
              "    .dataframe tbody tr th {\n",
              "        vertical-align: top;\n",
              "    }\n",
              "\n",
              "    .dataframe thead th {\n",
              "        text-align: right;\n",
              "    }\n",
              "</style>\n",
              "<table border=\"1\" class=\"dataframe\">\n",
              "  <thead>\n",
              "    <tr style=\"text-align: right;\">\n",
              "      <th></th>\n",
              "      <th>Date</th>\n",
              "      <th>Open</th>\n",
              "      <th>High</th>\n",
              "      <th>Low</th>\n",
              "      <th>Close</th>\n",
              "      <th>Volume</th>\n",
              "    </tr>\n",
              "  </thead>\n",
              "  <tbody>\n",
              "    <tr>\n",
              "      <th>0</th>\n",
              "      <td>2018-01-05</td>\n",
              "      <td>10832.22</td>\n",
              "      <td>10883.00</td>\n",
              "      <td>10827.12</td>\n",
              "      <td>10876.01</td>\n",
              "      <td>8348700144</td>\n",
              "    </tr>\n",
              "    <tr>\n",
              "      <th>1</th>\n",
              "      <td>2018-01-12</td>\n",
              "      <td>13762.52</td>\n",
              "      <td>13813.86</td>\n",
              "      <td>13743.94</td>\n",
              "      <td>13801.03</td>\n",
              "      <td>10184949119</td>\n",
              "    </tr>\n",
              "    <tr>\n",
              "      <th>2</th>\n",
              "      <td>2018-01-19</td>\n",
              "      <td>11188.95</td>\n",
              "      <td>11230.74</td>\n",
              "      <td>11137.66</td>\n",
              "      <td>11187.31</td>\n",
              "      <td>9766828877</td>\n",
              "    </tr>\n",
              "    <tr>\n",
              "      <th>3</th>\n",
              "      <td>2018-01-26</td>\n",
              "      <td>14183.35</td>\n",
              "      <td>14249.67</td>\n",
              "      <td>14140.64</td>\n",
              "      <td>14221.76</td>\n",
              "      <td>11311257893</td>\n",
              "    </tr>\n",
              "    <tr>\n",
              "      <th>4</th>\n",
              "      <td>2018-02-02</td>\n",
              "      <td>14157.75</td>\n",
              "      <td>14192.51</td>\n",
              "      <td>14055.46</td>\n",
              "      <td>14083.88</td>\n",
              "      <td>12592819297</td>\n",
              "    </tr>\n",
              "    <tr>\n",
              "      <th>...</th>\n",
              "      <td>...</td>\n",
              "      <td>...</td>\n",
              "      <td>...</td>\n",
              "      <td>...</td>\n",
              "      <td>...</td>\n",
              "      <td>...</td>\n",
              "    </tr>\n",
              "    <tr>\n",
              "      <th>252</th>\n",
              "      <td>2022-11-04</td>\n",
              "      <td>19136.77</td>\n",
              "      <td>19246.89</td>\n",
              "      <td>18872.65</td>\n",
              "      <td>18978.21</td>\n",
              "      <td>14423496557</td>\n",
              "    </tr>\n",
              "    <tr>\n",
              "      <th>253</th>\n",
              "      <td>2022-11-11</td>\n",
              "      <td>19232.28</td>\n",
              "      <td>19451.36</td>\n",
              "      <td>19099.91</td>\n",
              "      <td>19332.78</td>\n",
              "      <td>14016474560</td>\n",
              "    </tr>\n",
              "    <tr>\n",
              "      <th>254</th>\n",
              "      <td>2022-11-18</td>\n",
              "      <td>19846.85</td>\n",
              "      <td>19955.12</td>\n",
              "      <td>19706.43</td>\n",
              "      <td>19819.67</td>\n",
              "      <td>12248780417</td>\n",
              "    </tr>\n",
              "    <tr>\n",
              "      <th>255</th>\n",
              "      <td>2022-11-25</td>\n",
              "      <td>15945.38</td>\n",
              "      <td>16035.68</td>\n",
              "      <td>15909.64</td>\n",
              "      <td>16006.90</td>\n",
              "      <td>6769708993</td>\n",
              "    </tr>\n",
              "    <tr>\n",
              "      <th>256</th>\n",
              "      <td>2022-12-02</td>\n",
              "      <td>7969.55</td>\n",
              "      <td>7989.04</td>\n",
              "      <td>7893.42</td>\n",
              "      <td>7921.57</td>\n",
              "      <td>4002501959</td>\n",
              "    </tr>\n",
              "  </tbody>\n",
              "</table>\n",
              "<p>257 rows × 6 columns</p>\n",
              "</div>\n",
              "      <button class=\"colab-df-convert\" onclick=\"convertToInteractive('df-17b5a0f2-0343-422f-9070-6306bb9c11c7')\"\n",
              "              title=\"Convert this dataframe to an interactive table.\"\n",
              "              style=\"display:none;\">\n",
              "        \n",
              "  <svg xmlns=\"http://www.w3.org/2000/svg\" height=\"24px\"viewBox=\"0 0 24 24\"\n",
              "       width=\"24px\">\n",
              "    <path d=\"M0 0h24v24H0V0z\" fill=\"none\"/>\n",
              "    <path d=\"M18.56 5.44l.94 2.06.94-2.06 2.06-.94-2.06-.94-.94-2.06-.94 2.06-2.06.94zm-11 1L8.5 8.5l.94-2.06 2.06-.94-2.06-.94L8.5 2.5l-.94 2.06-2.06.94zm10 10l.94 2.06.94-2.06 2.06-.94-2.06-.94-.94-2.06-.94 2.06-2.06.94z\"/><path d=\"M17.41 7.96l-1.37-1.37c-.4-.4-.92-.59-1.43-.59-.52 0-1.04.2-1.43.59L10.3 9.45l-7.72 7.72c-.78.78-.78 2.05 0 2.83L4 21.41c.39.39.9.59 1.41.59.51 0 1.02-.2 1.41-.59l7.78-7.78 2.81-2.81c.8-.78.8-2.07 0-2.86zM5.41 20L4 18.59l7.72-7.72 1.47 1.35L5.41 20z\"/>\n",
              "  </svg>\n",
              "      </button>\n",
              "      \n",
              "  <style>\n",
              "    .colab-df-container {\n",
              "      display:flex;\n",
              "      flex-wrap:wrap;\n",
              "      gap: 12px;\n",
              "    }\n",
              "\n",
              "    .colab-df-convert {\n",
              "      background-color: #E8F0FE;\n",
              "      border: none;\n",
              "      border-radius: 50%;\n",
              "      cursor: pointer;\n",
              "      display: none;\n",
              "      fill: #1967D2;\n",
              "      height: 32px;\n",
              "      padding: 0 0 0 0;\n",
              "      width: 32px;\n",
              "    }\n",
              "\n",
              "    .colab-df-convert:hover {\n",
              "      background-color: #E2EBFA;\n",
              "      box-shadow: 0px 1px 2px rgba(60, 64, 67, 0.3), 0px 1px 3px 1px rgba(60, 64, 67, 0.15);\n",
              "      fill: #174EA6;\n",
              "    }\n",
              "\n",
              "    [theme=dark] .colab-df-convert {\n",
              "      background-color: #3B4455;\n",
              "      fill: #D2E3FC;\n",
              "    }\n",
              "\n",
              "    [theme=dark] .colab-df-convert:hover {\n",
              "      background-color: #434B5C;\n",
              "      box-shadow: 0px 1px 3px 1px rgba(0, 0, 0, 0.15);\n",
              "      filter: drop-shadow(0px 1px 2px rgba(0, 0, 0, 0.3));\n",
              "      fill: #FFFFFF;\n",
              "    }\n",
              "  </style>\n",
              "\n",
              "      <script>\n",
              "        const buttonEl =\n",
              "          document.querySelector('#df-17b5a0f2-0343-422f-9070-6306bb9c11c7 button.colab-df-convert');\n",
              "        buttonEl.style.display =\n",
              "          google.colab.kernel.accessAllowed ? 'block' : 'none';\n",
              "\n",
              "        async function convertToInteractive(key) {\n",
              "          const element = document.querySelector('#df-17b5a0f2-0343-422f-9070-6306bb9c11c7');\n",
              "          const dataTable =\n",
              "            await google.colab.kernel.invokeFunction('convertToInteractive',\n",
              "                                                     [key], {});\n",
              "          if (!dataTable) return;\n",
              "\n",
              "          const docLinkHtml = 'Like what you see? Visit the ' +\n",
              "            '<a target=\"_blank\" href=https://colab.research.google.com/notebooks/data_table.ipynb>data table notebook</a>'\n",
              "            + ' to learn more about interactive tables.';\n",
              "          element.innerHTML = '';\n",
              "          dataTable['output_type'] = 'display_data';\n",
              "          await google.colab.output.renderOutput(dataTable, element);\n",
              "          const docLink = document.createElement('div');\n",
              "          docLink.innerHTML = docLinkHtml;\n",
              "          element.appendChild(docLink);\n",
              "        }\n",
              "      </script>\n",
              "    </div>\n",
              "  </div>\n",
              "  "
            ]
          },
          "metadata": {},
          "execution_count": 40
        }
      ]
    },
    {
      "cell_type": "code",
      "execution_count": null,
      "id": "8e0a6fcd",
      "metadata": {
        "id": "8e0a6fcd",
        "outputId": "718ca6ab-53a6-496a-a1e8-65dd7f60dec0",
        "colab": {
          "base_uri": "https://localhost:8080/"
        }
      },
      "outputs": [
        {
          "output_type": "execute_result",
          "data": {
            "text/plain": [
              "(257, 1)"
            ]
          },
          "metadata": {},
          "execution_count": 41
        }
      ],
      "source": [
        "record = weekly_sp.loc[:,['Close']].values\n",
        "record.shape"
      ]
    },
    {
      "cell_type": "code",
      "source": [
        "training, test = record[:204,:], record[204:, :]"
      ],
      "metadata": {
        "id": "xy57Az0nCm-B"
      },
      "id": "xy57Az0nCm-B",
      "execution_count": null,
      "outputs": []
    },
    {
      "cell_type": "code",
      "execution_count": null,
      "id": "8204f73f",
      "metadata": {
        "id": "8204f73f"
      },
      "outputs": [],
      "source": [
        "from tensorflow import keras"
      ]
    },
    {
      "cell_type": "code",
      "execution_count": null,
      "id": "084ed68a",
      "metadata": {
        "id": "084ed68a",
        "outputId": "0465e007-0d78-478b-f83e-e0204c39d34e",
        "colab": {
          "base_uri": "https://localhost:8080/"
        }
      },
      "outputs": [
        {
          "output_type": "execute_result",
          "data": {
            "text/plain": [
              "(204, 1)"
            ]
          },
          "metadata": {},
          "execution_count": 44
        }
      ],
      "source": [
        "#scaling\n",
        "from sklearn.preprocessing import MinMaxScaler\n",
        "scaler = MinMaxScaler(feature_range = (0,1))\n",
        "record_scaled = scaler.fit_transform(training)\n",
        "record_scaled.shape"
      ]
    },
    {
      "cell_type": "code",
      "execution_count": null,
      "id": "d676c277",
      "metadata": {
        "id": "d676c277"
      },
      "outputs": [],
      "source": [
        "n_steps = 10\n",
        "X_train=[]\n",
        "y_train=[]\n",
        "for i in range(n_steps, 204):\n",
        "    X_train.append(record_scaled[i-n_steps:i, 0])\n",
        "    y_train.append(record_scaled[i, 0])\n",
        "    \n",
        "X_train, y_train = np.array(X_train), np.array(y_train)"
      ]
    },
    {
      "cell_type": "code",
      "execution_count": null,
      "id": "7c3db144",
      "metadata": {
        "id": "7c3db144"
      },
      "outputs": [],
      "source": [
        "X_train = np.reshape(X_train, (X_train.shape[0], X_train.shape[1], 1))\n",
        "y_train = np.reshape(y_train, (y_train.shape[0],1))"
      ]
    },
    {
      "cell_type": "code",
      "execution_count": null,
      "id": "f52a8919",
      "metadata": {
        "id": "f52a8919",
        "outputId": "dd05834a-7e94-45d4-f66c-26c88ea9cc2b",
        "colab": {
          "base_uri": "https://localhost:8080/"
        }
      },
      "outputs": [
        {
          "output_type": "execute_result",
          "data": {
            "text/plain": [
              "((194, 10, 1), (194, 1))"
            ]
          },
          "metadata": {},
          "execution_count": 47
        }
      ],
      "source": [
        "X_train.shape, y_train.shape"
      ]
    },
    {
      "cell_type": "code",
      "execution_count": null,
      "id": "289d0632",
      "metadata": {
        "id": "289d0632"
      },
      "outputs": [],
      "source": [
        "from keras.models import Sequential\n",
        "from keras.layers import Dense\n",
        "from keras.layers import SimpleRNN\n",
        "from keras.layers import Dropout\n",
        "\n",
        "#declaire model and adding layers\n",
        "model = keras.models.Sequential()\n",
        "\n",
        "model.add(keras.layers.SimpleRNN(10, return_sequences = True, activation = \"tanh\", input_shape= (X_train.shape[1],1)))\n",
        "model.add(Dropout(0.2))\n",
        "model.add(keras.layers.SimpleRNN(10, return_sequences = True,activation = \"tanh\"))\n",
        "model.add(Dropout(0.2))\n",
        "model.add(keras.layers.SimpleRNN(10, return_sequences = True,activation = \"tanh\"))\n",
        "model.add(Dropout(0.2))\n",
        "model.add(keras.layers.SimpleRNN(10))\n",
        "model.add(Dropout(0.2))\n",
        "model.add(Dense(units =1))\n",
        "\n"
      ]
    },
    {
      "cell_type": "code",
      "execution_count": null,
      "id": "e7596dbb",
      "metadata": {
        "id": "e7596dbb",
        "outputId": "6e601a25-afcf-4ad9-a9da-2b3995c1195c",
        "colab": {
          "base_uri": "https://localhost:8080/"
        }
      },
      "outputs": [
        {
          "output_type": "stream",
          "name": "stdout",
          "text": [
            "Model: \"sequential_2\"\n",
            "_________________________________________________________________\n",
            " Layer (type)                Output Shape              Param #   \n",
            "=================================================================\n",
            " simple_rnn_6 (SimpleRNN)    (None, 10, 10)            120       \n",
            "                                                                 \n",
            " dropout_6 (Dropout)         (None, 10, 10)            0         \n",
            "                                                                 \n",
            " simple_rnn_7 (SimpleRNN)    (None, 10, 10)            210       \n",
            "                                                                 \n",
            " dropout_7 (Dropout)         (None, 10, 10)            0         \n",
            "                                                                 \n",
            " simple_rnn_8 (SimpleRNN)    (None, 10, 10)            210       \n",
            "                                                                 \n",
            " dropout_8 (Dropout)         (None, 10, 10)            0         \n",
            "                                                                 \n",
            " simple_rnn_9 (SimpleRNN)    (None, 10)                210       \n",
            "                                                                 \n",
            " dropout_9 (Dropout)         (None, 10)                0         \n",
            "                                                                 \n",
            " dense_2 (Dense)             (None, 1)                 11        \n",
            "                                                                 \n",
            "=================================================================\n",
            "Total params: 761\n",
            "Trainable params: 761\n",
            "Non-trainable params: 0\n",
            "_________________________________________________________________\n"
          ]
        }
      ],
      "source": [
        "model.summary()"
      ]
    },
    {
      "cell_type": "code",
      "execution_count": null,
      "id": "ba0a5c19",
      "metadata": {
        "id": "ba0a5c19",
        "outputId": "d56560a8-d998-4a70-b584-c9c6fb164c3d",
        "colab": {
          "base_uri": "https://localhost:8080/"
        }
      },
      "outputs": [
        {
          "output_type": "stream",
          "name": "stdout",
          "text": [
            "Epoch 1/30\n",
            "20/20 [==============================] - 3s 10ms/step - loss: 261316336.0000 - accuracy: 0.0000e+00\n",
            "Epoch 2/30\n",
            "20/20 [==============================] - 0s 10ms/step - loss: 261291168.0000 - accuracy: 0.0000e+00\n",
            "Epoch 3/30\n",
            "20/20 [==============================] - 0s 10ms/step - loss: 261274368.0000 - accuracy: 0.0000e+00\n",
            "Epoch 4/30\n",
            "20/20 [==============================] - 0s 10ms/step - loss: 261258976.0000 - accuracy: 0.0000e+00\n",
            "Epoch 5/30\n",
            "20/20 [==============================] - 0s 11ms/step - loss: 261248944.0000 - accuracy: 0.0000e+00\n",
            "Epoch 6/30\n",
            "20/20 [==============================] - 0s 11ms/step - loss: 261238496.0000 - accuracy: 0.0000e+00\n",
            "Epoch 7/30\n",
            "20/20 [==============================] - 0s 11ms/step - loss: 261222128.0000 - accuracy: 0.0000e+00\n",
            "Epoch 8/30\n",
            "20/20 [==============================] - 0s 11ms/step - loss: 261216608.0000 - accuracy: 0.0000e+00\n",
            "Epoch 9/30\n",
            "20/20 [==============================] - 0s 11ms/step - loss: 261201984.0000 - accuracy: 0.0000e+00\n",
            "Epoch 10/30\n",
            "20/20 [==============================] - 0s 11ms/step - loss: 261194384.0000 - accuracy: 0.0000e+00\n",
            "Epoch 11/30\n",
            "20/20 [==============================] - 0s 10ms/step - loss: 261183728.0000 - accuracy: 0.0000e+00\n",
            "Epoch 12/30\n",
            "20/20 [==============================] - 0s 11ms/step - loss: 261172480.0000 - accuracy: 0.0000e+00\n",
            "Epoch 13/30\n",
            "20/20 [==============================] - 0s 11ms/step - loss: 261167152.0000 - accuracy: 0.0000e+00\n",
            "Epoch 14/30\n",
            "20/20 [==============================] - 0s 11ms/step - loss: 261157840.0000 - accuracy: 0.0000e+00\n",
            "Epoch 15/30\n",
            "20/20 [==============================] - 0s 11ms/step - loss: 261148064.0000 - accuracy: 0.0000e+00\n",
            "Epoch 16/30\n",
            "20/20 [==============================] - 0s 11ms/step - loss: 261143072.0000 - accuracy: 0.0000e+00\n",
            "Epoch 17/30\n",
            "20/20 [==============================] - 0s 11ms/step - loss: 261135616.0000 - accuracy: 0.0000e+00\n",
            "Epoch 18/30\n",
            "20/20 [==============================] - 0s 10ms/step - loss: 261126400.0000 - accuracy: 0.0000e+00\n",
            "Epoch 19/30\n",
            "20/20 [==============================] - 0s 11ms/step - loss: 261119600.0000 - accuracy: 0.0000e+00\n",
            "Epoch 20/30\n",
            "20/20 [==============================] - 0s 10ms/step - loss: 261109808.0000 - accuracy: 0.0000e+00\n",
            "Epoch 21/30\n",
            "20/20 [==============================] - 0s 10ms/step - loss: 261098864.0000 - accuracy: 0.0000e+00\n",
            "Epoch 22/30\n",
            "20/20 [==============================] - 0s 10ms/step - loss: 261098080.0000 - accuracy: 0.0000e+00\n",
            "Epoch 23/30\n",
            "20/20 [==============================] - 0s 10ms/step - loss: 261089920.0000 - accuracy: 0.0000e+00\n",
            "Epoch 24/30\n",
            "20/20 [==============================] - 0s 11ms/step - loss: 261080880.0000 - accuracy: 0.0000e+00\n",
            "Epoch 25/30\n",
            "20/20 [==============================] - 0s 11ms/step - loss: 261073408.0000 - accuracy: 0.0000e+00\n",
            "Epoch 26/30\n",
            "20/20 [==============================] - 0s 11ms/step - loss: 261070112.0000 - accuracy: 0.0000e+00\n",
            "Epoch 27/30\n",
            "20/20 [==============================] - 0s 11ms/step - loss: 261054880.0000 - accuracy: 0.0000e+00\n",
            "Epoch 28/30\n",
            "20/20 [==============================] - 0s 11ms/step - loss: 261051952.0000 - accuracy: 0.0000e+00\n",
            "Epoch 29/30\n",
            "20/20 [==============================] - 0s 10ms/step - loss: 261042592.0000 - accuracy: 0.0000e+00\n",
            "Epoch 30/30\n",
            "20/20 [==============================] - 0s 10ms/step - loss: 261030864.0000 - accuracy: 0.0000e+00\n"
          ]
        }
      ],
      "source": [
        "#compile the model\n",
        "model.compile(optimizer = 'adam', loss = 'mean_squared_error', metrics = ['accuracy'])\n",
        "\n",
        "#Fitting the model to train set\n",
        "history = model.fit(X_train, y_train, epochs = 30, batch_size= 10)"
      ]
    },
    {
      "cell_type": "code",
      "source": [
        "history.history[\"loss\"]"
      ],
      "metadata": {
        "colab": {
          "base_uri": "https://localhost:8080/"
        },
        "id": "o3hlk09zI4vI",
        "outputId": "6215e916-cff5-4fca-fd22-e30b3524edcf"
      },
      "id": "o3hlk09zI4vI",
      "execution_count": null,
      "outputs": [
        {
          "output_type": "execute_result",
          "data": {
            "text/plain": [
              "[0.6204767227172852,\n",
              " 0.42401114106178284,\n",
              " 0.4174595773220062,\n",
              " 0.34069159626960754,\n",
              " 0.2823728919029236,\n",
              " 0.26606523990631104,\n",
              " 0.24098388850688934,\n",
              " 0.28076285123825073,\n",
              " 0.15846435725688934,\n",
              " 0.22468310594558716,\n",
              " 0.17060914635658264,\n",
              " 0.16040323674678802,\n",
              " 0.21781717240810394,\n",
              " 0.1644486039876938,\n",
              " 0.1739918440580368,\n",
              " 0.1318991780281067,\n",
              " 0.13259585201740265,\n",
              " 0.13326512277126312,\n",
              " 0.11044728755950928,\n",
              " 0.1285540759563446,\n",
              " 0.11179178953170776,\n",
              " 0.11273664981126785,\n",
              " 0.1195015236735344,\n",
              " 0.08793506771326065,\n",
              " 0.10393809527158737,\n",
              " 0.1005164161324501,\n",
              " 0.06906433403491974,\n",
              " 0.09787500649690628,\n",
              " 0.06855913996696472,\n",
              " 0.08032121509313583]"
            ]
          },
          "metadata": {},
          "execution_count": 51
        }
      ]
    },
    {
      "cell_type": "code",
      "source": [
        "plt.figure(figsize =(10,7))\n",
        "plt.plot(history.history[\"loss\"])\n",
        "plt.xlabel(\"Epochs\")\n",
        "plt.ylabel(\"Losses\")\n",
        "plt.title(\"Simple RNN model, Loss vs Epoch\")\n",
        "plt.show()"
      ],
      "metadata": {
        "colab": {
          "base_uri": "https://localhost:8080/",
          "height": 458
        },
        "id": "pb2NFUvmJAqa",
        "outputId": "7463c440-46b8-4496-fbac-4bea3a0f190f"
      },
      "id": "pb2NFUvmJAqa",
      "execution_count": null,
      "outputs": [
        {
          "output_type": "display_data",
          "data": {
            "text/plain": [
              "<Figure size 720x504 with 1 Axes>"
            ],
            "image/png": "[encoded data removed]"
          },
          "metadata": {
            "needs_background": "light"
          }
        }
      ]
    },
    {
      "cell_type": "code",
      "source": [
        "y_pred = model.predict(X_train)\n",
        "y_pred = scaler.inverse_transform(y_pred )\n",
        "y_pred.shape"
      ],
      "metadata": {
        "colab": {
          "base_uri": "https://localhost:8080/"
        },
        "id": "hdxKSTPzJMXE",
        "outputId": "66924d83-cd3a-46e1-fbbf-3e211e6d3f4c"
      },
      "id": "hdxKSTPzJMXE",
      "execution_count": null,
      "outputs": [
        {
          "output_type": "stream",
          "name": "stdout",
          "text": [
            "7/7 [==============================] - 1s 5ms/step\n"
          ]
        },
        {
          "output_type": "execute_result",
          "data": {
            "text/plain": [
              "(194, 1)"
            ]
          },
          "metadata": {},
          "execution_count": 53
        }
      ]
    },
    {
      "cell_type": "code",
      "source": [
        "y_pred.shape"
      ],
      "metadata": {
        "colab": {
          "base_uri": "https://localhost:8080/"
        },
        "id": "Jj895gBVLOSL",
        "outputId": "6d6dca60-4b63-40a5-daab-51fcec03c691"
      },
      "id": "Jj895gBVLOSL",
      "execution_count": null,
      "outputs": [
        {
          "output_type": "execute_result",
          "data": {
            "text/plain": [
              "(194, 1)"
            ]
          },
          "metadata": {},
          "execution_count": 54
        }
      ]
    },
    {
      "cell_type": "code",
      "source": [
        "y_train = scaler.inverse_transform(y_train)"
      ],
      "metadata": {
        "id": "-75a3LcUMaQ4"
      },
      "id": "-75a3LcUMaQ4",
      "execution_count": null,
      "outputs": []
    },
    {
      "cell_type": "code",
      "source": [
        "plt.figure(figsize = (30,10))\n",
        "plt.plot(y_pred, color = \"b\", label = \"y_pred\" )\n",
        "plt.plot(y_train, color = \"g\", label = \"y_train\")\n",
        "plt.xlabel(\"Days\")\n",
        "plt.ylabel(\"Close price\")\n",
        "plt.title(\"Simple RNN model, Predictions with input X_train vs y_train\")\n",
        "plt.legend()\n",
        "plt.show()"
      ],
      "metadata": {
        "colab": {
          "base_uri": "https://localhost:8080/",
          "height": 513
        },
        "id": "nCTH4rfMMLuf",
        "outputId": "96181f41-ee54-43d8-9ef6-68d389baa8fc"
      },
      "id": "nCTH4rfMMLuf",
      "execution_count": null,
      "outputs": [
        {
          "output_type": "display_data",
          "data": {
            "text/plain": [
              "<Figure size 2160x720 with 1 Axes>"
            ],
            "image/png": "[encoded data removed]"
          },
          "metadata": {
            "needs_background": "light"
          }
        }
      ]
    },
    {
      "cell_type": "markdown",
      "id": "90699977",
      "metadata": {
        "id": "90699977"
      },
      "source": [
        "## Test "
      ]
    },
    {
      "cell_type": "code",
      "execution_count": null,
      "id": "2099e471",
      "metadata": {
        "id": "2099e471"
      },
      "outputs": [],
      "source": [
        "#record_all = pd.concat((weekly_sp['Close'], weekly_btc['Close']), axis = 0)\n",
        "inputs = test.reshape(-1, 1)\n",
        "# drop the latest \n",
        "#input_len = len(inputs[0])\n",
        "#inputs= inputs[:input_len-2, :]"
      ]
    },
    {
      "cell_type": "code",
      "source": [
        "inputs"
      ],
      "metadata": {
        "colab": {
          "base_uri": "https://localhost:8080/"
        },
        "id": "qQDNOUvIUDta",
        "outputId": "a9618558-1182-49f1-e94e-e483c4c26c69"
      },
      "id": "qQDNOUvIUDta",
      "execution_count": null,
      "outputs": [
        {
          "output_type": "execute_result",
          "data": {
            "text/plain": [
              "array([[22850.84],\n",
              "       [23359.1 ],\n",
              "       [23302.22],\n",
              "       [18639.6 ],\n",
              "       [23915.51],\n",
              "       [23663.76],\n",
              "       [23431.59],\n",
              "       [17990.54],\n",
              "       [21874.87],\n",
              "       [22629.44],\n",
              "       [22515.31],\n",
              "       [22076.88],\n",
              "       [17203.61],\n",
              "       [21759.1 ],\n",
              "       [21113.5 ],\n",
              "       [21668.21],\n",
              "       [22492.25],\n",
              "       [22885.84],\n",
              "       [22577.4 ],\n",
              "       [17649.16],\n",
              "       [21978.79],\n",
              "       [21074.71],\n",
              "       [20901.24],\n",
              "       [19881.44],\n",
              "       [19822.69],\n",
              "       [20110.04],\n",
              "       [16518.74],\n",
              "       [20316.56],\n",
              "       [18616.71],\n",
              "       [15232.15],\n",
              "       [19151.2 ],\n",
              "       [15478.47],\n",
              "       [19128.55],\n",
              "       [19688.02],\n",
              "       [20114.22],\n",
              "       [20662.12],\n",
              "       [20960.19],\n",
              "       [21388.6 ],\n",
              "       [20664.27],\n",
              "       [19862.88],\n",
              "       [15961.6 ],\n",
              "       [19763.79],\n",
              "       [18996.97],\n",
              "       [18247.46],\n",
              "       [18636.82],\n",
              "       [18031.24],\n",
              "       [18511.62],\n",
              "       [19195.41],\n",
              "       [18978.21],\n",
              "       [19332.78],\n",
              "       [19819.67],\n",
              "       [16006.9 ],\n",
              "       [ 7921.57]])"
            ]
          },
          "metadata": {},
          "execution_count": 58
        }
      ]
    },
    {
      "cell_type": "code",
      "execution_count": null,
      "id": "5763183d",
      "metadata": {
        "id": "5763183d"
      },
      "outputs": [],
      "source": [
        "inputs = scaler.transform(inputs)\n"
      ]
    },
    {
      "cell_type": "code",
      "execution_count": null,
      "id": "9396cdb4",
      "metadata": {
        "id": "9396cdb4",
        "outputId": "055be345-7eab-45cd-b9df-96e88e1af955",
        "colab": {
          "base_uri": "https://localhost:8080/"
        }
      },
      "outputs": [
        {
          "output_type": "execute_result",
          "data": {
            "text/plain": [
              "53"
            ]
          },
          "metadata": {},
          "execution_count": 60
        }
      ],
      "source": [
        "inputs.shape[0]\n",
        "length = inputs.shape[0]\n",
        "length"
      ]
    },
    {
      "cell_type": "code",
      "execution_count": null,
      "id": "f3278c24",
      "metadata": {
        "id": "f3278c24"
      },
      "outputs": [],
      "source": [
        "X_test = []\n",
        "y_test = []\n",
        "for i in range(n_steps, length):\n",
        "    X_test.append(inputs[i-n_steps:i, 0])\n",
        "    y_test.append(inputs[i, 0])\n",
        "X_test, y_test = np.array(X_test), np.array(y_test)\n",
        "#When dealing with time series (and other types of sequences such as sentences), \n",
        "#the input features are generally represented as 3D arrays of shape [batch size, time steps, dimensionality], \n",
        "#where dimensionality is 1 for univariate time series and more for multi‐ variate time series."
      ]
    },
    {
      "cell_type": "code",
      "execution_count": null,
      "id": "b956946a",
      "metadata": {
        "scrolled": true,
        "id": "b956946a",
        "outputId": "238d523d-6c58-48e4-d364-c544f989e406",
        "colab": {
          "base_uri": "https://localhost:8080/"
        }
      },
      "outputs": [
        {
          "output_type": "execute_result",
          "data": {
            "text/plain": [
              "((43, 10), (43,))"
            ]
          },
          "metadata": {},
          "execution_count": 62
        }
      ],
      "source": [
        "X_test.shape, y_test.shape"
      ]
    },
    {
      "cell_type": "code",
      "source": [
        "X_test = np.reshape(X_test, (X_test.shape[0], X_test.shape[1], 1))\n",
        "y_test = np.reshape(y_test, (-1,1))\n",
        "X_test.shape, y_test.shape"
      ],
      "metadata": {
        "colab": {
          "base_uri": "https://localhost:8080/"
        },
        "id": "wV4zw0shNRyT",
        "outputId": "71a1a85e-9503-4f24-d009-ef695bd7f2b5"
      },
      "id": "wV4zw0shNRyT",
      "execution_count": null,
      "outputs": [
        {
          "output_type": "execute_result",
          "data": {
            "text/plain": [
              "((43, 10, 1), (43, 1))"
            ]
          },
          "metadata": {},
          "execution_count": 63
        }
      ]
    },
    {
      "cell_type": "code",
      "execution_count": null,
      "id": "6a15ac90",
      "metadata": {
        "id": "6a15ac90",
        "outputId": "764afd1b-0efb-4e93-8bba-747cb77de050",
        "colab": {
          "base_uri": "https://localhost:8080/"
        }
      },
      "outputs": [
        {
          "output_type": "stream",
          "name": "stdout",
          "text": [
            "2/2 [==============================] - 0s 9ms/step\n"
          ]
        }
      ],
      "source": [
        "test_predict = model.predict(X_test)"
      ]
    },
    {
      "cell_type": "code",
      "source": [
        "from sklearn.metrics import mean_squared_error\n",
        "\n",
        "print('---------- Evaluation on Test Data ----------')\n",
        "print(\"MSE: \", mean_squared_error(y_test, test_predict))\n",
        "print(\"\")"
      ],
      "metadata": {
        "colab": {
          "base_uri": "https://localhost:8080/"
        },
        "id": "00LWCPvJ0e05",
        "outputId": "80a1b66c-9cd1-4ce3-e2b8-2b41450d5f13"
      },
      "id": "00LWCPvJ0e05",
      "execution_count": null,
      "outputs": [
        {
          "output_type": "stream",
          "name": "stdout",
          "text": [
            "---------- Evaluation on Test Data ----------\n",
            "MSE:  0.037465184469747226\n",
            "\n"
          ]
        }
      ]
    },
    {
      "cell_type": "code",
      "source": [
        "test_predict = scaler.inverse_transform(test_predict)\n",
        "test_predict.shape"
      ],
      "metadata": {
        "colab": {
          "base_uri": "https://localhost:8080/"
        },
        "id": "nomkzv-2NnXL",
        "outputId": "0d23c088-42d8-425d-98cd-b03ed9f975df"
      },
      "id": "nomkzv-2NnXL",
      "execution_count": null,
      "outputs": [
        {
          "output_type": "execute_result",
          "data": {
            "text/plain": [
              "(43, 1)"
            ]
          },
          "metadata": {},
          "execution_count": 65
        }
      ]
    },
    {
      "cell_type": "code",
      "execution_count": null,
      "id": "c2110d31",
      "metadata": {
        "id": "c2110d31",
        "outputId": "afc5b359-4945-4c11-8363-cbe9afe1834e",
        "colab": {
          "base_uri": "https://localhost:8080/",
          "height": 621
        }
      },
      "outputs": [
        {
          "output_type": "display_data",
          "data": {
            "text/plain": [
              "<Figure size 1080x720 with 1 Axes>"
            ],
            "image/png": "[encoded data removed]"
          },
          "metadata": {
            "needs_background": "light"
          }
        }
      ],
      "source": [
        "plt.figure(figsize=(15, 10))\n",
        "plt.plot(test_predict , color = 'red', label = 'Prediction Price')\n",
        "plt.plot(scaler.inverse_transform(y_test) , color = 'blue', label = 'Real Price')\n",
        "plt.title('S&P 500 Close Price Prediction ')\n",
        "plt.xlabel('Time')\n",
        "plt.ylabel('BTC  Price')\n",
        "plt.legend()\n",
        "plt.show()"
      ]
    },
    {
      "cell_type": "code",
      "source": [
        "training.shape, inputs.shape "
      ],
      "metadata": {
        "colab": {
          "base_uri": "https://localhost:8080/"
        },
        "id": "AElwL-8kQQX7",
        "outputId": "bf2ba9bc-b7e4-4ec6-fbb4-e109ef2db62d"
      },
      "id": "AElwL-8kQQX7",
      "execution_count": null,
      "outputs": [
        {
          "output_type": "execute_result",
          "data": {
            "text/plain": [
              "((204, 1), (53, 1))"
            ]
          },
          "metadata": {},
          "execution_count": 67
        }
      ]
    },
    {
      "cell_type": "code",
      "source": [
        "weekly_sp.loc[:204,].Date\n"
      ],
      "metadata": {
        "colab": {
          "base_uri": "https://localhost:8080/"
        },
        "id": "2M1VAuCoUDd-",
        "outputId": "963aac58-7e02-404d-a74d-3e9254d830b2"
      },
      "id": "2M1VAuCoUDd-",
      "execution_count": null,
      "outputs": [
        {
          "output_type": "execute_result",
          "data": {
            "text/plain": [
              "0     2018-01-05\n",
              "1     2018-01-12\n",
              "2     2018-01-19\n",
              "3     2018-01-26\n",
              "4     2018-02-02\n",
              "         ...    \n",
              "200   2021-11-05\n",
              "201   2021-11-12\n",
              "202   2021-11-19\n",
              "203   2021-11-26\n",
              "204   2021-12-03\n",
              "Name: Date, Length: 205, dtype: datetime64[ns]"
            ]
          },
          "metadata": {},
          "execution_count": 68
        }
      ]
    },
    {
      "cell_type": "code",
      "source": [
        "weekly_sp.loc[:204,].Date.iloc[n_steps:].shape"
      ],
      "metadata": {
        "colab": {
          "base_uri": "https://localhost:8080/"
        },
        "id": "oj0NXJweUHbe",
        "outputId": "02fba9ec-24d8-4e6e-e2f5-0a07f7a2393b"
      },
      "id": "oj0NXJweUHbe",
      "execution_count": null,
      "outputs": [
        {
          "output_type": "execute_result",
          "data": {
            "text/plain": [
              "(195,)"
            ]
          },
          "metadata": {},
          "execution_count": 69
        }
      ]
    },
    {
      "cell_type": "code",
      "source": [
        "y_flat = y_pred.ravel()"
      ],
      "metadata": {
        "id": "iNQDpXs_WU3F"
      },
      "id": "iNQDpXs_WU3F",
      "execution_count": null,
      "outputs": []
    },
    {
      "cell_type": "code",
      "source": [
        "test_y_flat = test_predict.ravel()"
      ],
      "metadata": {
        "id": "PcWAegjGXJN9"
      },
      "id": "PcWAegjGXJN9",
      "execution_count": null,
      "outputs": []
    },
    {
      "cell_type": "code",
      "source": [
        "# Visualisation\n",
        "plt.subplots(figsize =(30,12))\n",
        "plt.plot(weekly_sp.loc[:203,].Date, weekly_sp.loc[:203,['Close']], label = \"weekly_sp\", color = \"b\")\n",
        "plt.plot(weekly_sp.loc[203:,].Date, weekly_sp.loc[203:,['Close']],label = \"validation_data\", color = \"g\")\n",
        "plt.plot(weekly_sp.loc[:203,].Date.iloc[n_steps:], y_flat, label = \"y_pred\", color = \"r\")\n",
        "plt.plot(weekly_sp.loc[204:,].Date.iloc[n_steps:], test_y_flat, label = \"y_pred_of_test\", color = \"orange\")\n",
        "plt.xlabel(\"Days\")\n",
        "plt.ylabel(\"Open price\")\n",
        "plt.title(\"Simple RNN model, Train-Validation-Prediction\")\n",
        "plt.legend()\n",
        "plt.show()"
      ],
      "metadata": {
        "colab": {
          "base_uri": "https://localhost:8080/",
          "height": 603
        },
        "id": "mPL0de-5OdWY",
        "outputId": "9415df81-28cf-4ea6-c7b8-f6501bae84d2"
      },
      "id": "mPL0de-5OdWY",
      "execution_count": null,
      "outputs": [
        {
          "output_type": "display_data",
          "data": {
            "text/plain": [
              "<Figure size 2160x864 with 1 Axes>"
            ],
            "image/png": "[encoded data removed]"
          },
          "metadata": {
            "needs_background": "light"
          }
        }
      ]
    }
  ],
  "metadata": {
    "colab": {
      "collapsed_sections": [
        "Zfrzle0knoEx",
        "Jwje9rwIoOnX"
      ],
      "provenance": []
    },
    "kernelspec": {
      "display_name": "Python 3 (ipykernel)",
      "language": "python",
      "name": "python3"
    },
    "language_info": {
      "codemirror_mode": {
        "name": "ipython",
        "version": 3
      },
      "file_extension": ".py",
      "mimetype": "text/x-python",
      "name": "python",
      "nbconvert_exporter": "python",
      "pygments_lexer": "ipython3",
      "version": "3.9.13"
    }
  },
  "nbformat": 4,
  "nbformat_minor": 5
}