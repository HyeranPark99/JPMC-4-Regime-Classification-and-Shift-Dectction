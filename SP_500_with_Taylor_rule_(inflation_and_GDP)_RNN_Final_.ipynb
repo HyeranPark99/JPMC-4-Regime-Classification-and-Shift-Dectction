{
  "cells": [
    {
      "cell_type": "markdown",
      "id": "2f1c1266",
      "metadata": {
        "id": "2f1c1266"
      },
      "source": []
    },
    {
      "cell_type": "code",
      "execution_count": null,
      "id": "0d02c3b1",
      "metadata": {
        "id": "0d02c3b1"
      },
      "outputs": [],
      "source": [
        "\n",
        "import pandas as pd\n",
        "import numpy as np\n",
        "import statsmodels.api as sm\n",
        "import matplotlib.pyplot as plt\n",
        "\n",
        "from pandas_datareader.data import DataReader\n",
        "from datetime import datetime\n",
        "\n",
        "import requests\n",
        "from io import StringIO\n",
        "from io import BytesIO\n",
        "\n",
        "from matplotlib.pyplot import figure"
      ]
    },
    {
      "cell_type": "code",
      "execution_count": null,
      "id": "a73a2871",
      "metadata": {
        "id": "a73a2871",
        "outputId": "ad6996aa-8538-4272-a93d-40555148ca62",
        "colab": {
          "base_uri": "https://localhost:8080/"
        }
      },
      "outputs": [
        {
          "output_type": "stream",
          "name": "stdout",
          "text": [
            "Looking in indexes: https://pypi.org/simple, https://us-python.pkg.dev/colab-wheels/public/simple/\n",
            "Requirement already satisfied: statsmodels in /usr/local/lib/python3.8/dist-packages (0.12.2)\n",
            "Requirement already satisfied: numpy>=1.15 in /usr/local/lib/python3.8/dist-packages (from statsmodels) (1.21.6)\n",
            "Requirement already satisfied: scipy>=1.1 in /usr/local/lib/python3.8/dist-packages (from statsmodels) (1.7.3)\n",
            "Requirement already satisfied: pandas>=0.21 in /usr/local/lib/python3.8/dist-packages (from statsmodels) (1.3.5)\n",
            "Requirement already satisfied: patsy>=0.5 in /usr/local/lib/python3.8/dist-packages (from statsmodels) (0.5.3)\n",
            "Requirement already satisfied: python-dateutil>=2.7.3 in /usr/local/lib/python3.8/dist-packages (from pandas>=0.21->statsmodels) (2.8.2)\n",
            "Requirement already satisfied: pytz>=2017.3 in /usr/local/lib/python3.8/dist-packages (from pandas>=0.21->statsmodels) (2022.6)\n",
            "Requirement already satisfied: six in /usr/local/lib/python3.8/dist-packages (from patsy>=0.5->statsmodels) (1.15.0)\n"
          ]
        }
      ],
      "source": [
        "pip install statsmodels "
      ]
    },
    {
      "cell_type": "markdown",
      "id": "6yaAKHM6jjrZ",
      "metadata": {
        "id": "6yaAKHM6jjrZ"
      },
      "source": [
        "## **Bitcoin Data:**"
      ]
    },
    {
      "cell_type": "code",
      "execution_count": null,
      "id": "de4e2f16",
      "metadata": {
        "colab": {
          "base_uri": "https://localhost:8080/"
        },
        "id": "de4e2f16",
        "outputId": "2a30b2d1-6caa-4d37-c750-e299bac31ade"
      },
      "outputs": [
        {
          "output_type": "stream",
          "name": "stdout",
          "text": [
            "(1794, 6)\n"
          ]
        }
      ],
      "source": [
        "#import dataset\n",
        "response_btc = requests.get('https://docs.google.com/spreadsheets/d/1J3F1-OjCNr28bSjr4eBw3ywQaAAImKeFC2Kd-wNgBYo/export?format=csv')\n",
        "assert response_btc.status_code == 200, 'Wrong status code'\n",
        "data = response_btc.content\n",
        "df_btc = pd.read_csv(BytesIO(data))\n",
        "print(df_btc.shape)"
      ]
    },
    {
      "cell_type": "code",
      "execution_count": null,
      "id": "e813ff97",
      "metadata": {
        "colab": {
          "base_uri": "https://localhost:8080/"
        },
        "id": "e813ff97",
        "outputId": "eb3ecadf-41b4-4057-d739-21f7bb3b9ae7"
      },
      "outputs": [
        {
          "output_type": "execute_result",
          "data": {
            "text/plain": [
              "0"
            ]
          },
          "metadata": {},
          "execution_count": 4
        }
      ],
      "source": [
        "df_btc['Date'] = pd.to_datetime(df_btc['Date'])\n",
        "\n",
        "#Check null value:\n",
        "df_btc['Date'].isna().sum()"
      ]
    },
    {
      "cell_type": "code",
      "execution_count": null,
      "id": "f206ed29",
      "metadata": {
        "id": "f206ed29",
        "outputId": "b9ddf377-057d-4277-edae-dc7993c28cc2",
        "colab": {
          "base_uri": "https://localhost:8080/",
          "height": 1000
        }
      },
      "outputs": [
        {
          "output_type": "execute_result",
          "data": {
            "text/plain": [
              "         Date  Open  High  Low       Close  Volume\n",
              "0  2018-01-31   0.0   0.0  0.0   400731.85     0.0\n",
              "1  2018-02-28   0.0   0.0  0.0   262719.46     0.0\n",
              "2  2018-03-31   0.0   0.0  0.0   278492.27     0.0\n",
              "3  2018-04-30   0.0   0.0  0.0   240646.79     0.0\n",
              "4  2018-05-31   0.0   0.0  0.0   261067.72     0.0\n",
              "5  2018-06-30   0.0   0.0  0.0   203073.01     0.0\n",
              "6  2018-07-31   0.0   0.0  0.0   220815.29     0.0\n",
              "7  2018-08-31   0.0   0.0  0.0   207046.18     0.0\n",
              "8  2018-09-30   0.0   0.0  0.0   197574.71     0.0\n",
              "9  2018-10-31   0.0   0.0  0.0   198864.27     0.0\n",
              "10 2018-11-30   0.0   0.0  0.0   160443.44     0.0\n",
              "11 2018-12-31   0.0   0.0  0.0   113487.70     0.0\n",
              "12 2019-01-31   0.0   0.0  0.0   113442.22     0.0\n",
              "13 2019-02-28   0.0   0.0  0.0   102458.51     0.0\n",
              "14 2019-03-31   0.0   0.0  0.0   121654.67     0.0\n",
              "15 2019-04-30   0.0   0.0  0.0   154391.94     0.0\n",
              "16 2019-05-31   0.0   0.0  0.0   225897.88     0.0\n",
              "17 2019-06-30   0.0   0.0  0.0   281907.15     0.0\n",
              "18 2019-07-31   0.0   0.0  0.0   330242.13     0.0\n",
              "19 2019-08-31   0.0   0.0  0.0   329630.20     0.0\n",
              "20 2019-09-30   0.0   0.0  0.0   293693.65     0.0\n",
              "21 2019-10-31   0.0   0.0  0.0   259869.07     0.0\n",
              "22 2019-11-30   0.0   0.0  0.0   250094.03     0.0\n",
              "23 2019-12-31   0.0   0.0  0.0   224631.43     0.0\n",
              "24 2020-01-31   0.0   0.0  0.0   259383.75     0.0\n",
              "25 2020-02-29   0.0   0.0  0.0   279599.60     0.0\n",
              "26 2020-03-31   0.0   0.0  0.0   213142.87     0.0\n",
              "27 2020-04-30   0.0   0.0  0.0   216655.80     0.0\n",
              "28 2020-05-31   0.0   0.0  0.0   286954.21     0.0\n",
              "29 2020-06-30   0.0   0.0  0.0   284337.06     0.0\n",
              "30 2020-07-31   0.0   0.0  0.0   297444.72     0.0\n",
              "31 2020-08-31   0.0   0.0  0.0   361048.10     0.0\n",
              "32 2020-09-30   0.0   0.0  0.0   319453.20     0.0\n",
              "33 2020-10-31   0.0   0.0  0.0   368859.40     0.0\n",
              "34 2020-11-30   0.0   0.0  0.0   500101.80     0.0\n",
              "35 2020-12-31   0.0   0.0  0.0   681873.30     0.0\n",
              "36 2021-01-31   0.0   0.0  0.0  1077895.50     0.0\n",
              "37 2021-02-28   0.0   0.0  0.0  1297263.20     0.0\n",
              "38 2021-03-31   0.0   0.0  0.0  1701789.30     0.0\n",
              "39 2021-04-30   0.0   0.0  0.0  1712364.00     0.0\n",
              "40 2021-05-31   0.0   0.0  0.0  1440250.40     0.0\n",
              "41 2021-06-30   0.0   0.0  0.0  1075369.80     0.0\n",
              "42 2021-07-31   0.0   0.0  0.0  1067545.00     0.0\n",
              "43 2021-08-31   0.0   0.0  0.0  1417196.70     0.0\n",
              "44 2021-09-30   0.0   0.0  0.0  1378052.00     0.0\n",
              "45 2021-10-31   0.0   0.0  0.0  1795205.70     0.0\n",
              "46 2021-11-30   0.0   0.0  0.0  1821234.00     0.0\n",
              "47 2021-12-31   0.0   0.0  0.0  1528958.30     0.0\n",
              "48 2022-01-31   0.0   0.0  0.0  1274150.00     0.0\n",
              "49 2022-02-28   0.0   0.0  0.0  1141255.30     0.0\n",
              "50 2022-03-31   0.0   0.0  0.0  1300776.60     0.0\n",
              "51 2022-04-30   0.0   0.0  0.0  1242638.60     0.0\n",
              "52 2022-05-31   0.0   0.0  0.0   982201.10     0.0\n",
              "53 2022-06-30   0.0   0.0  0.0   730970.80     0.0\n",
              "54 2022-07-31   0.0   0.0  0.0   667394.30     0.0\n",
              "55 2022-08-31   0.0   0.0  0.0   692965.10     0.0\n",
              "56 2022-09-30   0.0   0.0  0.0   593903.90     0.0\n",
              "57 2022-10-31   0.0   0.0  0.0   609165.80     0.0\n",
              "58 2022-11-30   0.0   0.0  0.0   510197.50     0.0"
            ],
            "text/html": [
              "\n",
              "  <div id=\"df-2857f835-3e60-44a7-b8ea-645133af1f08\">\n",
              "    <div class=\"colab-df-container\">\n",
              "      <div>\n",
              "<style scoped>\n",
              "    .dataframe tbody tr th:only-of-type {\n",
              "        vertical-align: middle;\n",
              "    }\n",
              "\n",
              "    .dataframe tbody tr th {\n",
              "        vertical-align: top;\n",
              "    }\n",
              "\n",
              "    .dataframe thead th {\n",
              "        text-align: right;\n",
              "    }\n",
              "</style>\n",
              "<table border=\"1\" class=\"dataframe\">\n",
              "  <thead>\n",
              "    <tr style=\"text-align: right;\">\n",
              "      <th></th>\n",
              "      <th>Date</th>\n",
              "      <th>Open</th>\n",
              "      <th>High</th>\n",
              "      <th>Low</th>\n",
              "      <th>Close</th>\n",
              "      <th>Volume</th>\n",
              "    </tr>\n",
              "  </thead>\n",
              "  <tbody>\n",
              "    <tr>\n",
              "      <th>0</th>\n",
              "      <td>2018-01-31</td>\n",
              "      <td>0.0</td>\n",
              "      <td>0.0</td>\n",
              "      <td>0.0</td>\n",
              "      <td>400731.85</td>\n",
              "      <td>0.0</td>\n",
              "    </tr>\n",
              "    <tr>\n",
              "      <th>1</th>\n",
              "      <td>2018-02-28</td>\n",
              "      <td>0.0</td>\n",
              "      <td>0.0</td>\n",
              "      <td>0.0</td>\n",
              "      <td>262719.46</td>\n",
              "      <td>0.0</td>\n",
              "    </tr>\n",
              "    <tr>\n",
              "      <th>2</th>\n",
              "      <td>2018-03-31</td>\n",
              "      <td>0.0</td>\n",
              "      <td>0.0</td>\n",
              "      <td>0.0</td>\n",
              "      <td>278492.27</td>\n",
              "      <td>0.0</td>\n",
              "    </tr>\n",
              "    <tr>\n",
              "      <th>3</th>\n",
              "      <td>2018-04-30</td>\n",
              "      <td>0.0</td>\n",
              "      <td>0.0</td>\n",
              "      <td>0.0</td>\n",
              "      <td>240646.79</td>\n",
              "      <td>0.0</td>\n",
              "    </tr>\n",
              "    <tr>\n",
              "      <th>4</th>\n",
              "      <td>2018-05-31</td>\n",
              "      <td>0.0</td>\n",
              "      <td>0.0</td>\n",
              "      <td>0.0</td>\n",
              "      <td>261067.72</td>\n",
              "      <td>0.0</td>\n",
              "    </tr>\n",
              "    <tr>\n",
              "      <th>5</th>\n",
              "      <td>2018-06-30</td>\n",
              "      <td>0.0</td>\n",
              "      <td>0.0</td>\n",
              "      <td>0.0</td>\n",
              "      <td>203073.01</td>\n",
              "      <td>0.0</td>\n",
              "    </tr>\n",
              "    <tr>\n",
              "      <th>6</th>\n",
              "      <td>2018-07-31</td>\n",
              "      <td>0.0</td>\n",
              "      <td>0.0</td>\n",
              "      <td>0.0</td>\n",
              "      <td>220815.29</td>\n",
              "      <td>0.0</td>\n",
              "    </tr>\n",
              "    <tr>\n",
              "      <th>7</th>\n",
              "      <td>2018-08-31</td>\n",
              "      <td>0.0</td>\n",
              "      <td>0.0</td>\n",
              "      <td>0.0</td>\n",
              "      <td>207046.18</td>\n",
              "      <td>0.0</td>\n",
              "    </tr>\n",
              "    <tr>\n",
              "      <th>8</th>\n",
              "      <td>2018-09-30</td>\n",
              "      <td>0.0</td>\n",
              "      <td>0.0</td>\n",
              "      <td>0.0</td>\n",
              "      <td>197574.71</td>\n",
              "      <td>0.0</td>\n",
              "    </tr>\n",
              "    <tr>\n",
              "      <th>9</th>\n",
              "      <td>2018-10-31</td>\n",
              "      <td>0.0</td>\n",
              "      <td>0.0</td>\n",
              "      <td>0.0</td>\n",
              "      <td>198864.27</td>\n",
              "      <td>0.0</td>\n",
              "    </tr>\n",
              "    <tr>\n",
              "      <th>10</th>\n",
              "      <td>2018-11-30</td>\n",
              "      <td>0.0</td>\n",
              "      <td>0.0</td>\n",
              "      <td>0.0</td>\n",
              "      <td>160443.44</td>\n",
              "      <td>0.0</td>\n",
              "    </tr>\n",
              "    <tr>\n",
              "      <th>11</th>\n",
              "      <td>2018-12-31</td>\n",
              "      <td>0.0</td>\n",
              "      <td>0.0</td>\n",
              "      <td>0.0</td>\n",
              "      <td>113487.70</td>\n",
              "      <td>0.0</td>\n",
              "    </tr>\n",
              "    <tr>\n",
              "      <th>12</th>\n",
              "      <td>2019-01-31</td>\n",
              "      <td>0.0</td>\n",
              "      <td>0.0</td>\n",
              "      <td>0.0</td>\n",
              "      <td>113442.22</td>\n",
              "      <td>0.0</td>\n",
              "    </tr>\n",
              "    <tr>\n",
              "      <th>13</th>\n",
              "      <td>2019-02-28</td>\n",
              "      <td>0.0</td>\n",
              "      <td>0.0</td>\n",
              "      <td>0.0</td>\n",
              "      <td>102458.51</td>\n",
              "      <td>0.0</td>\n",
              "    </tr>\n",
              "    <tr>\n",
              "      <th>14</th>\n",
              "      <td>2019-03-31</td>\n",
              "      <td>0.0</td>\n",
              "      <td>0.0</td>\n",
              "      <td>0.0</td>\n",
              "      <td>121654.67</td>\n",
              "      <td>0.0</td>\n",
              "    </tr>\n",
              "    <tr>\n",
              "      <th>15</th>\n",
              "      <td>2019-04-30</td>\n",
              "      <td>0.0</td>\n",
              "      <td>0.0</td>\n",
              "      <td>0.0</td>\n",
              "      <td>154391.94</td>\n",
              "      <td>0.0</td>\n",
              "    </tr>\n",
              "    <tr>\n",
              "      <th>16</th>\n",
              "      <td>2019-05-31</td>\n",
              "      <td>0.0</td>\n",
              "      <td>0.0</td>\n",
              "      <td>0.0</td>\n",
              "      <td>225897.88</td>\n",
              "      <td>0.0</td>\n",
              "    </tr>\n",
              "    <tr>\n",
              "      <th>17</th>\n",
              "      <td>2019-06-30</td>\n",
              "      <td>0.0</td>\n",
              "      <td>0.0</td>\n",
              "      <td>0.0</td>\n",
              "      <td>281907.15</td>\n",
              "      <td>0.0</td>\n",
              "    </tr>\n",
              "    <tr>\n",
              "      <th>18</th>\n",
              "      <td>2019-07-31</td>\n",
              "      <td>0.0</td>\n",
              "      <td>0.0</td>\n",
              "      <td>0.0</td>\n",
              "      <td>330242.13</td>\n",
              "      <td>0.0</td>\n",
              "    </tr>\n",
              "    <tr>\n",
              "      <th>19</th>\n",
              "      <td>2019-08-31</td>\n",
              "      <td>0.0</td>\n",
              "      <td>0.0</td>\n",
              "      <td>0.0</td>\n",
              "      <td>329630.20</td>\n",
              "      <td>0.0</td>\n",
              "    </tr>\n",
              "    <tr>\n",
              "      <th>20</th>\n",
              "      <td>2019-09-30</td>\n",
              "      <td>0.0</td>\n",
              "      <td>0.0</td>\n",
              "      <td>0.0</td>\n",
              "      <td>293693.65</td>\n",
              "      <td>0.0</td>\n",
              "    </tr>\n",
              "    <tr>\n",
              "      <th>21</th>\n",
              "      <td>2019-10-31</td>\n",
              "      <td>0.0</td>\n",
              "      <td>0.0</td>\n",
              "      <td>0.0</td>\n",
              "      <td>259869.07</td>\n",
              "      <td>0.0</td>\n",
              "    </tr>\n",
              "    <tr>\n",
              "      <th>22</th>\n",
              "      <td>2019-11-30</td>\n",
              "      <td>0.0</td>\n",
              "      <td>0.0</td>\n",
              "      <td>0.0</td>\n",
              "      <td>250094.03</td>\n",
              "      <td>0.0</td>\n",
              "    </tr>\n",
              "    <tr>\n",
              "      <th>23</th>\n",
              "      <td>2019-12-31</td>\n",
              "      <td>0.0</td>\n",
              "      <td>0.0</td>\n",
              "      <td>0.0</td>\n",
              "      <td>224631.43</td>\n",
              "      <td>0.0</td>\n",
              "    </tr>\n",
              "    <tr>\n",
              "      <th>24</th>\n",
              "      <td>2020-01-31</td>\n",
              "      <td>0.0</td>\n",
              "      <td>0.0</td>\n",
              "      <td>0.0</td>\n",
              "      <td>259383.75</td>\n",
              "      <td>0.0</td>\n",
              "    </tr>\n",
              "    <tr>\n",
              "      <th>25</th>\n",
              "      <td>2020-02-29</td>\n",
              "      <td>0.0</td>\n",
              "      <td>0.0</td>\n",
              "      <td>0.0</td>\n",
              "      <td>279599.60</td>\n",
              "      <td>0.0</td>\n",
              "    </tr>\n",
              "    <tr>\n",
              "      <th>26</th>\n",
              "      <td>2020-03-31</td>\n",
              "      <td>0.0</td>\n",
              "      <td>0.0</td>\n",
              "      <td>0.0</td>\n",
              "      <td>213142.87</td>\n",
              "      <td>0.0</td>\n",
              "    </tr>\n",
              "    <tr>\n",
              "      <th>27</th>\n",
              "      <td>2020-04-30</td>\n",
              "      <td>0.0</td>\n",
              "      <td>0.0</td>\n",
              "      <td>0.0</td>\n",
              "      <td>216655.80</td>\n",
              "      <td>0.0</td>\n",
              "    </tr>\n",
              "    <tr>\n",
              "      <th>28</th>\n",
              "      <td>2020-05-31</td>\n",
              "      <td>0.0</td>\n",
              "      <td>0.0</td>\n",
              "      <td>0.0</td>\n",
              "      <td>286954.21</td>\n",
              "      <td>0.0</td>\n",
              "    </tr>\n",
              "    <tr>\n",
              "      <th>29</th>\n",
              "      <td>2020-06-30</td>\n",
              "      <td>0.0</td>\n",
              "      <td>0.0</td>\n",
              "      <td>0.0</td>\n",
              "      <td>284337.06</td>\n",
              "      <td>0.0</td>\n",
              "    </tr>\n",
              "    <tr>\n",
              "      <th>30</th>\n",
              "      <td>2020-07-31</td>\n",
              "      <td>0.0</td>\n",
              "      <td>0.0</td>\n",
              "      <td>0.0</td>\n",
              "      <td>297444.72</td>\n",
              "      <td>0.0</td>\n",
              "    </tr>\n",
              "    <tr>\n",
              "      <th>31</th>\n",
              "      <td>2020-08-31</td>\n",
              "      <td>0.0</td>\n",
              "      <td>0.0</td>\n",
              "      <td>0.0</td>\n",
              "      <td>361048.10</td>\n",
              "      <td>0.0</td>\n",
              "    </tr>\n",
              "    <tr>\n",
              "      <th>32</th>\n",
              "      <td>2020-09-30</td>\n",
              "      <td>0.0</td>\n",
              "      <td>0.0</td>\n",
              "      <td>0.0</td>\n",
              "      <td>319453.20</td>\n",
              "      <td>0.0</td>\n",
              "    </tr>\n",
              "    <tr>\n",
              "      <th>33</th>\n",
              "      <td>2020-10-31</td>\n",
              "      <td>0.0</td>\n",
              "      <td>0.0</td>\n",
              "      <td>0.0</td>\n",
              "      <td>368859.40</td>\n",
              "      <td>0.0</td>\n",
              "    </tr>\n",
              "    <tr>\n",
              "      <th>34</th>\n",
              "      <td>2020-11-30</td>\n",
              "      <td>0.0</td>\n",
              "      <td>0.0</td>\n",
              "      <td>0.0</td>\n",
              "      <td>500101.80</td>\n",
              "      <td>0.0</td>\n",
              "    </tr>\n",
              "    <tr>\n",
              "      <th>35</th>\n",
              "      <td>2020-12-31</td>\n",
              "      <td>0.0</td>\n",
              "      <td>0.0</td>\n",
              "      <td>0.0</td>\n",
              "      <td>681873.30</td>\n",
              "      <td>0.0</td>\n",
              "    </tr>\n",
              "    <tr>\n",
              "      <th>36</th>\n",
              "      <td>2021-01-31</td>\n",
              "      <td>0.0</td>\n",
              "      <td>0.0</td>\n",
              "      <td>0.0</td>\n",
              "      <td>1077895.50</td>\n",
              "      <td>0.0</td>\n",
              "    </tr>\n",
              "    <tr>\n",
              "      <th>37</th>\n",
              "      <td>2021-02-28</td>\n",
              "      <td>0.0</td>\n",
              "      <td>0.0</td>\n",
              "      <td>0.0</td>\n",
              "      <td>1297263.20</td>\n",
              "      <td>0.0</td>\n",
              "    </tr>\n",
              "    <tr>\n",
              "      <th>38</th>\n",
              "      <td>2021-03-31</td>\n",
              "      <td>0.0</td>\n",
              "      <td>0.0</td>\n",
              "      <td>0.0</td>\n",
              "      <td>1701789.30</td>\n",
              "      <td>0.0</td>\n",
              "    </tr>\n",
              "    <tr>\n",
              "      <th>39</th>\n",
              "      <td>2021-04-30</td>\n",
              "      <td>0.0</td>\n",
              "      <td>0.0</td>\n",
              "      <td>0.0</td>\n",
              "      <td>1712364.00</td>\n",
              "      <td>0.0</td>\n",
              "    </tr>\n",
              "    <tr>\n",
              "      <th>40</th>\n",
              "      <td>2021-05-31</td>\n",
              "      <td>0.0</td>\n",
              "      <td>0.0</td>\n",
              "      <td>0.0</td>\n",
              "      <td>1440250.40</td>\n",
              "      <td>0.0</td>\n",
              "    </tr>\n",
              "    <tr>\n",
              "      <th>41</th>\n",
              "      <td>2021-06-30</td>\n",
              "      <td>0.0</td>\n",
              "      <td>0.0</td>\n",
              "      <td>0.0</td>\n",
              "      <td>1075369.80</td>\n",
              "      <td>0.0</td>\n",
              "    </tr>\n",
              "    <tr>\n",
              "      <th>42</th>\n",
              "      <td>2021-07-31</td>\n",
              "      <td>0.0</td>\n",
              "      <td>0.0</td>\n",
              "      <td>0.0</td>\n",
              "      <td>1067545.00</td>\n",
              "      <td>0.0</td>\n",
              "    </tr>\n",
              "    <tr>\n",
              "      <th>43</th>\n",
              "      <td>2021-08-31</td>\n",
              "      <td>0.0</td>\n",
              "      <td>0.0</td>\n",
              "      <td>0.0</td>\n",
              "      <td>1417196.70</td>\n",
              "      <td>0.0</td>\n",
              "    </tr>\n",
              "    <tr>\n",
              "      <th>44</th>\n",
              "      <td>2021-09-30</td>\n",
              "      <td>0.0</td>\n",
              "      <td>0.0</td>\n",
              "      <td>0.0</td>\n",
              "      <td>1378052.00</td>\n",
              "      <td>0.0</td>\n",
              "    </tr>\n",
              "    <tr>\n",
              "      <th>45</th>\n",
              "      <td>2021-10-31</td>\n",
              "      <td>0.0</td>\n",
              "      <td>0.0</td>\n",
              "      <td>0.0</td>\n",
              "      <td>1795205.70</td>\n",
              "      <td>0.0</td>\n",
              "    </tr>\n",
              "    <tr>\n",
              "      <th>46</th>\n",
              "      <td>2021-11-30</td>\n",
              "      <td>0.0</td>\n",
              "      <td>0.0</td>\n",
              "      <td>0.0</td>\n",
              "      <td>1821234.00</td>\n",
              "      <td>0.0</td>\n",
              "    </tr>\n",
              "    <tr>\n",
              "      <th>47</th>\n",
              "      <td>2021-12-31</td>\n",
              "      <td>0.0</td>\n",
              "      <td>0.0</td>\n",
              "      <td>0.0</td>\n",
              "      <td>1528958.30</td>\n",
              "      <td>0.0</td>\n",
              "    </tr>\n",
              "    <tr>\n",
              "      <th>48</th>\n",
              "      <td>2022-01-31</td>\n",
              "      <td>0.0</td>\n",
              "      <td>0.0</td>\n",
              "      <td>0.0</td>\n",
              "      <td>1274150.00</td>\n",
              "      <td>0.0</td>\n",
              "    </tr>\n",
              "    <tr>\n",
              "      <th>49</th>\n",
              "      <td>2022-02-28</td>\n",
              "      <td>0.0</td>\n",
              "      <td>0.0</td>\n",
              "      <td>0.0</td>\n",
              "      <td>1141255.30</td>\n",
              "      <td>0.0</td>\n",
              "    </tr>\n",
              "    <tr>\n",
              "      <th>50</th>\n",
              "      <td>2022-03-31</td>\n",
              "      <td>0.0</td>\n",
              "      <td>0.0</td>\n",
              "      <td>0.0</td>\n",
              "      <td>1300776.60</td>\n",
              "      <td>0.0</td>\n",
              "    </tr>\n",
              "    <tr>\n",
              "      <th>51</th>\n",
              "      <td>2022-04-30</td>\n",
              "      <td>0.0</td>\n",
              "      <td>0.0</td>\n",
              "      <td>0.0</td>\n",
              "      <td>1242638.60</td>\n",
              "      <td>0.0</td>\n",
              "    </tr>\n",
              "    <tr>\n",
              "      <th>52</th>\n",
              "      <td>2022-05-31</td>\n",
              "      <td>0.0</td>\n",
              "      <td>0.0</td>\n",
              "      <td>0.0</td>\n",
              "      <td>982201.10</td>\n",
              "      <td>0.0</td>\n",
              "    </tr>\n",
              "    <tr>\n",
              "      <th>53</th>\n",
              "      <td>2022-06-30</td>\n",
              "      <td>0.0</td>\n",
              "      <td>0.0</td>\n",
              "      <td>0.0</td>\n",
              "      <td>730970.80</td>\n",
              "      <td>0.0</td>\n",
              "    </tr>\n",
              "    <tr>\n",
              "      <th>54</th>\n",
              "      <td>2022-07-31</td>\n",
              "      <td>0.0</td>\n",
              "      <td>0.0</td>\n",
              "      <td>0.0</td>\n",
              "      <td>667394.30</td>\n",
              "      <td>0.0</td>\n",
              "    </tr>\n",
              "    <tr>\n",
              "      <th>55</th>\n",
              "      <td>2022-08-31</td>\n",
              "      <td>0.0</td>\n",
              "      <td>0.0</td>\n",
              "      <td>0.0</td>\n",
              "      <td>692965.10</td>\n",
              "      <td>0.0</td>\n",
              "    </tr>\n",
              "    <tr>\n",
              "      <th>56</th>\n",
              "      <td>2022-09-30</td>\n",
              "      <td>0.0</td>\n",
              "      <td>0.0</td>\n",
              "      <td>0.0</td>\n",
              "      <td>593903.90</td>\n",
              "      <td>0.0</td>\n",
              "    </tr>\n",
              "    <tr>\n",
              "      <th>57</th>\n",
              "      <td>2022-10-31</td>\n",
              "      <td>0.0</td>\n",
              "      <td>0.0</td>\n",
              "      <td>0.0</td>\n",
              "      <td>609165.80</td>\n",
              "      <td>0.0</td>\n",
              "    </tr>\n",
              "    <tr>\n",
              "      <th>58</th>\n",
              "      <td>2022-11-30</td>\n",
              "      <td>0.0</td>\n",
              "      <td>0.0</td>\n",
              "      <td>0.0</td>\n",
              "      <td>510197.50</td>\n",
              "      <td>0.0</td>\n",
              "    </tr>\n",
              "  </tbody>\n",
              "</table>\n",
              "</div>\n",
              "      <button class=\"colab-df-convert\" onclick=\"convertToInteractive('df-2857f835-3e60-44a7-b8ea-645133af1f08')\"\n",
              "              title=\"Convert this dataframe to an interactive table.\"\n",
              "              style=\"display:none;\">\n",
              "        \n",
              "  <svg xmlns=\"http://www.w3.org/2000/svg\" height=\"24px\"viewBox=\"0 0 24 24\"\n",
              "       width=\"24px\">\n",
              "    <path d=\"M0 0h24v24H0V0z\" fill=\"none\"/>\n",
              "    <path d=\"M18.56 5.44l.94 2.06.94-2.06 2.06-.94-2.06-.94-.94-2.06-.94 2.06-2.06.94zm-11 1L8.5 8.5l.94-2.06 2.06-.94-2.06-.94L8.5 2.5l-.94 2.06-2.06.94zm10 10l.94 2.06.94-2.06 2.06-.94-2.06-.94-.94-2.06-.94 2.06-2.06.94z\"/><path d=\"M17.41 7.96l-1.37-1.37c-.4-.4-.92-.59-1.43-.59-.52 0-1.04.2-1.43.59L10.3 9.45l-7.72 7.72c-.78.78-.78 2.05 0 2.83L4 21.41c.39.39.9.59 1.41.59.51 0 1.02-.2 1.41-.59l7.78-7.78 2.81-2.81c.8-.78.8-2.07 0-2.86zM5.41 20L4 18.59l7.72-7.72 1.47 1.35L5.41 20z\"/>\n",
              "  </svg>\n",
              "      </button>\n",
              "      \n",
              "  <style>\n",
              "    .colab-df-container {\n",
              "      display:flex;\n",
              "      flex-wrap:wrap;\n",
              "      gap: 12px;\n",
              "    }\n",
              "\n",
              "    .colab-df-convert {\n",
              "      background-color: #E8F0FE;\n",
              "      border: none;\n",
              "      border-radius: 50%;\n",
              "      cursor: pointer;\n",
              "      display: none;\n",
              "      fill: #1967D2;\n",
              "      height: 32px;\n",
              "      padding: 0 0 0 0;\n",
              "      width: 32px;\n",
              "    }\n",
              "\n",
              "    .colab-df-convert:hover {\n",
              "      background-color: #E2EBFA;\n",
              "      box-shadow: 0px 1px 2px rgba(60, 64, 67, 0.3), 0px 1px 3px 1px rgba(60, 64, 67, 0.15);\n",
              "      fill: #174EA6;\n",
              "    }\n",
              "\n",
              "    [theme=dark] .colab-df-convert {\n",
              "      background-color: #3B4455;\n",
              "      fill: #D2E3FC;\n",
              "    }\n",
              "\n",
              "    [theme=dark] .colab-df-convert:hover {\n",
              "      background-color: #434B5C;\n",
              "      box-shadow: 0px 1px 3px 1px rgba(0, 0, 0, 0.15);\n",
              "      filter: drop-shadow(0px 1px 2px rgba(0, 0, 0, 0.3));\n",
              "      fill: #FFFFFF;\n",
              "    }\n",
              "  </style>\n",
              "\n",
              "      <script>\n",
              "        const buttonEl =\n",
              "          document.querySelector('#df-2857f835-3e60-44a7-b8ea-645133af1f08 button.colab-df-convert');\n",
              "        buttonEl.style.display =\n",
              "          google.colab.kernel.accessAllowed ? 'block' : 'none';\n",
              "\n",
              "        async function convertToInteractive(key) {\n",
              "          const element = document.querySelector('#df-2857f835-3e60-44a7-b8ea-645133af1f08');\n",
              "          const dataTable =\n",
              "            await google.colab.kernel.invokeFunction('convertToInteractive',\n",
              "                                                     [key], {});\n",
              "          if (!dataTable) return;\n",
              "\n",
              "          const docLinkHtml = 'Like what you see? Visit the ' +\n",
              "            '<a target=\"_blank\" href=https://colab.research.google.com/notebooks/data_table.ipynb>data table notebook</a>'\n",
              "            + ' to learn more about interactive tables.';\n",
              "          element.innerHTML = '';\n",
              "          dataTable['output_type'] = 'display_data';\n",
              "          await google.colab.output.renderOutput(dataTable, element);\n",
              "          const docLink = document.createElement('div');\n",
              "          docLink.innerHTML = docLinkHtml;\n",
              "          element.appendChild(docLink);\n",
              "        }\n",
              "      </script>\n",
              "    </div>\n",
              "  </div>\n",
              "  "
            ]
          },
          "metadata": {},
          "execution_count": 5
        }
      ],
      "source": [
        "monthly_btc = df_btc.resample('M', label='right', \n",
        "                            closed='right', on='Date').sum().reset_index().sort_values(by='Date')\n",
        "monthly_btc"
      ]
    },
    {
      "cell_type": "code",
      "execution_count": null,
      "id": "ab7785cf",
      "metadata": {
        "id": "ab7785cf",
        "outputId": "99f7c2e3-9bc3-424e-c211-6fb3d44e697e",
        "colab": {
          "base_uri": "https://localhost:8080/",
          "height": 244
        }
      },
      "outputs": [
        {
          "output_type": "execute_result",
          "data": {
            "text/plain": [
              "<matplotlib.axes._subplots.AxesSubplot at 0x7f611621b640>"
            ]
          },
          "metadata": {},
          "execution_count": 6
        },
        {
          "output_type": "display_data",
          "data": {
            "text/plain": [
              "<Figure size 864x216 with 1 Axes>"
            ],
            "image/png": "[encoded data removed]"
          },
          "metadata": {
            "needs_background": "light"
          }
        }
      ],
      "source": [
        "from datetime import date, timedelta\n",
        "import calendar\n",
        "btc_list = monthly_btc['Close'].tolist()\n",
        "\n",
        "#Draw the graph for S&P 500\n",
        "date = datetime.now()\n",
        "month = date.replace(day = calendar.monthrange(date.year, date.month)[1])\n",
        "#d1 = today.strftime(\"%m/%d/%y\")\n",
        "btc_m = pd.Series(btc_list, index= pd.date_range(\"1/1/2018\",\"11/30/2022\", freq = \"M\"))\n",
        "btc_m.plot(title=\"BTC rate\", figsize= (12,3))\n"
      ]
    },
    {
      "cell_type": "code",
      "execution_count": null,
      "id": "L5kSCQQJfkeX",
      "metadata": {
        "colab": {
          "base_uri": "https://localhost:8080/",
          "height": 690
        },
        "id": "L5kSCQQJfkeX",
        "outputId": "8125c662-aec5-47c9-c073-81f23fcc4863"
      },
      "outputs": [
        {
          "output_type": "execute_result",
          "data": {
            "text/plain": [
              "<class 'statsmodels.iolib.summary.Summary'>\n",
              "\"\"\"\n",
              "                        Markov Switching Model Results                        \n",
              "==============================================================================\n",
              "Dep. Variable:                      y   No. Observations:                   59\n",
              "Model:               MarkovRegression   Log Likelihood                -817.725\n",
              "Date:                Fri, 09 Dec 2022   AIC                           1655.450\n",
              "Time:                        22:18:38   BIC                           1676.225\n",
              "Sample:                    01-31-2018   HQIC                          1663.560\n",
              "                         - 11-30-2022                                         \n",
              "Covariance Type:               approx                                         \n",
              "                             Regime 0 parameters                              \n",
              "==============================================================================\n",
              "                 coef    std err          z      P>|z|      [0.025      0.975]\n",
              "------------------------------------------------------------------------------\n",
              "const       2.872e+05   9.54e-08   3.01e+12      0.000    2.87e+05    2.87e+05\n",
              "                             Regime 1 parameters                              \n",
              "==============================================================================\n",
              "                 coef    std err          z      P>|z|      [0.025      0.975]\n",
              "------------------------------------------------------------------------------\n",
              "const       3.202e+05   1.66e-07   1.93e+12      0.000     3.2e+05     3.2e+05\n",
              "                             Regime 2 parameters                              \n",
              "==============================================================================\n",
              "                 coef    std err          z      P>|z|      [0.025      0.975]\n",
              "------------------------------------------------------------------------------\n",
              "const       1.223e+06   1.89e-08   6.46e+13      0.000    1.22e+06    1.22e+06\n",
              "                           Non-switching parameters                           \n",
              "==============================================================================\n",
              "                 coef    std err          z      P>|z|      [0.025      0.975]\n",
              "------------------------------------------------------------------------------\n",
              "sigma2      7.433e+10   3.27e-14   2.27e+24      0.000    7.43e+10    7.43e+10\n",
              "                         Regime transition parameters                         \n",
              "==============================================================================\n",
              "                 coef    std err          z      P>|z|      [0.025      0.975]\n",
              "------------------------------------------------------------------------------\n",
              "p[0->0]        0.9751      0.034     28.535      0.000       0.908       1.042\n",
              "p[1->0]        0.0574      0.111      0.515      0.607      -0.161       0.276\n",
              "p[2->0]     1.523e-44        nan        nan        nan         nan         nan\n",
              "p[0->1]     1.231e-12        nan        nan        nan         nan         nan\n",
              "p[1->1]        0.9426      0.172      5.487      0.000       0.606       1.279\n",
              "p[2->1]        0.0669      0.058      1.161      0.246      -0.046       0.180\n",
              "==============================================================================\n",
              "\n",
              "Warnings:\n",
              "[1] Covariance matrix calculated using numerical (complex-step) differentiation.\n",
              "[2] Covariance matrix is singular or near-singular, with condition number 2.19e+40. Standard errors may be unstable.\n",
              "\"\"\""
            ],
            "text/html": [
              "<table class=\"simpletable\">\n",
              "<caption>Markov Switching Model Results</caption>\n",
              "<tr>\n",
              "  <th>Dep. Variable:</th>           <td>y</td>        <th>  No. Observations:  </th>    <td>59</td>   \n",
              "</tr>\n",
              "<tr>\n",
              "  <th>Model:</th>           <td>MarkovRegression</td> <th>  Log Likelihood     </th> <td>-817.725</td>\n",
              "</tr>\n",
              "<tr>\n",
              "  <th>Date:</th>            <td>Fri, 09 Dec 2022</td> <th>  AIC                </th> <td>1655.450</td>\n",
              "</tr>\n",
              "<tr>\n",
              "  <th>Time:</th>                <td>22:18:38</td>     <th>  BIC                </th> <td>1676.225</td>\n",
              "</tr>\n",
              "<tr>\n",
              "  <th>Sample:</th>             <td>01-31-2018</td>    <th>  HQIC               </th> <td>1663.560</td>\n",
              "</tr>\n",
              "<tr>\n",
              "  <th></th>                   <td>- 11-30-2022</td>   <th>                     </th>     <td> </td>   \n",
              "</tr>\n",
              "<tr>\n",
              "  <th>Covariance Type:</th>      <td>approx</td>      <th>                     </th>     <td> </td>   \n",
              "</tr>\n",
              "</table>\n",
              "<table class=\"simpletable\">\n",
              "<caption>Regime 0 parameters</caption>\n",
              "<tr>\n",
              "    <td></td>       <th>coef</th>     <th>std err</th>      <th>z</th>      <th>P>|z|</th>  <th>[0.025</th>    <th>0.975]</th>  \n",
              "</tr>\n",
              "<tr>\n",
              "  <th>const</th> <td> 2.872e+05</td> <td> 9.54e-08</td> <td> 3.01e+12</td> <td> 0.000</td> <td> 2.87e+05</td> <td> 2.87e+05</td>\n",
              "</tr>\n",
              "</table>\n",
              "<table class=\"simpletable\">\n",
              "<caption>Regime 1 parameters</caption>\n",
              "<tr>\n",
              "    <td></td>       <th>coef</th>     <th>std err</th>      <th>z</th>      <th>P>|z|</th>  <th>[0.025</th>    <th>0.975]</th>  \n",
              "</tr>\n",
              "<tr>\n",
              "  <th>const</th> <td> 3.202e+05</td> <td> 1.66e-07</td> <td> 1.93e+12</td> <td> 0.000</td> <td>  3.2e+05</td> <td>  3.2e+05</td>\n",
              "</tr>\n",
              "</table>\n",
              "<table class=\"simpletable\">\n",
              "<caption>Regime 2 parameters</caption>\n",
              "<tr>\n",
              "    <td></td>       <th>coef</th>     <th>std err</th>      <th>z</th>      <th>P>|z|</th>  <th>[0.025</th>    <th>0.975]</th>  \n",
              "</tr>\n",
              "<tr>\n",
              "  <th>const</th> <td> 1.223e+06</td> <td> 1.89e-08</td> <td> 6.46e+13</td> <td> 0.000</td> <td> 1.22e+06</td> <td> 1.22e+06</td>\n",
              "</tr>\n",
              "</table>\n",
              "<table class=\"simpletable\">\n",
              "<caption>Non-switching parameters</caption>\n",
              "<tr>\n",
              "     <td></td>       <th>coef</th>     <th>std err</th>      <th>z</th>      <th>P>|z|</th>  <th>[0.025</th>    <th>0.975]</th>  \n",
              "</tr>\n",
              "<tr>\n",
              "  <th>sigma2</th> <td> 7.433e+10</td> <td> 3.27e-14</td> <td> 2.27e+24</td> <td> 0.000</td> <td> 7.43e+10</td> <td> 7.43e+10</td>\n",
              "</tr>\n",
              "</table>\n",
              "<table class=\"simpletable\">\n",
              "<caption>Regime transition parameters</caption>\n",
              "<tr>\n",
              "     <td></td>        <th>coef</th>     <th>std err</th>      <th>z</th>      <th>P>|z|</th>  <th>[0.025</th>    <th>0.975]</th>  \n",
              "</tr>\n",
              "<tr>\n",
              "  <th>p[0->0]</th> <td>    0.9751</td> <td>    0.034</td> <td>   28.535</td> <td> 0.000</td> <td>    0.908</td> <td>    1.042</td>\n",
              "</tr>\n",
              "<tr>\n",
              "  <th>p[1->0]</th> <td>    0.0574</td> <td>    0.111</td> <td>    0.515</td> <td> 0.607</td> <td>   -0.161</td> <td>    0.276</td>\n",
              "</tr>\n",
              "<tr>\n",
              "  <th>p[2->0]</th> <td> 1.523e-44</td> <td>      nan</td> <td>      nan</td> <td>   nan</td> <td>      nan</td> <td>      nan</td>\n",
              "</tr>\n",
              "<tr>\n",
              "  <th>p[0->1]</th> <td> 1.231e-12</td> <td>      nan</td> <td>      nan</td> <td>   nan</td> <td>      nan</td> <td>      nan</td>\n",
              "</tr>\n",
              "<tr>\n",
              "  <th>p[1->1]</th> <td>    0.9426</td> <td>    0.172</td> <td>    5.487</td> <td> 0.000</td> <td>    0.606</td> <td>    1.279</td>\n",
              "</tr>\n",
              "<tr>\n",
              "  <th>p[2->1]</th> <td>    0.0669</td> <td>    0.058</td> <td>    1.161</td> <td> 0.246</td> <td>   -0.046</td> <td>    0.180</td>\n",
              "</tr>\n",
              "</table><br/><br/>Warnings:<br/>[1] Covariance matrix calculated using numerical (complex-step) differentiation.<br/>[2] Covariance matrix is singular or near-singular, with condition number 2.19e+40. Standard errors may be unstable."
            ]
          },
          "metadata": {},
          "execution_count": 7
        }
      ],
      "source": [
        "# Build up Markov Regression model:\n",
        "mod_btc = sm.tsa.MarkovRegression(btc_m, k_regimes = 3)\n",
        "res_btc = mod_btc.fit()\n",
        "res_btc.summary()"
      ]
    },
    {
      "cell_type": "code",
      "execution_count": null,
      "id": "ab2c7784",
      "metadata": {
        "id": "ab2c7784",
        "outputId": "a49f4dc6-3bfa-4f3a-fb82-75814aeee419",
        "colab": {
          "base_uri": "https://localhost:8080/",
          "height": 265
        }
      },
      "outputs": [
        {
          "output_type": "display_data",
          "data": {
            "text/plain": [
              "<Figure size 432x288 with 1 Axes>"
            ],
            "image/png": "[encoded data removed]"
          },
          "metadata": {
            "needs_background": "light"
          }
        }
      ],
      "source": [
        "# Show three regimes:\n",
        "for i in range(2):\n",
        "  res_btc.smoothed_marginal_probabilities[i].plot(\n",
        "      label = f'{i}'\n",
        "  )\n",
        "      \n",
        "  plt.legend()"
      ]
    },
    {
      "cell_type": "code",
      "execution_count": null,
      "id": "TfNPLNcgftIA",
      "metadata": {
        "colab": {
          "base_uri": "https://localhost:8080/",
          "height": 485
        },
        "id": "TfNPLNcgftIA",
        "outputId": "47e79f4e-96ba-4a55-bbab-8c68cf36884d"
      },
      "outputs": [
        {
          "output_type": "display_data",
          "data": {
            "text/plain": [
              "<Figure size 864x144 with 1 Axes>"
            ],
            "image/png": "[encoded data removed]"
          },
          "metadata": {
            "needs_background": "light"
          }
        },
        {
          "output_type": "display_data",
          "data": {
            "text/plain": [
              "<Figure size 864x144 with 1 Axes>"
            ],
            "image/png": "[encoded data removed]"
          },
          "metadata": {
            "needs_background": "light"
          }
        },
        {
          "output_type": "display_data",
          "data": {
            "text/plain": [
              "<Figure size 864x144 with 1 Axes>"
            ],
            "image/png": "[encoded data removed]"
          },
          "metadata": {
            "needs_background": "light"
          }
        }
      ],
      "source": [
        "# Show three regimes using smoothed marginal probabilities\n",
        "for i in range(3):\n",
        "  f, ax = plt.subplots(figsize=(12,2))\n",
        "  res_btc.smoothed_marginal_probabilities[i].plot(\n",
        "      label = f'{i}'\n",
        "  )\n",
        "  ax.set_title(f\"{i}th regime\")\n",
        "  plt.legend()\n",
        "  plt.show()"
      ]
    },
    {
      "cell_type": "code",
      "execution_count": null,
      "id": "-W8mbD7Wf43l",
      "metadata": {
        "colab": {
          "base_uri": "https://localhost:8080/"
        },
        "id": "-W8mbD7Wf43l",
        "outputId": "b9f8eef7-f464-4e5c-aea2-117a57e5f054"
      },
      "outputs": [
        {
          "output_type": "stream",
          "name": "stdout",
          "text": [
            "[40.1389645  17.41000053 14.9425508 ]\n"
          ]
        }
      ],
      "source": [
        "print(res_btc.expected_durations)"
      ]
    },
    {
      "cell_type": "code",
      "source": [
        "for i in res_btc.expected_durations:\n",
        " print(f\"{i/12} Year\")"
      ],
      "metadata": {
        "colab": {
          "base_uri": "https://localhost:8080/"
        },
        "id": "cSoGO8DWOvQU",
        "outputId": "16789771-2de0-4108-832b-0ac363e64a65"
      },
      "id": "cSoGO8DWOvQU",
      "execution_count": null,
      "outputs": [
        {
          "output_type": "stream",
          "name": "stdout",
          "text": [
            "3.3449137079954028 Year\n",
            "1.450833377321546 Year\n",
            "1.245212566340642 Year\n"
          ]
        }
      ]
    },
    {
      "cell_type": "markdown",
      "id": "iJ0vpcfjhAkz",
      "metadata": {
        "id": "iJ0vpcfjhAkz"
      },
      "source": [
        "## **S&P 500:**"
      ]
    },
    {
      "cell_type": "code",
      "execution_count": null,
      "id": "408c6897",
      "metadata": {
        "colab": {
          "base_uri": "https://localhost:8080/"
        },
        "id": "408c6897",
        "outputId": "8bb92c7a-d157-4872-f6fb-e2ff7fc812c5"
      },
      "outputs": [
        {
          "output_type": "stream",
          "name": "stdout",
          "text": [
            "(1237, 6)\n"
          ]
        }
      ],
      "source": [
        "# Import dataset\n",
        "response_sp = requests.get('https://docs.google.com/spreadsheets/d/1Y8Yv2qW5DH8gzkg8pRprBFRZ1asl1sXtT2Wkd6T0nzk/export?format=csv')\n",
        "assert response_sp.status_code == 200, 'Wrong status code'\n",
        "data = response_sp.content\n",
        "df_sp = pd.read_csv(BytesIO(data))\n",
        "print(df_sp.shape)\n"
      ]
    },
    {
      "cell_type": "code",
      "execution_count": null,
      "id": "2ef77585",
      "metadata": {
        "colab": {
          "base_uri": "https://localhost:8080/"
        },
        "id": "2ef77585",
        "outputId": "960fcd77-cec6-4bcc-c21a-e46582cd7abf"
      },
      "outputs": [
        {
          "output_type": "execute_result",
          "data": {
            "text/plain": [
              "0"
            ]
          },
          "metadata": {},
          "execution_count": 13
        }
      ],
      "source": [
        "#Convert to dataframe:\n",
        "df_sp['Date'] = pd.to_datetime(df_sp['Date'])\n",
        "\n",
        "#Check null value:\n",
        "df_sp['Date'].isna().sum()"
      ]
    },
    {
      "cell_type": "code",
      "execution_count": null,
      "id": "J-TBFOC-s9jL",
      "metadata": {
        "colab": {
          "base_uri": "https://localhost:8080/",
          "height": 424
        },
        "id": "J-TBFOC-s9jL",
        "outputId": "e70e1ff6-678b-400a-d362-1cb27a8f8024"
      },
      "outputs": [
        {
          "output_type": "execute_result",
          "data": {
            "text/plain": [
              "          Date      Open      High       Low     Close  Volume\n",
              "0   2018-01-05  10832.22  10883.00  10827.12  10876.01       0\n",
              "1   2018-01-12  13762.52  13813.86  13743.94  13801.03       0\n",
              "2   2018-01-19  11188.95  11230.74  11137.66  11187.31       0\n",
              "3   2018-01-26  14183.35  14249.67  14140.64  14221.76       0\n",
              "4   2018-02-02  14157.75  14192.51  14055.46  14083.88       0\n",
              "..         ...       ...       ...       ...       ...     ...\n",
              "252 2022-11-04  19136.77  19246.89  18872.65  18978.21       0\n",
              "253 2022-11-11  19232.28  19451.36  19099.91  19332.78       0\n",
              "254 2022-11-18  19846.85  19955.12  19706.43  19819.67       0\n",
              "255 2022-11-25  15922.34  16035.68  15887.54  16006.90       0\n",
              "256 2022-12-02   7969.55   7989.04   7893.42   7921.57       0\n",
              "\n",
              "[257 rows x 6 columns]"
            ],
            "text/html": [
              "\n",
              "  <div id=\"df-45fc458d-9ee5-4c67-9212-43296ac4f4fa\">\n",
              "    <div class=\"colab-df-container\">\n",
              "      <div>\n",
              "<style scoped>\n",
              "    .dataframe tbody tr th:only-of-type {\n",
              "        vertical-align: middle;\n",
              "    }\n",
              "\n",
              "    .dataframe tbody tr th {\n",
              "        vertical-align: top;\n",
              "    }\n",
              "\n",
              "    .dataframe thead th {\n",
              "        text-align: right;\n",
              "    }\n",
              "</style>\n",
              "<table border=\"1\" class=\"dataframe\">\n",
              "  <thead>\n",
              "    <tr style=\"text-align: right;\">\n",
              "      <th></th>\n",
              "      <th>Date</th>\n",
              "      <th>Open</th>\n",
              "      <th>High</th>\n",
              "      <th>Low</th>\n",
              "      <th>Close</th>\n",
              "      <th>Volume</th>\n",
              "    </tr>\n",
              "  </thead>\n",
              "  <tbody>\n",
              "    <tr>\n",
              "      <th>0</th>\n",
              "      <td>2018-01-05</td>\n",
              "      <td>10832.22</td>\n",
              "      <td>10883.00</td>\n",
              "      <td>10827.12</td>\n",
              "      <td>10876.01</td>\n",
              "      <td>0</td>\n",
              "    </tr>\n",
              "    <tr>\n",
              "      <th>1</th>\n",
              "      <td>2018-01-12</td>\n",
              "      <td>13762.52</td>\n",
              "      <td>13813.86</td>\n",
              "      <td>13743.94</td>\n",
              "      <td>13801.03</td>\n",
              "      <td>0</td>\n",
              "    </tr>\n",
              "    <tr>\n",
              "      <th>2</th>\n",
              "      <td>2018-01-19</td>\n",
              "      <td>11188.95</td>\n",
              "      <td>11230.74</td>\n",
              "      <td>11137.66</td>\n",
              "      <td>11187.31</td>\n",
              "      <td>0</td>\n",
              "    </tr>\n",
              "    <tr>\n",
              "      <th>3</th>\n",
              "      <td>2018-01-26</td>\n",
              "      <td>14183.35</td>\n",
              "      <td>14249.67</td>\n",
              "      <td>14140.64</td>\n",
              "      <td>14221.76</td>\n",
              "      <td>0</td>\n",
              "    </tr>\n",
              "    <tr>\n",
              "      <th>4</th>\n",
              "      <td>2018-02-02</td>\n",
              "      <td>14157.75</td>\n",
              "      <td>14192.51</td>\n",
              "      <td>14055.46</td>\n",
              "      <td>14083.88</td>\n",
              "      <td>0</td>\n",
              "    </tr>\n",
              "    <tr>\n",
              "      <th>...</th>\n",
              "      <td>...</td>\n",
              "      <td>...</td>\n",
              "      <td>...</td>\n",
              "      <td>...</td>\n",
              "      <td>...</td>\n",
              "      <td>...</td>\n",
              "    </tr>\n",
              "    <tr>\n",
              "      <th>252</th>\n",
              "      <td>2022-11-04</td>\n",
              "      <td>19136.77</td>\n",
              "      <td>19246.89</td>\n",
              "      <td>18872.65</td>\n",
              "      <td>18978.21</td>\n",
              "      <td>0</td>\n",
              "    </tr>\n",
              "    <tr>\n",
              "      <th>253</th>\n",
              "      <td>2022-11-11</td>\n",
              "      <td>19232.28</td>\n",
              "      <td>19451.36</td>\n",
              "      <td>19099.91</td>\n",
              "      <td>19332.78</td>\n",
              "      <td>0</td>\n",
              "    </tr>\n",
              "    <tr>\n",
              "      <th>254</th>\n",
              "      <td>2022-11-18</td>\n",
              "      <td>19846.85</td>\n",
              "      <td>19955.12</td>\n",
              "      <td>19706.43</td>\n",
              "      <td>19819.67</td>\n",
              "      <td>0</td>\n",
              "    </tr>\n",
              "    <tr>\n",
              "      <th>255</th>\n",
              "      <td>2022-11-25</td>\n",
              "      <td>15922.34</td>\n",
              "      <td>16035.68</td>\n",
              "      <td>15887.54</td>\n",
              "      <td>16006.90</td>\n",
              "      <td>0</td>\n",
              "    </tr>\n",
              "    <tr>\n",
              "      <th>256</th>\n",
              "      <td>2022-12-02</td>\n",
              "      <td>7969.55</td>\n",
              "      <td>7989.04</td>\n",
              "      <td>7893.42</td>\n",
              "      <td>7921.57</td>\n",
              "      <td>0</td>\n",
              "    </tr>\n",
              "  </tbody>\n",
              "</table>\n",
              "<p>257 rows × 6 columns</p>\n",
              "</div>\n",
              "      <button class=\"colab-df-convert\" onclick=\"convertToInteractive('df-45fc458d-9ee5-4c67-9212-43296ac4f4fa')\"\n",
              "              title=\"Convert this dataframe to an interactive table.\"\n",
              "              style=\"display:none;\">\n",
              "        \n",
              "  <svg xmlns=\"http://www.w3.org/2000/svg\" height=\"24px\"viewBox=\"0 0 24 24\"\n",
              "       width=\"24px\">\n",
              "    <path d=\"M0 0h24v24H0V0z\" fill=\"none\"/>\n",
              "    <path d=\"M18.56 5.44l.94 2.06.94-2.06 2.06-.94-2.06-.94-.94-2.06-.94 2.06-2.06.94zm-11 1L8.5 8.5l.94-2.06 2.06-.94-2.06-.94L8.5 2.5l-.94 2.06-2.06.94zm10 10l.94 2.06.94-2.06 2.06-.94-2.06-.94-.94-2.06-.94 2.06-2.06.94z\"/><path d=\"M17.41 7.96l-1.37-1.37c-.4-.4-.92-.59-1.43-.59-.52 0-1.04.2-1.43.59L10.3 9.45l-7.72 7.72c-.78.78-.78 2.05 0 2.83L4 21.41c.39.39.9.59 1.41.59.51 0 1.02-.2 1.41-.59l7.78-7.78 2.81-2.81c.8-.78.8-2.07 0-2.86zM5.41 20L4 18.59l7.72-7.72 1.47 1.35L5.41 20z\"/>\n",
              "  </svg>\n",
              "      </button>\n",
              "      \n",
              "  <style>\n",
              "    .colab-df-container {\n",
              "      display:flex;\n",
              "      flex-wrap:wrap;\n",
              "      gap: 12px;\n",
              "    }\n",
              "\n",
              "    .colab-df-convert {\n",
              "      background-color: #E8F0FE;\n",
              "      border: none;\n",
              "      border-radius: 50%;\n",
              "      cursor: pointer;\n",
              "      display: none;\n",
              "      fill: #1967D2;\n",
              "      height: 32px;\n",
              "      padding: 0 0 0 0;\n",
              "      width: 32px;\n",
              "    }\n",
              "\n",
              "    .colab-df-convert:hover {\n",
              "      background-color: #E2EBFA;\n",
              "      box-shadow: 0px 1px 2px rgba(60, 64, 67, 0.3), 0px 1px 3px 1px rgba(60, 64, 67, 0.15);\n",
              "      fill: #174EA6;\n",
              "    }\n",
              "\n",
              "    [theme=dark] .colab-df-convert {\n",
              "      background-color: #3B4455;\n",
              "      fill: #D2E3FC;\n",
              "    }\n",
              "\n",
              "    [theme=dark] .colab-df-convert:hover {\n",
              "      background-color: #434B5C;\n",
              "      box-shadow: 0px 1px 3px 1px rgba(0, 0, 0, 0.15);\n",
              "      filter: drop-shadow(0px 1px 2px rgba(0, 0, 0, 0.3));\n",
              "      fill: #FFFFFF;\n",
              "    }\n",
              "  </style>\n",
              "\n",
              "      <script>\n",
              "        const buttonEl =\n",
              "          document.querySelector('#df-45fc458d-9ee5-4c67-9212-43296ac4f4fa button.colab-df-convert');\n",
              "        buttonEl.style.display =\n",
              "          google.colab.kernel.accessAllowed ? 'block' : 'none';\n",
              "\n",
              "        async function convertToInteractive(key) {\n",
              "          const element = document.querySelector('#df-45fc458d-9ee5-4c67-9212-43296ac4f4fa');\n",
              "          const dataTable =\n",
              "            await google.colab.kernel.invokeFunction('convertToInteractive',\n",
              "                                                     [key], {});\n",
              "          if (!dataTable) return;\n",
              "\n",
              "          const docLinkHtml = 'Like what you see? Visit the ' +\n",
              "            '<a target=\"_blank\" href=https://colab.research.google.com/notebooks/data_table.ipynb>data table notebook</a>'\n",
              "            + ' to learn more about interactive tables.';\n",
              "          element.innerHTML = '';\n",
              "          dataTable['output_type'] = 'display_data';\n",
              "          await google.colab.output.renderOutput(dataTable, element);\n",
              "          const docLink = document.createElement('div');\n",
              "          docLink.innerHTML = docLinkHtml;\n",
              "          element.appendChild(docLink);\n",
              "        }\n",
              "      </script>\n",
              "    </div>\n",
              "  </div>\n",
              "  "
            ]
          },
          "metadata": {},
          "execution_count": 14
        }
      ],
      "source": [
        "# Change data to weekly format\n",
        "weekly_sp = df_sp.resample('W-Fri', label='right', \n",
        "                            closed='right', on='Date').sum().reset_index().sort_values(by='Date')\n",
        "weekly_sp"
      ]
    },
    {
      "cell_type": "code",
      "execution_count": null,
      "id": "0060a3f1",
      "metadata": {
        "colab": {
          "base_uri": "https://localhost:8080/",
          "height": 1000
        },
        "id": "0060a3f1",
        "outputId": "92049607-48cd-44b2-9a9d-78cee28e5041"
      },
      "outputs": [
        {
          "output_type": "execute_result",
          "data": {
            "text/plain": [
              "         Date       Open       High        Low      Close      Volume\n",
              "0  2018-01-31   58499.42   58724.90   58332.15   58585.88           0\n",
              "1  2018-02-28   51495.12   51986.08   50953.47   51397.95           0\n",
              "2  2018-03-31   56865.06   57231.75   56386.29   56758.25           0\n",
              "3  2018-04-30   55803.01   56134.23   55368.99   55726.13           0\n",
              "4  2018-05-31   59355.84   59620.65   59102.58   59432.86           0\n",
              "5  2018-06-30   57854.40   58051.62   57627.77   57841.41           0\n",
              "6  2018-07-31   58577.24   58813.95   58420.45   58666.51           0\n",
              "7  2018-08-31   65655.29   65883.31   65514.37   65729.87           0\n",
              "8  2018-09-30   55129.83   55289.94   54981.17   55128.51           0\n",
              "9  2018-10-31   64309.74   64696.34   63619.23   64065.69           0\n",
              "10 2018-11-30   57112.69   57519.22   56742.77   57187.82           0\n",
              "11 2018-12-31   49033.35   49474.52   48250.40   48778.84           0\n",
              "12 2019-01-31   54555.87   54960.72   54284.89   54755.19           0\n",
              "13 2019-02-28   52252.70   52466.84   52106.51   52342.42           0\n",
              "14 2019-03-31   58875.50   59131.08   58586.70   58883.66           0\n",
              "15 2019-04-30   60916.62   61084.00   60745.61   60979.80           0\n",
              "16 2019-05-31   62817.76   63145.08   62452.61   62803.53           0\n",
              "17 2019-06-30   57753.72   58014.87   57571.51   57803.32           0\n",
              "18 2019-07-31   65901.26   66087.78   65651.19   65914.50           0\n",
              "19 2019-08-31   63826.84   64192.01   63288.67   63744.30           0\n",
              "20 2019-09-30   59641.66   59841.92   59372.39   59643.12           0\n",
              "21 2019-10-31   68469.94   68779.50   68194.29   68486.53  2207521396\n",
              "22 2019-11-30   62031.14   62191.76   61888.23   62098.09  1493045171\n",
              "23 2019-12-31   66678.78   66863.04   66512.24   66711.74  1890285078\n",
              "24 2020-01-31   68783.43   69083.67   68527.77   68842.26           0\n",
              "25 2020-02-29   62426.54   62742.00   61932.96   62268.97           0\n",
              "26 2020-03-31   58370.13   59710.41   56729.29   58352.66           0\n",
              "27 2020-04-30   57915.32   58617.11   57331.88   58001.48           0\n",
              "28 2020-05-31   58394.11   58842.43   57901.55   58392.30           0\n",
              "29 2020-06-30   68338.02   68871.99   67632.11   68302.54           0\n",
              "30 2020-07-31   70479.17   70923.30   70015.22   70567.62           0\n",
              "31 2020-08-31   71082.69   71397.55   70859.53   71225.91           0\n",
              "32 2020-09-30   70853.52   71375.18   70072.61   70675.85           0\n",
              "33 2020-10-31   75310.21   75790.52   74740.68   75211.43           0\n",
              "34 2020-11-30   70868.60   71386.83   70524.41   70979.71           0\n",
              "35 2020-12-31   81195.12   81567.66   80867.35   81296.82   814704870\n",
              "36 2021-01-31   72150.36   72544.58   71610.28   72081.22           0\n",
              "37 2021-02-28   73697.07   74120.82   73278.14   73785.21           0\n",
              "38 2021-03-31   89853.75   90521.40   89311.46   89941.69           0\n",
              "39 2021-04-30   86812.73   87192.03   86562.04   86964.70           0\n",
              "40 2021-05-31   83346.60   83741.43   82929.56   83356.99           0\n",
              "41 2021-06-30   93213.49   93486.50   92910.46   93246.77           0\n",
              "42 2021-07-31   91518.02   91888.54   91162.56   91637.97           0\n",
              "43 2021-08-31   97874.35   98218.94   97602.43   97992.54           0\n",
              "44 2021-09-30   93601.93   93942.93   93018.08   93356.41           0\n",
              "45 2021-10-31   93444.03   94009.16   93112.60   93674.85           0\n",
              "46 2021-11-30   98089.69   98451.88   97637.80   98015.12           0\n",
              "47 2021-12-31  102733.00  103434.80  102127.73  102845.00           0\n",
              "48 2022-01-31   91705.26   92391.52   90561.03   91476.31           0\n",
              "49 2022-02-28   84300.70   84998.54   83449.38   84283.63           0\n",
              "50 2022-03-31  100930.77  101772.28  100086.11  100999.10           0\n",
              "51 2022-04-30   88187.21   88785.29   87222.53   87825.92           0\n",
              "52 2022-05-31   84793.38   85725.95   83710.50   84847.56           0\n",
              "53 2022-06-30   82087.41   82790.51   81145.47   81877.88           0\n",
              "54 2022-07-31   77864.82   78621.16   77324.82   78234.59           0\n",
              "55 2022-08-31   95780.64   96365.70   95150.73   95646.95           0\n",
              "56 2022-09-30   81077.10   81694.80   80168.52   80860.93           0\n",
              "57 2022-10-31   77959.57   78994.26   77351.61   78247.07           0\n",
              "58 2022-11-30   78225.94   78784.36   77596.77   78187.15           0"
            ],
            "text/html": [
              "\n",
              "  <div id=\"df-3b20f736-8524-4373-963c-1b162ff90ad9\">\n",
              "    <div class=\"colab-df-container\">\n",
              "      <div>\n",
              "<style scoped>\n",
              "    .dataframe tbody tr th:only-of-type {\n",
              "        vertical-align: middle;\n",
              "    }\n",
              "\n",
              "    .dataframe tbody tr th {\n",
              "        vertical-align: top;\n",
              "    }\n",
              "\n",
              "    .dataframe thead th {\n",
              "        text-align: right;\n",
              "    }\n",
              "</style>\n",
              "<table border=\"1\" class=\"dataframe\">\n",
              "  <thead>\n",
              "    <tr style=\"text-align: right;\">\n",
              "      <th></th>\n",
              "      <th>Date</th>\n",
              "      <th>Open</th>\n",
              "      <th>High</th>\n",
              "      <th>Low</th>\n",
              "      <th>Close</th>\n",
              "      <th>Volume</th>\n",
              "    </tr>\n",
              "  </thead>\n",
              "  <tbody>\n",
              "    <tr>\n",
              "      <th>0</th>\n",
              "      <td>2018-01-31</td>\n",
              "      <td>58499.42</td>\n",
              "      <td>58724.90</td>\n",
              "      <td>58332.15</td>\n",
              "      <td>58585.88</td>\n",
              "      <td>0</td>\n",
              "    </tr>\n",
              "    <tr>\n",
              "      <th>1</th>\n",
              "      <td>2018-02-28</td>\n",
              "      <td>51495.12</td>\n",
              "      <td>51986.08</td>\n",
              "      <td>50953.47</td>\n",
              "      <td>51397.95</td>\n",
              "      <td>0</td>\n",
              "    </tr>\n",
              "    <tr>\n",
              "      <th>2</th>\n",
              "      <td>2018-03-31</td>\n",
              "      <td>56865.06</td>\n",
              "      <td>57231.75</td>\n",
              "      <td>56386.29</td>\n",
              "      <td>56758.25</td>\n",
              "      <td>0</td>\n",
              "    </tr>\n",
              "    <tr>\n",
              "      <th>3</th>\n",
              "      <td>2018-04-30</td>\n",
              "      <td>55803.01</td>\n",
              "      <td>56134.23</td>\n",
              "      <td>55368.99</td>\n",
              "      <td>55726.13</td>\n",
              "      <td>0</td>\n",
              "    </tr>\n",
              "    <tr>\n",
              "      <th>4</th>\n",
              "      <td>2018-05-31</td>\n",
              "      <td>59355.84</td>\n",
              "      <td>59620.65</td>\n",
              "      <td>59102.58</td>\n",
              "      <td>59432.86</td>\n",
              "      <td>0</td>\n",
              "    </tr>\n",
              "    <tr>\n",
              "      <th>5</th>\n",
              "      <td>2018-06-30</td>\n",
              "      <td>57854.40</td>\n",
              "      <td>58051.62</td>\n",
              "      <td>57627.77</td>\n",
              "      <td>57841.41</td>\n",
              "      <td>0</td>\n",
              "    </tr>\n",
              "    <tr>\n",
              "      <th>6</th>\n",
              "      <td>2018-07-31</td>\n",
              "      <td>58577.24</td>\n",
              "      <td>58813.95</td>\n",
              "      <td>58420.45</td>\n",
              "      <td>58666.51</td>\n",
              "      <td>0</td>\n",
              "    </tr>\n",
              "    <tr>\n",
              "      <th>7</th>\n",
              "      <td>2018-08-31</td>\n",
              "      <td>65655.29</td>\n",
              "      <td>65883.31</td>\n",
              "      <td>65514.37</td>\n",
              "      <td>65729.87</td>\n",
              "      <td>0</td>\n",
              "    </tr>\n",
              "    <tr>\n",
              "      <th>8</th>\n",
              "      <td>2018-09-30</td>\n",
              "      <td>55129.83</td>\n",
              "      <td>55289.94</td>\n",
              "      <td>54981.17</td>\n",
              "      <td>55128.51</td>\n",
              "      <td>0</td>\n",
              "    </tr>\n",
              "    <tr>\n",
              "      <th>9</th>\n",
              "      <td>2018-10-31</td>\n",
              "      <td>64309.74</td>\n",
              "      <td>64696.34</td>\n",
              "      <td>63619.23</td>\n",
              "      <td>64065.69</td>\n",
              "      <td>0</td>\n",
              "    </tr>\n",
              "    <tr>\n",
              "      <th>10</th>\n",
              "      <td>2018-11-30</td>\n",
              "      <td>57112.69</td>\n",
              "      <td>57519.22</td>\n",
              "      <td>56742.77</td>\n",
              "      <td>57187.82</td>\n",
              "      <td>0</td>\n",
              "    </tr>\n",
              "    <tr>\n",
              "      <th>11</th>\n",
              "      <td>2018-12-31</td>\n",
              "      <td>49033.35</td>\n",
              "      <td>49474.52</td>\n",
              "      <td>48250.40</td>\n",
              "      <td>48778.84</td>\n",
              "      <td>0</td>\n",
              "    </tr>\n",
              "    <tr>\n",
              "      <th>12</th>\n",
              "      <td>2019-01-31</td>\n",
              "      <td>54555.87</td>\n",
              "      <td>54960.72</td>\n",
              "      <td>54284.89</td>\n",
              "      <td>54755.19</td>\n",
              "      <td>0</td>\n",
              "    </tr>\n",
              "    <tr>\n",
              "      <th>13</th>\n",
              "      <td>2019-02-28</td>\n",
              "      <td>52252.70</td>\n",
              "      <td>52466.84</td>\n",
              "      <td>52106.51</td>\n",
              "      <td>52342.42</td>\n",
              "      <td>0</td>\n",
              "    </tr>\n",
              "    <tr>\n",
              "      <th>14</th>\n",
              "      <td>2019-03-31</td>\n",
              "      <td>58875.50</td>\n",
              "      <td>59131.08</td>\n",
              "      <td>58586.70</td>\n",
              "      <td>58883.66</td>\n",
              "      <td>0</td>\n",
              "    </tr>\n",
              "    <tr>\n",
              "      <th>15</th>\n",
              "      <td>2019-04-30</td>\n",
              "      <td>60916.62</td>\n",
              "      <td>61084.00</td>\n",
              "      <td>60745.61</td>\n",
              "      <td>60979.80</td>\n",
              "      <td>0</td>\n",
              "    </tr>\n",
              "    <tr>\n",
              "      <th>16</th>\n",
              "      <td>2019-05-31</td>\n",
              "      <td>62817.76</td>\n",
              "      <td>63145.08</td>\n",
              "      <td>62452.61</td>\n",
              "      <td>62803.53</td>\n",
              "      <td>0</td>\n",
              "    </tr>\n",
              "    <tr>\n",
              "      <th>17</th>\n",
              "      <td>2019-06-30</td>\n",
              "      <td>57753.72</td>\n",
              "      <td>58014.87</td>\n",
              "      <td>57571.51</td>\n",
              "      <td>57803.32</td>\n",
              "      <td>0</td>\n",
              "    </tr>\n",
              "    <tr>\n",
              "      <th>18</th>\n",
              "      <td>2019-07-31</td>\n",
              "      <td>65901.26</td>\n",
              "      <td>66087.78</td>\n",
              "      <td>65651.19</td>\n",
              "      <td>65914.50</td>\n",
              "      <td>0</td>\n",
              "    </tr>\n",
              "    <tr>\n",
              "      <th>19</th>\n",
              "      <td>2019-08-31</td>\n",
              "      <td>63826.84</td>\n",
              "      <td>64192.01</td>\n",
              "      <td>63288.67</td>\n",
              "      <td>63744.30</td>\n",
              "      <td>0</td>\n",
              "    </tr>\n",
              "    <tr>\n",
              "      <th>20</th>\n",
              "      <td>2019-09-30</td>\n",
              "      <td>59641.66</td>\n",
              "      <td>59841.92</td>\n",
              "      <td>59372.39</td>\n",
              "      <td>59643.12</td>\n",
              "      <td>0</td>\n",
              "    </tr>\n",
              "    <tr>\n",
              "      <th>21</th>\n",
              "      <td>2019-10-31</td>\n",
              "      <td>68469.94</td>\n",
              "      <td>68779.50</td>\n",
              "      <td>68194.29</td>\n",
              "      <td>68486.53</td>\n",
              "      <td>2207521396</td>\n",
              "    </tr>\n",
              "    <tr>\n",
              "      <th>22</th>\n",
              "      <td>2019-11-30</td>\n",
              "      <td>62031.14</td>\n",
              "      <td>62191.76</td>\n",
              "      <td>61888.23</td>\n",
              "      <td>62098.09</td>\n",
              "      <td>1493045171</td>\n",
              "    </tr>\n",
              "    <tr>\n",
              "      <th>23</th>\n",
              "      <td>2019-12-31</td>\n",
              "      <td>66678.78</td>\n",
              "      <td>66863.04</td>\n",
              "      <td>66512.24</td>\n",
              "      <td>66711.74</td>\n",
              "      <td>1890285078</td>\n",
              "    </tr>\n",
              "    <tr>\n",
              "      <th>24</th>\n",
              "      <td>2020-01-31</td>\n",
              "      <td>68783.43</td>\n",
              "      <td>69083.67</td>\n",
              "      <td>68527.77</td>\n",
              "      <td>68842.26</td>\n",
              "      <td>0</td>\n",
              "    </tr>\n",
              "    <tr>\n",
              "      <th>25</th>\n",
              "      <td>2020-02-29</td>\n",
              "      <td>62426.54</td>\n",
              "      <td>62742.00</td>\n",
              "      <td>61932.96</td>\n",
              "      <td>62268.97</td>\n",
              "      <td>0</td>\n",
              "    </tr>\n",
              "    <tr>\n",
              "      <th>26</th>\n",
              "      <td>2020-03-31</td>\n",
              "      <td>58370.13</td>\n",
              "      <td>59710.41</td>\n",
              "      <td>56729.29</td>\n",
              "      <td>58352.66</td>\n",
              "      <td>0</td>\n",
              "    </tr>\n",
              "    <tr>\n",
              "      <th>27</th>\n",
              "      <td>2020-04-30</td>\n",
              "      <td>57915.32</td>\n",
              "      <td>58617.11</td>\n",
              "      <td>57331.88</td>\n",
              "      <td>58001.48</td>\n",
              "      <td>0</td>\n",
              "    </tr>\n",
              "    <tr>\n",
              "      <th>28</th>\n",
              "      <td>2020-05-31</td>\n",
              "      <td>58394.11</td>\n",
              "      <td>58842.43</td>\n",
              "      <td>57901.55</td>\n",
              "      <td>58392.30</td>\n",
              "      <td>0</td>\n",
              "    </tr>\n",
              "    <tr>\n",
              "      <th>29</th>\n",
              "      <td>2020-06-30</td>\n",
              "      <td>68338.02</td>\n",
              "      <td>68871.99</td>\n",
              "      <td>67632.11</td>\n",
              "      <td>68302.54</td>\n",
              "      <td>0</td>\n",
              "    </tr>\n",
              "    <tr>\n",
              "      <th>30</th>\n",
              "      <td>2020-07-31</td>\n",
              "      <td>70479.17</td>\n",
              "      <td>70923.30</td>\n",
              "      <td>70015.22</td>\n",
              "      <td>70567.62</td>\n",
              "      <td>0</td>\n",
              "    </tr>\n",
              "    <tr>\n",
              "      <th>31</th>\n",
              "      <td>2020-08-31</td>\n",
              "      <td>71082.69</td>\n",
              "      <td>71397.55</td>\n",
              "      <td>70859.53</td>\n",
              "      <td>71225.91</td>\n",
              "      <td>0</td>\n",
              "    </tr>\n",
              "    <tr>\n",
              "      <th>32</th>\n",
              "      <td>2020-09-30</td>\n",
              "      <td>70853.52</td>\n",
              "      <td>71375.18</td>\n",
              "      <td>70072.61</td>\n",
              "      <td>70675.85</td>\n",
              "      <td>0</td>\n",
              "    </tr>\n",
              "    <tr>\n",
              "      <th>33</th>\n",
              "      <td>2020-10-31</td>\n",
              "      <td>75310.21</td>\n",
              "      <td>75790.52</td>\n",
              "      <td>74740.68</td>\n",
              "      <td>75211.43</td>\n",
              "      <td>0</td>\n",
              "    </tr>\n",
              "    <tr>\n",
              "      <th>34</th>\n",
              "      <td>2020-11-30</td>\n",
              "      <td>70868.60</td>\n",
              "      <td>71386.83</td>\n",
              "      <td>70524.41</td>\n",
              "      <td>70979.71</td>\n",
              "      <td>0</td>\n",
              "    </tr>\n",
              "    <tr>\n",
              "      <th>35</th>\n",
              "      <td>2020-12-31</td>\n",
              "      <td>81195.12</td>\n",
              "      <td>81567.66</td>\n",
              "      <td>80867.35</td>\n",
              "      <td>81296.82</td>\n",
              "      <td>814704870</td>\n",
              "    </tr>\n",
              "    <tr>\n",
              "      <th>36</th>\n",
              "      <td>2021-01-31</td>\n",
              "      <td>72150.36</td>\n",
              "      <td>72544.58</td>\n",
              "      <td>71610.28</td>\n",
              "      <td>72081.22</td>\n",
              "      <td>0</td>\n",
              "    </tr>\n",
              "    <tr>\n",
              "      <th>37</th>\n",
              "      <td>2021-02-28</td>\n",
              "      <td>73697.07</td>\n",
              "      <td>74120.82</td>\n",
              "      <td>73278.14</td>\n",
              "      <td>73785.21</td>\n",
              "      <td>0</td>\n",
              "    </tr>\n",
              "    <tr>\n",
              "      <th>38</th>\n",
              "      <td>2021-03-31</td>\n",
              "      <td>89853.75</td>\n",
              "      <td>90521.40</td>\n",
              "      <td>89311.46</td>\n",
              "      <td>89941.69</td>\n",
              "      <td>0</td>\n",
              "    </tr>\n",
              "    <tr>\n",
              "      <th>39</th>\n",
              "      <td>2021-04-30</td>\n",
              "      <td>86812.73</td>\n",
              "      <td>87192.03</td>\n",
              "      <td>86562.04</td>\n",
              "      <td>86964.70</td>\n",
              "      <td>0</td>\n",
              "    </tr>\n",
              "    <tr>\n",
              "      <th>40</th>\n",
              "      <td>2021-05-31</td>\n",
              "      <td>83346.60</td>\n",
              "      <td>83741.43</td>\n",
              "      <td>82929.56</td>\n",
              "      <td>83356.99</td>\n",
              "      <td>0</td>\n",
              "    </tr>\n",
              "    <tr>\n",
              "      <th>41</th>\n",
              "      <td>2021-06-30</td>\n",
              "      <td>93213.49</td>\n",
              "      <td>93486.50</td>\n",
              "      <td>92910.46</td>\n",
              "      <td>93246.77</td>\n",
              "      <td>0</td>\n",
              "    </tr>\n",
              "    <tr>\n",
              "      <th>42</th>\n",
              "      <td>2021-07-31</td>\n",
              "      <td>91518.02</td>\n",
              "      <td>91888.54</td>\n",
              "      <td>91162.56</td>\n",
              "      <td>91637.97</td>\n",
              "      <td>0</td>\n",
              "    </tr>\n",
              "    <tr>\n",
              "      <th>43</th>\n",
              "      <td>2021-08-31</td>\n",
              "      <td>97874.35</td>\n",
              "      <td>98218.94</td>\n",
              "      <td>97602.43</td>\n",
              "      <td>97992.54</td>\n",
              "      <td>0</td>\n",
              "    </tr>\n",
              "    <tr>\n",
              "      <th>44</th>\n",
              "      <td>2021-09-30</td>\n",
              "      <td>93601.93</td>\n",
              "      <td>93942.93</td>\n",
              "      <td>93018.08</td>\n",
              "      <td>93356.41</td>\n",
              "      <td>0</td>\n",
              "    </tr>\n",
              "    <tr>\n",
              "      <th>45</th>\n",
              "      <td>2021-10-31</td>\n",
              "      <td>93444.03</td>\n",
              "      <td>94009.16</td>\n",
              "      <td>93112.60</td>\n",
              "      <td>93674.85</td>\n",
              "      <td>0</td>\n",
              "    </tr>\n",
              "    <tr>\n",
              "      <th>46</th>\n",
              "      <td>2021-11-30</td>\n",
              "      <td>98089.69</td>\n",
              "      <td>98451.88</td>\n",
              "      <td>97637.80</td>\n",
              "      <td>98015.12</td>\n",
              "      <td>0</td>\n",
              "    </tr>\n",
              "    <tr>\n",
              "      <th>47</th>\n",
              "      <td>2021-12-31</td>\n",
              "      <td>102733.00</td>\n",
              "      <td>103434.80</td>\n",
              "      <td>102127.73</td>\n",
              "      <td>102845.00</td>\n",
              "      <td>0</td>\n",
              "    </tr>\n",
              "    <tr>\n",
              "      <th>48</th>\n",
              "      <td>2022-01-31</td>\n",
              "      <td>91705.26</td>\n",
              "      <td>92391.52</td>\n",
              "      <td>90561.03</td>\n",
              "      <td>91476.31</td>\n",
              "      <td>0</td>\n",
              "    </tr>\n",
              "    <tr>\n",
              "      <th>49</th>\n",
              "      <td>2022-02-28</td>\n",
              "      <td>84300.70</td>\n",
              "      <td>84998.54</td>\n",
              "      <td>83449.38</td>\n",
              "      <td>84283.63</td>\n",
              "      <td>0</td>\n",
              "    </tr>\n",
              "    <tr>\n",
              "      <th>50</th>\n",
              "      <td>2022-03-31</td>\n",
              "      <td>100930.77</td>\n",
              "      <td>101772.28</td>\n",
              "      <td>100086.11</td>\n",
              "      <td>100999.10</td>\n",
              "      <td>0</td>\n",
              "    </tr>\n",
              "    <tr>\n",
              "      <th>51</th>\n",
              "      <td>2022-04-30</td>\n",
              "      <td>88187.21</td>\n",
              "      <td>88785.29</td>\n",
              "      <td>87222.53</td>\n",
              "      <td>87825.92</td>\n",
              "      <td>0</td>\n",
              "    </tr>\n",
              "    <tr>\n",
              "      <th>52</th>\n",
              "      <td>2022-05-31</td>\n",
              "      <td>84793.38</td>\n",
              "      <td>85725.95</td>\n",
              "      <td>83710.50</td>\n",
              "      <td>84847.56</td>\n",
              "      <td>0</td>\n",
              "    </tr>\n",
              "    <tr>\n",
              "      <th>53</th>\n",
              "      <td>2022-06-30</td>\n",
              "      <td>82087.41</td>\n",
              "      <td>82790.51</td>\n",
              "      <td>81145.47</td>\n",
              "      <td>81877.88</td>\n",
              "      <td>0</td>\n",
              "    </tr>\n",
              "    <tr>\n",
              "      <th>54</th>\n",
              "      <td>2022-07-31</td>\n",
              "      <td>77864.82</td>\n",
              "      <td>78621.16</td>\n",
              "      <td>77324.82</td>\n",
              "      <td>78234.59</td>\n",
              "      <td>0</td>\n",
              "    </tr>\n",
              "    <tr>\n",
              "      <th>55</th>\n",
              "      <td>2022-08-31</td>\n",
              "      <td>95780.64</td>\n",
              "      <td>96365.70</td>\n",
              "      <td>95150.73</td>\n",
              "      <td>95646.95</td>\n",
              "      <td>0</td>\n",
              "    </tr>\n",
              "    <tr>\n",
              "      <th>56</th>\n",
              "      <td>2022-09-30</td>\n",
              "      <td>81077.10</td>\n",
              "      <td>81694.80</td>\n",
              "      <td>80168.52</td>\n",
              "      <td>80860.93</td>\n",
              "      <td>0</td>\n",
              "    </tr>\n",
              "    <tr>\n",
              "      <th>57</th>\n",
              "      <td>2022-10-31</td>\n",
              "      <td>77959.57</td>\n",
              "      <td>78994.26</td>\n",
              "      <td>77351.61</td>\n",
              "      <td>78247.07</td>\n",
              "      <td>0</td>\n",
              "    </tr>\n",
              "    <tr>\n",
              "      <th>58</th>\n",
              "      <td>2022-11-30</td>\n",
              "      <td>78225.94</td>\n",
              "      <td>78784.36</td>\n",
              "      <td>77596.77</td>\n",
              "      <td>78187.15</td>\n",
              "      <td>0</td>\n",
              "    </tr>\n",
              "  </tbody>\n",
              "</table>\n",
              "</div>\n",
              "      <button class=\"colab-df-convert\" onclick=\"convertToInteractive('df-3b20f736-8524-4373-963c-1b162ff90ad9')\"\n",
              "              title=\"Convert this dataframe to an interactive table.\"\n",
              "              style=\"display:none;\">\n",
              "        \n",
              "  <svg xmlns=\"http://www.w3.org/2000/svg\" height=\"24px\"viewBox=\"0 0 24 24\"\n",
              "       width=\"24px\">\n",
              "    <path d=\"M0 0h24v24H0V0z\" fill=\"none\"/>\n",
              "    <path d=\"M18.56 5.44l.94 2.06.94-2.06 2.06-.94-2.06-.94-.94-2.06-.94 2.06-2.06.94zm-11 1L8.5 8.5l.94-2.06 2.06-.94-2.06-.94L8.5 2.5l-.94 2.06-2.06.94zm10 10l.94 2.06.94-2.06 2.06-.94-2.06-.94-.94-2.06-.94 2.06-2.06.94z\"/><path d=\"M17.41 7.96l-1.37-1.37c-.4-.4-.92-.59-1.43-.59-.52 0-1.04.2-1.43.59L10.3 9.45l-7.72 7.72c-.78.78-.78 2.05 0 2.83L4 21.41c.39.39.9.59 1.41.59.51 0 1.02-.2 1.41-.59l7.78-7.78 2.81-2.81c.8-.78.8-2.07 0-2.86zM5.41 20L4 18.59l7.72-7.72 1.47 1.35L5.41 20z\"/>\n",
              "  </svg>\n",
              "      </button>\n",
              "      \n",
              "  <style>\n",
              "    .colab-df-container {\n",
              "      display:flex;\n",
              "      flex-wrap:wrap;\n",
              "      gap: 12px;\n",
              "    }\n",
              "\n",
              "    .colab-df-convert {\n",
              "      background-color: #E8F0FE;\n",
              "      border: none;\n",
              "      border-radius: 50%;\n",
              "      cursor: pointer;\n",
              "      display: none;\n",
              "      fill: #1967D2;\n",
              "      height: 32px;\n",
              "      padding: 0 0 0 0;\n",
              "      width: 32px;\n",
              "    }\n",
              "\n",
              "    .colab-df-convert:hover {\n",
              "      background-color: #E2EBFA;\n",
              "      box-shadow: 0px 1px 2px rgba(60, 64, 67, 0.3), 0px 1px 3px 1px rgba(60, 64, 67, 0.15);\n",
              "      fill: #174EA6;\n",
              "    }\n",
              "\n",
              "    [theme=dark] .colab-df-convert {\n",
              "      background-color: #3B4455;\n",
              "      fill: #D2E3FC;\n",
              "    }\n",
              "\n",
              "    [theme=dark] .colab-df-convert:hover {\n",
              "      background-color: #434B5C;\n",
              "      box-shadow: 0px 1px 3px 1px rgba(0, 0, 0, 0.15);\n",
              "      filter: drop-shadow(0px 1px 2px rgba(0, 0, 0, 0.3));\n",
              "      fill: #FFFFFF;\n",
              "    }\n",
              "  </style>\n",
              "\n",
              "      <script>\n",
              "        const buttonEl =\n",
              "          document.querySelector('#df-3b20f736-8524-4373-963c-1b162ff90ad9 button.colab-df-convert');\n",
              "        buttonEl.style.display =\n",
              "          google.colab.kernel.accessAllowed ? 'block' : 'none';\n",
              "\n",
              "        async function convertToInteractive(key) {\n",
              "          const element = document.querySelector('#df-3b20f736-8524-4373-963c-1b162ff90ad9');\n",
              "          const dataTable =\n",
              "            await google.colab.kernel.invokeFunction('convertToInteractive',\n",
              "                                                     [key], {});\n",
              "          if (!dataTable) return;\n",
              "\n",
              "          const docLinkHtml = 'Like what you see? Visit the ' +\n",
              "            '<a target=\"_blank\" href=https://colab.research.google.com/notebooks/data_table.ipynb>data table notebook</a>'\n",
              "            + ' to learn more about interactive tables.';\n",
              "          element.innerHTML = '';\n",
              "          dataTable['output_type'] = 'display_data';\n",
              "          await google.colab.output.renderOutput(dataTable, element);\n",
              "          const docLink = document.createElement('div');\n",
              "          docLink.innerHTML = docLinkHtml;\n",
              "          element.appendChild(docLink);\n",
              "        }\n",
              "      </script>\n",
              "    </div>\n",
              "  </div>\n",
              "  "
            ]
          },
          "metadata": {},
          "execution_count": 15
        }
      ],
      "source": [
        "# Change data to Monthly format\n",
        "monthly_sp = df_sp.resample('M', label='right', \n",
        "                            closed='right', on='Date').sum().reset_index().sort_values(by='Date')\n",
        "monthly_sp"
      ]
    },
    {
      "cell_type": "code",
      "execution_count": null,
      "id": "_XmEOx08kZwT",
      "metadata": {
        "colab": {
          "base_uri": "https://localhost:8080/",
          "height": 244
        },
        "id": "_XmEOx08kZwT",
        "outputId": "ea2cd341-be57-46d3-93ee-7bf6e1c8daac"
      },
      "outputs": [
        {
          "output_type": "execute_result",
          "data": {
            "text/plain": [
              "<matplotlib.axes._subplots.AxesSubplot at 0x7f6115afacd0>"
            ]
          },
          "metadata": {},
          "execution_count": 16
        },
        {
          "output_type": "display_data",
          "data": {
            "text/plain": [
              "<Figure size 864x216 with 1 Axes>"
            ],
            "image/png": "[encoded data removed]"
          },
          "metadata": {
            "needs_background": "light"
          }
        }
      ],
      "source": [
        "from datetime import date, timedelta\n",
        "import calendar\n",
        "sp_list = monthly_sp['Close'].tolist()\n",
        "\n",
        "#Draw the graph for S&P 500\n",
        "date = datetime.now()\n",
        "month = date.replace(day = calendar.monthrange(date.year, date.month)[1])\n",
        "#d1 = today.strftime(\"%m/%d/%y\")\n",
        "sp_m = pd.Series(sp_list, index= pd.date_range(\"1/1/2018\",\"11/30/2022\", freq = \"M\"))\n",
        "sp_m.plot(title=\"S&P 500 rate\", figsize= (12,3))\n"
      ]
    },
    {
      "cell_type": "code",
      "source": [
        "# print(55.85400626/4) \n",
        "# print(19.85506546/4)"
      ],
      "metadata": {
        "id": "A5uwOoIN9uik"
      },
      "id": "A5uwOoIN9uik",
      "execution_count": null,
      "outputs": []
    },
    {
      "cell_type": "code",
      "execution_count": null,
      "id": "3BIFEbSymNJd",
      "metadata": {
        "colab": {
          "base_uri": "https://localhost:8080/",
          "height": 918
        },
        "id": "3BIFEbSymNJd",
        "outputId": "a268249e-08f9-44df-9650-1e196ccacc8c"
      },
      "outputs": [
        {
          "output_type": "stream",
          "name": "stderr",
          "text": [
            "/usr/local/lib/python3.8/dist-packages/statsmodels/tsa/regime_switching/markov_switching.py:1283: EstimationWarning: Invalid regime transition probabilities estimated in EM iteration; probabilities have been re-scaled to continue estimation.\n",
            "  warnings.warn('Invalid regime transition probabilities'\n",
            "/usr/local/lib/python3.8/dist-packages/statsmodels/tsa/regime_switching/markov_switching.py:1283: EstimationWarning: Invalid regime transition probabilities estimated in EM iteration; probabilities have been re-scaled to continue estimation.\n",
            "  warnings.warn('Invalid regime transition probabilities'\n",
            "/usr/local/lib/python3.8/dist-packages/statsmodels/tsa/regime_switching/markov_switching.py:1283: EstimationWarning: Invalid regime transition probabilities estimated in EM iteration; probabilities have been re-scaled to continue estimation.\n",
            "  warnings.warn('Invalid regime transition probabilities'\n",
            "/usr/local/lib/python3.8/dist-packages/statsmodels/tsa/regime_switching/markov_switching.py:1283: EstimationWarning: Invalid regime transition probabilities estimated in EM iteration; probabilities have been re-scaled to continue estimation.\n",
            "  warnings.warn('Invalid regime transition probabilities'\n",
            "/usr/local/lib/python3.8/dist-packages/statsmodels/tsa/regime_switching/markov_switching.py:1283: EstimationWarning: Invalid regime transition probabilities estimated in EM iteration; probabilities have been re-scaled to continue estimation.\n",
            "  warnings.warn('Invalid regime transition probabilities'\n",
            "/usr/local/lib/python3.8/dist-packages/statsmodels/base/model.py:566: ConvergenceWarning: Maximum Likelihood optimization failed to converge. Check mle_retvals\n",
            "  warnings.warn(\"Maximum Likelihood optimization failed to \"\n"
          ]
        },
        {
          "output_type": "execute_result",
          "data": {
            "text/plain": [
              "<class 'statsmodels.iolib.summary.Summary'>\n",
              "\"\"\"\n",
              "                        Markov Switching Model Results                        \n",
              "==============================================================================\n",
              "Dep. Variable:                      y   No. Observations:                   59\n",
              "Model:               MarkovRegression   Log Likelihood                -619.047\n",
              "Date:                Fri, 09 Dec 2022   AIC                           1258.094\n",
              "Time:                        22:18:47   BIC                           1278.869\n",
              "Sample:                    01-31-2018   HQIC                          1266.204\n",
              "                         - 11-30-2022                                         \n",
              "Covariance Type:               approx                                         \n",
              "                             Regime 0 parameters                              \n",
              "==============================================================================\n",
              "                 coef    std err          z      P>|z|      [0.025      0.975]\n",
              "------------------------------------------------------------------------------\n",
              "const       5.893e+04   1837.262     32.072      0.000    5.53e+04    6.25e+04\n",
              "                             Regime 1 parameters                              \n",
              "==============================================================================\n",
              "                 coef    std err          z      P>|z|      [0.025      0.975]\n",
              "------------------------------------------------------------------------------\n",
              "const       6.091e+04   2382.297     25.568      0.000    5.62e+04    6.56e+04\n",
              "                             Regime 2 parameters                              \n",
              "==============================================================================\n",
              "                 coef    std err          z      P>|z|      [0.025      0.975]\n",
              "------------------------------------------------------------------------------\n",
              "const       8.183e+04   1494.033     54.773      0.000    7.89e+04    8.48e+04\n",
              "                           Non-switching parameters                           \n",
              "==============================================================================\n",
              "                 coef    std err          z      P>|z|      [0.025      0.975]\n",
              "------------------------------------------------------------------------------\n",
              "sigma2      4.895e+07      0.187   2.62e+08      0.000     4.9e+07     4.9e+07\n",
              "                         Regime transition parameters                         \n",
              "==============================================================================\n",
              "                 coef    std err          z      P>|z|      [0.025      0.975]\n",
              "------------------------------------------------------------------------------\n",
              "p[0->0]        0.4152      0.000    844.740      0.000       0.414       0.416\n",
              "p[1->0]        0.9557      0.053     18.176      0.000       0.853       1.059\n",
              "p[2->0]     1.034e-96        nan        nan        nan         nan         nan\n",
              "p[0->1]        0.5848   3.28e-06   1.79e+05      0.000       0.585       0.585\n",
              "p[1->1]             0        nan        nan        nan         nan         nan\n",
              "p[2->1]        0.0179      0.022      0.811      0.417      -0.025       0.061\n",
              "==============================================================================\n",
              "\n",
              "Warnings:\n",
              "[1] Covariance matrix calculated using numerical (complex-step) differentiation.\n",
              "[2] Covariance matrix is singular or near-singular, with condition number 6.4e+23. Standard errors may be unstable.\n",
              "\"\"\""
            ],
            "text/html": [
              "<table class=\"simpletable\">\n",
              "<caption>Markov Switching Model Results</caption>\n",
              "<tr>\n",
              "  <th>Dep. Variable:</th>           <td>y</td>        <th>  No. Observations:  </th>    <td>59</td>   \n",
              "</tr>\n",
              "<tr>\n",
              "  <th>Model:</th>           <td>MarkovRegression</td> <th>  Log Likelihood     </th> <td>-619.047</td>\n",
              "</tr>\n",
              "<tr>\n",
              "  <th>Date:</th>            <td>Fri, 09 Dec 2022</td> <th>  AIC                </th> <td>1258.094</td>\n",
              "</tr>\n",
              "<tr>\n",
              "  <th>Time:</th>                <td>22:18:47</td>     <th>  BIC                </th> <td>1278.869</td>\n",
              "</tr>\n",
              "<tr>\n",
              "  <th>Sample:</th>             <td>01-31-2018</td>    <th>  HQIC               </th> <td>1266.204</td>\n",
              "</tr>\n",
              "<tr>\n",
              "  <th></th>                   <td>- 11-30-2022</td>   <th>                     </th>     <td> </td>   \n",
              "</tr>\n",
              "<tr>\n",
              "  <th>Covariance Type:</th>      <td>approx</td>      <th>                     </th>     <td> </td>   \n",
              "</tr>\n",
              "</table>\n",
              "<table class=\"simpletable\">\n",
              "<caption>Regime 0 parameters</caption>\n",
              "<tr>\n",
              "    <td></td>       <th>coef</th>     <th>std err</th>      <th>z</th>      <th>P>|z|</th>  <th>[0.025</th>    <th>0.975]</th>  \n",
              "</tr>\n",
              "<tr>\n",
              "  <th>const</th> <td> 5.893e+04</td> <td> 1837.262</td> <td>   32.072</td> <td> 0.000</td> <td> 5.53e+04</td> <td> 6.25e+04</td>\n",
              "</tr>\n",
              "</table>\n",
              "<table class=\"simpletable\">\n",
              "<caption>Regime 1 parameters</caption>\n",
              "<tr>\n",
              "    <td></td>       <th>coef</th>     <th>std err</th>      <th>z</th>      <th>P>|z|</th>  <th>[0.025</th>    <th>0.975]</th>  \n",
              "</tr>\n",
              "<tr>\n",
              "  <th>const</th> <td> 6.091e+04</td> <td> 2382.297</td> <td>   25.568</td> <td> 0.000</td> <td> 5.62e+04</td> <td> 6.56e+04</td>\n",
              "</tr>\n",
              "</table>\n",
              "<table class=\"simpletable\">\n",
              "<caption>Regime 2 parameters</caption>\n",
              "<tr>\n",
              "    <td></td>       <th>coef</th>     <th>std err</th>      <th>z</th>      <th>P>|z|</th>  <th>[0.025</th>    <th>0.975]</th>  \n",
              "</tr>\n",
              "<tr>\n",
              "  <th>const</th> <td> 8.183e+04</td> <td> 1494.033</td> <td>   54.773</td> <td> 0.000</td> <td> 7.89e+04</td> <td> 8.48e+04</td>\n",
              "</tr>\n",
              "</table>\n",
              "<table class=\"simpletable\">\n",
              "<caption>Non-switching parameters</caption>\n",
              "<tr>\n",
              "     <td></td>       <th>coef</th>     <th>std err</th>      <th>z</th>      <th>P>|z|</th>  <th>[0.025</th>    <th>0.975]</th>  \n",
              "</tr>\n",
              "<tr>\n",
              "  <th>sigma2</th> <td> 4.895e+07</td> <td>    0.187</td> <td> 2.62e+08</td> <td> 0.000</td> <td>  4.9e+07</td> <td>  4.9e+07</td>\n",
              "</tr>\n",
              "</table>\n",
              "<table class=\"simpletable\">\n",
              "<caption>Regime transition parameters</caption>\n",
              "<tr>\n",
              "     <td></td>        <th>coef</th>     <th>std err</th>      <th>z</th>      <th>P>|z|</th>  <th>[0.025</th>    <th>0.975]</th>  \n",
              "</tr>\n",
              "<tr>\n",
              "  <th>p[0->0]</th> <td>    0.4152</td> <td>    0.000</td> <td>  844.740</td> <td> 0.000</td> <td>    0.414</td> <td>    0.416</td>\n",
              "</tr>\n",
              "<tr>\n",
              "  <th>p[1->0]</th> <td>    0.9557</td> <td>    0.053</td> <td>   18.176</td> <td> 0.000</td> <td>    0.853</td> <td>    1.059</td>\n",
              "</tr>\n",
              "<tr>\n",
              "  <th>p[2->0]</th> <td> 1.034e-96</td> <td>      nan</td> <td>      nan</td> <td>   nan</td> <td>      nan</td> <td>      nan</td>\n",
              "</tr>\n",
              "<tr>\n",
              "  <th>p[0->1]</th> <td>    0.5848</td> <td> 3.28e-06</td> <td> 1.79e+05</td> <td> 0.000</td> <td>    0.585</td> <td>    0.585</td>\n",
              "</tr>\n",
              "<tr>\n",
              "  <th>p[1->1]</th> <td>         0</td> <td>      nan</td> <td>      nan</td> <td>   nan</td> <td>      nan</td> <td>      nan</td>\n",
              "</tr>\n",
              "<tr>\n",
              "  <th>p[2->1]</th> <td>    0.0179</td> <td>    0.022</td> <td>    0.811</td> <td> 0.417</td> <td>   -0.025</td> <td>    0.061</td>\n",
              "</tr>\n",
              "</table><br/><br/>Warnings:<br/>[1] Covariance matrix calculated using numerical (complex-step) differentiation.<br/>[2] Covariance matrix is singular or near-singular, with condition number 6.4e+23. Standard errors may be unstable."
            ]
          },
          "metadata": {},
          "execution_count": 18
        }
      ],
      "source": [
        "# Build up Markov model:\n",
        "mod_sp = sm.tsa.MarkovRegression(sp_m, k_regimes = 3)\n",
        "res_sp = mod_sp.fit()\n",
        "res_sp.summary()"
      ]
    },
    {
      "cell_type": "code",
      "execution_count": null,
      "metadata": {
        "colab": {
          "base_uri": "https://localhost:8080/",
          "height": 265
        },
        "outputId": "6cbc26dc-ee40-4a2d-8c06-634b703529cc",
        "id": "xUOLFCJCCOPL"
      },
      "outputs": [
        {
          "output_type": "display_data",
          "data": {
            "text/plain": [
              "<Figure size 432x288 with 1 Axes>"
            ],
            "image/png": "[encoded data removed]"
          },
          "metadata": {
            "needs_background": "light"
          }
        }
      ],
      "source": [
        "# Show three regimes:\n",
        "for i in range(3):\n",
        "  res_sp.filtered_marginal_probabilities[i].plot(\n",
        "      label = f'{i}'\n",
        "  )\n",
        "      \n",
        "  plt.legend()"
      ],
      "id": "xUOLFCJCCOPL"
    },
    {
      "cell_type": "code",
      "execution_count": null,
      "metadata": {
        "colab": {
          "base_uri": "https://localhost:8080/",
          "height": 265
        },
        "outputId": "1e92131d-65a2-4c89-a420-fa298f119320",
        "id": "s_8pB16WCBVQ"
      },
      "outputs": [
        {
          "output_type": "display_data",
          "data": {
            "text/plain": [
              "<Figure size 432x288 with 1 Axes>"
            ],
            "image/png": "[encoded data removed]"
          },
          "metadata": {
            "needs_background": "light"
          }
        }
      ],
      "source": [
        "# Show three regimes:\n",
        "for i in range(3):\n",
        "  res_sp.predicted_marginal_probabilities[i].plot(\n",
        "      label = f'{i}'\n",
        "  )\n",
        "      \n",
        "  plt.legend()"
      ],
      "id": "s_8pB16WCBVQ"
    },
    {
      "cell_type": "code",
      "execution_count": null,
      "id": "TEjVt7sLmkLu",
      "metadata": {
        "colab": {
          "base_uri": "https://localhost:8080/",
          "height": 265
        },
        "id": "TEjVt7sLmkLu",
        "outputId": "f27a2b10-778d-4e1f-ce37-7a6352af6043"
      },
      "outputs": [
        {
          "output_type": "display_data",
          "data": {
            "text/plain": [
              "<Figure size 432x288 with 1 Axes>"
            ],
            "image/png": "[encoded data removed]"
          },
          "metadata": {
            "needs_background": "light"
          }
        }
      ],
      "source": [
        "# Show three regimes:\n",
        "for i in range(3):\n",
        "  res_sp.smoothed_marginal_probabilities[i].plot(\n",
        "      label = f'{i}'\n",
        "  )\n",
        "      \n",
        "  plt.legend()"
      ]
    },
    {
      "cell_type": "code",
      "execution_count": null,
      "id": "YtBhFDgpmnex",
      "metadata": {
        "colab": {
          "base_uri": "https://localhost:8080/",
          "height": 485
        },
        "id": "YtBhFDgpmnex",
        "outputId": "f56b847b-d889-4dc7-c894-aab912acb951"
      },
      "outputs": [
        {
          "output_type": "display_data",
          "data": {
            "text/plain": [
              "<Figure size 864x144 with 1 Axes>"
            ],
            "image/png": "[encoded data removed]"
          },
          "metadata": {
            "needs_background": "light"
          }
        },
        {
          "output_type": "display_data",
          "data": {
            "text/plain": [
              "<Figure size 864x144 with 1 Axes>"
            ],
            "image/png": "[encoded data removed]"
          },
          "metadata": {
            "needs_background": "light"
          }
        },
        {
          "output_type": "display_data",
          "data": {
            "text/plain": [
              "<Figure size 864x144 with 1 Axes>"
            ],
            "image/png": "[encoded data removed]"
          },
          "metadata": {
            "needs_background": "light"
          }
        }
      ],
      "source": [
        "for i in range(3):\n",
        "  f, ax = plt.subplots(figsize=(12,2))\n",
        "  res_sp.smoothed_marginal_probabilities[i].plot(\n",
        "      label = f'{i}'\n",
        "  )\n",
        "  ax.set_title(f\"{i}th regime\")\n",
        "  plt.legend()\n",
        "  plt.show()"
      ]
    },
    {
      "cell_type": "code",
      "execution_count": null,
      "id": "d5tTY41bnLfF",
      "metadata": {
        "colab": {
          "base_uri": "https://localhost:8080/"
        },
        "id": "d5tTY41bnLfF",
        "outputId": "f354b51e-4558-4790-88ef-79e7febef73b"
      },
      "outputs": [
        {
          "output_type": "stream",
          "name": "stdout",
          "text": [
            "[ 1.70999045  1.         55.76183427]\n"
          ]
        }
      ],
      "source": [
        "print(res_sp.expected_durations)"
      ]
    },
    {
      "cell_type": "code",
      "source": [
        "for i in res_sp.expected_durations:\n",
        " print(f\"{i/12} Year\")\n"
      ],
      "metadata": {
        "colab": {
          "base_uri": "https://localhost:8080/"
        },
        "id": "yOyItA5H-Fbl",
        "outputId": "4ef95688-7246-40a1-e337-001844212b95"
      },
      "id": "yOyItA5H-Fbl",
      "execution_count": null,
      "outputs": [
        {
          "output_type": "stream",
          "name": "stdout",
          "text": [
            "0.14249920380593648 Year\n",
            "0.08333333333333333 Year\n",
            "4.646819522209639 Year\n"
          ]
        }
      ]
    },
    {
      "cell_type": "markdown",
      "id": "Zfrzle0knoEx",
      "metadata": {
        "id": "Zfrzle0knoEx"
      },
      "source": [
        "### ***Model with volatility:***"
      ]
    },
    {
      "cell_type": "code",
      "execution_count": null,
      "id": "N7L298dinfE8",
      "metadata": {
        "id": "N7L298dinfE8",
        "outputId": "baf33508-91b9-4b89-8d64-0785ff1f829c",
        "colab": {
          "base_uri": "https://localhost:8080/",
          "height": 821
        }
      },
      "outputs": [
        {
          "output_type": "stream",
          "name": "stderr",
          "text": [
            "/usr/local/lib/python3.8/dist-packages/statsmodels/tsa/regime_switching/markov_switching.py:1283: EstimationWarning: Invalid regime transition probabilities estimated in EM iteration; probabilities have been re-scaled to continue estimation.\n",
            "  warnings.warn('Invalid regime transition probabilities'\n",
            "/usr/local/lib/python3.8/dist-packages/statsmodels/tsa/regime_switching/markov_switching.py:1283: EstimationWarning: Invalid regime transition probabilities estimated in EM iteration; probabilities have been re-scaled to continue estimation.\n",
            "  warnings.warn('Invalid regime transition probabilities'\n",
            "/usr/local/lib/python3.8/dist-packages/statsmodels/tsa/regime_switching/markov_switching.py:1283: EstimationWarning: Invalid regime transition probabilities estimated in EM iteration; probabilities have been re-scaled to continue estimation.\n",
            "  warnings.warn('Invalid regime transition probabilities'\n",
            "/usr/local/lib/python3.8/dist-packages/statsmodels/tsa/regime_switching/markov_switching.py:1283: EstimationWarning: Invalid regime transition probabilities estimated in EM iteration; probabilities have been re-scaled to continue estimation.\n",
            "  warnings.warn('Invalid regime transition probabilities'\n",
            "/usr/local/lib/python3.8/dist-packages/statsmodels/tsa/regime_switching/markov_switching.py:1283: EstimationWarning: Invalid regime transition probabilities estimated in EM iteration; probabilities have been re-scaled to continue estimation.\n",
            "  warnings.warn('Invalid regime transition probabilities'\n"
          ]
        },
        {
          "output_type": "execute_result",
          "data": {
            "text/plain": [
              "<class 'statsmodels.iolib.summary.Summary'>\n",
              "\"\"\"\n",
              "                        Markov Switching Model Results                        \n",
              "==============================================================================\n",
              "Dep. Variable:                      y   No. Observations:                   59\n",
              "Model:               MarkovRegression   Log Likelihood                -744.910\n",
              "Date:                Fri, 09 Dec 2022   AIC                           1507.820\n",
              "Time:                        22:18:50   BIC                           1526.517\n",
              "Sample:                    01-31-2018   HQIC                          1515.119\n",
              "                         - 11-30-2022                                         \n",
              "Covariance Type:               approx                                         \n",
              "                             Regime 0 parameters                              \n",
              "==============================================================================\n",
              "                 coef    std err          z      P>|z|      [0.025      0.975]\n",
              "------------------------------------------------------------------------------\n",
              "sigma2      5.419e+09   1.37e-24   3.97e+33      0.000    5.42e+09    5.42e+09\n",
              "                             Regime 1 parameters                              \n",
              "==============================================================================\n",
              "                 coef    std err          z      P>|z|      [0.025      0.975]\n",
              "------------------------------------------------------------------------------\n",
              "sigma2      5.419e+09    1.2e-11   4.52e+20      0.000    5.42e+09    5.42e+09\n",
              "                             Regime 2 parameters                              \n",
              "==============================================================================\n",
              "                 coef    std err          z      P>|z|      [0.025      0.975]\n",
              "------------------------------------------------------------------------------\n",
              "sigma2       5.42e+09   2.79e-12   1.94e+21      0.000    5.42e+09    5.42e+09\n",
              "                         Regime transition parameters                         \n",
              "==============================================================================\n",
              "                 coef    std err          z      P>|z|      [0.025      0.975]\n",
              "------------------------------------------------------------------------------\n",
              "p[0->0]         1e-20    232.648    4.3e-23      1.000    -455.982     455.982\n",
              "p[1->0]         1e-20   3.06e-06   3.27e-15      1.000   -5.99e-06    5.99e-06\n",
              "p[2->0]         1e-20        nan        nan        nan         nan         nan\n",
              "p[0->1]        1.0000      3.181      0.314      0.753      -5.234       7.234\n",
              "p[1->1]        0.0110      0.006      1.699      0.089      -0.002       0.024\n",
              "p[2->1]        0.0011      3.845      0.000      1.000      -7.534       7.537\n",
              "==============================================================================\n",
              "\n",
              "Warnings:\n",
              "[1] Covariance matrix calculated using numerical (complex-step) differentiation.\n",
              "[2] Covariance matrix is singular or near-singular, with condition number 1.35e+60. Standard errors may be unstable.\n",
              "\"\"\""
            ],
            "text/html": [
              "<table class=\"simpletable\">\n",
              "<caption>Markov Switching Model Results</caption>\n",
              "<tr>\n",
              "  <th>Dep. Variable:</th>           <td>y</td>        <th>  No. Observations:  </th>    <td>59</td>   \n",
              "</tr>\n",
              "<tr>\n",
              "  <th>Model:</th>           <td>MarkovRegression</td> <th>  Log Likelihood     </th> <td>-744.910</td>\n",
              "</tr>\n",
              "<tr>\n",
              "  <th>Date:</th>            <td>Fri, 09 Dec 2022</td> <th>  AIC                </th> <td>1507.820</td>\n",
              "</tr>\n",
              "<tr>\n",
              "  <th>Time:</th>                <td>22:18:50</td>     <th>  BIC                </th> <td>1526.517</td>\n",
              "</tr>\n",
              "<tr>\n",
              "  <th>Sample:</th>             <td>01-31-2018</td>    <th>  HQIC               </th> <td>1515.119</td>\n",
              "</tr>\n",
              "<tr>\n",
              "  <th></th>                   <td>- 11-30-2022</td>   <th>                     </th>     <td> </td>   \n",
              "</tr>\n",
              "<tr>\n",
              "  <th>Covariance Type:</th>      <td>approx</td>      <th>                     </th>     <td> </td>   \n",
              "</tr>\n",
              "</table>\n",
              "<table class=\"simpletable\">\n",
              "<caption>Regime 0 parameters</caption>\n",
              "<tr>\n",
              "     <td></td>       <th>coef</th>     <th>std err</th>      <th>z</th>      <th>P>|z|</th>  <th>[0.025</th>    <th>0.975]</th>  \n",
              "</tr>\n",
              "<tr>\n",
              "  <th>sigma2</th> <td> 5.419e+09</td> <td> 1.37e-24</td> <td> 3.97e+33</td> <td> 0.000</td> <td> 5.42e+09</td> <td> 5.42e+09</td>\n",
              "</tr>\n",
              "</table>\n",
              "<table class=\"simpletable\">\n",
              "<caption>Regime 1 parameters</caption>\n",
              "<tr>\n",
              "     <td></td>       <th>coef</th>     <th>std err</th>      <th>z</th>      <th>P>|z|</th>  <th>[0.025</th>    <th>0.975]</th>  \n",
              "</tr>\n",
              "<tr>\n",
              "  <th>sigma2</th> <td> 5.419e+09</td> <td>  1.2e-11</td> <td> 4.52e+20</td> <td> 0.000</td> <td> 5.42e+09</td> <td> 5.42e+09</td>\n",
              "</tr>\n",
              "</table>\n",
              "<table class=\"simpletable\">\n",
              "<caption>Regime 2 parameters</caption>\n",
              "<tr>\n",
              "     <td></td>       <th>coef</th>     <th>std err</th>      <th>z</th>      <th>P>|z|</th>  <th>[0.025</th>    <th>0.975]</th>  \n",
              "</tr>\n",
              "<tr>\n",
              "  <th>sigma2</th> <td>  5.42e+09</td> <td> 2.79e-12</td> <td> 1.94e+21</td> <td> 0.000</td> <td> 5.42e+09</td> <td> 5.42e+09</td>\n",
              "</tr>\n",
              "</table>\n",
              "<table class=\"simpletable\">\n",
              "<caption>Regime transition parameters</caption>\n",
              "<tr>\n",
              "     <td></td>        <th>coef</th>     <th>std err</th>      <th>z</th>      <th>P>|z|</th>  <th>[0.025</th>    <th>0.975]</th>  \n",
              "</tr>\n",
              "<tr>\n",
              "  <th>p[0->0]</th> <td>     1e-20</td> <td>  232.648</td> <td>  4.3e-23</td> <td> 1.000</td> <td> -455.982</td> <td>  455.982</td>\n",
              "</tr>\n",
              "<tr>\n",
              "  <th>p[1->0]</th> <td>     1e-20</td> <td> 3.06e-06</td> <td> 3.27e-15</td> <td> 1.000</td> <td>-5.99e-06</td> <td> 5.99e-06</td>\n",
              "</tr>\n",
              "<tr>\n",
              "  <th>p[2->0]</th> <td>     1e-20</td> <td>      nan</td> <td>      nan</td> <td>   nan</td> <td>      nan</td> <td>      nan</td>\n",
              "</tr>\n",
              "<tr>\n",
              "  <th>p[0->1]</th> <td>    1.0000</td> <td>    3.181</td> <td>    0.314</td> <td> 0.753</td> <td>   -5.234</td> <td>    7.234</td>\n",
              "</tr>\n",
              "<tr>\n",
              "  <th>p[1->1]</th> <td>    0.0110</td> <td>    0.006</td> <td>    1.699</td> <td> 0.089</td> <td>   -0.002</td> <td>    0.024</td>\n",
              "</tr>\n",
              "<tr>\n",
              "  <th>p[2->1]</th> <td>    0.0011</td> <td>    3.845</td> <td>    0.000</td> <td> 1.000</td> <td>   -7.534</td> <td>    7.537</td>\n",
              "</tr>\n",
              "</table><br/><br/>Warnings:<br/>[1] Covariance matrix calculated using numerical (complex-step) differentiation.<br/>[2] Covariance matrix is singular or near-singular, with condition number 1.35e+60. Standard errors may be unstable."
            ]
          },
          "metadata": {},
          "execution_count": 25
        }
      ],
      "source": [
        "# Make trend='n' and switching_variance=True\n",
        "vola_sp = sm.tsa.MarkovRegression(sp_m, k_regimes = 3,trend='n', switching_trend=False, switching_exog=False, switching_variance=True)\n",
        "vola_res_sp = vola_sp.fit()\n",
        "vola_res_sp.summary()"
      ]
    },
    {
      "cell_type": "code",
      "execution_count": null,
      "id": "IhUlsEnvnuR5",
      "metadata": {
        "colab": {
          "base_uri": "https://localhost:8080/",
          "height": 485
        },
        "id": "IhUlsEnvnuR5",
        "outputId": "16c44517-e9b4-464d-bc79-2ae4fa09133c"
      },
      "outputs": [
        {
          "output_type": "display_data",
          "data": {
            "text/plain": [
              "<Figure size 864x144 with 1 Axes>"
            ],
            "image/png": "[encoded data removed]"
          },
          "metadata": {
            "needs_background": "light"
          }
        },
        {
          "output_type": "display_data",
          "data": {
            "text/plain": [
              "<Figure size 864x144 with 1 Axes>"
            ],
            "image/png": "[encoded data removed]"
          },
          "metadata": {
            "needs_background": "light"
          }
        },
        {
          "output_type": "display_data",
          "data": {
            "text/plain": [
              "<Figure size 864x144 with 1 Axes>"
            ],
            "image/png": "[encoded data removed]"
          },
          "metadata": {
            "needs_background": "light"
          }
        }
      ],
      "source": [
        "for i in range(3):\n",
        "  f, ax = plt.subplots(figsize=(12,2))\n",
        "  vola_res_sp.smoothed_marginal_probabilities[i].plot(\n",
        "      label = f'{i}'\n",
        "  )\n",
        "  ax.set_title(f\"{i}th regime\")\n",
        "  plt.legend()\n",
        "  plt.grid()\n",
        "  plt.show()"
      ]
    },
    {
      "cell_type": "code",
      "source": [
        "print(1e-8+9.988872e-1 )"
      ],
      "metadata": {
        "colab": {
          "base_uri": "https://localhost:8080/"
        },
        "id": "hrrMb5ySEuNY",
        "outputId": "e46e75ff-e32b-41e5-bacd-5cee55c74451"
      },
      "id": "hrrMb5ySEuNY",
      "execution_count": null,
      "outputs": [
        {
          "output_type": "stream",
          "name": "stdout",
          "text": [
            "0.99888721\n"
          ]
        }
      ]
    },
    {
      "cell_type": "code",
      "source": [
        "print(1e-8+1.1127e-3)"
      ],
      "metadata": {
        "colab": {
          "base_uri": "https://localhost:8080/"
        },
        "id": "RM2erPlXFNwR",
        "outputId": "886746c8-fffb-4398-df22-93dc52dd538c"
      },
      "id": "RM2erPlXFNwR",
      "execution_count": null,
      "outputs": [
        {
          "output_type": "stream",
          "name": "stdout",
          "text": [
            "0.00111271\n"
          ]
        }
      ]
    },
    {
      "cell_type": "markdown",
      "source": [
        "0th regime's negative probability => could be numerical error \n",
        "covarience number could be huge\n"
      ],
      "metadata": {
        "id": "XCaArhXKFov9"
      },
      "id": "XCaArhXKFov9"
    },
    {
      "cell_type": "code",
      "source": [
        "fig, ax = plt.subplots(1, constrained_layout=True)\n",
        "data_ret = data.resample('W').last().pct_change().dropna() * 100 # Get weekly returns in percent change\n",
        "data_ret.plot(title='Excess returns', figsize=(12, 3), ax=ax)\n",
        "ax.fill_between(usrec.index, ax.get_ylim()[0], ax.get_ylim()[1], where=usrec[\"USREC\"].values, color=\"k\", alpha=0.1)\n",
        "# fig.tight_layout()"
      ],
      "metadata": {
        "id": "QXZ8JkrIFTky",
        "colab": {
          "base_uri": "https://localhost:8080/",
          "height": 532
        },
        "outputId": "e1d2d526-83d3-4f09-e37f-a5493cece0fb"
      },
      "id": "QXZ8JkrIFTky",
      "execution_count": null,
      "outputs": [
        {
          "output_type": "error",
          "ename": "AttributeError",
          "evalue": "ignored",
          "traceback": [
            "\u001b[0;31m---------------------------------------------------------------------------\u001b[0m",
            "\u001b[0;31mAttributeError\u001b[0m                            Traceback (most recent call last)",
            "\u001b[0;32m<ipython-input-29-67f93b9bd4f2>\u001b[0m in \u001b[0;36m<module>\u001b[0;34m\u001b[0m\n\u001b[1;32m      1\u001b[0m \u001b[0mfig\u001b[0m\u001b[0;34m,\u001b[0m \u001b[0max\u001b[0m \u001b[0;34m=\u001b[0m \u001b[0mplt\u001b[0m\u001b[0;34m.\u001b[0m\u001b[0msubplots\u001b[0m\u001b[0;34m(\u001b[0m\u001b[0;36m1\u001b[0m\u001b[0;34m,\u001b[0m \u001b[0mconstrained_layout\u001b[0m\u001b[0;34m=\u001b[0m\u001b[0;32mTrue\u001b[0m\u001b[0;34m)\u001b[0m\u001b[0;34m\u001b[0m\u001b[0;34m\u001b[0m\u001b[0m\n\u001b[0;32m----> 2\u001b[0;31m \u001b[0mdata_ret\u001b[0m \u001b[0;34m=\u001b[0m \u001b[0mdata\u001b[0m\u001b[0;34m.\u001b[0m\u001b[0mresample\u001b[0m\u001b[0;34m(\u001b[0m\u001b[0;34m'W'\u001b[0m\u001b[0;34m)\u001b[0m\u001b[0;34m.\u001b[0m\u001b[0mlast\u001b[0m\u001b[0;34m(\u001b[0m\u001b[0;34m)\u001b[0m\u001b[0;34m.\u001b[0m\u001b[0mpct_change\u001b[0m\u001b[0;34m(\u001b[0m\u001b[0;34m)\u001b[0m\u001b[0;34m.\u001b[0m\u001b[0mdropna\u001b[0m\u001b[0;34m(\u001b[0m\u001b[0;34m)\u001b[0m \u001b[0;34m*\u001b[0m \u001b[0;36m100\u001b[0m \u001b[0;31m# Get weekly returns in percent change\u001b[0m\u001b[0;34m\u001b[0m\u001b[0;34m\u001b[0m\u001b[0m\n\u001b[0m\u001b[1;32m      3\u001b[0m \u001b[0mdata_ret\u001b[0m\u001b[0;34m.\u001b[0m\u001b[0mplot\u001b[0m\u001b[0;34m(\u001b[0m\u001b[0mtitle\u001b[0m\u001b[0;34m=\u001b[0m\u001b[0;34m'Excess returns'\u001b[0m\u001b[0;34m,\u001b[0m \u001b[0mfigsize\u001b[0m\u001b[0;34m=\u001b[0m\u001b[0;34m(\u001b[0m\u001b[0;36m12\u001b[0m\u001b[0;34m,\u001b[0m \u001b[0;36m3\u001b[0m\u001b[0;34m)\u001b[0m\u001b[0;34m,\u001b[0m \u001b[0max\u001b[0m\u001b[0;34m=\u001b[0m\u001b[0max\u001b[0m\u001b[0;34m)\u001b[0m\u001b[0;34m\u001b[0m\u001b[0;34m\u001b[0m\u001b[0m\n\u001b[1;32m      4\u001b[0m \u001b[0max\u001b[0m\u001b[0;34m.\u001b[0m\u001b[0mfill_between\u001b[0m\u001b[0;34m(\u001b[0m\u001b[0musrec\u001b[0m\u001b[0;34m.\u001b[0m\u001b[0mindex\u001b[0m\u001b[0;34m,\u001b[0m \u001b[0max\u001b[0m\u001b[0;34m.\u001b[0m\u001b[0mget_ylim\u001b[0m\u001b[0;34m(\u001b[0m\u001b[0;34m)\u001b[0m\u001b[0;34m[\u001b[0m\u001b[0;36m0\u001b[0m\u001b[0;34m]\u001b[0m\u001b[0;34m,\u001b[0m \u001b[0max\u001b[0m\u001b[0;34m.\u001b[0m\u001b[0mget_ylim\u001b[0m\u001b[0;34m(\u001b[0m\u001b[0;34m)\u001b[0m\u001b[0;34m[\u001b[0m\u001b[0;36m1\u001b[0m\u001b[0;34m]\u001b[0m\u001b[0;34m,\u001b[0m \u001b[0mwhere\u001b[0m\u001b[0;34m=\u001b[0m\u001b[0musrec\u001b[0m\u001b[0;34m[\u001b[0m\u001b[0;34m\"USREC\"\u001b[0m\u001b[0;34m]\u001b[0m\u001b[0;34m.\u001b[0m\u001b[0mvalues\u001b[0m\u001b[0;34m,\u001b[0m \u001b[0mcolor\u001b[0m\u001b[0;34m=\u001b[0m\u001b[0;34m\"k\"\u001b[0m\u001b[0;34m,\u001b[0m \u001b[0malpha\u001b[0m\u001b[0;34m=\u001b[0m\u001b[0;36m0.1\u001b[0m\u001b[0;34m)\u001b[0m\u001b[0;34m\u001b[0m\u001b[0;34m\u001b[0m\u001b[0m\n\u001b[1;32m      5\u001b[0m \u001b[0;31m# fig.tight_layout()\u001b[0m\u001b[0;34m\u001b[0m\u001b[0;34m\u001b[0m\u001b[0;34m\u001b[0m\u001b[0m\n",
            "\u001b[0;31mAttributeError\u001b[0m: 'bytes' object has no attribute 'resample'"
          ]
        },
        {
          "output_type": "display_data",
          "data": {
            "text/plain": [
              "<Figure size 432x288 with 1 Axes>"
            ],
            "image/png": "[encoded data removed]"
          },
          "metadata": {
            "needs_background": "light"
          }
        }
      ]
    },
    {
      "cell_type": "code",
      "execution_count": null,
      "id": "lHxZNIbxE8bj",
      "metadata": {
        "id": "lHxZNIbxE8bj"
      },
      "outputs": [],
      "source": [
        "print(vola_res_sp.expected_durations)"
      ]
    },
    {
      "cell_type": "code",
      "source": [],
      "metadata": {
        "id": "eC0WfgVTOnXe"
      },
      "id": "eC0WfgVTOnXe",
      "execution_count": null,
      "outputs": []
    },
    {
      "cell_type": "markdown",
      "id": "PIAqFp0dehGG",
      "metadata": {
        "id": "PIAqFp0dehGG"
      },
      "source": [
        "It's good to use k_regimes = 3 at this point. \n",
        "Not actually classifying as regime right now. \n",
        "All the probability is in regime => labling regimes is the next step\n",
        "Labling Maximun probability Regime would be currently best idea. "
      ]
    },
    {
      "cell_type": "markdown",
      "id": "bkrxqqiblC7T",
      "metadata": {
        "id": "bkrxqqiblC7T"
      },
      "source": [
        "Probabilities time steps within the regime\n",
        "1th, 2nd All the y values are 0. ( above there were only 3 liines  even though regime where 5) => didn't evene shouw up. So the three regimes would be optimal number. None zero (0th, 3th, 4th)  1th even though there are movement, y value is so small.\n",
        "\n",
        " reuse plotting code and the ideas i shared for volatility regime fitting. the only difference is you're fitting based on variance instead of the raw value trends. everything else is the same (regime probabilities, etc.)\n",
        "\n"
      ]
    },
    {
      "cell_type": "markdown",
      "id": "JVbLYx5_mxA7",
      "metadata": {
        "id": "JVbLYx5_mxA7"
      },
      "source": [
        "This is fitting to local optimal.\n",
        "The result is not significantly different with 5. But randomize process is needed? \n",
        "\n",
        "*****Explore why it's different.(with k_regime = 5) *******\n",
        "ex) 4 or...3.. 5... \n",
        "\n",
        "Rerun multiple time to see if the results are different. (5 & 3) \n",
        "=> comes up with very different results. \n",
        "\n",
        "+ additionally we can figure it out, how they are different quantatively. \n",
        "(labeling...etc....) \n",
        "\n"
      ]
    },
    {
      "cell_type": "markdown",
      "id": "Jwje9rwIoOnX",
      "metadata": {
        "id": "Jwje9rwIoOnX"
      },
      "source": [
        "### *Model based on the volatility:* \n",
        "        #switching_trend=False, switching_exog=True, switching_variance=True,\n",
        "        Do the resampling \n",
        "        USD- > Percentage change \n",
        "  \n",
        "  \n",
        "  ****** trend=’n’, switching_variance=True *******\n",
        "  [link text](https://)"
      ]
    },
    {
      "cell_type": "markdown",
      "id": "eca8a924",
      "metadata": {
        "id": "eca8a924"
      },
      "source": [
        "Switching intercept and lagged dependent variable"
      ]
    },
    {
      "cell_type": "markdown",
      "id": "2381113a",
      "metadata": {
        "id": "2381113a"
      },
      "source": [
        "## **Taylor rule with 2 or 3 regimes**\n",
        "\n",
        "Taylor-type rule with both 2 and 3 regimes to see which fits the data better. \n",
        "We employ a search over starting parameters to improve results, specifying 20 random search repetitions. \n",
        "* Seems like we have only 1 regime."
      ]
    },
    {
      "cell_type": "markdown",
      "id": "ERIrK6dG_FaU",
      "metadata": {
        "id": "ERIrK6dG_FaU"
      },
      "source": [
        "We now include two additional exogenous variables - a measure of the gap and a measure of inflation - into the S&P 500 data to estimate a switching Taylor-type rule with 3 regimes (which is better to fit in the data)."
      ]
    },
    {
      "cell_type": "markdown",
      "id": "dfKC8LzYolCA",
      "metadata": {
        "id": "dfKC8LzYolCA"
      },
      "source": [
        "***Import inflation rate data csv file:***"
      ]
    },
    {
      "cell_type": "code",
      "execution_count": null,
      "id": "Xk1H3qXMF8eh",
      "metadata": {
        "id": "Xk1H3qXMF8eh"
      },
      "outputs": [],
      "source": [
        "# Import inflation csv file\n",
        "response = requests.get('https://docs.google.com/spreadsheets/d/17v0th71AL_VSSZeIBlsSi2rHEY6R6t_Or8os5GUW260/export?format=csv')\n",
        "assert response.status_code == 200, 'Wrong status code'\n",
        "data = response.content\n",
        "inflation = pd.read_csv(BytesIO(data))\n",
        "print(inflation.shape)"
      ]
    },
    {
      "cell_type": "code",
      "execution_count": null,
      "id": "LeoBvNyRrsaP",
      "metadata": {
        "id": "LeoBvNyRrsaP"
      },
      "outputs": [],
      "source": [
        "# Change date to formal format:\n",
        "inflation['DATE'] = pd.to_datetime(inflation['DATE'])\n",
        "inflation.head()"
      ]
    },
    {
      "cell_type": "code",
      "execution_count": null,
      "id": "M7v8mk2eqKni",
      "metadata": {
        "id": "M7v8mk2eqKni"
      },
      "outputs": [],
      "source": [
        "# Select only inflation rate from January 2018 to June 2022:\n",
        "inflation_new = inflation.loc[inflation['DATE']>\"2017-12-01\"][inflation['DATE']<\"2022-8-01\"]\n",
        "inflation_new.head()"
      ]
    },
    {
      "cell_type": "markdown",
      "id": "dQRYDzsd_-mM",
      "metadata": {
        "id": "dQRYDzsd_-mM"
      },
      "source": [
        "***Change the S&P 500 data into monthly format:***"
      ]
    },
    {
      "cell_type": "code",
      "execution_count": null,
      "id": "SriW3F5xpnq1",
      "metadata": {
        "id": "SriW3F5xpnq1"
      },
      "outputs": [],
      "source": [
        "# Convert daily s&p data into monthly:\n",
        "monthly_sp = df_sp.resample('M', label='right', \n",
        "                            closed='right', on='Date').sum().reset_index().sort_values(by='Date')\n",
        "# Drop 2022-10-30 data because the inflation rate did not come out yet.\n",
        "monthly_sp = monthly_sp.drop(labels=[55,56,57,58],axis=0)\n",
        "monthly_sp.head()"
      ]
    },
    {
      "cell_type": "code",
      "execution_count": null,
      "id": "QK7VNCeMn3iF",
      "metadata": {
        "id": "QK7VNCeMn3iF"
      },
      "outputs": [],
      "source": [
        "#Make the monthly sp data into list\n",
        "sp_listm = monthly_sp['Close'].tolist()\n",
        "\n",
        "sp = pd.Series(sp_listm, index= pd.date_range(\"1/1/2018\",'07/31/2022', freq = \"M\"))"
      ]
    },
    {
      "cell_type": "markdown",
      "id": "4UCJERGcADn1",
      "metadata": {
        "id": "4UCJERGcADn1"
      },
      "source": [
        "***Import GDP csv file and change it to monthly format:***"
      ]
    },
    {
      "cell_type": "code",
      "execution_count": null,
      "id": "X_StWMDep27M",
      "metadata": {
        "id": "X_StWMDep27M"
      },
      "outputs": [],
      "source": [
        "# Import GDP csv file\n",
        "response = requests.get('https://docs.google.com/spreadsheets/d/1tYgpA_dlxhMhbaRZ2wxuQA8TIox-h3vAPn_Yd01kgLA/export?format=csv')\n",
        "assert response.status_code == 200, 'Wrong status code'\n",
        "data = response.content\n",
        "gdp = pd.read_csv(BytesIO(data))\n",
        "print(gdp.shape)"
      ]
    },
    {
      "cell_type": "code",
      "execution_count": null,
      "id": "dioJv6PEzJFm",
      "metadata": {
        "id": "dioJv6PEzJFm"
      },
      "outputs": [],
      "source": [
        "gdp['DATE'] = pd.to_datetime(gdp['DATE'])\n",
        "\n",
        "# Select data from 2018 to 2022:\n",
        "gdp_new = gdp.loc[gdp['DATE']>\"2017-12-01\"][gdp['DATE']<\"2022-08-01\"]\n",
        "gdp_new.head()"
      ]
    },
    {
      "cell_type": "code",
      "execution_count": null,
      "id": "oDrPsLp0vjpa",
      "metadata": {
        "id": "oDrPsLp0vjpa"
      },
      "outputs": [],
      "source": [
        "gdp_new['DATE'] = pd.to_datetime(gdp['DATE']).dt.to_period('M')\n",
        "\n",
        "# Change the quarterly data to monthly and use interpolate method to fill in the null data using linear calculation method\n",
        "monthly_gdp = gdp_new.set_index('DATE').resample('M').interpolate(method='linear')\n",
        "monthly_gdp = monthly_gdp.reset_index()\n",
        "monthly_gdp.head()"
      ]
    },
    {
      "cell_type": "code",
      "execution_count": null,
      "id": "9E8yWiDH4-4W",
      "metadata": {
        "id": "9E8yWiDH4-4W"
      },
      "outputs": [],
      "source": [
        "gdp_list = monthly_gdp['GDP'].tolist()\n",
        "inflation_list = inflation_new['T10YIEM'].tolist()\n",
        "\n",
        "gdp = pd.Series(gdp_list, index= pd.date_range(\"1/1/2018\",'08/01/2022', freq = \"M\"))\n",
        "inflation = pd.Series(inflation_list, index= pd.date_range(\"1/1/2018\",'08/01/2022', freq = \"M\"))"
      ]
    },
    {
      "cell_type": "code",
      "execution_count": null,
      "id": "BSa8z5wzv48I",
      "metadata": {
        "id": "BSa8z5wzv48I"
      },
      "outputs": [],
      "source": [
        "# Combine s&p 500, gdp, and inflation data:\n",
        "exog = pd.concat((sp.shift(), gdp, inflation), axis=1).iloc[1:]\n",
        "exog.head()"
      ]
    },
    {
      "cell_type": "code",
      "execution_count": null,
      "id": "1aODNilSv32W",
      "metadata": {
        "id": "1aODNilSv32W"
      },
      "outputs": [],
      "source": [
        "# Build up the model using taylor rule\n",
        "mod_taylor = sm.tsa.MarkovRegression(sp.iloc[1:], k_regimes=3, exog=exog)\n",
        "res_taylor = mod_taylor.fit()\n",
        "res_taylor.summary()"
      ]
    },
    {
      "cell_type": "code",
      "execution_count": null,
      "id": "roPBNiWVv348",
      "metadata": {
        "id": "roPBNiWVv348"
      },
      "outputs": [],
      "source": [
        "for i in range(3):\n",
        "  f, ax = plt.subplots(figsize=(12,2))\n",
        "  res_taylor.smoothed_marginal_probabilities[i].plot(\n",
        "      label = f'{i}'\n",
        "  )\n",
        "  ax.set_title(f\"{i}th regime\")\n",
        "  plt.legend()\n",
        "  plt.show()"
      ]
    },
    {
      "cell_type": "code",
      "execution_count": null,
      "id": "HxsM6uR5Aszh",
      "metadata": {
        "id": "HxsM6uR5Aszh"
      },
      "outputs": [],
      "source": [
        "print(res_taylor.expected_durations)"
      ]
    },
    {
      "cell_type": "code",
      "execution_count": null,
      "id": "5fe6ca5b",
      "metadata": {
        "id": "5fe6ca5b"
      },
      "outputs": [],
      "source": [
        "print(res_taylor.expected_durations /12)"
      ]
    },
    {
      "cell_type": "markdown",
      "id": "71118271",
      "metadata": {
        "id": "71118271"
      },
      "source": [
        "## Using RNN Model"
      ]
    },
    {
      "cell_type": "markdown",
      "source": [
        "Making RNN model predicting BitCoin Data \n"
      ],
      "metadata": {
        "id": "ReDXoKJZcX8e"
      },
      "id": "ReDXoKJZcX8e"
    },
    {
      "cell_type": "code",
      "source": [
        "# https://docs.google.com/spreadsheets/d/164npbvm4g4I3noNGH_wDJe6tRgErkfwNUUbcktXf2LY/edit?usp=sharing\n",
        "# Import dataset\n",
        "response_btcoin = requests.get('https://docs.google.com/spreadsheets/d/164npbvm4g4I3noNGH_wDJe6tRgErkfwNUUbcktXf2LY/export?format=csv')\n",
        "assert response_btcoin.status_code == 200, 'Wrong status code'\n",
        "data = response_btcoin.content\n",
        "df_btcoin = pd.read_csv(BytesIO(data))\n",
        "print(df_btcoin.shape)\n",
        "\n",
        "#Convert to dataframe:\n",
        "df_btcoin['Date'] = pd.to_datetime(df_btcoin['Date'])\n",
        "\n",
        "#Check null value:\n",
        "df_btcoin['Date'].isna().sum()"
      ],
      "metadata": {
        "colab": {
          "base_uri": "https://localhost:8080/"
        },
        "id": "zwXy-bqQWyuI",
        "outputId": "ebf6304f-9956-457c-8e5e-e74bb75a5fc1"
      },
      "id": "zwXy-bqQWyuI",
      "execution_count": null,
      "outputs": [
        {
          "output_type": "stream",
          "name": "stdout",
          "text": [
            "(1803, 6)\n"
          ]
        },
        {
          "output_type": "execute_result",
          "data": {
            "text/plain": [
              "0"
            ]
          },
          "metadata": {},
          "execution_count": 30
        }
      ]
    },
    {
      "cell_type": "code",
      "source": [
        "#Resample df by daily\n",
        "daily_btc = df_btcoin.resample('D', label='right', \n",
        "                            closed='right', on='Date').sum().reset_index().sort_values(by='Date')"
      ],
      "metadata": {
        "id": "2yo7Lz-xX0ga"
      },
      "id": "2yo7Lz-xX0ga",
      "execution_count": null,
      "outputs": []
    },
    {
      "cell_type": "code",
      "source": [
        "daily_btc.head()"
      ],
      "metadata": {
        "colab": {
          "base_uri": "https://localhost:8080/",
          "height": 206
        },
        "id": "i_LLzcgAXlPM",
        "outputId": "82d7f7d9-31e6-425c-99ae-a97f679b1082"
      },
      "id": "i_LLzcgAXlPM",
      "execution_count": null,
      "outputs": [
        {
          "output_type": "execute_result",
          "data": {
            "text/plain": [
              "        Date  Open  High  Low     Close  Volume\n",
              "0 2018-01-02   0.0   0.0  0.0  13480.01     0.0\n",
              "1 2018-01-03   0.0   0.0  0.0  14781.51     0.0\n",
              "2 2018-01-04   0.0   0.0  0.0  15098.14     0.0\n",
              "3 2018-01-05   0.0   0.0  0.0  15144.99     0.0\n",
              "4 2018-01-06   0.0   0.0  0.0  16960.01     0.0"
            ],
            "text/html": [
              "\n",
              "  <div id=\"df-94432bc2-4ac1-4929-b3e2-f1eee67a740a\">\n",
              "    <div class=\"colab-df-container\">\n",
              "      <div>\n",
              "<style scoped>\n",
              "    .dataframe tbody tr th:only-of-type {\n",
              "        vertical-align: middle;\n",
              "    }\n",
              "\n",
              "    .dataframe tbody tr th {\n",
              "        vertical-align: top;\n",
              "    }\n",
              "\n",
              "    .dataframe thead th {\n",
              "        text-align: right;\n",
              "    }\n",
              "</style>\n",
              "<table border=\"1\" class=\"dataframe\">\n",
              "  <thead>\n",
              "    <tr style=\"text-align: right;\">\n",
              "      <th></th>\n",
              "      <th>Date</th>\n",
              "      <th>Open</th>\n",
              "      <th>High</th>\n",
              "      <th>Low</th>\n",
              "      <th>Close</th>\n",
              "      <th>Volume</th>\n",
              "    </tr>\n",
              "  </thead>\n",
              "  <tbody>\n",
              "    <tr>\n",
              "      <th>0</th>\n",
              "      <td>2018-01-02</td>\n",
              "      <td>0.0</td>\n",
              "      <td>0.0</td>\n",
              "      <td>0.0</td>\n",
              "      <td>13480.01</td>\n",
              "      <td>0.0</td>\n",
              "    </tr>\n",
              "    <tr>\n",
              "      <th>1</th>\n",
              "      <td>2018-01-03</td>\n",
              "      <td>0.0</td>\n",
              "      <td>0.0</td>\n",
              "      <td>0.0</td>\n",
              "      <td>14781.51</td>\n",
              "      <td>0.0</td>\n",
              "    </tr>\n",
              "    <tr>\n",
              "      <th>2</th>\n",
              "      <td>2018-01-04</td>\n",
              "      <td>0.0</td>\n",
              "      <td>0.0</td>\n",
              "      <td>0.0</td>\n",
              "      <td>15098.14</td>\n",
              "      <td>0.0</td>\n",
              "    </tr>\n",
              "    <tr>\n",
              "      <th>3</th>\n",
              "      <td>2018-01-05</td>\n",
              "      <td>0.0</td>\n",
              "      <td>0.0</td>\n",
              "      <td>0.0</td>\n",
              "      <td>15144.99</td>\n",
              "      <td>0.0</td>\n",
              "    </tr>\n",
              "    <tr>\n",
              "      <th>4</th>\n",
              "      <td>2018-01-06</td>\n",
              "      <td>0.0</td>\n",
              "      <td>0.0</td>\n",
              "      <td>0.0</td>\n",
              "      <td>16960.01</td>\n",
              "      <td>0.0</td>\n",
              "    </tr>\n",
              "  </tbody>\n",
              "</table>\n",
              "</div>\n",
              "      <button class=\"colab-df-convert\" onclick=\"convertToInteractive('df-94432bc2-4ac1-4929-b3e2-f1eee67a740a')\"\n",
              "              title=\"Convert this dataframe to an interactive table.\"\n",
              "              style=\"display:none;\">\n",
              "        \n",
              "  <svg xmlns=\"http://www.w3.org/2000/svg\" height=\"24px\"viewBox=\"0 0 24 24\"\n",
              "       width=\"24px\">\n",
              "    <path d=\"M0 0h24v24H0V0z\" fill=\"none\"/>\n",
              "    <path d=\"M18.56 5.44l.94 2.06.94-2.06 2.06-.94-2.06-.94-.94-2.06-.94 2.06-2.06.94zm-11 1L8.5 8.5l.94-2.06 2.06-.94-2.06-.94L8.5 2.5l-.94 2.06-2.06.94zm10 10l.94 2.06.94-2.06 2.06-.94-2.06-.94-.94-2.06-.94 2.06-2.06.94z\"/><path d=\"M17.41 7.96l-1.37-1.37c-.4-.4-.92-.59-1.43-.59-.52 0-1.04.2-1.43.59L10.3 9.45l-7.72 7.72c-.78.78-.78 2.05 0 2.83L4 21.41c.39.39.9.59 1.41.59.51 0 1.02-.2 1.41-.59l7.78-7.78 2.81-2.81c.8-.78.8-2.07 0-2.86zM5.41 20L4 18.59l7.72-7.72 1.47 1.35L5.41 20z\"/>\n",
              "  </svg>\n",
              "      </button>\n",
              "      \n",
              "  <style>\n",
              "    .colab-df-container {\n",
              "      display:flex;\n",
              "      flex-wrap:wrap;\n",
              "      gap: 12px;\n",
              "    }\n",
              "\n",
              "    .colab-df-convert {\n",
              "      background-color: #E8F0FE;\n",
              "      border: none;\n",
              "      border-radius: 50%;\n",
              "      cursor: pointer;\n",
              "      display: none;\n",
              "      fill: #1967D2;\n",
              "      height: 32px;\n",
              "      padding: 0 0 0 0;\n",
              "      width: 32px;\n",
              "    }\n",
              "\n",
              "    .colab-df-convert:hover {\n",
              "      background-color: #E2EBFA;\n",
              "      box-shadow: 0px 1px 2px rgba(60, 64, 67, 0.3), 0px 1px 3px 1px rgba(60, 64, 67, 0.15);\n",
              "      fill: #174EA6;\n",
              "    }\n",
              "\n",
              "    [theme=dark] .colab-df-convert {\n",
              "      background-color: #3B4455;\n",
              "      fill: #D2E3FC;\n",
              "    }\n",
              "\n",
              "    [theme=dark] .colab-df-convert:hover {\n",
              "      background-color: #434B5C;\n",
              "      box-shadow: 0px 1px 3px 1px rgba(0, 0, 0, 0.15);\n",
              "      filter: drop-shadow(0px 1px 2px rgba(0, 0, 0, 0.3));\n",
              "      fill: #FFFFFF;\n",
              "    }\n",
              "  </style>\n",
              "\n",
              "      <script>\n",
              "        const buttonEl =\n",
              "          document.querySelector('#df-94432bc2-4ac1-4929-b3e2-f1eee67a740a button.colab-df-convert');\n",
              "        buttonEl.style.display =\n",
              "          google.colab.kernel.accessAllowed ? 'block' : 'none';\n",
              "\n",
              "        async function convertToInteractive(key) {\n",
              "          const element = document.querySelector('#df-94432bc2-4ac1-4929-b3e2-f1eee67a740a');\n",
              "          const dataTable =\n",
              "            await google.colab.kernel.invokeFunction('convertToInteractive',\n",
              "                                                     [key], {});\n",
              "          if (!dataTable) return;\n",
              "\n",
              "          const docLinkHtml = 'Like what you see? Visit the ' +\n",
              "            '<a target=\"_blank\" href=https://colab.research.google.com/notebooks/data_table.ipynb>data table notebook</a>'\n",
              "            + ' to learn more about interactive tables.';\n",
              "          element.innerHTML = '';\n",
              "          dataTable['output_type'] = 'display_data';\n",
              "          await google.colab.output.renderOutput(dataTable, element);\n",
              "          const docLink = document.createElement('div');\n",
              "          docLink.innerHTML = docLinkHtml;\n",
              "          element.appendChild(docLink);\n",
              "        }\n",
              "      </script>\n",
              "    </div>\n",
              "  </div>\n",
              "  "
            ]
          },
          "metadata": {},
          "execution_count": 32
        }
      ]
    },
    {
      "cell_type": "code",
      "source": [
        "#trim the df\n",
        "trimed_df = daily_btc[['Date', 'Close']]\n",
        "trimed_df"
      ],
      "metadata": {
        "colab": {
          "base_uri": "https://localhost:8080/",
          "height": 424
        },
        "id": "Q5DuXlboYmy-",
        "outputId": "cc8ad0a6-9cda-4619-9d02-7a5d6cc96107"
      },
      "id": "Q5DuXlboYmy-",
      "execution_count": null,
      "outputs": [
        {
          "output_type": "execute_result",
          "data": {
            "text/plain": [
              "           Date     Close\n",
              "0    2018-01-02  13480.01\n",
              "1    2018-01-03  14781.51\n",
              "2    2018-01-04  15098.14\n",
              "3    2018-01-05  15144.99\n",
              "4    2018-01-06  16960.01\n",
              "...         ...       ...\n",
              "1798 2022-12-05  17131.40\n",
              "1799 2022-12-06  16964.90\n",
              "1800 2022-12-07  17087.80\n",
              "1801 2022-12-08  16841.10\n",
              "1802 2022-12-09  17253.20\n",
              "\n",
              "[1803 rows x 2 columns]"
            ],
            "text/html": [
              "\n",
              "  <div id=\"df-0708deae-7aa8-4a37-b415-76b01b8397f7\">\n",
              "    <div class=\"colab-df-container\">\n",
              "      <div>\n",
              "<style scoped>\n",
              "    .dataframe tbody tr th:only-of-type {\n",
              "        vertical-align: middle;\n",
              "    }\n",
              "\n",
              "    .dataframe tbody tr th {\n",
              "        vertical-align: top;\n",
              "    }\n",
              "\n",
              "    .dataframe thead th {\n",
              "        text-align: right;\n",
              "    }\n",
              "</style>\n",
              "<table border=\"1\" class=\"dataframe\">\n",
              "  <thead>\n",
              "    <tr style=\"text-align: right;\">\n",
              "      <th></th>\n",
              "      <th>Date</th>\n",
              "      <th>Close</th>\n",
              "    </tr>\n",
              "  </thead>\n",
              "  <tbody>\n",
              "    <tr>\n",
              "      <th>0</th>\n",
              "      <td>2018-01-02</td>\n",
              "      <td>13480.01</td>\n",
              "    </tr>\n",
              "    <tr>\n",
              "      <th>1</th>\n",
              "      <td>2018-01-03</td>\n",
              "      <td>14781.51</td>\n",
              "    </tr>\n",
              "    <tr>\n",
              "      <th>2</th>\n",
              "      <td>2018-01-04</td>\n",
              "      <td>15098.14</td>\n",
              "    </tr>\n",
              "    <tr>\n",
              "      <th>3</th>\n",
              "      <td>2018-01-05</td>\n",
              "      <td>15144.99</td>\n",
              "    </tr>\n",
              "    <tr>\n",
              "      <th>4</th>\n",
              "      <td>2018-01-06</td>\n",
              "      <td>16960.01</td>\n",
              "    </tr>\n",
              "    <tr>\n",
              "      <th>...</th>\n",
              "      <td>...</td>\n",
              "      <td>...</td>\n",
              "    </tr>\n",
              "    <tr>\n",
              "      <th>1798</th>\n",
              "      <td>2022-12-05</td>\n",
              "      <td>17131.40</td>\n",
              "    </tr>\n",
              "    <tr>\n",
              "      <th>1799</th>\n",
              "      <td>2022-12-06</td>\n",
              "      <td>16964.90</td>\n",
              "    </tr>\n",
              "    <tr>\n",
              "      <th>1800</th>\n",
              "      <td>2022-12-07</td>\n",
              "      <td>17087.80</td>\n",
              "    </tr>\n",
              "    <tr>\n",
              "      <th>1801</th>\n",
              "      <td>2022-12-08</td>\n",
              "      <td>16841.10</td>\n",
              "    </tr>\n",
              "    <tr>\n",
              "      <th>1802</th>\n",
              "      <td>2022-12-09</td>\n",
              "      <td>17253.20</td>\n",
              "    </tr>\n",
              "  </tbody>\n",
              "</table>\n",
              "<p>1803 rows × 2 columns</p>\n",
              "</div>\n",
              "      <button class=\"colab-df-convert\" onclick=\"convertToInteractive('df-0708deae-7aa8-4a37-b415-76b01b8397f7')\"\n",
              "              title=\"Convert this dataframe to an interactive table.\"\n",
              "              style=\"display:none;\">\n",
              "        \n",
              "  <svg xmlns=\"http://www.w3.org/2000/svg\" height=\"24px\"viewBox=\"0 0 24 24\"\n",
              "       width=\"24px\">\n",
              "    <path d=\"M0 0h24v24H0V0z\" fill=\"none\"/>\n",
              "    <path d=\"M18.56 5.44l.94 2.06.94-2.06 2.06-.94-2.06-.94-.94-2.06-.94 2.06-2.06.94zm-11 1L8.5 8.5l.94-2.06 2.06-.94-2.06-.94L8.5 2.5l-.94 2.06-2.06.94zm10 10l.94 2.06.94-2.06 2.06-.94-2.06-.94-.94-2.06-.94 2.06-2.06.94z\"/><path d=\"M17.41 7.96l-1.37-1.37c-.4-.4-.92-.59-1.43-.59-.52 0-1.04.2-1.43.59L10.3 9.45l-7.72 7.72c-.78.78-.78 2.05 0 2.83L4 21.41c.39.39.9.59 1.41.59.51 0 1.02-.2 1.41-.59l7.78-7.78 2.81-2.81c.8-.78.8-2.07 0-2.86zM5.41 20L4 18.59l7.72-7.72 1.47 1.35L5.41 20z\"/>\n",
              "  </svg>\n",
              "      </button>\n",
              "      \n",
              "  <style>\n",
              "    .colab-df-container {\n",
              "      display:flex;\n",
              "      flex-wrap:wrap;\n",
              "      gap: 12px;\n",
              "    }\n",
              "\n",
              "    .colab-df-convert {\n",
              "      background-color: #E8F0FE;\n",
              "      border: none;\n",
              "      border-radius: 50%;\n",
              "      cursor: pointer;\n",
              "      display: none;\n",
              "      fill: #1967D2;\n",
              "      height: 32px;\n",
              "      padding: 0 0 0 0;\n",
              "      width: 32px;\n",
              "    }\n",
              "\n",
              "    .colab-df-convert:hover {\n",
              "      background-color: #E2EBFA;\n",
              "      box-shadow: 0px 1px 2px rgba(60, 64, 67, 0.3), 0px 1px 3px 1px rgba(60, 64, 67, 0.15);\n",
              "      fill: #174EA6;\n",
              "    }\n",
              "\n",
              "    [theme=dark] .colab-df-convert {\n",
              "      background-color: #3B4455;\n",
              "      fill: #D2E3FC;\n",
              "    }\n",
              "\n",
              "    [theme=dark] .colab-df-convert:hover {\n",
              "      background-color: #434B5C;\n",
              "      box-shadow: 0px 1px 3px 1px rgba(0, 0, 0, 0.15);\n",
              "      filter: drop-shadow(0px 1px 2px rgba(0, 0, 0, 0.3));\n",
              "      fill: #FFFFFF;\n",
              "    }\n",
              "  </style>\n",
              "\n",
              "      <script>\n",
              "        const buttonEl =\n",
              "          document.querySelector('#df-0708deae-7aa8-4a37-b415-76b01b8397f7 button.colab-df-convert');\n",
              "        buttonEl.style.display =\n",
              "          google.colab.kernel.accessAllowed ? 'block' : 'none';\n",
              "\n",
              "        async function convertToInteractive(key) {\n",
              "          const element = document.querySelector('#df-0708deae-7aa8-4a37-b415-76b01b8397f7');\n",
              "          const dataTable =\n",
              "            await google.colab.kernel.invokeFunction('convertToInteractive',\n",
              "                                                     [key], {});\n",
              "          if (!dataTable) return;\n",
              "\n",
              "          const docLinkHtml = 'Like what you see? Visit the ' +\n",
              "            '<a target=\"_blank\" href=https://colab.research.google.com/notebooks/data_table.ipynb>data table notebook</a>'\n",
              "            + ' to learn more about interactive tables.';\n",
              "          element.innerHTML = '';\n",
              "          dataTable['output_type'] = 'display_data';\n",
              "          await google.colab.output.renderOutput(dataTable, element);\n",
              "          const docLink = document.createElement('div');\n",
              "          docLink.innerHTML = docLinkHtml;\n",
              "          element.appendChild(docLink);\n",
              "        }\n",
              "      </script>\n",
              "    </div>\n",
              "  </div>\n",
              "  "
            ]
          },
          "metadata": {},
          "execution_count": 33
        }
      ]
    },
    {
      "cell_type": "code",
      "source": [
        "#Splitting dataset with test vs (train + validation)\n",
        "size = len(trimed_df)\n",
        "split_test = 0.1\n",
        "test_size = int( size * 0.1)\n",
        "print(test_size)\n",
        "print(test_size*2)"
      ],
      "metadata": {
        "colab": {
          "base_uri": "https://localhost:8080/"
        },
        "id": "y6G4IhheZf-K",
        "outputId": "84333e9f-618e-4346-ad59-83e7bf7e5fab"
      },
      "id": "y6G4IhheZf-K",
      "execution_count": null,
      "outputs": [
        {
          "output_type": "stream",
          "name": "stdout",
          "text": [
            "180\n",
            "360\n"
          ]
        }
      ]
    },
    {
      "cell_type": "code",
      "source": [
        "train = trimed_df[:size-(test_size)*2]\n",
        "train"
      ],
      "metadata": {
        "colab": {
          "base_uri": "https://localhost:8080/",
          "height": 424
        },
        "id": "xuLnoYJwcIb0",
        "outputId": "d0076685-67bb-49b8-b367-f85a7d770a96"
      },
      "id": "xuLnoYJwcIb0",
      "execution_count": null,
      "outputs": [
        {
          "output_type": "execute_result",
          "data": {
            "text/plain": [
              "           Date     Close\n",
              "0    2018-01-02  13480.01\n",
              "1    2018-01-03  14781.51\n",
              "2    2018-01-04  15098.14\n",
              "3    2018-01-05  15144.99\n",
              "4    2018-01-06  16960.01\n",
              "...         ...       ...\n",
              "1438 2021-12-10  47824.30\n",
              "1439 2021-12-11  46968.50\n",
              "1440 2021-12-12  49343.10\n",
              "1441 2021-12-13  50149.20\n",
              "1442 2021-12-14  46812.10\n",
              "\n",
              "[1443 rows x 2 columns]"
            ],
            "text/html": [
              "\n",
              "  <div id=\"df-abe57a7b-3963-4e00-b44e-b4805ee3fec8\">\n",
              "    <div class=\"colab-df-container\">\n",
              "      <div>\n",
              "<style scoped>\n",
              "    .dataframe tbody tr th:only-of-type {\n",
              "        vertical-align: middle;\n",
              "    }\n",
              "\n",
              "    .dataframe tbody tr th {\n",
              "        vertical-align: top;\n",
              "    }\n",
              "\n",
              "    .dataframe thead th {\n",
              "        text-align: right;\n",
              "    }\n",
              "</style>\n",
              "<table border=\"1\" class=\"dataframe\">\n",
              "  <thead>\n",
              "    <tr style=\"text-align: right;\">\n",
              "      <th></th>\n",
              "      <th>Date</th>\n",
              "      <th>Close</th>\n",
              "    </tr>\n",
              "  </thead>\n",
              "  <tbody>\n",
              "    <tr>\n",
              "      <th>0</th>\n",
              "      <td>2018-01-02</td>\n",
              "      <td>13480.01</td>\n",
              "    </tr>\n",
              "    <tr>\n",
              "      <th>1</th>\n",
              "      <td>2018-01-03</td>\n",
              "      <td>14781.51</td>\n",
              "    </tr>\n",
              "    <tr>\n",
              "      <th>2</th>\n",
              "      <td>2018-01-04</td>\n",
              "      <td>15098.14</td>\n",
              "    </tr>\n",
              "    <tr>\n",
              "      <th>3</th>\n",
              "      <td>2018-01-05</td>\n",
              "      <td>15144.99</td>\n",
              "    </tr>\n",
              "    <tr>\n",
              "      <th>4</th>\n",
              "      <td>2018-01-06</td>\n",
              "      <td>16960.01</td>\n",
              "    </tr>\n",
              "    <tr>\n",
              "      <th>...</th>\n",
              "      <td>...</td>\n",
              "      <td>...</td>\n",
              "    </tr>\n",
              "    <tr>\n",
              "      <th>1438</th>\n",
              "      <td>2021-12-10</td>\n",
              "      <td>47824.30</td>\n",
              "    </tr>\n",
              "    <tr>\n",
              "      <th>1439</th>\n",
              "      <td>2021-12-11</td>\n",
              "      <td>46968.50</td>\n",
              "    </tr>\n",
              "    <tr>\n",
              "      <th>1440</th>\n",
              "      <td>2021-12-12</td>\n",
              "      <td>49343.10</td>\n",
              "    </tr>\n",
              "    <tr>\n",
              "      <th>1441</th>\n",
              "      <td>2021-12-13</td>\n",
              "      <td>50149.20</td>\n",
              "    </tr>\n",
              "    <tr>\n",
              "      <th>1442</th>\n",
              "      <td>2021-12-14</td>\n",
              "      <td>46812.10</td>\n",
              "    </tr>\n",
              "  </tbody>\n",
              "</table>\n",
              "<p>1443 rows × 2 columns</p>\n",
              "</div>\n",
              "      <button class=\"colab-df-convert\" onclick=\"convertToInteractive('df-abe57a7b-3963-4e00-b44e-b4805ee3fec8')\"\n",
              "              title=\"Convert this dataframe to an interactive table.\"\n",
              "              style=\"display:none;\">\n",
              "        \n",
              "  <svg xmlns=\"http://www.w3.org/2000/svg\" height=\"24px\"viewBox=\"0 0 24 24\"\n",
              "       width=\"24px\">\n",
              "    <path d=\"M0 0h24v24H0V0z\" fill=\"none\"/>\n",
              "    <path d=\"M18.56 5.44l.94 2.06.94-2.06 2.06-.94-2.06-.94-.94-2.06-.94 2.06-2.06.94zm-11 1L8.5 8.5l.94-2.06 2.06-.94-2.06-.94L8.5 2.5l-.94 2.06-2.06.94zm10 10l.94 2.06.94-2.06 2.06-.94-2.06-.94-.94-2.06-.94 2.06-2.06.94z\"/><path d=\"M17.41 7.96l-1.37-1.37c-.4-.4-.92-.59-1.43-.59-.52 0-1.04.2-1.43.59L10.3 9.45l-7.72 7.72c-.78.78-.78 2.05 0 2.83L4 21.41c.39.39.9.59 1.41.59.51 0 1.02-.2 1.41-.59l7.78-7.78 2.81-2.81c.8-.78.8-2.07 0-2.86zM5.41 20L4 18.59l7.72-7.72 1.47 1.35L5.41 20z\"/>\n",
              "  </svg>\n",
              "      </button>\n",
              "      \n",
              "  <style>\n",
              "    .colab-df-container {\n",
              "      display:flex;\n",
              "      flex-wrap:wrap;\n",
              "      gap: 12px;\n",
              "    }\n",
              "\n",
              "    .colab-df-convert {\n",
              "      background-color: #E8F0FE;\n",
              "      border: none;\n",
              "      border-radius: 50%;\n",
              "      cursor: pointer;\n",
              "      display: none;\n",
              "      fill: #1967D2;\n",
              "      height: 32px;\n",
              "      padding: 0 0 0 0;\n",
              "      width: 32px;\n",
              "    }\n",
              "\n",
              "    .colab-df-convert:hover {\n",
              "      background-color: #E2EBFA;\n",
              "      box-shadow: 0px 1px 2px rgba(60, 64, 67, 0.3), 0px 1px 3px 1px rgba(60, 64, 67, 0.15);\n",
              "      fill: #174EA6;\n",
              "    }\n",
              "\n",
              "    [theme=dark] .colab-df-convert {\n",
              "      background-color: #3B4455;\n",
              "      fill: #D2E3FC;\n",
              "    }\n",
              "\n",
              "    [theme=dark] .colab-df-convert:hover {\n",
              "      background-color: #434B5C;\n",
              "      box-shadow: 0px 1px 3px 1px rgba(0, 0, 0, 0.15);\n",
              "      filter: drop-shadow(0px 1px 2px rgba(0, 0, 0, 0.3));\n",
              "      fill: #FFFFFF;\n",
              "    }\n",
              "  </style>\n",
              "\n",
              "      <script>\n",
              "        const buttonEl =\n",
              "          document.querySelector('#df-abe57a7b-3963-4e00-b44e-b4805ee3fec8 button.colab-df-convert');\n",
              "        buttonEl.style.display =\n",
              "          google.colab.kernel.accessAllowed ? 'block' : 'none';\n",
              "\n",
              "        async function convertToInteractive(key) {\n",
              "          const element = document.querySelector('#df-abe57a7b-3963-4e00-b44e-b4805ee3fec8');\n",
              "          const dataTable =\n",
              "            await google.colab.kernel.invokeFunction('convertToInteractive',\n",
              "                                                     [key], {});\n",
              "          if (!dataTable) return;\n",
              "\n",
              "          const docLinkHtml = 'Like what you see? Visit the ' +\n",
              "            '<a target=\"_blank\" href=https://colab.research.google.com/notebooks/data_table.ipynb>data table notebook</a>'\n",
              "            + ' to learn more about interactive tables.';\n",
              "          element.innerHTML = '';\n",
              "          dataTable['output_type'] = 'display_data';\n",
              "          await google.colab.output.renderOutput(dataTable, element);\n",
              "          const docLink = document.createElement('div');\n",
              "          docLink.innerHTML = docLinkHtml;\n",
              "          element.appendChild(docLink);\n",
              "        }\n",
              "      </script>\n",
              "    </div>\n",
              "  </div>\n",
              "  "
            ]
          },
          "metadata": {},
          "execution_count": 35
        }
      ]
    },
    {
      "cell_type": "code",
      "source": [
        "valid = trimed_df[size-(test_size)*2:size-(test_size)]\n",
        "valid"
      ],
      "metadata": {
        "colab": {
          "base_uri": "https://localhost:8080/",
          "height": 424
        },
        "id": "v8AIMQc_coUQ",
        "outputId": "77a5b46e-c27a-49fa-bf34-a7433203031c"
      },
      "id": "v8AIMQc_coUQ",
      "execution_count": null,
      "outputs": [
        {
          "output_type": "execute_result",
          "data": {
            "text/plain": [
              "           Date    Close\n",
              "1443 2021-12-15  48392.0\n",
              "1444 2021-12-16  48884.7\n",
              "1445 2021-12-17  47634.2\n",
              "1446 2021-12-18  46155.3\n",
              "1447 2021-12-19  46928.3\n",
              "...         ...      ...\n",
              "1618 2022-06-08  31148.3\n",
              "1619 2022-06-09  30177.0\n",
              "1620 2022-06-10  30079.6\n",
              "1621 2022-06-11  29063.1\n",
              "1622 2022-06-12  28356.8\n",
              "\n",
              "[180 rows x 2 columns]"
            ],
            "text/html": [
              "\n",
              "  <div id=\"df-11493c85-7d02-422f-949a-d4deb5276481\">\n",
              "    <div class=\"colab-df-container\">\n",
              "      <div>\n",
              "<style scoped>\n",
              "    .dataframe tbody tr th:only-of-type {\n",
              "        vertical-align: middle;\n",
              "    }\n",
              "\n",
              "    .dataframe tbody tr th {\n",
              "        vertical-align: top;\n",
              "    }\n",
              "\n",
              "    .dataframe thead th {\n",
              "        text-align: right;\n",
              "    }\n",
              "</style>\n",
              "<table border=\"1\" class=\"dataframe\">\n",
              "  <thead>\n",
              "    <tr style=\"text-align: right;\">\n",
              "      <th></th>\n",
              "      <th>Date</th>\n",
              "      <th>Close</th>\n",
              "    </tr>\n",
              "  </thead>\n",
              "  <tbody>\n",
              "    <tr>\n",
              "      <th>1443</th>\n",
              "      <td>2021-12-15</td>\n",
              "      <td>48392.0</td>\n",
              "    </tr>\n",
              "    <tr>\n",
              "      <th>1444</th>\n",
              "      <td>2021-12-16</td>\n",
              "      <td>48884.7</td>\n",
              "    </tr>\n",
              "    <tr>\n",
              "      <th>1445</th>\n",
              "      <td>2021-12-17</td>\n",
              "      <td>47634.2</td>\n",
              "    </tr>\n",
              "    <tr>\n",
              "      <th>1446</th>\n",
              "      <td>2021-12-18</td>\n",
              "      <td>46155.3</td>\n",
              "    </tr>\n",
              "    <tr>\n",
              "      <th>1447</th>\n",
              "      <td>2021-12-19</td>\n",
              "      <td>46928.3</td>\n",
              "    </tr>\n",
              "    <tr>\n",
              "      <th>...</th>\n",
              "      <td>...</td>\n",
              "      <td>...</td>\n",
              "    </tr>\n",
              "    <tr>\n",
              "      <th>1618</th>\n",
              "      <td>2022-06-08</td>\n",
              "      <td>31148.3</td>\n",
              "    </tr>\n",
              "    <tr>\n",
              "      <th>1619</th>\n",
              "      <td>2022-06-09</td>\n",
              "      <td>30177.0</td>\n",
              "    </tr>\n",
              "    <tr>\n",
              "      <th>1620</th>\n",
              "      <td>2022-06-10</td>\n",
              "      <td>30079.6</td>\n",
              "    </tr>\n",
              "    <tr>\n",
              "      <th>1621</th>\n",
              "      <td>2022-06-11</td>\n",
              "      <td>29063.1</td>\n",
              "    </tr>\n",
              "    <tr>\n",
              "      <th>1622</th>\n",
              "      <td>2022-06-12</td>\n",
              "      <td>28356.8</td>\n",
              "    </tr>\n",
              "  </tbody>\n",
              "</table>\n",
              "<p>180 rows × 2 columns</p>\n",
              "</div>\n",
              "      <button class=\"colab-df-convert\" onclick=\"convertToInteractive('df-11493c85-7d02-422f-949a-d4deb5276481')\"\n",
              "              title=\"Convert this dataframe to an interactive table.\"\n",
              "              style=\"display:none;\">\n",
              "        \n",
              "  <svg xmlns=\"http://www.w3.org/2000/svg\" height=\"24px\"viewBox=\"0 0 24 24\"\n",
              "       width=\"24px\">\n",
              "    <path d=\"M0 0h24v24H0V0z\" fill=\"none\"/>\n",
              "    <path d=\"M18.56 5.44l.94 2.06.94-2.06 2.06-.94-2.06-.94-.94-2.06-.94 2.06-2.06.94zm-11 1L8.5 8.5l.94-2.06 2.06-.94-2.06-.94L8.5 2.5l-.94 2.06-2.06.94zm10 10l.94 2.06.94-2.06 2.06-.94-2.06-.94-.94-2.06-.94 2.06-2.06.94z\"/><path d=\"M17.41 7.96l-1.37-1.37c-.4-.4-.92-.59-1.43-.59-.52 0-1.04.2-1.43.59L10.3 9.45l-7.72 7.72c-.78.78-.78 2.05 0 2.83L4 21.41c.39.39.9.59 1.41.59.51 0 1.02-.2 1.41-.59l7.78-7.78 2.81-2.81c.8-.78.8-2.07 0-2.86zM5.41 20L4 18.59l7.72-7.72 1.47 1.35L5.41 20z\"/>\n",
              "  </svg>\n",
              "      </button>\n",
              "      \n",
              "  <style>\n",
              "    .colab-df-container {\n",
              "      display:flex;\n",
              "      flex-wrap:wrap;\n",
              "      gap: 12px;\n",
              "    }\n",
              "\n",
              "    .colab-df-convert {\n",
              "      background-color: #E8F0FE;\n",
              "      border: none;\n",
              "      border-radius: 50%;\n",
              "      cursor: pointer;\n",
              "      display: none;\n",
              "      fill: #1967D2;\n",
              "      height: 32px;\n",
              "      padding: 0 0 0 0;\n",
              "      width: 32px;\n",
              "    }\n",
              "\n",
              "    .colab-df-convert:hover {\n",
              "      background-color: #E2EBFA;\n",
              "      box-shadow: 0px 1px 2px rgba(60, 64, 67, 0.3), 0px 1px 3px 1px rgba(60, 64, 67, 0.15);\n",
              "      fill: #174EA6;\n",
              "    }\n",
              "\n",
              "    [theme=dark] .colab-df-convert {\n",
              "      background-color: #3B4455;\n",
              "      fill: #D2E3FC;\n",
              "    }\n",
              "\n",
              "    [theme=dark] .colab-df-convert:hover {\n",
              "      background-color: #434B5C;\n",
              "      box-shadow: 0px 1px 3px 1px rgba(0, 0, 0, 0.15);\n",
              "      filter: drop-shadow(0px 1px 2px rgba(0, 0, 0, 0.3));\n",
              "      fill: #FFFFFF;\n",
              "    }\n",
              "  </style>\n",
              "\n",
              "      <script>\n",
              "        const buttonEl =\n",
              "          document.querySelector('#df-11493c85-7d02-422f-949a-d4deb5276481 button.colab-df-convert');\n",
              "        buttonEl.style.display =\n",
              "          google.colab.kernel.accessAllowed ? 'block' : 'none';\n",
              "\n",
              "        async function convertToInteractive(key) {\n",
              "          const element = document.querySelector('#df-11493c85-7d02-422f-949a-d4deb5276481');\n",
              "          const dataTable =\n",
              "            await google.colab.kernel.invokeFunction('convertToInteractive',\n",
              "                                                     [key], {});\n",
              "          if (!dataTable) return;\n",
              "\n",
              "          const docLinkHtml = 'Like what you see? Visit the ' +\n",
              "            '<a target=\"_blank\" href=https://colab.research.google.com/notebooks/data_table.ipynb>data table notebook</a>'\n",
              "            + ' to learn more about interactive tables.';\n",
              "          element.innerHTML = '';\n",
              "          dataTable['output_type'] = 'display_data';\n",
              "          await google.colab.output.renderOutput(dataTable, element);\n",
              "          const docLink = document.createElement('div');\n",
              "          docLink.innerHTML = docLinkHtml;\n",
              "          element.appendChild(docLink);\n",
              "        }\n",
              "      </script>\n",
              "    </div>\n",
              "  </div>\n",
              "  "
            ]
          },
          "metadata": {},
          "execution_count": 36
        }
      ]
    },
    {
      "cell_type": "code",
      "source": [
        "test = trimed_df[size-(test_size):]\n",
        "test"
      ],
      "metadata": {
        "colab": {
          "base_uri": "https://localhost:8080/",
          "height": 424
        },
        "id": "uNRHGN7HdPPT",
        "outputId": "3c1702ef-6a1a-4cb9-b1b8-b252e54b96c2"
      },
      "id": "uNRHGN7HdPPT",
      "execution_count": null,
      "outputs": [
        {
          "output_type": "execute_result",
          "data": {
            "text/plain": [
              "           Date    Close\n",
              "1623 2022-06-13  26555.0\n",
              "1624 2022-06-14  22494.3\n",
              "1625 2022-06-15  22120.2\n",
              "1626 2022-06-16  22562.3\n",
              "1627 2022-06-17  20369.9\n",
              "...         ...      ...\n",
              "1798 2022-12-05  17131.4\n",
              "1799 2022-12-06  16964.9\n",
              "1800 2022-12-07  17087.8\n",
              "1801 2022-12-08  16841.1\n",
              "1802 2022-12-09  17253.2\n",
              "\n",
              "[180 rows x 2 columns]"
            ],
            "text/html": [
              "\n",
              "  <div id=\"df-7c1a5f30-b407-4871-b890-11eff92a6908\">\n",
              "    <div class=\"colab-df-container\">\n",
              "      <div>\n",
              "<style scoped>\n",
              "    .dataframe tbody tr th:only-of-type {\n",
              "        vertical-align: middle;\n",
              "    }\n",
              "\n",
              "    .dataframe tbody tr th {\n",
              "        vertical-align: top;\n",
              "    }\n",
              "\n",
              "    .dataframe thead th {\n",
              "        text-align: right;\n",
              "    }\n",
              "</style>\n",
              "<table border=\"1\" class=\"dataframe\">\n",
              "  <thead>\n",
              "    <tr style=\"text-align: right;\">\n",
              "      <th></th>\n",
              "      <th>Date</th>\n",
              "      <th>Close</th>\n",
              "    </tr>\n",
              "  </thead>\n",
              "  <tbody>\n",
              "    <tr>\n",
              "      <th>1623</th>\n",
              "      <td>2022-06-13</td>\n",
              "      <td>26555.0</td>\n",
              "    </tr>\n",
              "    <tr>\n",
              "      <th>1624</th>\n",
              "      <td>2022-06-14</td>\n",
              "      <td>22494.3</td>\n",
              "    </tr>\n",
              "    <tr>\n",
              "      <th>1625</th>\n",
              "      <td>2022-06-15</td>\n",
              "      <td>22120.2</td>\n",
              "    </tr>\n",
              "    <tr>\n",
              "      <th>1626</th>\n",
              "      <td>2022-06-16</td>\n",
              "      <td>22562.3</td>\n",
              "    </tr>\n",
              "    <tr>\n",
              "      <th>1627</th>\n",
              "      <td>2022-06-17</td>\n",
              "      <td>20369.9</td>\n",
              "    </tr>\n",
              "    <tr>\n",
              "      <th>...</th>\n",
              "      <td>...</td>\n",
              "      <td>...</td>\n",
              "    </tr>\n",
              "    <tr>\n",
              "      <th>1798</th>\n",
              "      <td>2022-12-05</td>\n",
              "      <td>17131.4</td>\n",
              "    </tr>\n",
              "    <tr>\n",
              "      <th>1799</th>\n",
              "      <td>2022-12-06</td>\n",
              "      <td>16964.9</td>\n",
              "    </tr>\n",
              "    <tr>\n",
              "      <th>1800</th>\n",
              "      <td>2022-12-07</td>\n",
              "      <td>17087.8</td>\n",
              "    </tr>\n",
              "    <tr>\n",
              "      <th>1801</th>\n",
              "      <td>2022-12-08</td>\n",
              "      <td>16841.1</td>\n",
              "    </tr>\n",
              "    <tr>\n",
              "      <th>1802</th>\n",
              "      <td>2022-12-09</td>\n",
              "      <td>17253.2</td>\n",
              "    </tr>\n",
              "  </tbody>\n",
              "</table>\n",
              "<p>180 rows × 2 columns</p>\n",
              "</div>\n",
              "      <button class=\"colab-df-convert\" onclick=\"convertToInteractive('df-7c1a5f30-b407-4871-b890-11eff92a6908')\"\n",
              "              title=\"Convert this dataframe to an interactive table.\"\n",
              "              style=\"display:none;\">\n",
              "        \n",
              "  <svg xmlns=\"http://www.w3.org/2000/svg\" height=\"24px\"viewBox=\"0 0 24 24\"\n",
              "       width=\"24px\">\n",
              "    <path d=\"M0 0h24v24H0V0z\" fill=\"none\"/>\n",
              "    <path d=\"M18.56 5.44l.94 2.06.94-2.06 2.06-.94-2.06-.94-.94-2.06-.94 2.06-2.06.94zm-11 1L8.5 8.5l.94-2.06 2.06-.94-2.06-.94L8.5 2.5l-.94 2.06-2.06.94zm10 10l.94 2.06.94-2.06 2.06-.94-2.06-.94-.94-2.06-.94 2.06-2.06.94z\"/><path d=\"M17.41 7.96l-1.37-1.37c-.4-.4-.92-.59-1.43-.59-.52 0-1.04.2-1.43.59L10.3 9.45l-7.72 7.72c-.78.78-.78 2.05 0 2.83L4 21.41c.39.39.9.59 1.41.59.51 0 1.02-.2 1.41-.59l7.78-7.78 2.81-2.81c.8-.78.8-2.07 0-2.86zM5.41 20L4 18.59l7.72-7.72 1.47 1.35L5.41 20z\"/>\n",
              "  </svg>\n",
              "      </button>\n",
              "      \n",
              "  <style>\n",
              "    .colab-df-container {\n",
              "      display:flex;\n",
              "      flex-wrap:wrap;\n",
              "      gap: 12px;\n",
              "    }\n",
              "\n",
              "    .colab-df-convert {\n",
              "      background-color: #E8F0FE;\n",
              "      border: none;\n",
              "      border-radius: 50%;\n",
              "      cursor: pointer;\n",
              "      display: none;\n",
              "      fill: #1967D2;\n",
              "      height: 32px;\n",
              "      padding: 0 0 0 0;\n",
              "      width: 32px;\n",
              "    }\n",
              "\n",
              "    .colab-df-convert:hover {\n",
              "      background-color: #E2EBFA;\n",
              "      box-shadow: 0px 1px 2px rgba(60, 64, 67, 0.3), 0px 1px 3px 1px rgba(60, 64, 67, 0.15);\n",
              "      fill: #174EA6;\n",
              "    }\n",
              "\n",
              "    [theme=dark] .colab-df-convert {\n",
              "      background-color: #3B4455;\n",
              "      fill: #D2E3FC;\n",
              "    }\n",
              "\n",
              "    [theme=dark] .colab-df-convert:hover {\n",
              "      background-color: #434B5C;\n",
              "      box-shadow: 0px 1px 3px 1px rgba(0, 0, 0, 0.15);\n",
              "      filter: drop-shadow(0px 1px 2px rgba(0, 0, 0, 0.3));\n",
              "      fill: #FFFFFF;\n",
              "    }\n",
              "  </style>\n",
              "\n",
              "      <script>\n",
              "        const buttonEl =\n",
              "          document.querySelector('#df-7c1a5f30-b407-4871-b890-11eff92a6908 button.colab-df-convert');\n",
              "        buttonEl.style.display =\n",
              "          google.colab.kernel.accessAllowed ? 'block' : 'none';\n",
              "\n",
              "        async function convertToInteractive(key) {\n",
              "          const element = document.querySelector('#df-7c1a5f30-b407-4871-b890-11eff92a6908');\n",
              "          const dataTable =\n",
              "            await google.colab.kernel.invokeFunction('convertToInteractive',\n",
              "                                                     [key], {});\n",
              "          if (!dataTable) return;\n",
              "\n",
              "          const docLinkHtml = 'Like what you see? Visit the ' +\n",
              "            '<a target=\"_blank\" href=https://colab.research.google.com/notebooks/data_table.ipynb>data table notebook</a>'\n",
              "            + ' to learn more about interactive tables.';\n",
              "          element.innerHTML = '';\n",
              "          dataTable['output_type'] = 'display_data';\n",
              "          await google.colab.output.renderOutput(dataTable, element);\n",
              "          const docLink = document.createElement('div');\n",
              "          docLink.innerHTML = docLinkHtml;\n",
              "          element.appendChild(docLink);\n",
              "        }\n",
              "      </script>\n",
              "    </div>\n",
              "  </div>\n",
              "  "
            ]
          },
          "metadata": {},
          "execution_count": 37
        }
      ]
    },
    {
      "cell_type": "code",
      "source": [
        "#reshape train data\n",
        "train_data= train.loc[:,['Close']].values\n",
        "print(train.shape)\n",
        "train_data = np.reshape(train_data, (-1, 1))\n",
        "print(train_data.shape)"
      ],
      "metadata": {
        "colab": {
          "base_uri": "https://localhost:8080/"
        },
        "id": "W6a5Gki2eLQN",
        "outputId": "a9c1cf50-2ef9-4b92-cefe-8eb86b8c1fac"
      },
      "id": "W6a5Gki2eLQN",
      "execution_count": null,
      "outputs": [
        {
          "output_type": "stream",
          "name": "stdout",
          "text": [
            "(1443, 2)\n",
            "(1443, 1)\n"
          ]
        }
      ]
    },
    {
      "cell_type": "code",
      "source": [
        "from sklearn.preprocessing import MinMaxScaler\n",
        "scaler = MinMaxScaler(feature_range = (0,1))\n",
        "train_scaled = scaler.fit_transform(train_data)\n",
        "train_scaled.shape"
      ],
      "metadata": {
        "colab": {
          "base_uri": "https://localhost:8080/"
        },
        "id": "oGo8xEBAeUGa",
        "outputId": "f4fc1306-8b10-45a1-e6ba-be0541a817e3"
      },
      "id": "oGo8xEBAeUGa",
      "execution_count": null,
      "outputs": [
        {
          "output_type": "execute_result",
          "data": {
            "text/plain": [
              "(1443, 1)"
            ]
          },
          "metadata": {},
          "execution_count": 39
        }
      ]
    },
    {
      "cell_type": "code",
      "source": [
        "train_size = len(train_scaled)\n",
        "train_size"
      ],
      "metadata": {
        "colab": {
          "base_uri": "https://localhost:8080/"
        },
        "id": "UtqqJAOXhgnW",
        "outputId": "6b98de42-b56c-4be5-830d-7e2bba3f6fc9"
      },
      "id": "UtqqJAOXhgnW",
      "execution_count": null,
      "outputs": [
        {
          "output_type": "execute_result",
          "data": {
            "text/plain": [
              "1443"
            ]
          },
          "metadata": {},
          "execution_count": 40
        }
      ]
    },
    {
      "cell_type": "markdown",
      "source": [],
      "metadata": {
        "id": "caFlxtbmhgUL"
      },
      "id": "caFlxtbmhgUL"
    },
    {
      "cell_type": "code",
      "source": [
        "X_train = []\n",
        "y_train = []\n",
        "n_steps = 50\n",
        "for i in range(n_steps, train_size) :\n",
        "  X_train.append(train_scaled[i-n_steps:i, 0])\n",
        "  y_train.append(train_scaled[i,0])\n",
        "\n",
        "X_train, y_train = np.array(X_train), np.array(y_train)\n",
        "print(X_train.shape, y_train.shape)"
      ],
      "metadata": {
        "colab": {
          "base_uri": "https://localhost:8080/"
        },
        "id": "q7LB9Sq0eiOf",
        "outputId": "75c99b95-0eae-4846-ee39-59af9c6e8371"
      },
      "id": "q7LB9Sq0eiOf",
      "execution_count": null,
      "outputs": [
        {
          "output_type": "stream",
          "name": "stdout",
          "text": [
            "(1393, 50) (1393,)\n"
          ]
        }
      ]
    },
    {
      "cell_type": "code",
      "source": [
        "#reshape the dataseet for model 3D array, 2D array\n",
        "X_train = np.reshape(X_train, (X_train.shape[0], X_train.shape[1],1 ))\n",
        "y_train = np.reshape(y_train, (y_train.shape[0], 1))\n",
        "print(X_train.shape, y_train.shape)"
      ],
      "metadata": {
        "colab": {
          "base_uri": "https://localhost:8080/"
        },
        "id": "7llkzqM6hx1L",
        "outputId": "78f5a4dc-6a3a-4427-980c-c52d1705a402"
      },
      "id": "7llkzqM6hx1L",
      "execution_count": null,
      "outputs": [
        {
          "output_type": "stream",
          "name": "stdout",
          "text": [
            "(1393, 50, 1) (1393, 1)\n"
          ]
        }
      ]
    },
    {
      "cell_type": "code",
      "source": [
        "#reshape valid data\n",
        "#scaling valid \n",
        "valid_data= valid.loc[:,['Close']].values\n",
        "print(valid.shape)\n",
        "valid_data = np.reshape(valid_data, (-1, 1))\n",
        "print(valid_data.shape)"
      ],
      "metadata": {
        "colab": {
          "base_uri": "https://localhost:8080/"
        },
        "id": "qfcHtkVujrgd",
        "outputId": "ee2502fb-015c-43e3-90ee-cced253d98cd"
      },
      "id": "qfcHtkVujrgd",
      "execution_count": null,
      "outputs": [
        {
          "output_type": "stream",
          "name": "stdout",
          "text": [
            "(180, 2)\n",
            "(180, 1)\n"
          ]
        }
      ]
    },
    {
      "cell_type": "code",
      "source": [
        "valid_scaled = scaler.fit_transform(valid_data)\n",
        "valid_scaled.shape"
      ],
      "metadata": {
        "colab": {
          "base_uri": "https://localhost:8080/"
        },
        "id": "mSFljYclj9HP",
        "outputId": "50fef962-558f-4dc6-8f38-de29fada6137"
      },
      "id": "mSFljYclj9HP",
      "execution_count": null,
      "outputs": [
        {
          "output_type": "execute_result",
          "data": {
            "text/plain": [
              "(180, 1)"
            ]
          },
          "metadata": {},
          "execution_count": 44
        }
      ]
    },
    {
      "cell_type": "code",
      "source": [
        "valid_size = len(valid_scaled)\n",
        "X_valid = []\n",
        "y_valid = []\n",
        "n_steps = 50\n",
        "for i in range(n_steps, valid_size) :\n",
        "  X_valid.append(valid_scaled[i-n_steps:i, 0])\n",
        "  y_valid.append(valid_scaled[i,0])\n",
        "\n",
        "X_valid, y_valid = np.array(X_valid), np.array(y_valid)\n",
        "print(X_valid.shape, y_valid.shape)"
      ],
      "metadata": {
        "colab": {
          "base_uri": "https://localhost:8080/"
        },
        "id": "depmbh1ekHXS",
        "outputId": "f8b2dc67-6106-4624-c7f4-0a0a8f76ac5d"
      },
      "id": "depmbh1ekHXS",
      "execution_count": null,
      "outputs": [
        {
          "output_type": "stream",
          "name": "stdout",
          "text": [
            "(130, 50) (130,)\n"
          ]
        }
      ]
    },
    {
      "cell_type": "code",
      "source": [
        "#reshape the dataseet for model 3D array, 2D array\n",
        "X_valid = np.reshape(X_valid, (X_valid.shape[0], X_valid.shape[1],1 ))\n",
        "y_valid = np.reshape(y_valid, (y_valid.shape[0], 1))\n",
        "print(X_valid.shape, y_valid.shape)"
      ],
      "metadata": {
        "colab": {
          "base_uri": "https://localhost:8080/"
        },
        "id": "QpnK-cfCklE4",
        "outputId": "4ce11e8a-e3bf-43f3-c816-977853fdd717"
      },
      "id": "QpnK-cfCklE4",
      "execution_count": null,
      "outputs": [
        {
          "output_type": "stream",
          "name": "stdout",
          "text": [
            "(130, 50, 1) (130, 1)\n"
          ]
        }
      ]
    },
    {
      "cell_type": "code",
      "source": [
        "from tensorflow import keras\n",
        "from keras.models import Sequential\n",
        "from keras.layers import Dense\n",
        "from keras.layers import SimpleRNN\n",
        "from keras.layers import Dropout\n",
        "\n",
        "#declaire model and adding layers\n",
        "model = keras.models.Sequential()\n",
        "\n",
        "model.add(keras.layers.SimpleRNN(10, return_sequences = True, activation = \"tanh\", input_shape= (X_train.shape[1],1)))\n",
        "model.add(keras.layers.SimpleRNN(10))\n",
        "model.add(Dense(units =1))\n"
      ],
      "metadata": {
        "id": "36iOsybpiUuJ"
      },
      "id": "36iOsybpiUuJ",
      "execution_count": null,
      "outputs": []
    },
    {
      "cell_type": "code",
      "source": [
        "model.summary()"
      ],
      "metadata": {
        "colab": {
          "base_uri": "https://localhost:8080/"
        },
        "id": "NFoujoAciuWs",
        "outputId": "c92ffe29-dd4c-45e2-d2c5-043819f728de"
      },
      "id": "NFoujoAciuWs",
      "execution_count": null,
      "outputs": [
        {
          "output_type": "stream",
          "name": "stdout",
          "text": [
            "Model: \"sequential\"\n",
            "_________________________________________________________________\n",
            " Layer (type)                Output Shape              Param #   \n",
            "=================================================================\n",
            " simple_rnn (SimpleRNN)      (None, 50, 10)            120       \n",
            "                                                                 \n",
            " simple_rnn_1 (SimpleRNN)    (None, 10)                210       \n",
            "                                                                 \n",
            " dense (Dense)               (None, 1)                 11        \n",
            "                                                                 \n",
            "=================================================================\n",
            "Total params: 341\n",
            "Trainable params: 341\n",
            "Non-trainable params: 0\n",
            "_________________________________________________________________\n"
          ]
        }
      ]
    },
    {
      "cell_type": "code",
      "source": [
        "#compile the model\n",
        "model.compile(optimizer = 'adam', loss = 'mean_squared_error', metrics = ['accuracy'])\n",
        "\n",
        "#Fitting the model to train set\n",
        "history = model.fit(X_train, y_train, validation_data=(X_valid, y_valid), epochs = 50, batch_size= 32)"
      ],
      "metadata": {
        "colab": {
          "base_uri": "https://localhost:8080/"
        },
        "id": "FSwijgVbizXi",
        "outputId": "fed805a5-bb7f-4dcb-d217-62e726d54487"
      },
      "id": "FSwijgVbizXi",
      "execution_count": null,
      "outputs": [
        {
          "output_type": "stream",
          "name": "stdout",
          "text": [
            "Epoch 1/50\n",
            "44/44 [==============================] - 3s 26ms/step - loss: 0.0140 - accuracy: 0.0014 - val_loss: 0.0141 - val_accuracy: 0.0077\n",
            "Epoch 2/50\n",
            "44/44 [==============================] - 1s 18ms/step - loss: 0.0021 - accuracy: 0.0014 - val_loss: 0.0185 - val_accuracy: 0.0077\n",
            "Epoch 3/50\n",
            "44/44 [==============================] - 1s 19ms/step - loss: 0.0015 - accuracy: 0.0014 - val_loss: 0.0118 - val_accuracy: 0.0077\n",
            "Epoch 4/50\n",
            "44/44 [==============================] - 1s 18ms/step - loss: 0.0012 - accuracy: 0.0014 - val_loss: 0.0086 - val_accuracy: 0.0077\n",
            "Epoch 5/50\n",
            "44/44 [==============================] - 1s 20ms/step - loss: 9.5117e-04 - accuracy: 0.0014 - val_loss: 0.0070 - val_accuracy: 0.0077\n",
            "Epoch 6/50\n",
            "44/44 [==============================] - 1s 18ms/step - loss: 8.0904e-04 - accuracy: 0.0014 - val_loss: 0.0062 - val_accuracy: 0.0077\n",
            "Epoch 7/50\n",
            "44/44 [==============================] - 1s 19ms/step - loss: 6.9694e-04 - accuracy: 0.0014 - val_loss: 0.0063 - val_accuracy: 0.0077\n",
            "Epoch 8/50\n",
            "44/44 [==============================] - 1s 19ms/step - loss: 6.3158e-04 - accuracy: 0.0014 - val_loss: 0.0049 - val_accuracy: 0.0077\n",
            "Epoch 9/50\n",
            "44/44 [==============================] - 1s 19ms/step - loss: 5.2286e-04 - accuracy: 0.0014 - val_loss: 0.0044 - val_accuracy: 0.0077\n",
            "Epoch 10/50\n",
            "44/44 [==============================] - 1s 19ms/step - loss: 4.8630e-04 - accuracy: 0.0014 - val_loss: 0.0046 - val_accuracy: 0.0077\n",
            "Epoch 11/50\n",
            "44/44 [==============================] - 1s 18ms/step - loss: 4.3940e-04 - accuracy: 0.0014 - val_loss: 0.0040 - val_accuracy: 0.0077\n",
            "Epoch 12/50\n",
            "44/44 [==============================] - 1s 18ms/step - loss: 4.3192e-04 - accuracy: 0.0014 - val_loss: 0.0040 - val_accuracy: 0.0077\n",
            "Epoch 13/50\n",
            "44/44 [==============================] - 1s 19ms/step - loss: 3.9488e-04 - accuracy: 0.0014 - val_loss: 0.0040 - val_accuracy: 0.0077\n",
            "Epoch 14/50\n",
            "44/44 [==============================] - 1s 18ms/step - loss: 3.7978e-04 - accuracy: 0.0014 - val_loss: 0.0039 - val_accuracy: 0.0077\n",
            "Epoch 15/50\n",
            "44/44 [==============================] - 1s 18ms/step - loss: 3.5201e-04 - accuracy: 0.0014 - val_loss: 0.0039 - val_accuracy: 0.0077\n",
            "Epoch 16/50\n",
            "44/44 [==============================] - 1s 18ms/step - loss: 3.4827e-04 - accuracy: 0.0014 - val_loss: 0.0040 - val_accuracy: 0.0077\n",
            "Epoch 17/50\n",
            "44/44 [==============================] - 1s 18ms/step - loss: 3.3464e-04 - accuracy: 0.0014 - val_loss: 0.0038 - val_accuracy: 0.0077\n",
            "Epoch 18/50\n",
            "44/44 [==============================] - 1s 18ms/step - loss: 3.2329e-04 - accuracy: 0.0014 - val_loss: 0.0038 - val_accuracy: 0.0077\n",
            "Epoch 19/50\n",
            "44/44 [==============================] - 1s 18ms/step - loss: 3.1414e-04 - accuracy: 0.0014 - val_loss: 0.0038 - val_accuracy: 0.0077\n",
            "Epoch 20/50\n",
            "44/44 [==============================] - 1s 18ms/step - loss: 3.2684e-04 - accuracy: 0.0014 - val_loss: 0.0039 - val_accuracy: 0.0077\n",
            "Epoch 21/50\n",
            "44/44 [==============================] - 1s 19ms/step - loss: 3.1915e-04 - accuracy: 0.0014 - val_loss: 0.0038 - val_accuracy: 0.0077\n",
            "Epoch 22/50\n",
            "44/44 [==============================] - 1s 18ms/step - loss: 3.0975e-04 - accuracy: 0.0014 - val_loss: 0.0038 - val_accuracy: 0.0077\n",
            "Epoch 23/50\n",
            "44/44 [==============================] - 1s 18ms/step - loss: 2.9884e-04 - accuracy: 0.0014 - val_loss: 0.0038 - val_accuracy: 0.0077\n",
            "Epoch 24/50\n",
            "44/44 [==============================] - 1s 19ms/step - loss: 3.2201e-04 - accuracy: 0.0014 - val_loss: 0.0037 - val_accuracy: 0.0077\n",
            "Epoch 25/50\n",
            "44/44 [==============================] - 1s 19ms/step - loss: 3.1356e-04 - accuracy: 0.0014 - val_loss: 0.0037 - val_accuracy: 0.0077\n",
            "Epoch 26/50\n",
            "44/44 [==============================] - 1s 19ms/step - loss: 3.1554e-04 - accuracy: 0.0014 - val_loss: 0.0037 - val_accuracy: 0.0077\n",
            "Epoch 27/50\n",
            "44/44 [==============================] - 1s 18ms/step - loss: 3.2039e-04 - accuracy: 0.0014 - val_loss: 0.0037 - val_accuracy: 0.0077\n",
            "Epoch 28/50\n",
            "44/44 [==============================] - 1s 18ms/step - loss: 3.0654e-04 - accuracy: 0.0014 - val_loss: 0.0037 - val_accuracy: 0.0077\n",
            "Epoch 29/50\n",
            "44/44 [==============================] - 1s 19ms/step - loss: 2.9915e-04 - accuracy: 0.0014 - val_loss: 0.0041 - val_accuracy: 0.0077\n",
            "Epoch 30/50\n",
            "44/44 [==============================] - 1s 19ms/step - loss: 3.1446e-04 - accuracy: 0.0014 - val_loss: 0.0038 - val_accuracy: 0.0077\n",
            "Epoch 31/50\n",
            "44/44 [==============================] - 1s 19ms/step - loss: 3.1256e-04 - accuracy: 0.0014 - val_loss: 0.0038 - val_accuracy: 0.0077\n",
            "Epoch 32/50\n",
            "44/44 [==============================] - 1s 18ms/step - loss: 3.0079e-04 - accuracy: 0.0014 - val_loss: 0.0038 - val_accuracy: 0.0077\n",
            "Epoch 33/50\n",
            "44/44 [==============================] - 1s 29ms/step - loss: 3.1076e-04 - accuracy: 0.0014 - val_loss: 0.0037 - val_accuracy: 0.0077\n",
            "Epoch 34/50\n",
            "44/44 [==============================] - 2s 36ms/step - loss: 2.8699e-04 - accuracy: 0.0014 - val_loss: 0.0037 - val_accuracy: 0.0077\n",
            "Epoch 35/50\n",
            "44/44 [==============================] - 1s 32ms/step - loss: 2.9534e-04 - accuracy: 0.0014 - val_loss: 0.0037 - val_accuracy: 0.0077\n",
            "Epoch 36/50\n",
            "44/44 [==============================] - 1s 21ms/step - loss: 3.1981e-04 - accuracy: 0.0014 - val_loss: 0.0037 - val_accuracy: 0.0077\n",
            "Epoch 37/50\n",
            "44/44 [==============================] - 1s 19ms/step - loss: 3.6720e-04 - accuracy: 0.0014 - val_loss: 0.0038 - val_accuracy: 0.0077\n",
            "Epoch 38/50\n",
            "44/44 [==============================] - 1s 28ms/step - loss: 3.1410e-04 - accuracy: 0.0014 - val_loss: 0.0038 - val_accuracy: 0.0077\n",
            "Epoch 39/50\n",
            "44/44 [==============================] - 2s 43ms/step - loss: 3.1884e-04 - accuracy: 0.0014 - val_loss: 0.0038 - val_accuracy: 0.0077\n",
            "Epoch 40/50\n",
            "44/44 [==============================] - 2s 38ms/step - loss: 3.2073e-04 - accuracy: 0.0014 - val_loss: 0.0039 - val_accuracy: 0.0077\n",
            "Epoch 41/50\n",
            "44/44 [==============================] - 2s 35ms/step - loss: 2.9713e-04 - accuracy: 0.0014 - val_loss: 0.0037 - val_accuracy: 0.0077\n",
            "Epoch 42/50\n",
            "44/44 [==============================] - 2s 37ms/step - loss: 3.0849e-04 - accuracy: 0.0014 - val_loss: 0.0036 - val_accuracy: 0.0077\n",
            "Epoch 43/50\n",
            "44/44 [==============================] - 1s 20ms/step - loss: 2.9256e-04 - accuracy: 0.0014 - val_loss: 0.0036 - val_accuracy: 0.0077\n",
            "Epoch 44/50\n",
            "44/44 [==============================] - 1s 18ms/step - loss: 3.0027e-04 - accuracy: 0.0014 - val_loss: 0.0036 - val_accuracy: 0.0077\n",
            "Epoch 45/50\n",
            "44/44 [==============================] - 1s 18ms/step - loss: 2.9569e-04 - accuracy: 0.0014 - val_loss: 0.0037 - val_accuracy: 0.0077\n",
            "Epoch 46/50\n",
            "44/44 [==============================] - 1s 18ms/step - loss: 3.3665e-04 - accuracy: 0.0014 - val_loss: 0.0037 - val_accuracy: 0.0077\n",
            "Epoch 47/50\n",
            "44/44 [==============================] - 1s 19ms/step - loss: 3.1657e-04 - accuracy: 0.0014 - val_loss: 0.0036 - val_accuracy: 0.0077\n",
            "Epoch 48/50\n",
            "44/44 [==============================] - 1s 19ms/step - loss: 2.9653e-04 - accuracy: 0.0014 - val_loss: 0.0040 - val_accuracy: 0.0077\n",
            "Epoch 49/50\n",
            "44/44 [==============================] - 1s 18ms/step - loss: 2.8798e-04 - accuracy: 0.0014 - val_loss: 0.0038 - val_accuracy: 0.0077\n",
            "Epoch 50/50\n",
            "44/44 [==============================] - 1s 18ms/step - loss: 3.0347e-04 - accuracy: 0.0014 - val_loss: 0.0037 - val_accuracy: 0.0077\n"
          ]
        }
      ]
    },
    {
      "cell_type": "code",
      "source": [
        "plt.figure(figsize =(10,7))\n",
        "plt.plot(history.history[\"loss\"])\n",
        "plt.plot(history.history[\"val_loss\"])\n",
        "plt.xlabel(\"Epochs\")\n",
        "plt.ylabel(\"Losses\")\n",
        "plt.title(\"Simple RNN model, Loss train and valid\")\n",
        "plt.show()\n",
        "#Seems like more epoch is needed stacatostic gradient method might be needed to find the optimal values. "
      ],
      "metadata": {
        "colab": {
          "base_uri": "https://localhost:8080/",
          "height": 458
        },
        "id": "khzPgGC1ltn2",
        "outputId": "08ea9f1c-f241-425c-fe0f-8692b78ee424"
      },
      "id": "khzPgGC1ltn2",
      "execution_count": null,
      "outputs": [
        {
          "output_type": "display_data",
          "data": {
            "text/plain": [
              "<Figure size 720x504 with 1 Axes>"
            ],
            "image/png": "[encoded data removed]"
          },
          "metadata": {
            "needs_background": "light"
          }
        }
      ]
    },
    {
      "cell_type": "code",
      "source": [
        "y_pred = model.predict(X_train)\n",
        "y_pred = scaler.inverse_transform(y_pred)\n",
        "y_pred.shape \n"
      ],
      "metadata": {
        "colab": {
          "base_uri": "https://localhost:8080/"
        },
        "id": "l1xj2oCfmzRX",
        "outputId": "1a7d960c-5b75-4241-cc1e-1d8ece46a689"
      },
      "id": "l1xj2oCfmzRX",
      "execution_count": null,
      "outputs": [
        {
          "output_type": "stream",
          "name": "stdout",
          "text": [
            "44/44 [==============================] - 0s 5ms/step\n"
          ]
        },
        {
          "output_type": "execute_result",
          "data": {
            "text/plain": [
              "(1393, 1)"
            ]
          },
          "metadata": {},
          "execution_count": 51
        }
      ]
    },
    {
      "cell_type": "code",
      "source": [
        "y_train = scaler.inverse_transform(y_train)\n",
        "y_train.shape"
      ],
      "metadata": {
        "colab": {
          "base_uri": "https://localhost:8080/"
        },
        "id": "ftaI6Z-9nFvk",
        "outputId": "212cebb0-b1b1-4094-9bbd-eb42c0507e1e"
      },
      "id": "ftaI6Z-9nFvk",
      "execution_count": null,
      "outputs": [
        {
          "output_type": "execute_result",
          "data": {
            "text/plain": [
              "(1393, 1)"
            ]
          },
          "metadata": {},
          "execution_count": 52
        }
      ]
    },
    {
      "cell_type": "code",
      "source": [
        "plt.figure(figsize = (30,10))\n",
        "plt.plot(y_pred, color = \"b\", label = \"y_pred\" )\n",
        "plt.plot(y_train, color = \"g\", label = \"y_train\")\n",
        "plt.xlabel(\"Days\")\n",
        "plt.ylabel(\"Close price\")\n",
        "plt.title(\"Simple RNN model, Predictions with input y_pred vs y_train\")\n",
        "plt.legend()\n",
        "plt.show()"
      ],
      "metadata": {
        "colab": {
          "base_uri": "https://localhost:8080/",
          "height": 542
        },
        "id": "XhdcQsJInSKU",
        "outputId": "5adfb89b-1973-4536-cc81-5b181d7da3b5"
      },
      "id": "XhdcQsJInSKU",
      "execution_count": null,
      "outputs": [
        {
          "output_type": "display_data",
          "data": {
            "text/plain": [
              "<Figure size 2160x720 with 1 Axes>"
            ],
            "image/png": "[encoded data removed]"
          },
          "metadata": {
            "needs_background": "light"
          }
        }
      ]
    },
    {
      "cell_type": "code",
      "source": [
        "#Test data preprocessing\n",
        "test_data= test.loc[:,['Close']].values\n",
        "print(train.shape)\n",
        "test_data = np.reshape(test_data, (-1, 1))\n",
        "print(test_data.shape)\n",
        "test_scaled = scaler.fit_transform(test_data)\n",
        "print( test_scaled.shape);\n",
        "\n"
      ],
      "metadata": {
        "colab": {
          "base_uri": "https://localhost:8080/"
        },
        "id": "313MsZQTnUPb",
        "outputId": "c3b87462-bacc-467f-a07a-8c655e147534"
      },
      "id": "313MsZQTnUPb",
      "execution_count": null,
      "outputs": [
        {
          "output_type": "stream",
          "name": "stdout",
          "text": [
            "(1443, 2)\n",
            "(180, 1)\n",
            "(180, 1)\n"
          ]
        }
      ]
    },
    {
      "cell_type": "code",
      "source": [
        "test_size = len(test_scaled)\n",
        "X_test = []\n",
        "y_test = []\n",
        "for i in range(n_steps, test_size) :\n",
        "  X_test.append(test_scaled[i-n_steps:i, 0])\n",
        "  y_test.append(test_scaled[i,0])\n",
        "\n",
        "X_test, y_test = np.array(X_test), np.array(y_test)\n",
        "print(X_test.shape, y_test.shape)"
      ],
      "metadata": {
        "colab": {
          "base_uri": "https://localhost:8080/"
        },
        "id": "vbJTsuhQoVD5",
        "outputId": "a075b3b7-3c66-4518-e2c8-d4925f40dd1d"
      },
      "id": "vbJTsuhQoVD5",
      "execution_count": null,
      "outputs": [
        {
          "output_type": "stream",
          "name": "stdout",
          "text": [
            "(130, 50) (130,)\n"
          ]
        }
      ]
    },
    {
      "cell_type": "code",
      "source": [
        "#reshape the dataseet for model 3D array, 2D array\n",
        "X_test = np.reshape(X_test, (X_test.shape[0], X_test.shape[1],1 ))\n",
        "y_test = np.reshape(y_test, (y_test.shape[0], 1))\n",
        "print(X_test.shape, y_test.shape)"
      ],
      "metadata": {
        "colab": {
          "base_uri": "https://localhost:8080/"
        },
        "id": "mehS-eBfomJa",
        "outputId": "bc5004db-7040-4823-a313-65ad870560fe"
      },
      "id": "mehS-eBfomJa",
      "execution_count": null,
      "outputs": [
        {
          "output_type": "stream",
          "name": "stdout",
          "text": [
            "(130, 50, 1) (130, 1)\n"
          ]
        }
      ]
    },
    {
      "cell_type": "code",
      "source": [
        "y_pred_test = model.predict(X_test)\n",
        "y_pred_test = scaler.inverse_transform(y_pred_test)\n",
        "print(\"Test dataset prediction: \", y_pred_test.shape)"
      ],
      "metadata": {
        "colab": {
          "base_uri": "https://localhost:8080/"
        },
        "id": "ohVzO7OAoz2Q",
        "outputId": "1bbb1229-79b2-4ab4-cd7a-7cc9b1baad39"
      },
      "id": "ohVzO7OAoz2Q",
      "execution_count": null,
      "outputs": [
        {
          "output_type": "stream",
          "name": "stdout",
          "text": [
            "5/5 [==============================] - 0s 6ms/step\n",
            "Test dataset prediction:  (130, 1)\n"
          ]
        }
      ]
    },
    {
      "cell_type": "code",
      "source": [
        "y_test = scaler.inverse_transform(y_test)"
      ],
      "metadata": {
        "id": "yF6-lxnTpqtX"
      },
      "id": "yF6-lxnTpqtX",
      "execution_count": null,
      "outputs": []
    },
    {
      "cell_type": "code",
      "source": [
        "plt.figure(figsize = (30,10))\n",
        "plt.plot(y_pred_test, color = \"blue\", label = \"y_pred\" )\n",
        "plt.plot(y_test, color = \"orange\", label = \"y_train\")\n",
        "plt.xlabel(\"Days\")\n",
        "plt.ylabel(\"Close price\")\n",
        "plt.title(\"Simple RNN model, Predictions with input X_test vs y_test\")\n",
        "plt.legend()\n",
        "plt.show()"
      ],
      "metadata": {
        "colab": {
          "base_uri": "https://localhost:8080/",
          "height": 542
        },
        "id": "wk1zJWNVpTJ_",
        "outputId": "b48709dc-6d2e-4672-cb61-14166e093ebb"
      },
      "id": "wk1zJWNVpTJ_",
      "execution_count": null,
      "outputs": [
        {
          "output_type": "display_data",
          "data": {
            "text/plain": [
              "<Figure size 2160x720 with 1 Axes>"
            ],
            "image/png": "[encoded data removed]"
          },
          "metadata": {
            "needs_background": "light"
          }
        }
      ]
    },
    {
      "cell_type": "code",
      "source": [
        "len(y_test)"
      ],
      "metadata": {
        "colab": {
          "base_uri": "https://localhost:8080/"
        },
        "id": "VW6DWKBY-c41",
        "outputId": "bd304329-1422-4053-9a50-39538cfbd927"
      },
      "id": "VW6DWKBY-c41",
      "execution_count": null,
      "outputs": [
        {
          "output_type": "execute_result",
          "data": {
            "text/plain": [
              "130"
            ]
          },
          "metadata": {},
          "execution_count": 63
        }
      ]
    },
    {
      "cell_type": "code",
      "source": [
        "len(y_pred_test)"
      ],
      "metadata": {
        "id": "Qcoss5lK-hts",
        "outputId": "157f6d4c-0922-4059-e894-82cdc38c5b65",
        "colab": {
          "base_uri": "https://localhost:8080/"
        }
      },
      "id": "Qcoss5lK-hts",
      "execution_count": null,
      "outputs": [
        {
          "output_type": "execute_result",
          "data": {
            "text/plain": [
              "130"
            ]
          },
          "metadata": {},
          "execution_count": 64
        }
      ]
    },
    {
      "cell_type": "code",
      "source": [
        "plt.subplots(figsize = (30, 12))\n",
        "plt.plot(train.Date, train.Close, label = \"train data\", color ='lightcoral' )\n",
        "plt.plot(test.Date, test.Close, label = \"test data\", color = \"maroon\")\n",
        "plt.plot(valid.Date, valid.Close,  label = \"validation data\", color ='orange' )\n",
        "plt.plot(train.Date.iloc[n_steps:], y_pred, label = \"y_pred\", color = \"c\")\n",
        "plt.plot(test.Date.iloc[n_steps:], y_pred_test, label=\"y_pred_test\", color = \"darkslategray\")\n",
        "# plt.plot(valid.Date.iloc[n_steps:], valid.Close,  label = \"valid data\", color ='orange' )\n",
        "\n",
        "plt.xlabel(\"Days\")\n",
        "plt.ylabel(\"Close price\")\n",
        "plt.title(\"Simple RNN model\")\n",
        "plt.legend()\n",
        "plt.show()"
      ],
      "metadata": {
        "colab": {
          "base_uri": "https://localhost:8080/",
          "height": 636
        },
        "id": "CReBcCgIqB4k",
        "outputId": "c22bea45-494f-40bb-ec20-5eede9fc5411"
      },
      "id": "CReBcCgIqB4k",
      "execution_count": null,
      "outputs": [
        {
          "output_type": "display_data",
          "data": {
            "text/plain": [
              "<Figure size 2160x864 with 1 Axes>"
            ],
            "image/png": "[encoded data removed]"
          },
          "metadata": {
            "needs_background": "light"
          }
        }
      ]
    },
    {
      "cell_type": "code",
      "source": [
        "plt.figure(figsize = (30,10))\n",
        "plt.plot(trimed_df.Date, trimed_df.Close, label = \"y_pred\", color = \"dodgerblue\")"
      ],
      "metadata": {
        "colab": {
          "base_uri": "https://localhost:8080/",
          "height": 538
        },
        "id": "lLPxXL6_r4cA",
        "outputId": "85423311-a1eb-4227-991e-50d84eac34f1"
      },
      "id": "lLPxXL6_r4cA",
      "execution_count": null,
      "outputs": [
        {
          "output_type": "execute_result",
          "data": {
            "text/plain": [
              "[<matplotlib.lines.Line2D at 0x7f60b8f03fa0>]"
            ]
          },
          "metadata": {},
          "execution_count": 61
        },
        {
          "output_type": "display_data",
          "data": {
            "text/plain": [
              "<Figure size 2160x720 with 1 Axes>"
            ],
            "image/png": "[encoded data removed]"
          },
          "metadata": {
            "needs_background": "light"
          }
        }
      ]
    },
    {
      "cell_type": "code",
      "source": [
        "print( \"Final prediction:\" , y_pred_test[-1])"
      ],
      "metadata": {
        "colab": {
          "base_uri": "https://localhost:8080/"
        },
        "id": "pa1TBofPvgUd",
        "outputId": "67a8af53-fd7c-4d53-9c17-0973d29c4bd8"
      },
      "id": "pa1TBofPvgUd",
      "execution_count": null,
      "outputs": [
        {
          "output_type": "stream",
          "name": "stdout",
          "text": [
            "Final prediction: [16888.55]\n"
          ]
        }
      ]
    }
  ],
  "metadata": {
    "colab": {
      "collapsed_sections": [
        "Zfrzle0knoEx",
        "H0sQRZoVjcyX",
        "Jwje9rwIoOnX"
      ],
      "provenance": []
    },
    "kernelspec": {
      "display_name": "Python 3 (ipykernel)",
      "language": "python",
      "name": "python3"
    },
    "language_info": {
      "codemirror_mode": {
        "name": "ipython",
        "version": 3
      },
      "file_extension": ".py",
      "mimetype": "text/x-python",
      "name": "python",
      "nbconvert_exporter": "python",
      "pygments_lexer": "ipython3",
      "version": "3.9.13"
    }
  },
  "nbformat": 4,
  "nbformat_minor": 5
}